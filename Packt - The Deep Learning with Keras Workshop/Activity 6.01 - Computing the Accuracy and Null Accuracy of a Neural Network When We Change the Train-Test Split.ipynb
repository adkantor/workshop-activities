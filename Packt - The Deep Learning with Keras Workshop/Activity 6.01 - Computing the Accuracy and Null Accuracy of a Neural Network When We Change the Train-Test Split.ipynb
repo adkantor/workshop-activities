{
 "cells": [
  {
   "cell_type": "markdown",
   "metadata": {},
   "source": [
    "# Computing the Accuracy and Null Accuracy of a Neural Network When We Change the Train/Test Split\n",
    "\n",
    "A train/test split is a random sampling technique. In this activity, we will see that our null accuracy and accuracy will be affected by changing the train/test split. To implement this, the part of the code where the train/test split was defined has to be changed. We will use the same dataset that we used in *Exercise 6.02, Computing Accuracy and Null Accuracy with APS Failure for Scania Trucks Data*. Follow these steps to complete this activity:"
   ]
  },
  {
   "cell_type": "markdown",
   "metadata": {},
   "source": [
    "### 1. Import all the necessary dependencies and load the dataset."
   ]
  },
  {
   "cell_type": "code",
   "execution_count": 1,
   "metadata": {
    "tags": []
   },
   "outputs": [
    {
     "output_type": "stream",
     "name": "stderr",
     "text": "Using TensorFlow backend.\n"
    }
   ],
   "source": [
    "import numpy as np\n",
    "import pandas as pd\n",
    "from tensorflow import random\n",
    "from sklearn.model_selection import train_test_split\n",
    "from sklearn.preprocessing import StandardScaler\n",
    "from keras.models import Sequential\n",
    "from keras.layers import Dense\n",
    "from keras.layers import Dropout"
   ]
  },
  {
   "cell_type": "code",
   "execution_count": 2,
   "metadata": {},
   "outputs": [],
   "source": [
    "X = pd.read_csv(\"../data/aps_failure_training_feats.csv\")\n",
    "y = pd.read_csv(\"../data/aps_failure_training_target.csv\")"
   ]
  },
  {
   "cell_type": "markdown",
   "metadata": {},
   "source": [
    "### 2. Change test_size and random_state from 0.20 to 0.30 and 42 to 13, respectively."
   ]
  },
  {
   "cell_type": "code",
   "execution_count": 3,
   "metadata": {},
   "outputs": [],
   "source": [
    "seed = 13\n",
    "X_train, X_test, y_train, y_test= train_test_split(X, y, test_size=0.30, random_state=seed)"
   ]
  },
  {
   "cell_type": "markdown",
   "metadata": {},
   "source": [
    "### 3. Scale the data using the StandardScaler function."
   ]
  },
  {
   "cell_type": "code",
   "execution_count": 4,
   "metadata": {},
   "outputs": [],
   "source": [
    "sc = StandardScaler()\n",
    "X_train = pd.DataFrame(sc.fit_transform(X_train), columns=X_train.columns)\n",
    "X_test = pd.DataFrame(sc.transform(X_test), columns=X_test.columns)"
   ]
  },
  {
   "cell_type": "markdown",
   "metadata": {},
   "source": [
    "### 4. Import the libraries that are required to build a neural network architecture and initiate the Sequential class.\n",
    "\n",
    "### 5. Add the Dense layers with Dropout. Set the first hidden layer so that it has a size of 64 with a dropout rate of 0.5, the second hidden layer so that it has a size of 32 with a dropout rate of 0.4, the third hidden layer so that is has a size of 16 with a dropout rate of 0.3, the fourth hidden layer so that it has a size of 8 with a dropout rate of 0.2, and the final hidden layer so that it has a size of 4 with a dropout rate of 0.1. Set all the activation functions to ReLU.\n",
    "\n",
    "### 6. Add an output Dense layer with the sigmoid activation function.\n",
    "\n",
    "### 7. Compile the network and fit the model using accuracy. Fit the model with 100 epochs and a batch size of 20."
   ]
  },
  {
   "cell_type": "code",
   "execution_count": 5,
   "metadata": {},
   "outputs": [],
   "source": [
    "np.random.seed(seed)\n",
    "random.set_seed(seed)\n",
    "\n",
    "model = Sequential()\n",
    "\n",
    "model.add(Dense(64, activation='relu', input_dim=X_train.shape[1]))\n",
    "model.add(Dropout(0.5))\n",
    "model.add(Dense(32, activation='relu'))\n",
    "model.add(Dropout(0.4))\n",
    "model.add(Dense(16, activation='relu'))\n",
    "model.add(Dropout(0.3))\n",
    "model.add(Dense(8, activation='relu'))\n",
    "model.add(Dropout(0.2))\n",
    "model.add(Dense(4, activation='relu'))\n",
    "model.add(Dropout(0.1))\n",
    "model.add(Dense(1, activation='sigmoid'))\n",
    "\n",
    "model.compile(\n",
    "    optimizer='adam',\n",
    "    loss='binary_crossentropy', \n",
    "    metrics=['accuracy']\n",
    ")"
   ]
  },
  {
   "cell_type": "markdown",
   "metadata": {},
   "source": [
    "### 8. Fit the model to the training data while saving the results from the fit process."
   ]
  },
  {
   "cell_type": "code",
   "execution_count": 6,
   "metadata": {
    "tags": []
   },
   "outputs": [
    {
     "output_type": "stream",
     "name": "stdout",
     "text": "Train on 33600 samples, validate on 8400 samples\nEpoch 1/100\n33600/33600 [==============================] - 7s 203us/step - loss: 0.1116 - accuracy: 0.9790 - val_loss: 0.0544 - val_accuracy: 0.9842\nEpoch 2/100\n33600/33600 [==============================] - 6s 166us/step - loss: 0.0566 - accuracy: 0.9829 - val_loss: 0.0546 - val_accuracy: 0.9842\nEpoch 3/100\n33600/33600 [==============================] - 6s 166us/step - loss: 0.0486 - accuracy: 0.9832 - val_loss: 0.0484 - val_accuracy: 0.9842\nEpoch 4/100\n33600/33600 [==============================] - 6s 168us/step - loss: 0.0431 - accuracy: 0.9837 - val_loss: 0.0525 - val_accuracy: 0.9844\nEpoch 5/100\n33600/33600 [==============================] - 6s 181us/step - loss: 0.0399 - accuracy: 0.9853 - val_loss: 0.0444 - val_accuracy: 0.9876\nEpoch 6/100\n33600/33600 [==============================] - 6s 175us/step - loss: 0.0366 - accuracy: 0.9858 - val_loss: 0.0492 - val_accuracy: 0.9889\nEpoch 7/100\n33600/33600 [==============================] - 6s 175us/step - loss: 0.0369 - accuracy: 0.9865 - val_loss: 0.0466 - val_accuracy: 0.9849\nEpoch 8/100\n33600/33600 [==============================] - 6s 176us/step - loss: 0.0348 - accuracy: 0.9867 - val_loss: 0.0462 - val_accuracy: 0.9855\nEpoch 9/100\n33600/33600 [==============================] - 6s 172us/step - loss: 0.0316 - accuracy: 0.9875 - val_loss: 0.0484 - val_accuracy: 0.9879\nEpoch 10/100\n33600/33600 [==============================] - 6s 169us/step - loss: 0.0320 - accuracy: 0.9888 - val_loss: 0.0448 - val_accuracy: 0.9898\nEpoch 11/100\n33600/33600 [==============================] - 6s 171us/step - loss: 0.0301 - accuracy: 0.9888 - val_loss: 0.0420 - val_accuracy: 0.9900\nEpoch 12/100\n33600/33600 [==============================] - 6s 172us/step - loss: 0.0298 - accuracy: 0.9886 - val_loss: 0.0433 - val_accuracy: 0.9888\nEpoch 13/100\n33600/33600 [==============================] - 6s 177us/step - loss: 0.0284 - accuracy: 0.9895 - val_loss: 0.0527 - val_accuracy: 0.9887\nEpoch 14/100\n33600/33600 [==============================] - 6s 171us/step - loss: 0.0294 - accuracy: 0.9887 - val_loss: 0.0497 - val_accuracy: 0.9871\nEpoch 15/100\n33600/33600 [==============================] - 6s 172us/step - loss: 0.0271 - accuracy: 0.9893 - val_loss: 0.0530 - val_accuracy: 0.9912\nEpoch 16/100\n33600/33600 [==============================] - 6s 172us/step - loss: 0.0279 - accuracy: 0.9896 - val_loss: 0.0402 - val_accuracy: 0.9914\nEpoch 17/100\n33600/33600 [==============================] - 6s 169us/step - loss: 0.0255 - accuracy: 0.9901 - val_loss: 0.0535 - val_accuracy: 0.9910\nEpoch 18/100\n33600/33600 [==============================] - 6s 179us/step - loss: 0.0257 - accuracy: 0.9901 - val_loss: 0.0423 - val_accuracy: 0.9902\nEpoch 19/100\n33600/33600 [==============================] - 6s 176us/step - loss: 0.0257 - accuracy: 0.9899 - val_loss: 0.0544 - val_accuracy: 0.9917\nEpoch 20/100\n33600/33600 [==============================] - 6s 179us/step - loss: 0.0264 - accuracy: 0.9903 - val_loss: 0.0454 - val_accuracy: 0.9913\nEpoch 21/100\n33600/33600 [==============================] - 6s 177us/step - loss: 0.0251 - accuracy: 0.9909 - val_loss: 0.0477 - val_accuracy: 0.9910\nEpoch 22/100\n33600/33600 [==============================] - 6s 169us/step - loss: 0.0242 - accuracy: 0.9912 - val_loss: 0.0452 - val_accuracy: 0.9919\nEpoch 23/100\n33600/33600 [==============================] - 6s 174us/step - loss: 0.0227 - accuracy: 0.9910 - val_loss: 0.0476 - val_accuracy: 0.9918\nEpoch 24/100\n33600/33600 [==============================] - 6s 177us/step - loss: 0.0245 - accuracy: 0.9906 - val_loss: 0.0442 - val_accuracy: 0.9921\nEpoch 25/100\n33600/33600 [==============================] - 6s 184us/step - loss: 0.0237 - accuracy: 0.9907 - val_loss: 0.0447 - val_accuracy: 0.9920\nEpoch 26/100\n33600/33600 [==============================] - 6s 171us/step - loss: 0.0237 - accuracy: 0.9910 - val_loss: 0.0460 - val_accuracy: 0.9918\nEpoch 27/100\n33600/33600 [==============================] - 6s 178us/step - loss: 0.0216 - accuracy: 0.9910 - val_loss: 0.0583 - val_accuracy: 0.9923\nEpoch 28/100\n33600/33600 [==============================] - 7s 202us/step - loss: 0.0250 - accuracy: 0.9910 - val_loss: 0.0421 - val_accuracy: 0.9923\nEpoch 29/100\n33600/33600 [==============================] - 6s 185us/step - loss: 0.0228 - accuracy: 0.9915 - val_loss: 0.0495 - val_accuracy: 0.9920\nEpoch 30/100\n33600/33600 [==============================] - 6s 170us/step - loss: 0.0232 - accuracy: 0.9912 - val_loss: 0.0419 - val_accuracy: 0.9915\nEpoch 31/100\n33600/33600 [==============================] - 5s 162us/step - loss: 0.0218 - accuracy: 0.9916 - val_loss: 0.0551 - val_accuracy: 0.9920\nEpoch 32/100\n33600/33600 [==============================] - 5s 162us/step - loss: 0.0248 - accuracy: 0.9917 - val_loss: 0.0377 - val_accuracy: 0.9921\nEpoch 33/100\n33600/33600 [==============================] - 7s 195us/step - loss: 0.0227 - accuracy: 0.9915 - val_loss: 0.0489 - val_accuracy: 0.9914\nEpoch 34/100\n33600/33600 [==============================] - 7s 201us/step - loss: 0.0220 - accuracy: 0.9916 - val_loss: 0.0448 - val_accuracy: 0.9920\nEpoch 35/100\n33600/33600 [==============================] - 15s 452us/step - loss: 0.0224 - accuracy: 0.9920 - val_loss: 0.0448 - val_accuracy: 0.9917\nEpoch 36/100\n33600/33600 [==============================] - 7s 210us/step - loss: 0.0203 - accuracy: 0.9919 - val_loss: 0.0717 - val_accuracy: 0.9919\nEpoch 37/100\n33600/33600 [==============================] - 6s 174us/step - loss: 0.0224 - accuracy: 0.9921 - val_loss: 0.0441 - val_accuracy: 0.9923\nEpoch 38/100\n33600/33600 [==============================] - 6s 174us/step - loss: 0.0212 - accuracy: 0.9916 - val_loss: 0.0530 - val_accuracy: 0.9919\nEpoch 39/100\n33600/33600 [==============================] - 6s 171us/step - loss: 0.0211 - accuracy: 0.9924 - val_loss: 0.0430 - val_accuracy: 0.9915\nEpoch 40/100\n33600/33600 [==============================] - 6s 173us/step - loss: 0.0202 - accuracy: 0.9926 - val_loss: 0.0439 - val_accuracy: 0.9920\nEpoch 41/100\n33600/33600 [==============================] - 6s 169us/step - loss: 0.0213 - accuracy: 0.9920 - val_loss: 0.0543 - val_accuracy: 0.9923\nEpoch 42/100\n33600/33600 [==============================] - 6s 173us/step - loss: 0.0200 - accuracy: 0.9924 - val_loss: 0.0426 - val_accuracy: 0.9919\nEpoch 43/100\n33600/33600 [==============================] - 6s 168us/step - loss: 0.0210 - accuracy: 0.9918 - val_loss: 0.0405 - val_accuracy: 0.9924\nEpoch 44/100\n33600/33600 [==============================] - 6s 181us/step - loss: 0.0218 - accuracy: 0.9917 - val_loss: 0.0468 - val_accuracy: 0.9924\nEpoch 45/100\n33600/33600 [==============================] - 6s 175us/step - loss: 0.0192 - accuracy: 0.9924 - val_loss: 0.0564 - val_accuracy: 0.9918\nEpoch 46/100\n33600/33600 [==============================] - 6s 168us/step - loss: 0.0191 - accuracy: 0.9928 - val_loss: 0.0497 - val_accuracy: 0.9920\nEpoch 47/100\n33600/33600 [==============================] - 6s 169us/step - loss: 0.0184 - accuracy: 0.9928 - val_loss: 0.0801 - val_accuracy: 0.9913\nEpoch 48/100\n33600/33600 [==============================] - 6s 167us/step - loss: 0.0191 - accuracy: 0.9929 - val_loss: 0.0530 - val_accuracy: 0.9915\nEpoch 49/100\n33600/33600 [==============================] - 6s 169us/step - loss: 0.0206 - accuracy: 0.9925 - val_loss: 0.0624 - val_accuracy: 0.9917\nEpoch 50/100\n33600/33600 [==============================] - 6s 174us/step - loss: 0.0198 - accuracy: 0.9928 - val_loss: 0.0541 - val_accuracy: 0.9913\nEpoch 51/100\n33600/33600 [==============================] - 6s 175us/step - loss: 0.0202 - accuracy: 0.9925 - val_loss: 0.0406 - val_accuracy: 0.9915\nEpoch 52/100\n33600/33600 [==============================] - 6s 169us/step - loss: 0.0208 - accuracy: 0.9932 - val_loss: 0.0516 - val_accuracy: 0.9920\nEpoch 53/100\n33600/33600 [==============================] - 6s 169us/step - loss: 0.0195 - accuracy: 0.9928 - val_loss: 0.0590 - val_accuracy: 0.9918\nEpoch 54/100\n33600/33600 [==============================] - 6s 179us/step - loss: 0.0182 - accuracy: 0.9926 - val_loss: 0.0617 - val_accuracy: 0.9923\nEpoch 55/100\n33600/33600 [==============================] - 6s 172us/step - loss: 0.0180 - accuracy: 0.9937 - val_loss: 0.0732 - val_accuracy: 0.9919\nEpoch 56/100\n33600/33600 [==============================] - 6s 169us/step - loss: 0.0190 - accuracy: 0.9935 - val_loss: 0.0679 - val_accuracy: 0.9919\nEpoch 57/100\n33600/33600 [==============================] - 6s 172us/step - loss: 0.0202 - accuracy: 0.9927 - val_loss: 0.0549 - val_accuracy: 0.9914\nEpoch 58/100\n33600/33600 [==============================] - 6s 177us/step - loss: 0.0189 - accuracy: 0.9933 - val_loss: 0.0624 - val_accuracy: 0.9920\nEpoch 59/100\n33600/33600 [==============================] - 6s 168us/step - loss: 0.0210 - accuracy: 0.9929 - val_loss: 0.0434 - val_accuracy: 0.9912\nEpoch 60/100\n33600/33600 [==============================] - 6s 172us/step - loss: 0.0174 - accuracy: 0.9936 - val_loss: 0.0628 - val_accuracy: 0.9917\nEpoch 61/100\n33600/33600 [==============================] - 6s 170us/step - loss: 0.0191 - accuracy: 0.9927 - val_loss: 0.0441 - val_accuracy: 0.9910\nEpoch 62/100\n33600/33600 [==============================] - 6s 168us/step - loss: 0.0181 - accuracy: 0.9932 - val_loss: 0.0624 - val_accuracy: 0.9915\nEpoch 63/100\n33600/33600 [==============================] - 7s 194us/step - loss: 0.0186 - accuracy: 0.9932 - val_loss: 0.0482 - val_accuracy: 0.9917\nEpoch 64/100\n33600/33600 [==============================] - 6s 184us/step - loss: 0.0177 - accuracy: 0.9931 - val_loss: 0.0771 - val_accuracy: 0.9912\nEpoch 65/100\n33600/33600 [==============================] - 6s 172us/step - loss: 0.0203 - accuracy: 0.9927 - val_loss: 0.0484 - val_accuracy: 0.9911\nEpoch 66/100\n33600/33600 [==============================] - 6s 173us/step - loss: 0.0169 - accuracy: 0.9935 - val_loss: 0.0712 - val_accuracy: 0.9906\nEpoch 67/100\n33600/33600 [==============================] - 6s 172us/step - loss: 0.0184 - accuracy: 0.9936 - val_loss: 0.0798 - val_accuracy: 0.9917\nEpoch 68/100\n33600/33600 [==============================] - 6s 171us/step - loss: 0.0200 - accuracy: 0.9930 - val_loss: 0.0723 - val_accuracy: 0.9917\nEpoch 69/100\n33600/33600 [==============================] - 6s 174us/step - loss: 0.0184 - accuracy: 0.9937 - val_loss: 0.0677 - val_accuracy: 0.9910\nEpoch 70/100\n33600/33600 [==============================] - 6s 167us/step - loss: 0.0171 - accuracy: 0.9933 - val_loss: 0.0720 - val_accuracy: 0.9914\nEpoch 71/100\n33600/33600 [==============================] - 6s 173us/step - loss: 0.0175 - accuracy: 0.9937 - val_loss: 0.0638 - val_accuracy: 0.9911\nEpoch 72/100\n33600/33600 [==============================] - 6s 174us/step - loss: 0.0170 - accuracy: 0.9940 - val_loss: 0.0658 - val_accuracy: 0.9920\nEpoch 73/100\n33600/33600 [==============================] - 6s 169us/step - loss: 0.0170 - accuracy: 0.9941 - val_loss: 0.0661 - val_accuracy: 0.9917\nEpoch 74/100\n33600/33600 [==============================] - 6s 171us/step - loss: 0.0181 - accuracy: 0.9935 - val_loss: 0.0450 - val_accuracy: 0.9915\nEpoch 75/100\n33600/33600 [==============================] - 6s 178us/step - loss: 0.0191 - accuracy: 0.9935 - val_loss: 0.0512 - val_accuracy: 0.9914\nEpoch 76/100\n33600/33600 [==============================] - 7s 205us/step - loss: 0.0174 - accuracy: 0.9936 - val_loss: 0.0591 - val_accuracy: 0.9914\nEpoch 77/100\n33600/33600 [==============================] - 6s 189us/step - loss: 0.0166 - accuracy: 0.9935 - val_loss: 0.0803 - val_accuracy: 0.9914\nEpoch 78/100\n33600/33600 [==============================] - 6s 188us/step - loss: 0.0177 - accuracy: 0.9940 - val_loss: 0.0649 - val_accuracy: 0.9915\nEpoch 79/100\n33600/33600 [==============================] - 6s 193us/step - loss: 0.0172 - accuracy: 0.9938 - val_loss: 0.0594 - val_accuracy: 0.9913\nEpoch 80/100\n33600/33600 [==============================] - 6s 180us/step - loss: 0.0178 - accuracy: 0.9938 - val_loss: 0.0702 - val_accuracy: 0.9921\nEpoch 81/100\n33600/33600 [==============================] - 6s 174us/step - loss: 0.0163 - accuracy: 0.9938 - val_loss: 0.0708 - val_accuracy: 0.9918\nEpoch 82/100\n33600/33600 [==============================] - 6s 171us/step - loss: 0.0162 - accuracy: 0.9932 - val_loss: 0.0975 - val_accuracy: 0.9914\nEpoch 83/100\n33600/33600 [==============================] - 6s 172us/step - loss: 0.0178 - accuracy: 0.9932 - val_loss: 0.0617 - val_accuracy: 0.9915\nEpoch 84/100\n33600/33600 [==============================] - 6s 183us/step - loss: 0.0170 - accuracy: 0.9944 - val_loss: 0.0673 - val_accuracy: 0.9914\nEpoch 85/100\n33600/33600 [==============================] - 6s 176us/step - loss: 0.0158 - accuracy: 0.9937 - val_loss: 0.0872 - val_accuracy: 0.9917\nEpoch 86/100\n33600/33600 [==============================] - 6s 176us/step - loss: 0.0173 - accuracy: 0.9933 - val_loss: 0.0584 - val_accuracy: 0.9918\nEpoch 87/100\n33600/33600 [==============================] - 7s 194us/step - loss: 0.0155 - accuracy: 0.9941 - val_loss: 0.0783 - val_accuracy: 0.9917\nEpoch 88/100\n33600/33600 [==============================] - 7s 211us/step - loss: 0.0187 - accuracy: 0.9935 - val_loss: 0.0592 - val_accuracy: 0.9919\nEpoch 89/100\n33600/33600 [==============================] - 6s 178us/step - loss: 0.0184 - accuracy: 0.9939 - val_loss: 0.0668 - val_accuracy: 0.9917\nEpoch 90/100\n33600/33600 [==============================] - 6s 165us/step - loss: 0.0165 - accuracy: 0.9944 - val_loss: 0.0688 - val_accuracy: 0.9917\nEpoch 91/100\n33600/33600 [==============================] - 5s 162us/step - loss: 0.0167 - accuracy: 0.9942 - val_loss: 0.0654 - val_accuracy: 0.9915\nEpoch 92/100\n33600/33600 [==============================] - 5s 163us/step - loss: 0.0171 - accuracy: 0.9937 - val_loss: 0.0579 - val_accuracy: 0.9915\nEpoch 93/100\n33600/33600 [==============================] - 5s 160us/step - loss: 0.0179 - accuracy: 0.9940 - val_loss: 0.0579 - val_accuracy: 0.9919\nEpoch 94/100\n33600/33600 [==============================] - 6s 164us/step - loss: 0.0175 - accuracy: 0.9936 - val_loss: 0.0584 - val_accuracy: 0.9927\nEpoch 95/100\n33600/33600 [==============================] - 6s 170us/step - loss: 0.0167 - accuracy: 0.9939 - val_loss: 0.0523 - val_accuracy: 0.9919\nEpoch 96/100\n33600/33600 [==============================] - 5s 163us/step - loss: 0.0156 - accuracy: 0.9942 - val_loss: 0.0886 - val_accuracy: 0.9921\nEpoch 97/100\n33600/33600 [==============================] - 5s 162us/step - loss: 0.0169 - accuracy: 0.9937 - val_loss: 0.0701 - val_accuracy: 0.9920\nEpoch 98/100\n33600/33600 [==============================] - 6s 165us/step - loss: 0.0179 - accuracy: 0.9929 - val_loss: 0.0454 - val_accuracy: 0.9930\nEpoch 99/100\n33600/33600 [==============================] - 5s 161us/step - loss: 0.0159 - accuracy: 0.9941 - val_loss: 0.0842 - val_accuracy: 0.9924\nEpoch 100/100\n33600/33600 [==============================] - 5s 162us/step - loss: 0.0157 - accuracy: 0.9945 - val_loss: 0.0947 - val_accuracy: 0.9921\n"
    }
   ],
   "source": [
    "history = model.fit(X_train, y_train, epochs=100, batch_size=20, verbose=1, validation_split=0.2, shuffle=False)"
   ]
  },
  {
   "cell_type": "markdown",
   "metadata": {},
   "source": [
    "### 9. Evaluate the model on the test dataset."
   ]
  },
  {
   "cell_type": "code",
   "execution_count": 8,
   "metadata": {
    "tags": []
   },
   "outputs": [
    {
     "output_type": "stream",
     "name": "stdout",
     "text": "18000/18000 [==============================] - 1s 35us/step\nThe loss on the test set is 0.0970 and the accuracy is 99.3000%\n"
    }
   ],
   "source": [
    "test_loss, test_acc = model.evaluate(X_test, y_test)\n",
    "print(f'The loss on the test set is {test_loss:.4f} and the accuracy is {test_acc*100:.4f}%')"
   ]
  },
  {
   "cell_type": "markdown",
   "metadata": {},
   "source": [
    "### 10. Count the number of values in each class of the test target dataset.\n",
    "### 11. Calculate the null accuracy using the pandas value_count function."
   ]
  },
  {
   "cell_type": "code",
   "execution_count": 9,
   "metadata": {},
   "outputs": [
    {
     "output_type": "execute_result",
     "data": {
      "text/plain": "       class\n26308      0\n52512      0\n50061      0\n45393      0\n17259      0\n...      ...\n17437      0\n9474       0\n11861      0\n59109      0\n39832      0\n\n[18000 rows x 1 columns]",
      "text/html": "<div>\n<style scoped>\n    .dataframe tbody tr th:only-of-type {\n        vertical-align: middle;\n    }\n\n    .dataframe tbody tr th {\n        vertical-align: top;\n    }\n\n    .dataframe thead th {\n        text-align: right;\n    }\n</style>\n<table border=\"1\" class=\"dataframe\">\n  <thead>\n    <tr style=\"text-align: right;\">\n      <th></th>\n      <th>class</th>\n    </tr>\n  </thead>\n  <tbody>\n    <tr>\n      <th>26308</th>\n      <td>0</td>\n    </tr>\n    <tr>\n      <th>52512</th>\n      <td>0</td>\n    </tr>\n    <tr>\n      <th>50061</th>\n      <td>0</td>\n    </tr>\n    <tr>\n      <th>45393</th>\n      <td>0</td>\n    </tr>\n    <tr>\n      <th>17259</th>\n      <td>0</td>\n    </tr>\n    <tr>\n      <th>...</th>\n      <td>...</td>\n    </tr>\n    <tr>\n      <th>17437</th>\n      <td>0</td>\n    </tr>\n    <tr>\n      <th>9474</th>\n      <td>0</td>\n    </tr>\n    <tr>\n      <th>11861</th>\n      <td>0</td>\n    </tr>\n    <tr>\n      <th>59109</th>\n      <td>0</td>\n    </tr>\n    <tr>\n      <th>39832</th>\n      <td>0</td>\n    </tr>\n  </tbody>\n</table>\n<p>18000 rows × 1 columns</p>\n</div>"
     },
     "metadata": {},
     "execution_count": 9
    }
   ],
   "source": [
    "y_test"
   ]
  },
  {
   "cell_type": "code",
   "execution_count": 12,
   "metadata": {},
   "outputs": [
    {
     "output_type": "execute_result",
     "data": {
      "text/plain": "0    17700\n1      300\nName: class, dtype: int64"
     },
     "metadata": {},
     "execution_count": 12
    }
   ],
   "source": [
    "y_test['class'].value_counts()"
   ]
  },
  {
   "cell_type": "code",
   "execution_count": 13,
   "metadata": {},
   "outputs": [
    {
     "output_type": "execute_result",
     "data": {
      "text/plain": "0    0.983333\n1    0.016667\nName: class, dtype: float64"
     },
     "metadata": {},
     "execution_count": 13
    }
   ],
   "source": [
    "y_test['class'].value_counts(normalize=True)"
   ]
  },
  {
   "cell_type": "code",
   "execution_count": 14,
   "metadata": {},
   "outputs": [
    {
     "output_type": "execute_result",
     "data": {
      "text/plain": "0.9833333333333333"
     },
     "metadata": {},
     "execution_count": 14
    }
   ],
   "source": [
    "y_test['class'].value_counts(normalize=True).loc[0]"
   ]
  },
  {
   "cell_type": "markdown",
   "metadata": {},
   "source": [
    "Here, we can see that the accuracy and null accuracy will change as we change the train/test split. We will not cover any sampling techniques in this chapter as we have a very highly imbalanced dataset, and sampling techniques will not yield any fruitful results."
   ]
  }
 ],
 "metadata": {
  "language_info": {
   "codemirror_mode": {
    "name": "ipython",
    "version": 3
   },
   "file_extension": ".py",
   "mimetype": "text/x-python",
   "name": "python",
   "nbconvert_exporter": "python",
   "pygments_lexer": "ipython3",
   "version": "3.7.2-final"
  },
  "orig_nbformat": 2,
  "kernelspec": {
   "name": "python37264bitdlwkvenvbec5b905c558415eb2dad3aba1eb0bd0",
   "display_name": "Python 3.7.2 64-bit ('dlwk': venv)"
  }
 },
 "nbformat": 4,
 "nbformat_minor": 2
}