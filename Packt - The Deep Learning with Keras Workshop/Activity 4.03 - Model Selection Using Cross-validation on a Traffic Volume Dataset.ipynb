{
 "cells": [
  {
   "cell_type": "markdown",
   "metadata": {},
   "source": [
    "# Model Selection Using Cross-validation on a Traffic Volume Dataset\n",
    "\n",
    "In this activity, you are going to practice model selection using cross-validation one more time. Here, we are going to use a simulated dataset that represents a target variable representing the volume of traffic in cars/hour across a city bridge and various normalized features related to traffic data such as the time of day and the traffic volume on the previous day. Our goal is to build a model that predicts the traffic volume across the city bridge given the various features.\n",
    "\n",
    "The dataset contains 10000 records, and for each of them, 10 attributes/features are included. The goal is to build a deep neural network that receives the 10 features and predicts the traffic volume across the bridge. Since the output is a number, this is a regression problem."
   ]
  },
  {
   "cell_type": "markdown",
   "metadata": {},
   "source": [
    "### 1. Import all the required packages."
   ]
  },
  {
   "cell_type": "code",
   "execution_count": 6,
   "metadata": {},
   "outputs": [],
   "source": [
    "import pandas as pd \n",
    "import numpy as np \n",
    "from tensorflow import random\n",
    "from keras.models import Sequential\n",
    "from keras.layers import Dense\n",
    "from keras.wrappers.scikit_learn import KerasRegressor\n",
    "from sklearn.preprocessing import StandardScaler\n",
    "from sklearn.model_selection import KFold, cross_val_score\n",
    "from sklearn.pipeline import make_pipeline\n",
    "\n",
    "SEED = 1"
   ]
  },
  {
   "cell_type": "markdown",
   "metadata": {},
   "source": [
    "### 2. Print the input and output sizes to check the number of examples in the dataset and the number of features for each example. Also, you can print the range of the output (the output in this dataset represents the median value of owner-occupied homes in thousands of dollars)."
   ]
  },
  {
   "cell_type": "code",
   "execution_count": 7,
   "metadata": {},
   "outputs": [
    {
     "output_type": "stream",
     "name": "stdout",
     "text": "(10000, 10)\n(10000, 1)\nOutput Range = (0, 584)\n"
    }
   ],
   "source": [
    "# Load the dataset\n",
    "X = pd.read_csv('../data/traffic_volume_feats.csv')\n",
    "y = pd.read_csv('../data/traffic_volume_target.csv')\n",
    "\n",
    "# Print the sizes of input data and output data\n",
    "print(X.shape)\n",
    "print(y.shape)\n",
    "# Print the range for output\n",
    "print(f\"Output Range = ({y['Volume'].min()}, { y['Volume'].max()})\")"
   ]
  },
  {
   "cell_type": "markdown",
   "metadata": {},
   "source": [
    "### 3. Define three functions, each returning a different Keras model. The first Keras model will be a shallow neural network with one hidden layer of size 10 and a ReLU activation function. The second Keras model will be a deep neural network with two hidden layers of size 10 and a ReLU activation function in each layer. The third Keras model will be a deep neural network with three hidden layers of size 10 and a ReLU activation function in each layer.Use the following values as well: optimizer = 'adam', loss = 'mean_squared_error'"
   ]
  },
  {
   "cell_type": "code",
   "execution_count": 8,
   "metadata": {},
   "outputs": [],
   "source": [
    "def build_model_1(activation='relu', optimizer='adam', loss='mean_squared_error'):\n",
    "    model = Sequential()\n",
    "    model.add(Dense(10, input_dim=X.shape[1], activation=activation))\n",
    "    model.add(Dense(1))\n",
    "    model.compile(optimizer=optimizer, loss=loss)\n",
    "    return model\n",
    "\n",
    "def build_model_2(activation='relu', optimizer='adam', loss='mean_squared_error'):\n",
    "    model = Sequential()\n",
    "    model.add(Dense(10, input_dim=X.shape[1], activation=activation))\n",
    "    model.add(Dense(10, activation=activation))\n",
    "    model.add(Dense(1))\n",
    "    model.compile(optimizer=optimizer, loss=loss)\n",
    "    return model\n",
    "\n",
    "def build_model_3(activation='relu', optimizer='adam', loss='mean_squared_error'):\n",
    "    model = Sequential()\n",
    "    model.add(Dense(10, input_dim=X.shape[1], activation=activation))\n",
    "    model.add(Dense(10, activation=activation))\n",
    "    model.add(Dense(10, activation=activation))\n",
    "    model.add(Dense(1))\n",
    "    model.compile(optimizer=optimizer, loss=loss)\n",
    "    return model"
   ]
  },
  {
   "cell_type": "markdown",
   "metadata": {},
   "source": [
    "### 4. Write the code to loop over the three models and perform 5-fold cross-validation on each of them (use epochs=100, batch_size=5, and shuffle=False in this step). Store all the cross-validation scores in a list and print the results. Which model results in the lowest test error rate?"
   ]
  },
  {
   "cell_type": "code",
   "execution_count": null,
   "metadata": {},
   "outputs": [],
   "source": [
    "n_folds = 5\n",
    "\n",
    "params = {\n",
    "    'epochs': 100,\n",
    "    'batch_size': 5,\n",
    "    'shuffle': False,\n",
    "    'verbose': 1\n",
    "}\n",
    "\n",
    "results_1 = []\n",
    "\n",
    "models = [build_model_1, build_model_2, build_model_3]\n",
    "\n",
    "for m in range(len(models)):\n",
    "    # build regressor\n",
    "    regressor = KerasRegressor(build_fn=models[m], **params)\n",
    "    # build pipeline\n",
    "    model = make_pipeline(StandardScaler(), regressor)\n",
    "    # define cross-validator\n",
    "    cv = KFold(n_folds, shuffle=True, random_state=SEED)\n",
    "    # perform cross-validation\n",
    "    result = cross_val_score(model, X, y, cv=cv, verbose=1)\n",
    "    # append result to list\n",
    "    results_1.append(result)\n",
    "\n",
    "for m in range(len(models)):\n",
    "    print(f'Model_{m+1} test accuracy: {results_1[m]}')"
   ]
  }
 ],
 "metadata": {
  "language_info": {
   "codemirror_mode": {
    "name": "ipython",
    "version": 3
   },
   "file_extension": ".py",
   "mimetype": "text/x-python",
   "name": "python",
   "nbconvert_exporter": "python",
   "pygments_lexer": "ipython3",
   "version": "3.7.2-final"
  },
  "orig_nbformat": 2,
  "kernelspec": {
   "name": "python37264bitdlwkvenvbec5b905c558415eb2dad3aba1eb0bd0",
   "display_name": "Python 3.7.2 64-bit ('dlwk': venv)"
  }
 },
 "nbformat": 4,
 "nbformat_minor": 2
}