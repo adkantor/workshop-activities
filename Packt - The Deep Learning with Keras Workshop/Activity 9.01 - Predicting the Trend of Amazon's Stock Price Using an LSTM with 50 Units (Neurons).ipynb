{
 "cells": [
  {
   "cell_type": "markdown",
   "metadata": {},
   "source": [
    "# Price Using an LSTM with 50 Units (Neurons)\n",
    "\n",
    "In this activity, we will examine the stock price of Amazon for the last 5 years—that is, from January 1, 2014, to December 31, 2018. In doing so, we will try to predict and forecast the company's future trend for January 2019 using an RNN and LSTM. We have the actual values for January 2019, so we can compare our predictions to the actual values later. Follow these steps to complete this activity:"
   ]
  },
  {
   "cell_type": "markdown",
   "metadata": {},
   "source": [
    "### 1. Import the required libraries."
   ]
  },
  {
   "cell_type": "code",
   "execution_count": 3,
   "metadata": {
    "tags": []
   },
   "outputs": [],
   "source": [
    "import pandas as pd \n",
    "import numpy as np\n",
    "from tensorflow import random\n",
    "from keras.models import Sequential\n",
    "from keras.layers import Dense, LSTM\n",
    "from sklearn.preprocessing import MinMaxScaler"
   ]
  },
  {
   "cell_type": "markdown",
   "metadata": {},
   "source": [
    "### 2. From the full dataset, extract the Open column as the predictions will be made on the open stock value.\n"
   ]
  },
  {
   "cell_type": "code",
   "execution_count": 4,
   "metadata": {},
   "outputs": [
    {
     "output_type": "execute_result",
     "data": {
      "text/plain": "            Date         Open         High          Low        Close  \\\n0     2014-01-02   398.799988   399.359985   394.019989   397.970001   \n1     2014-01-03   398.290009   402.709991   396.220001   396.440002   \n2     2014-01-06   395.850006   397.000000   388.420013   393.630005   \n3     2014-01-07   395.040009   398.470001   394.290009   398.029999   \n4     2014-01-08   398.470001   403.000000   396.040009   401.920013   \n...          ...          ...          ...          ...          ...   \n1253  2018-12-24  1346.000000  1396.030029  1307.000000  1343.959961   \n1254  2018-12-26  1368.890015  1473.160034  1363.010010  1470.900024   \n1255  2018-12-27  1454.199951  1469.000000  1390.310059  1461.640015   \n1256  2018-12-28  1473.349976  1513.469971  1449.000000  1478.020020   \n1257  2018-12-31  1510.800049  1520.760010  1487.000000  1501.969971   \n\n        Adj Close    Volume  \n0      397.970001   2137800  \n1      396.440002   2210200  \n2      393.630005   3170600  \n3      398.029999   1916000  \n4      401.920013   2316500  \n...           ...       ...  \n1253  1343.959961   7220000  \n1254  1470.900024  10411800  \n1255  1461.640015   9722000  \n1256  1478.020020   8829000  \n1257  1501.969971   6954500  \n\n[1258 rows x 7 columns]",
      "text/html": "<div>\n<style scoped>\n    .dataframe tbody tr th:only-of-type {\n        vertical-align: middle;\n    }\n\n    .dataframe tbody tr th {\n        vertical-align: top;\n    }\n\n    .dataframe thead th {\n        text-align: right;\n    }\n</style>\n<table border=\"1\" class=\"dataframe\">\n  <thead>\n    <tr style=\"text-align: right;\">\n      <th></th>\n      <th>Date</th>\n      <th>Open</th>\n      <th>High</th>\n      <th>Low</th>\n      <th>Close</th>\n      <th>Adj Close</th>\n      <th>Volume</th>\n    </tr>\n  </thead>\n  <tbody>\n    <tr>\n      <th>0</th>\n      <td>2014-01-02</td>\n      <td>398.799988</td>\n      <td>399.359985</td>\n      <td>394.019989</td>\n      <td>397.970001</td>\n      <td>397.970001</td>\n      <td>2137800</td>\n    </tr>\n    <tr>\n      <th>1</th>\n      <td>2014-01-03</td>\n      <td>398.290009</td>\n      <td>402.709991</td>\n      <td>396.220001</td>\n      <td>396.440002</td>\n      <td>396.440002</td>\n      <td>2210200</td>\n    </tr>\n    <tr>\n      <th>2</th>\n      <td>2014-01-06</td>\n      <td>395.850006</td>\n      <td>397.000000</td>\n      <td>388.420013</td>\n      <td>393.630005</td>\n      <td>393.630005</td>\n      <td>3170600</td>\n    </tr>\n    <tr>\n      <th>3</th>\n      <td>2014-01-07</td>\n      <td>395.040009</td>\n      <td>398.470001</td>\n      <td>394.290009</td>\n      <td>398.029999</td>\n      <td>398.029999</td>\n      <td>1916000</td>\n    </tr>\n    <tr>\n      <th>4</th>\n      <td>2014-01-08</td>\n      <td>398.470001</td>\n      <td>403.000000</td>\n      <td>396.040009</td>\n      <td>401.920013</td>\n      <td>401.920013</td>\n      <td>2316500</td>\n    </tr>\n    <tr>\n      <th>...</th>\n      <td>...</td>\n      <td>...</td>\n      <td>...</td>\n      <td>...</td>\n      <td>...</td>\n      <td>...</td>\n      <td>...</td>\n    </tr>\n    <tr>\n      <th>1253</th>\n      <td>2018-12-24</td>\n      <td>1346.000000</td>\n      <td>1396.030029</td>\n      <td>1307.000000</td>\n      <td>1343.959961</td>\n      <td>1343.959961</td>\n      <td>7220000</td>\n    </tr>\n    <tr>\n      <th>1254</th>\n      <td>2018-12-26</td>\n      <td>1368.890015</td>\n      <td>1473.160034</td>\n      <td>1363.010010</td>\n      <td>1470.900024</td>\n      <td>1470.900024</td>\n      <td>10411800</td>\n    </tr>\n    <tr>\n      <th>1255</th>\n      <td>2018-12-27</td>\n      <td>1454.199951</td>\n      <td>1469.000000</td>\n      <td>1390.310059</td>\n      <td>1461.640015</td>\n      <td>1461.640015</td>\n      <td>9722000</td>\n    </tr>\n    <tr>\n      <th>1256</th>\n      <td>2018-12-28</td>\n      <td>1473.349976</td>\n      <td>1513.469971</td>\n      <td>1449.000000</td>\n      <td>1478.020020</td>\n      <td>1478.020020</td>\n      <td>8829000</td>\n    </tr>\n    <tr>\n      <th>1257</th>\n      <td>2018-12-31</td>\n      <td>1510.800049</td>\n      <td>1520.760010</td>\n      <td>1487.000000</td>\n      <td>1501.969971</td>\n      <td>1501.969971</td>\n      <td>6954500</td>\n    </tr>\n  </tbody>\n</table>\n<p>1258 rows × 7 columns</p>\n</div>"
     },
     "metadata": {},
     "execution_count": 4
    }
   ],
   "source": [
    "dataset_training = pd.read_csv('../AMZN_train.csv')\n",
    "dataset_training"
   ]
  },
  {
   "cell_type": "code",
   "execution_count": 5,
   "metadata": {},
   "outputs": [
    {
     "output_type": "execute_result",
     "data": {
      "text/plain": "array([[ 398.799988],\n       [ 398.290009],\n       [ 395.850006],\n       ...,\n       [1454.199951],\n       [1473.349976],\n       [1510.800049]])"
     },
     "metadata": {},
     "execution_count": 5
    }
   ],
   "source": [
    "training_data=dataset_training[['Open']].values\n",
    "training_data"
   ]
  },
  {
   "cell_type": "markdown",
   "metadata": {},
   "source": [
    "### 3. Normalize the data between 0 and 1."
   ]
  },
  {
   "cell_type": "code",
   "execution_count": 6,
   "metadata": {},
   "outputs": [
    {
     "output_type": "execute_result",
     "data": {
      "text/plain": "array([[0.06523313],\n       [0.06494233],\n       [0.06355099],\n       ...,\n       [0.66704299],\n       [0.67796271],\n       [0.69931748]])"
     },
     "metadata": {},
     "execution_count": 6
    }
   ],
   "source": [
    "scaler = MinMaxScaler()\n",
    "training_data_scaled = scaler.fit_transform(training_data)\n",
    "training_data_scaled"
   ]
  },
  {
   "cell_type": "code",
   "execution_count": 7,
   "metadata": {},
   "outputs": [
    {
     "output_type": "execute_result",
     "data": {
      "text/plain": "(1258, 1)"
     },
     "metadata": {},
     "execution_count": 7
    }
   ],
   "source": [
    "training_data_scaled.shape"
   ]
  },
  {
   "cell_type": "markdown",
   "metadata": {},
   "source": [
    "### 4. Then, create timestamps. The values of each day in January 2019 will be predicted by the previous 60 days; so, if January 1 is predicted by using the value from the nth day up to December 31, then January 2 will be predicted by using the n + 1st day and January 1, and so on."
   ]
  },
  {
   "cell_type": "code",
   "execution_count": 8,
   "metadata": {
    "tags": []
   },
   "outputs": [
    {
     "output_type": "stream",
     "name": "stdout",
     "text": "(1198, 60)\n(1198,)\n"
    }
   ],
   "source": [
    "X_train = []\n",
    "y_train =[]\n",
    "\n",
    "for i in range(60, 1258):\n",
    "    X_train.append(training_data_scaled[i-60:i, 0])\n",
    "    y_train.append(training_data_scaled[i, 0])\n",
    "\n",
    "X_train, y_train = np.array(X_train), np.array(y_train)\n",
    "\n",
    "\n",
    "print(X_train.shape)\n",
    "print(y_train.shape)"
   ]
  },
  {
   "cell_type": "markdown",
   "metadata": {},
   "source": [
    "### 5. Reshape the data into three dimensions since the network needs data in three dimensions."
   ]
  },
  {
   "cell_type": "code",
   "execution_count": 9,
   "metadata": {},
   "outputs": [
    {
     "output_type": "execute_result",
     "data": {
      "text/plain": "(1198, 60, 1)"
     },
     "metadata": {},
     "execution_count": 9
    }
   ],
   "source": [
    "X_train = np.reshape(X_train, (X_train.shape[0], X_train.shape[1], 1))\n",
    "X_train.shape"
   ]
  },
  {
   "cell_type": "markdown",
   "metadata": {},
   "source": [
    "### 6. Build an RNN model in Keras using 50 units (here, units refer to neurons) with four LSTM layers. The first step should provide the input shape. Note that the final LSTM layer always adds return_sequences=True, so it doesn't have to be explicitly defined."
   ]
  },
  {
   "cell_type": "code",
   "execution_count": 10,
   "metadata": {},
   "outputs": [],
   "source": [
    "SEED = 1\n",
    "np.random.seed(SEED)\n",
    "random.set_seed(SEED)\n",
    "\n",
    "model = Sequential()\n",
    "\n",
    "model.add(LSTM(units = 50, return_sequences = True, input_shape = (X_train.shape[1], 1)))\n",
    "model.add(LSTM(units = 50, return_sequences = True))\n",
    "model.add(LSTM(units = 50, return_sequences = True))\n",
    "model.add(LSTM(units = 50))\n",
    "model.add(Dense(1))\n",
    "\n",
    "model.compile(optimizer = 'adam', loss = 'mean_squared_error')"
   ]
  },
  {
   "cell_type": "code",
   "execution_count": 19,
   "metadata": {
    "tags": []
   },
   "outputs": [
    {
     "output_type": "stream",
     "name": "stdout",
     "text": "Epoch 1/100\n1198/1198 [==============================] - 9s 8ms/step - loss: 0.0175\nEpoch 2/100\n1198/1198 [==============================] - 6s 5ms/step - loss: 0.0014\nEpoch 3/100\n1198/1198 [==============================] - 6s 5ms/step - loss: 0.0012\nEpoch 4/100\n1198/1198 [==============================] - 7s 6ms/step - loss: 0.0011\nEpoch 5/100\n1198/1198 [==============================] - 7s 5ms/step - loss: 9.6404e-04\nEpoch 6/100\n1198/1198 [==============================] - 7s 6ms/step - loss: 0.0010\nEpoch 7/100\n1198/1198 [==============================] - 7s 5ms/step - loss: 0.0012\nEpoch 8/100\n1198/1198 [==============================] - 7s 6ms/step - loss: 0.0012\nEpoch 9/100\n1198/1198 [==============================] - 7s 6ms/step - loss: 0.0015\nEpoch 10/100\n1198/1198 [==============================] - 7s 6ms/step - loss: 9.6483e-04\nEpoch 11/100\n1198/1198 [==============================] - 7s 6ms/step - loss: 8.8434e-04\nEpoch 12/100\n1198/1198 [==============================] - 8s 7ms/step - loss: 9.7993e-04\nEpoch 13/100\n1198/1198 [==============================] - 8s 7ms/step - loss: 7.6192e-04\nEpoch 14/100\n1198/1198 [==============================] - 7s 6ms/step - loss: 7.7048e-04\nEpoch 15/100\n1198/1198 [==============================] - 7s 6ms/step - loss: 7.7910e-04\nEpoch 16/100\n1198/1198 [==============================] - 7s 6ms/step - loss: 8.7247e-04\nEpoch 17/100\n1198/1198 [==============================] - 8s 7ms/step - loss: 9.8994e-04\nEpoch 18/100\n1198/1198 [==============================] - 7s 6ms/step - loss: 8.9193e-04\nEpoch 19/100\n1198/1198 [==============================] - 8s 6ms/step - loss: 7.5541e-04\nEpoch 20/100\n1198/1198 [==============================] - 7s 6ms/step - loss: 7.8853e-04\nEpoch 21/100\n1198/1198 [==============================] - 7s 6ms/step - loss: 0.0011\nEpoch 22/100\n1198/1198 [==============================] - 7s 6ms/step - loss: 8.0631e-04\nEpoch 23/100\n1198/1198 [==============================] - 7s 6ms/step - loss: 6.7606e-04\nEpoch 24/100\n1198/1198 [==============================] - 7s 6ms/step - loss: 7.3001e-04\nEpoch 25/100\n1198/1198 [==============================] - 10s 9ms/step - loss: 7.0940e-04\nEpoch 26/100\n1198/1198 [==============================] - 12s 10ms/step - loss: 6.6267e-04\nEpoch 27/100\n1198/1198 [==============================] - 11s 9ms/step - loss: 6.7904e-04\nEpoch 28/100\n1198/1198 [==============================] - 10s 9ms/step - loss: 8.1203e-04\nEpoch 29/100\n1198/1198 [==============================] - 8s 7ms/step - loss: 7.1425e-04\nEpoch 30/100\n1198/1198 [==============================] - 7s 6ms/step - loss: 7.1706e-04\nEpoch 31/100\n1198/1198 [==============================] - 9s 7ms/step - loss: 6.1791e-04\nEpoch 32/100\n1198/1198 [==============================] - 11s 10ms/step - loss: 6.2376e-04\nEpoch 33/100\n1198/1198 [==============================] - 9s 8ms/step - loss: 6.2147e-04\nEpoch 34/100\n1198/1198 [==============================] - 9s 7ms/step - loss: 5.9092e-04\nEpoch 35/100\n1198/1198 [==============================] - 8s 6ms/step - loss: 7.4014e-04\nEpoch 36/100\n1198/1198 [==============================] - 10s 9ms/step - loss: 6.0291e-04\nEpoch 37/100\n1198/1198 [==============================] - 9s 7ms/step - loss: 5.3552e-04\nEpoch 38/100\n1198/1198 [==============================] - 7s 6ms/step - loss: 6.3265e-04\nEpoch 39/100\n1198/1198 [==============================] - 8s 6ms/step - loss: 5.1700e-04\nEpoch 40/100\n1198/1198 [==============================] - 7s 6ms/step - loss: 5.4713e-04\nEpoch 41/100\n1198/1198 [==============================] - 7s 6ms/step - loss: 4.9873e-04\nEpoch 42/100\n1198/1198 [==============================] - 7s 6ms/step - loss: 5.8128e-04\nEpoch 43/100\n1198/1198 [==============================] - 8s 6ms/step - loss: 5.6124e-04\nEpoch 44/100\n1198/1198 [==============================] - 7s 6ms/step - loss: 4.1062e-04\nEpoch 45/100\n1198/1198 [==============================] - 7s 6ms/step - loss: 5.0943e-04\nEpoch 46/100\n1198/1198 [==============================] - 7s 6ms/step - loss: 4.0530e-04\nEpoch 47/100\n1198/1198 [==============================] - 7s 6ms/step - loss: 5.4707e-04\nEpoch 48/100\n1198/1198 [==============================] - 7s 6ms/step - loss: 4.3857e-04\nEpoch 49/100\n1198/1198 [==============================] - 7s 6ms/step - loss: 4.6840e-04\nEpoch 50/100\n1198/1198 [==============================] - 7s 6ms/step - loss: 3.4250e-04\nEpoch 51/100\n1198/1198 [==============================] - 7s 6ms/step - loss: 3.6260e-04\nEpoch 52/100\n1198/1198 [==============================] - 7s 6ms/step - loss: 2.8448e-04\nEpoch 53/100\n1198/1198 [==============================] - 7s 6ms/step - loss: 3.0114e-04\nEpoch 54/100\n1198/1198 [==============================] - 7s 6ms/step - loss: 3.6857e-04\nEpoch 55/100\n1198/1198 [==============================] - 7s 6ms/step - loss: 3.1081e-04\nEpoch 56/100\n1198/1198 [==============================] - 7s 6ms/step - loss: 3.2280e-04\nEpoch 57/100\n1198/1198 [==============================] - 7s 6ms/step - loss: 3.1799e-04\nEpoch 58/100\n1198/1198 [==============================] - 7s 6ms/step - loss: 2.7368e-04\nEpoch 59/100\n1198/1198 [==============================] - 7s 6ms/step - loss: 2.4806e-04\nEpoch 60/100\n1198/1198 [==============================] - 7s 6ms/step - loss: 2.5009e-04\nEpoch 61/100\n1198/1198 [==============================] - 8s 6ms/step - loss: 2.7196e-04\nEpoch 62/100\n1198/1198 [==============================] - 10s 8ms/step - loss: 2.9808e-04\nEpoch 63/100\n1198/1198 [==============================] - 9s 8ms/step - loss: 2.4536e-04\nEpoch 64/100\n1198/1198 [==============================] - 7s 6ms/step - loss: 2.9853e-04\nEpoch 65/100\n1198/1198 [==============================] - 7s 6ms/step - loss: 2.8867e-04\nEpoch 66/100\n1198/1198 [==============================] - 7s 5ms/step - loss: 2.7548e-04\nEpoch 67/100\n1198/1198 [==============================] - 7s 6ms/step - loss: 3.0526e-04\nEpoch 68/100\n1198/1198 [==============================] - 7s 6ms/step - loss: 2.4004e-04\nEpoch 69/100\n1198/1198 [==============================] - 7s 6ms/step - loss: 3.1923e-04\nEpoch 70/100\n1198/1198 [==============================] - 8s 6ms/step - loss: 2.8109e-04\nEpoch 71/100\n1198/1198 [==============================] - 9s 8ms/step - loss: 2.4184e-04\nEpoch 72/100\n1198/1198 [==============================] - 7s 6ms/step - loss: 2.4320e-04\nEpoch 73/100\n1198/1198 [==============================] - 7s 6ms/step - loss: 2.9556e-04\nEpoch 74/100\n1198/1198 [==============================] - 7s 6ms/step - loss: 2.2654e-04\nEpoch 75/100\n1198/1198 [==============================] - 7s 6ms/step - loss: 2.0575e-04\nEpoch 76/100\n1198/1198 [==============================] - 8s 6ms/step - loss: 2.1619e-04\nEpoch 77/100\n1198/1198 [==============================] - 7s 6ms/step - loss: 2.1980e-04\nEpoch 78/100\n1198/1198 [==============================] - 7s 6ms/step - loss: 2.0435e-04\nEpoch 79/100\n1198/1198 [==============================] - 8s 6ms/step - loss: 2.5405e-04\nEpoch 80/100\n1198/1198 [==============================] - 7s 6ms/step - loss: 2.2473e-04\nEpoch 81/100\n1198/1198 [==============================] - 7s 6ms/step - loss: 3.2383e-04\nEpoch 82/100\n1198/1198 [==============================] - 7s 6ms/step - loss: 2.2924e-04\nEpoch 83/100\n1198/1198 [==============================] - 7s 6ms/step - loss: 2.0496e-04\nEpoch 84/100\n1198/1198 [==============================] - 8s 7ms/step - loss: 1.9951e-04\nEpoch 85/100\n1198/1198 [==============================] - 10s 8ms/step - loss: 2.4507e-04\nEpoch 86/100\n1198/1198 [==============================] - 10s 8ms/step - loss: 2.0790e-04\nEpoch 87/100\n1198/1198 [==============================] - 9s 8ms/step - loss: 2.0813e-04\nEpoch 88/100\n1198/1198 [==============================] - 8s 7ms/step - loss: 1.9584e-04\nEpoch 89/100\n1198/1198 [==============================] - 9s 7ms/step - loss: 2.0084e-04\nEpoch 90/100\n1198/1198 [==============================] - 10s 9ms/step - loss: 2.1808e-04\nEpoch 91/100\n1198/1198 [==============================] - 11s 9ms/step - loss: 2.2076e-04\nEpoch 92/100\n1198/1198 [==============================] - 10s 8ms/step - loss: 1.8957e-04\nEpoch 93/100\n1198/1198 [==============================] - 8s 6ms/step - loss: 2.0933e-04\nEpoch 94/100\n1198/1198 [==============================] - 7s 6ms/step - loss: 2.6712e-04\nEpoch 95/100\n1198/1198 [==============================] - 8s 7ms/step - loss: 2.1129e-04\nEpoch 96/100\n1198/1198 [==============================] - 7s 6ms/step - loss: 2.2617e-04\nEpoch 97/100\n1198/1198 [==============================] - 7s 6ms/step - loss: 2.3398e-04\nEpoch 98/100\n1198/1198 [==============================] - 7s 6ms/step - loss: 2.0172e-04\nEpoch 99/100\n1198/1198 [==============================] - 7s 6ms/step - loss: 2.7067e-04\nEpoch 100/100\n1198/1198 [==============================] - 9s 8ms/step - loss: 2.1373e-04\n"
    }
   ],
   "source": [
    "history = model.fit(X_train, y_train, batch_size=32, epochs=100, verbose=1)"
   ]
  },
  {
   "cell_type": "code",
   "execution_count": null,
   "metadata": {},
   "outputs": [],
   "source": [
    "model.save(saved_model)"
   ]
  },
  {
   "cell_type": "markdown",
   "metadata": {},
   "source": [
    "### 7. Process and prepare the test data that is the actual data for January 2019.\n",
    "### 8. Combine and process the training and test data."
   ]
  },
  {
   "cell_type": "code",
   "execution_count": 11,
   "metadata": {},
   "outputs": [
    {
     "output_type": "execute_result",
     "data": {
      "text/plain": "       Date         Open         High          Low        Close    Adj Close  \\\n0    1/2/19  1465.199951  1553.359985  1460.930054  1539.130005  1539.130005   \n1    1/3/19  1520.010010  1538.000000  1497.109985  1500.280029  1500.280029   \n2    1/4/19  1530.000000  1594.000000  1518.310059  1575.390015  1575.390015   \n3    1/7/19  1602.310059  1634.560059  1589.189941  1629.510010  1629.510010   \n4    1/8/19  1664.689941  1676.609985  1616.609985  1656.579956  1656.579956   \n5    1/9/19  1652.979980  1667.800049  1641.400024  1659.420044  1659.420044   \n6   1/10/19  1641.010010  1663.250000  1621.619995  1656.219971  1656.219971   \n7   1/11/19  1640.550049  1660.290039  1636.219971  1640.560059  1640.560059   \n8   1/14/19  1615.000000  1648.199951  1595.150024  1617.209961  1617.209961   \n9   1/15/19  1632.000000  1675.160034  1626.010010  1674.560059  1674.560059   \n10  1/16/19  1684.219971  1705.000000  1675.880005  1683.780029  1683.780029   \n11  1/17/19  1680.000000  1700.170044  1677.500000  1693.219971  1693.219971   \n12  1/18/19  1712.000000  1716.199951  1691.540039  1696.199951  1696.199951   \n13  1/22/19  1681.000000  1681.869995  1610.199951  1632.170044  1632.170044   \n14  1/23/19  1656.000000  1657.430054  1612.000000  1640.020020  1640.020020   \n15  1/24/19  1641.069946  1657.260010  1631.780029  1654.930054  1654.930054   \n16  1/25/19  1670.500000  1683.479980  1661.609985  1670.569946  1670.569946   \n17  1/28/19  1643.589966  1645.000000  1614.089966  1637.890015  1637.890015   \n18  1/29/19  1631.270020  1632.380005  1590.719971  1593.880005  1593.880005   \n19  1/30/19  1623.000000  1676.949951  1619.680054  1670.430054  1670.430054   \n20  1/31/19  1692.849976  1736.410034  1679.079956  1718.729980  1718.729980   \n\n      Volume  \n0    7983100  \n1    6975600  \n2    9182600  \n3    7993200  \n4    8881400  \n5    6348800  \n6    6507700  \n7    4686200  \n8    6005900  \n9    5998500  \n10   6366900  \n11   4208900  \n12   6020500  \n13   6416800  \n14   5225200  \n15   4089900  \n16   4945900  \n17   4837700  \n18   4632800  \n19   5783800  \n20  10910300  ",
      "text/html": "<div>\n<style scoped>\n    .dataframe tbody tr th:only-of-type {\n        vertical-align: middle;\n    }\n\n    .dataframe tbody tr th {\n        vertical-align: top;\n    }\n\n    .dataframe thead th {\n        text-align: right;\n    }\n</style>\n<table border=\"1\" class=\"dataframe\">\n  <thead>\n    <tr style=\"text-align: right;\">\n      <th></th>\n      <th>Date</th>\n      <th>Open</th>\n      <th>High</th>\n      <th>Low</th>\n      <th>Close</th>\n      <th>Adj Close</th>\n      <th>Volume</th>\n    </tr>\n  </thead>\n  <tbody>\n    <tr>\n      <th>0</th>\n      <td>1/2/19</td>\n      <td>1465.199951</td>\n      <td>1553.359985</td>\n      <td>1460.930054</td>\n      <td>1539.130005</td>\n      <td>1539.130005</td>\n      <td>7983100</td>\n    </tr>\n    <tr>\n      <th>1</th>\n      <td>1/3/19</td>\n      <td>1520.010010</td>\n      <td>1538.000000</td>\n      <td>1497.109985</td>\n      <td>1500.280029</td>\n      <td>1500.280029</td>\n      <td>6975600</td>\n    </tr>\n    <tr>\n      <th>2</th>\n      <td>1/4/19</td>\n      <td>1530.000000</td>\n      <td>1594.000000</td>\n      <td>1518.310059</td>\n      <td>1575.390015</td>\n      <td>1575.390015</td>\n      <td>9182600</td>\n    </tr>\n    <tr>\n      <th>3</th>\n      <td>1/7/19</td>\n      <td>1602.310059</td>\n      <td>1634.560059</td>\n      <td>1589.189941</td>\n      <td>1629.510010</td>\n      <td>1629.510010</td>\n      <td>7993200</td>\n    </tr>\n    <tr>\n      <th>4</th>\n      <td>1/8/19</td>\n      <td>1664.689941</td>\n      <td>1676.609985</td>\n      <td>1616.609985</td>\n      <td>1656.579956</td>\n      <td>1656.579956</td>\n      <td>8881400</td>\n    </tr>\n    <tr>\n      <th>5</th>\n      <td>1/9/19</td>\n      <td>1652.979980</td>\n      <td>1667.800049</td>\n      <td>1641.400024</td>\n      <td>1659.420044</td>\n      <td>1659.420044</td>\n      <td>6348800</td>\n    </tr>\n    <tr>\n      <th>6</th>\n      <td>1/10/19</td>\n      <td>1641.010010</td>\n      <td>1663.250000</td>\n      <td>1621.619995</td>\n      <td>1656.219971</td>\n      <td>1656.219971</td>\n      <td>6507700</td>\n    </tr>\n    <tr>\n      <th>7</th>\n      <td>1/11/19</td>\n      <td>1640.550049</td>\n      <td>1660.290039</td>\n      <td>1636.219971</td>\n      <td>1640.560059</td>\n      <td>1640.560059</td>\n      <td>4686200</td>\n    </tr>\n    <tr>\n      <th>8</th>\n      <td>1/14/19</td>\n      <td>1615.000000</td>\n      <td>1648.199951</td>\n      <td>1595.150024</td>\n      <td>1617.209961</td>\n      <td>1617.209961</td>\n      <td>6005900</td>\n    </tr>\n    <tr>\n      <th>9</th>\n      <td>1/15/19</td>\n      <td>1632.000000</td>\n      <td>1675.160034</td>\n      <td>1626.010010</td>\n      <td>1674.560059</td>\n      <td>1674.560059</td>\n      <td>5998500</td>\n    </tr>\n    <tr>\n      <th>10</th>\n      <td>1/16/19</td>\n      <td>1684.219971</td>\n      <td>1705.000000</td>\n      <td>1675.880005</td>\n      <td>1683.780029</td>\n      <td>1683.780029</td>\n      <td>6366900</td>\n    </tr>\n    <tr>\n      <th>11</th>\n      <td>1/17/19</td>\n      <td>1680.000000</td>\n      <td>1700.170044</td>\n      <td>1677.500000</td>\n      <td>1693.219971</td>\n      <td>1693.219971</td>\n      <td>4208900</td>\n    </tr>\n    <tr>\n      <th>12</th>\n      <td>1/18/19</td>\n      <td>1712.000000</td>\n      <td>1716.199951</td>\n      <td>1691.540039</td>\n      <td>1696.199951</td>\n      <td>1696.199951</td>\n      <td>6020500</td>\n    </tr>\n    <tr>\n      <th>13</th>\n      <td>1/22/19</td>\n      <td>1681.000000</td>\n      <td>1681.869995</td>\n      <td>1610.199951</td>\n      <td>1632.170044</td>\n      <td>1632.170044</td>\n      <td>6416800</td>\n    </tr>\n    <tr>\n      <th>14</th>\n      <td>1/23/19</td>\n      <td>1656.000000</td>\n      <td>1657.430054</td>\n      <td>1612.000000</td>\n      <td>1640.020020</td>\n      <td>1640.020020</td>\n      <td>5225200</td>\n    </tr>\n    <tr>\n      <th>15</th>\n      <td>1/24/19</td>\n      <td>1641.069946</td>\n      <td>1657.260010</td>\n      <td>1631.780029</td>\n      <td>1654.930054</td>\n      <td>1654.930054</td>\n      <td>4089900</td>\n    </tr>\n    <tr>\n      <th>16</th>\n      <td>1/25/19</td>\n      <td>1670.500000</td>\n      <td>1683.479980</td>\n      <td>1661.609985</td>\n      <td>1670.569946</td>\n      <td>1670.569946</td>\n      <td>4945900</td>\n    </tr>\n    <tr>\n      <th>17</th>\n      <td>1/28/19</td>\n      <td>1643.589966</td>\n      <td>1645.000000</td>\n      <td>1614.089966</td>\n      <td>1637.890015</td>\n      <td>1637.890015</td>\n      <td>4837700</td>\n    </tr>\n    <tr>\n      <th>18</th>\n      <td>1/29/19</td>\n      <td>1631.270020</td>\n      <td>1632.380005</td>\n      <td>1590.719971</td>\n      <td>1593.880005</td>\n      <td>1593.880005</td>\n      <td>4632800</td>\n    </tr>\n    <tr>\n      <th>19</th>\n      <td>1/30/19</td>\n      <td>1623.000000</td>\n      <td>1676.949951</td>\n      <td>1619.680054</td>\n      <td>1670.430054</td>\n      <td>1670.430054</td>\n      <td>5783800</td>\n    </tr>\n    <tr>\n      <th>20</th>\n      <td>1/31/19</td>\n      <td>1692.849976</td>\n      <td>1736.410034</td>\n      <td>1679.079956</td>\n      <td>1718.729980</td>\n      <td>1718.729980</td>\n      <td>10910300</td>\n    </tr>\n  </tbody>\n</table>\n</div>"
     },
     "metadata": {},
     "execution_count": 11
    }
   ],
   "source": [
    "dataset_test = pd.read_csv('../AMZN_test.csv')\n",
    "dataset_test"
   ]
  },
  {
   "cell_type": "code",
   "execution_count": 12,
   "metadata": {},
   "outputs": [
    {
     "output_type": "execute_result",
     "data": {
      "text/plain": "array([[1465.199951],\n       [1520.01001 ],\n       [1530.      ],\n       [1602.310059],\n       [1664.689941],\n       [1652.97998 ],\n       [1641.01001 ],\n       [1640.550049],\n       [1615.      ],\n       [1632.      ],\n       [1684.219971],\n       [1680.      ],\n       [1712.      ],\n       [1681.      ],\n       [1656.      ],\n       [1641.069946],\n       [1670.5     ],\n       [1643.589966],\n       [1631.27002 ],\n       [1623.      ],\n       [1692.849976]])"
     },
     "metadata": {},
     "execution_count": 12
    }
   ],
   "source": [
    "test_data=dataset_test[['Open']].values\n",
    "test_data"
   ]
  },
  {
   "cell_type": "code",
   "execution_count": 13,
   "metadata": {},
   "outputs": [
    {
     "output_type": "execute_result",
     "data": {
      "text/plain": "0      398.799988\n1      398.290009\n2      395.850006\n3      395.040009\n4      398.470001\n         ...     \n16    1670.500000\n17    1643.589966\n18    1631.270020\n19    1623.000000\n20    1692.849976\nName: Open, Length: 1279, dtype: float64"
     },
     "metadata": {},
     "execution_count": 13
    }
   ],
   "source": [
    "total_data = pd.concat((dataset_training['Open'], dataset_test['Open']), axis=0)\n",
    "total_data"
   ]
  },
  {
   "cell_type": "code",
   "execution_count": 21,
   "metadata": {},
   "outputs": [
    {
     "output_type": "execute_result",
     "data": {
      "text/plain": "(81, 1)"
     },
     "metadata": {},
     "execution_count": 21
    }
   ],
   "source": [
    "inputs = total_data[1279-21-60:].values\n",
    "inputs = inputs.reshape(-1, 1)\n",
    "inputs.shape"
   ]
  },
  {
   "cell_type": "code",
   "execution_count": 25,
   "metadata": {},
   "outputs": [
    {
     "output_type": "execute_result",
     "data": {
      "text/plain": "(21, 60, 1)"
     },
     "metadata": {},
     "execution_count": 25
    }
   ],
   "source": [
    "X_test = []\n",
    "\n",
    "for i in range(60, 81):\n",
    "    X_test.append(inputs[i-60:i, 0])\n",
    "\n",
    "X_test = np.array(X_test)\n",
    "X_test = np.reshape(X_test, (X_test.shape[0], X_test.shape[1], 1))\n",
    "X_test.shape"
   ]
  },
  {
   "cell_type": "code",
   "execution_count": 27,
   "metadata": {},
   "outputs": [
    {
     "output_type": "execute_result",
     "data": {
      "text/plain": "array([[426.6367 ],\n       [426.63782],\n       [426.63864],\n       [426.6389 ],\n       [426.63864],\n       [426.63776],\n       [426.6365 ],\n       [426.63504],\n       [426.63342],\n       [426.6318 ],\n       [426.63034],\n       [426.6288 ],\n       [426.62756],\n       [426.6264 ],\n       [426.6254 ],\n       [426.62463],\n       [426.62405],\n       [426.6236 ],\n       [426.62344],\n       [426.62332],\n       [426.6234 ]], dtype=float32)"
     },
     "metadata": {},
     "execution_count": 27
    }
   ],
   "source": [
    "y_pred = model.predict(X_test)\n",
    "predicted = scaler.inverse_transform(y_pred)\n",
    "predicted"
   ]
  },
  {
   "cell_type": "markdown",
   "metadata": {},
   "source": [
    "### 9. Visualize the results."
   ]
  },
  {
   "cell_type": "code",
   "execution_count": 28,
   "metadata": {},
   "outputs": [],
   "source": [
    "import matplotlib.pyplot as plt"
   ]
  },
  {
   "cell_type": "code",
   "execution_count": 32,
   "metadata": {},
   "outputs": [
    {
     "output_type": "execute_result",
     "data": {
      "text/plain": "<function matplotlib.pyplot.show(*args, **kw)>"
     },
     "metadata": {},
     "execution_count": 32
    },
    {
     "output_type": "display_data",
     "data": {
      "text/plain": "<Figure size 432x288 with 1 Axes>",
      "image/svg+xml": "<?xml version=\"1.0\" encoding=\"utf-8\" standalone=\"no\"?>\r\n<!DOCTYPE svg PUBLIC \"-//W3C//DTD SVG 1.1//EN\"\r\n  \"http://www.w3.org/Graphics/SVG/1.1/DTD/svg11.dtd\">\r\n<!-- Created with matplotlib (https://matplotlib.org/) -->\r\n<svg height=\"277.314375pt\" version=\"1.1\" viewBox=\"0 0 395.328125 277.314375\" width=\"395.328125pt\" xmlns=\"http://www.w3.org/2000/svg\" xmlns:xlink=\"http://www.w3.org/1999/xlink\">\r\n <defs>\r\n  <style type=\"text/css\">\r\n*{stroke-linecap:butt;stroke-linejoin:round;}\r\n  </style>\r\n </defs>\r\n <g id=\"figure_1\">\r\n  <g id=\"patch_1\">\r\n   <path d=\"M 0 277.314375 \r\nL 395.328125 277.314375 \r\nL 395.328125 0 \r\nL 0 0 \r\nz\r\n\" style=\"fill:none;\"/>\r\n  </g>\r\n  <g id=\"axes_1\">\r\n   <g id=\"patch_2\">\r\n    <path d=\"M 53.328125 239.758125 \r\nL 388.128125 239.758125 \r\nL 388.128125 22.318125 \r\nL 53.328125 22.318125 \r\nz\r\n\" style=\"fill:#ffffff;\"/>\r\n   </g>\r\n   <g id=\"matplotlib.axis_1\">\r\n    <g id=\"xtick_1\">\r\n     <g id=\"line2d_1\">\r\n      <defs>\r\n       <path d=\"M 0 0 \r\nL 0 3.5 \r\n\" id=\"m2044ef48f4\" style=\"stroke:#000000;stroke-width:0.8;\"/>\r\n      </defs>\r\n      <g>\r\n       <use style=\"stroke:#000000;stroke-width:0.8;\" x=\"68.546307\" xlink:href=\"#m2044ef48f4\" y=\"239.758125\"/>\r\n      </g>\r\n     </g>\r\n     <g id=\"text_1\">\r\n      <!-- 0.0 -->\r\n      <defs>\r\n       <path d=\"M 31.78125 66.40625 \r\nQ 24.171875 66.40625 20.328125 58.90625 \r\nQ 16.5 51.421875 16.5 36.375 \r\nQ 16.5 21.390625 20.328125 13.890625 \r\nQ 24.171875 6.390625 31.78125 6.390625 \r\nQ 39.453125 6.390625 43.28125 13.890625 \r\nQ 47.125 21.390625 47.125 36.375 \r\nQ 47.125 51.421875 43.28125 58.90625 \r\nQ 39.453125 66.40625 31.78125 66.40625 \r\nz\r\nM 31.78125 74.21875 \r\nQ 44.046875 74.21875 50.515625 64.515625 \r\nQ 56.984375 54.828125 56.984375 36.375 \r\nQ 56.984375 17.96875 50.515625 8.265625 \r\nQ 44.046875 -1.421875 31.78125 -1.421875 \r\nQ 19.53125 -1.421875 13.0625 8.265625 \r\nQ 6.59375 17.96875 6.59375 36.375 \r\nQ 6.59375 54.828125 13.0625 64.515625 \r\nQ 19.53125 74.21875 31.78125 74.21875 \r\nz\r\n\" id=\"DejaVuSans-48\"/>\r\n       <path d=\"M 10.6875 12.40625 \r\nL 21 12.40625 \r\nL 21 0 \r\nL 10.6875 0 \r\nz\r\n\" id=\"DejaVuSans-46\"/>\r\n      </defs>\r\n      <g transform=\"translate(60.594744 254.356562)scale(0.1 -0.1)\">\r\n       <use xlink:href=\"#DejaVuSans-48\"/>\r\n       <use x=\"63.623047\" xlink:href=\"#DejaVuSans-46\"/>\r\n       <use x=\"95.410156\" xlink:href=\"#DejaVuSans-48\"/>\r\n      </g>\r\n     </g>\r\n    </g>\r\n    <g id=\"xtick_2\">\r\n     <g id=\"line2d_2\">\r\n      <g>\r\n       <use style=\"stroke:#000000;stroke-width:0.8;\" x=\"106.591761\" xlink:href=\"#m2044ef48f4\" y=\"239.758125\"/>\r\n      </g>\r\n     </g>\r\n     <g id=\"text_2\">\r\n      <!-- 2.5 -->\r\n      <defs>\r\n       <path d=\"M 19.1875 8.296875 \r\nL 53.609375 8.296875 \r\nL 53.609375 0 \r\nL 7.328125 0 \r\nL 7.328125 8.296875 \r\nQ 12.9375 14.109375 22.625 23.890625 \r\nQ 32.328125 33.6875 34.8125 36.53125 \r\nQ 39.546875 41.84375 41.421875 45.53125 \r\nQ 43.3125 49.21875 43.3125 52.78125 \r\nQ 43.3125 58.59375 39.234375 62.25 \r\nQ 35.15625 65.921875 28.609375 65.921875 \r\nQ 23.96875 65.921875 18.8125 64.3125 \r\nQ 13.671875 62.703125 7.8125 59.421875 \r\nL 7.8125 69.390625 \r\nQ 13.765625 71.78125 18.9375 73 \r\nQ 24.125 74.21875 28.421875 74.21875 \r\nQ 39.75 74.21875 46.484375 68.546875 \r\nQ 53.21875 62.890625 53.21875 53.421875 \r\nQ 53.21875 48.921875 51.53125 44.890625 \r\nQ 49.859375 40.875 45.40625 35.40625 \r\nQ 44.1875 33.984375 37.640625 27.21875 \r\nQ 31.109375 20.453125 19.1875 8.296875 \r\nz\r\n\" id=\"DejaVuSans-50\"/>\r\n       <path d=\"M 10.796875 72.90625 \r\nL 49.515625 72.90625 \r\nL 49.515625 64.59375 \r\nL 19.828125 64.59375 \r\nL 19.828125 46.734375 \r\nQ 21.96875 47.46875 24.109375 47.828125 \r\nQ 26.265625 48.1875 28.421875 48.1875 \r\nQ 40.625 48.1875 47.75 41.5 \r\nQ 54.890625 34.8125 54.890625 23.390625 \r\nQ 54.890625 11.625 47.5625 5.09375 \r\nQ 40.234375 -1.421875 26.90625 -1.421875 \r\nQ 22.3125 -1.421875 17.546875 -0.640625 \r\nQ 12.796875 0.140625 7.71875 1.703125 \r\nL 7.71875 11.625 \r\nQ 12.109375 9.234375 16.796875 8.0625 \r\nQ 21.484375 6.890625 26.703125 6.890625 \r\nQ 35.15625 6.890625 40.078125 11.328125 \r\nQ 45.015625 15.765625 45.015625 23.390625 \r\nQ 45.015625 31 40.078125 35.4375 \r\nQ 35.15625 39.890625 26.703125 39.890625 \r\nQ 22.75 39.890625 18.8125 39.015625 \r\nQ 14.890625 38.140625 10.796875 36.28125 \r\nz\r\n\" id=\"DejaVuSans-53\"/>\r\n      </defs>\r\n      <g transform=\"translate(98.640199 254.356562)scale(0.1 -0.1)\">\r\n       <use xlink:href=\"#DejaVuSans-50\"/>\r\n       <use x=\"63.623047\" xlink:href=\"#DejaVuSans-46\"/>\r\n       <use x=\"95.410156\" xlink:href=\"#DejaVuSans-53\"/>\r\n      </g>\r\n     </g>\r\n    </g>\r\n    <g id=\"xtick_3\">\r\n     <g id=\"line2d_3\">\r\n      <g>\r\n       <use style=\"stroke:#000000;stroke-width:0.8;\" x=\"144.637216\" xlink:href=\"#m2044ef48f4\" y=\"239.758125\"/>\r\n      </g>\r\n     </g>\r\n     <g id=\"text_3\">\r\n      <!-- 5.0 -->\r\n      <g transform=\"translate(136.685653 254.356562)scale(0.1 -0.1)\">\r\n       <use xlink:href=\"#DejaVuSans-53\"/>\r\n       <use x=\"63.623047\" xlink:href=\"#DejaVuSans-46\"/>\r\n       <use x=\"95.410156\" xlink:href=\"#DejaVuSans-48\"/>\r\n      </g>\r\n     </g>\r\n    </g>\r\n    <g id=\"xtick_4\">\r\n     <g id=\"line2d_4\">\r\n      <g>\r\n       <use style=\"stroke:#000000;stroke-width:0.8;\" x=\"182.68267\" xlink:href=\"#m2044ef48f4\" y=\"239.758125\"/>\r\n      </g>\r\n     </g>\r\n     <g id=\"text_4\">\r\n      <!-- 7.5 -->\r\n      <defs>\r\n       <path d=\"M 8.203125 72.90625 \r\nL 55.078125 72.90625 \r\nL 55.078125 68.703125 \r\nL 28.609375 0 \r\nL 18.3125 0 \r\nL 43.21875 64.59375 \r\nL 8.203125 64.59375 \r\nz\r\n\" id=\"DejaVuSans-55\"/>\r\n      </defs>\r\n      <g transform=\"translate(174.731108 254.356562)scale(0.1 -0.1)\">\r\n       <use xlink:href=\"#DejaVuSans-55\"/>\r\n       <use x=\"63.623047\" xlink:href=\"#DejaVuSans-46\"/>\r\n       <use x=\"95.410156\" xlink:href=\"#DejaVuSans-53\"/>\r\n      </g>\r\n     </g>\r\n    </g>\r\n    <g id=\"xtick_5\">\r\n     <g id=\"line2d_5\">\r\n      <g>\r\n       <use style=\"stroke:#000000;stroke-width:0.8;\" x=\"220.728125\" xlink:href=\"#m2044ef48f4\" y=\"239.758125\"/>\r\n      </g>\r\n     </g>\r\n     <g id=\"text_5\">\r\n      <!-- 10.0 -->\r\n      <defs>\r\n       <path d=\"M 12.40625 8.296875 \r\nL 28.515625 8.296875 \r\nL 28.515625 63.921875 \r\nL 10.984375 60.40625 \r\nL 10.984375 69.390625 \r\nL 28.421875 72.90625 \r\nL 38.28125 72.90625 \r\nL 38.28125 8.296875 \r\nL 54.390625 8.296875 \r\nL 54.390625 0 \r\nL 12.40625 0 \r\nz\r\n\" id=\"DejaVuSans-49\"/>\r\n      </defs>\r\n      <g transform=\"translate(209.595313 254.356562)scale(0.1 -0.1)\">\r\n       <use xlink:href=\"#DejaVuSans-49\"/>\r\n       <use x=\"63.623047\" xlink:href=\"#DejaVuSans-48\"/>\r\n       <use x=\"127.246094\" xlink:href=\"#DejaVuSans-46\"/>\r\n       <use x=\"159.033203\" xlink:href=\"#DejaVuSans-48\"/>\r\n      </g>\r\n     </g>\r\n    </g>\r\n    <g id=\"xtick_6\">\r\n     <g id=\"line2d_6\">\r\n      <g>\r\n       <use style=\"stroke:#000000;stroke-width:0.8;\" x=\"258.77358\" xlink:href=\"#m2044ef48f4\" y=\"239.758125\"/>\r\n      </g>\r\n     </g>\r\n     <g id=\"text_6\">\r\n      <!-- 12.5 -->\r\n      <g transform=\"translate(247.640767 254.356562)scale(0.1 -0.1)\">\r\n       <use xlink:href=\"#DejaVuSans-49\"/>\r\n       <use x=\"63.623047\" xlink:href=\"#DejaVuSans-50\"/>\r\n       <use x=\"127.246094\" xlink:href=\"#DejaVuSans-46\"/>\r\n       <use x=\"159.033203\" xlink:href=\"#DejaVuSans-53\"/>\r\n      </g>\r\n     </g>\r\n    </g>\r\n    <g id=\"xtick_7\">\r\n     <g id=\"line2d_7\">\r\n      <g>\r\n       <use style=\"stroke:#000000;stroke-width:0.8;\" x=\"296.819034\" xlink:href=\"#m2044ef48f4\" y=\"239.758125\"/>\r\n      </g>\r\n     </g>\r\n     <g id=\"text_7\">\r\n      <!-- 15.0 -->\r\n      <g transform=\"translate(285.686222 254.356562)scale(0.1 -0.1)\">\r\n       <use xlink:href=\"#DejaVuSans-49\"/>\r\n       <use x=\"63.623047\" xlink:href=\"#DejaVuSans-53\"/>\r\n       <use x=\"127.246094\" xlink:href=\"#DejaVuSans-46\"/>\r\n       <use x=\"159.033203\" xlink:href=\"#DejaVuSans-48\"/>\r\n      </g>\r\n     </g>\r\n    </g>\r\n    <g id=\"xtick_8\">\r\n     <g id=\"line2d_8\">\r\n      <g>\r\n       <use style=\"stroke:#000000;stroke-width:0.8;\" x=\"334.864489\" xlink:href=\"#m2044ef48f4\" y=\"239.758125\"/>\r\n      </g>\r\n     </g>\r\n     <g id=\"text_8\">\r\n      <!-- 17.5 -->\r\n      <g transform=\"translate(323.731676 254.356562)scale(0.1 -0.1)\">\r\n       <use xlink:href=\"#DejaVuSans-49\"/>\r\n       <use x=\"63.623047\" xlink:href=\"#DejaVuSans-55\"/>\r\n       <use x=\"127.246094\" xlink:href=\"#DejaVuSans-46\"/>\r\n       <use x=\"159.033203\" xlink:href=\"#DejaVuSans-53\"/>\r\n      </g>\r\n     </g>\r\n    </g>\r\n    <g id=\"xtick_9\">\r\n     <g id=\"line2d_9\">\r\n      <g>\r\n       <use style=\"stroke:#000000;stroke-width:0.8;\" x=\"372.909943\" xlink:href=\"#m2044ef48f4\" y=\"239.758125\"/>\r\n      </g>\r\n     </g>\r\n     <g id=\"text_9\">\r\n      <!-- 20.0 -->\r\n      <g transform=\"translate(361.777131 254.356562)scale(0.1 -0.1)\">\r\n       <use xlink:href=\"#DejaVuSans-50\"/>\r\n       <use x=\"63.623047\" xlink:href=\"#DejaVuSans-48\"/>\r\n       <use x=\"127.246094\" xlink:href=\"#DejaVuSans-46\"/>\r\n       <use x=\"159.033203\" xlink:href=\"#DejaVuSans-48\"/>\r\n      </g>\r\n     </g>\r\n    </g>\r\n    <g id=\"text_10\">\r\n     <!-- time (days) -->\r\n     <defs>\r\n      <path d=\"M 18.3125 70.21875 \r\nL 18.3125 54.6875 \r\nL 36.8125 54.6875 \r\nL 36.8125 47.703125 \r\nL 18.3125 47.703125 \r\nL 18.3125 18.015625 \r\nQ 18.3125 11.328125 20.140625 9.421875 \r\nQ 21.96875 7.515625 27.59375 7.515625 \r\nL 36.8125 7.515625 \r\nL 36.8125 0 \r\nL 27.59375 0 \r\nQ 17.1875 0 13.234375 3.875 \r\nQ 9.28125 7.765625 9.28125 18.015625 \r\nL 9.28125 47.703125 \r\nL 2.6875 47.703125 \r\nL 2.6875 54.6875 \r\nL 9.28125 54.6875 \r\nL 9.28125 70.21875 \r\nz\r\n\" id=\"DejaVuSans-116\"/>\r\n      <path d=\"M 9.421875 54.6875 \r\nL 18.40625 54.6875 \r\nL 18.40625 0 \r\nL 9.421875 0 \r\nz\r\nM 9.421875 75.984375 \r\nL 18.40625 75.984375 \r\nL 18.40625 64.59375 \r\nL 9.421875 64.59375 \r\nz\r\n\" id=\"DejaVuSans-105\"/>\r\n      <path d=\"M 52 44.1875 \r\nQ 55.375 50.25 60.0625 53.125 \r\nQ 64.75 56 71.09375 56 \r\nQ 79.640625 56 84.28125 50.015625 \r\nQ 88.921875 44.046875 88.921875 33.015625 \r\nL 88.921875 0 \r\nL 79.890625 0 \r\nL 79.890625 32.71875 \r\nQ 79.890625 40.578125 77.09375 44.375 \r\nQ 74.3125 48.1875 68.609375 48.1875 \r\nQ 61.625 48.1875 57.5625 43.546875 \r\nQ 53.515625 38.921875 53.515625 30.90625 \r\nL 53.515625 0 \r\nL 44.484375 0 \r\nL 44.484375 32.71875 \r\nQ 44.484375 40.625 41.703125 44.40625 \r\nQ 38.921875 48.1875 33.109375 48.1875 \r\nQ 26.21875 48.1875 22.15625 43.53125 \r\nQ 18.109375 38.875 18.109375 30.90625 \r\nL 18.109375 0 \r\nL 9.078125 0 \r\nL 9.078125 54.6875 \r\nL 18.109375 54.6875 \r\nL 18.109375 46.1875 \r\nQ 21.1875 51.21875 25.484375 53.609375 \r\nQ 29.78125 56 35.6875 56 \r\nQ 41.65625 56 45.828125 52.96875 \r\nQ 50 49.953125 52 44.1875 \r\nz\r\n\" id=\"DejaVuSans-109\"/>\r\n      <path d=\"M 56.203125 29.59375 \r\nL 56.203125 25.203125 \r\nL 14.890625 25.203125 \r\nQ 15.484375 15.921875 20.484375 11.0625 \r\nQ 25.484375 6.203125 34.421875 6.203125 \r\nQ 39.59375 6.203125 44.453125 7.46875 \r\nQ 49.3125 8.734375 54.109375 11.28125 \r\nL 54.109375 2.78125 \r\nQ 49.265625 0.734375 44.1875 -0.34375 \r\nQ 39.109375 -1.421875 33.890625 -1.421875 \r\nQ 20.796875 -1.421875 13.15625 6.1875 \r\nQ 5.515625 13.8125 5.515625 26.8125 \r\nQ 5.515625 40.234375 12.765625 48.109375 \r\nQ 20.015625 56 32.328125 56 \r\nQ 43.359375 56 49.78125 48.890625 \r\nQ 56.203125 41.796875 56.203125 29.59375 \r\nz\r\nM 47.21875 32.234375 \r\nQ 47.125 39.59375 43.09375 43.984375 \r\nQ 39.0625 48.390625 32.421875 48.390625 \r\nQ 24.90625 48.390625 20.390625 44.140625 \r\nQ 15.875 39.890625 15.1875 32.171875 \r\nz\r\n\" id=\"DejaVuSans-101\"/>\r\n      <path id=\"DejaVuSans-32\"/>\r\n      <path d=\"M 31 75.875 \r\nQ 24.46875 64.65625 21.28125 53.65625 \r\nQ 18.109375 42.671875 18.109375 31.390625 \r\nQ 18.109375 20.125 21.3125 9.0625 \r\nQ 24.515625 -2 31 -13.1875 \r\nL 23.1875 -13.1875 \r\nQ 15.875 -1.703125 12.234375 9.375 \r\nQ 8.59375 20.453125 8.59375 31.390625 \r\nQ 8.59375 42.28125 12.203125 53.3125 \r\nQ 15.828125 64.359375 23.1875 75.875 \r\nz\r\n\" id=\"DejaVuSans-40\"/>\r\n      <path d=\"M 45.40625 46.390625 \r\nL 45.40625 75.984375 \r\nL 54.390625 75.984375 \r\nL 54.390625 0 \r\nL 45.40625 0 \r\nL 45.40625 8.203125 \r\nQ 42.578125 3.328125 38.25 0.953125 \r\nQ 33.9375 -1.421875 27.875 -1.421875 \r\nQ 17.96875 -1.421875 11.734375 6.484375 \r\nQ 5.515625 14.40625 5.515625 27.296875 \r\nQ 5.515625 40.1875 11.734375 48.09375 \r\nQ 17.96875 56 27.875 56 \r\nQ 33.9375 56 38.25 53.625 \r\nQ 42.578125 51.265625 45.40625 46.390625 \r\nz\r\nM 14.796875 27.296875 \r\nQ 14.796875 17.390625 18.875 11.75 \r\nQ 22.953125 6.109375 30.078125 6.109375 \r\nQ 37.203125 6.109375 41.296875 11.75 \r\nQ 45.40625 17.390625 45.40625 27.296875 \r\nQ 45.40625 37.203125 41.296875 42.84375 \r\nQ 37.203125 48.484375 30.078125 48.484375 \r\nQ 22.953125 48.484375 18.875 42.84375 \r\nQ 14.796875 37.203125 14.796875 27.296875 \r\nz\r\n\" id=\"DejaVuSans-100\"/>\r\n      <path d=\"M 34.28125 27.484375 \r\nQ 23.390625 27.484375 19.1875 25 \r\nQ 14.984375 22.515625 14.984375 16.5 \r\nQ 14.984375 11.71875 18.140625 8.90625 \r\nQ 21.296875 6.109375 26.703125 6.109375 \r\nQ 34.1875 6.109375 38.703125 11.40625 \r\nQ 43.21875 16.703125 43.21875 25.484375 \r\nL 43.21875 27.484375 \r\nz\r\nM 52.203125 31.203125 \r\nL 52.203125 0 \r\nL 43.21875 0 \r\nL 43.21875 8.296875 \r\nQ 40.140625 3.328125 35.546875 0.953125 \r\nQ 30.953125 -1.421875 24.3125 -1.421875 \r\nQ 15.921875 -1.421875 10.953125 3.296875 \r\nQ 6 8.015625 6 15.921875 \r\nQ 6 25.140625 12.171875 29.828125 \r\nQ 18.359375 34.515625 30.609375 34.515625 \r\nL 43.21875 34.515625 \r\nL 43.21875 35.40625 \r\nQ 43.21875 41.609375 39.140625 45 \r\nQ 35.0625 48.390625 27.6875 48.390625 \r\nQ 23 48.390625 18.546875 47.265625 \r\nQ 14.109375 46.140625 10.015625 43.890625 \r\nL 10.015625 52.203125 \r\nQ 14.9375 54.109375 19.578125 55.046875 \r\nQ 24.21875 56 28.609375 56 \r\nQ 40.484375 56 46.34375 49.84375 \r\nQ 52.203125 43.703125 52.203125 31.203125 \r\nz\r\n\" id=\"DejaVuSans-97\"/>\r\n      <path d=\"M 32.171875 -5.078125 \r\nQ 28.375 -14.84375 24.75 -17.8125 \r\nQ 21.140625 -20.796875 15.09375 -20.796875 \r\nL 7.90625 -20.796875 \r\nL 7.90625 -13.28125 \r\nL 13.1875 -13.28125 \r\nQ 16.890625 -13.28125 18.9375 -11.515625 \r\nQ 21 -9.765625 23.484375 -3.21875 \r\nL 25.09375 0.875 \r\nL 2.984375 54.6875 \r\nL 12.5 54.6875 \r\nL 29.59375 11.921875 \r\nL 46.6875 54.6875 \r\nL 56.203125 54.6875 \r\nz\r\n\" id=\"DejaVuSans-121\"/>\r\n      <path d=\"M 44.28125 53.078125 \r\nL 44.28125 44.578125 \r\nQ 40.484375 46.53125 36.375 47.5 \r\nQ 32.28125 48.484375 27.875 48.484375 \r\nQ 21.1875 48.484375 17.84375 46.4375 \r\nQ 14.5 44.390625 14.5 40.28125 \r\nQ 14.5 37.15625 16.890625 35.375 \r\nQ 19.28125 33.59375 26.515625 31.984375 \r\nL 29.59375 31.296875 \r\nQ 39.15625 29.25 43.1875 25.515625 \r\nQ 47.21875 21.78125 47.21875 15.09375 \r\nQ 47.21875 7.46875 41.1875 3.015625 \r\nQ 35.15625 -1.421875 24.609375 -1.421875 \r\nQ 20.21875 -1.421875 15.453125 -0.5625 \r\nQ 10.6875 0.296875 5.421875 2 \r\nL 5.421875 11.28125 \r\nQ 10.40625 8.6875 15.234375 7.390625 \r\nQ 20.0625 6.109375 24.8125 6.109375 \r\nQ 31.15625 6.109375 34.5625 8.28125 \r\nQ 37.984375 10.453125 37.984375 14.40625 \r\nQ 37.984375 18.0625 35.515625 20.015625 \r\nQ 33.0625 21.96875 24.703125 23.78125 \r\nL 21.578125 24.515625 \r\nQ 13.234375 26.265625 9.515625 29.90625 \r\nQ 5.8125 33.546875 5.8125 39.890625 \r\nQ 5.8125 47.609375 11.28125 51.796875 \r\nQ 16.75 56 26.8125 56 \r\nQ 31.78125 56 36.171875 55.265625 \r\nQ 40.578125 54.546875 44.28125 53.078125 \r\nz\r\n\" id=\"DejaVuSans-115\"/>\r\n      <path d=\"M 8.015625 75.875 \r\nL 15.828125 75.875 \r\nQ 23.140625 64.359375 26.78125 53.3125 \r\nQ 30.421875 42.28125 30.421875 31.390625 \r\nQ 30.421875 20.453125 26.78125 9.375 \r\nQ 23.140625 -1.703125 15.828125 -13.1875 \r\nL 8.015625 -13.1875 \r\nQ 14.5 -2 17.703125 9.0625 \r\nQ 20.90625 20.125 20.90625 31.390625 \r\nQ 20.90625 42.671875 17.703125 53.65625 \r\nQ 14.5 64.65625 8.015625 75.875 \r\nz\r\n\" id=\"DejaVuSans-41\"/>\r\n     </defs>\r\n     <g transform=\"translate(192.139062 268.034687)scale(0.1 -0.1)\">\r\n      <use xlink:href=\"#DejaVuSans-116\"/>\r\n      <use x=\"39.208984\" xlink:href=\"#DejaVuSans-105\"/>\r\n      <use x=\"66.992188\" xlink:href=\"#DejaVuSans-109\"/>\r\n      <use x=\"164.404297\" xlink:href=\"#DejaVuSans-101\"/>\r\n      <use x=\"225.927734\" xlink:href=\"#DejaVuSans-32\"/>\r\n      <use x=\"257.714844\" xlink:href=\"#DejaVuSans-40\"/>\r\n      <use x=\"296.728516\" xlink:href=\"#DejaVuSans-100\"/>\r\n      <use x=\"360.205078\" xlink:href=\"#DejaVuSans-97\"/>\r\n      <use x=\"421.484375\" xlink:href=\"#DejaVuSans-121\"/>\r\n      <use x=\"480.664062\" xlink:href=\"#DejaVuSans-115\"/>\r\n      <use x=\"532.763672\" xlink:href=\"#DejaVuSans-41\"/>\r\n     </g>\r\n    </g>\r\n   </g>\r\n   <g id=\"matplotlib.axis_2\">\r\n    <g id=\"ytick_1\">\r\n     <g id=\"line2d_10\">\r\n      <defs>\r\n       <path d=\"M 0 0 \r\nL -3.5 0 \r\n\" id=\"ma68349338e\" style=\"stroke:#000000;stroke-width:0.8;\"/>\r\n      </defs>\r\n      <g>\r\n       <use style=\"stroke:#000000;stroke-width:0.8;\" x=\"53.328125\" xlink:href=\"#ma68349338e\" y=\"233.968778\"/>\r\n      </g>\r\n     </g>\r\n     <g id=\"text_11\">\r\n      <!-- 400 -->\r\n      <defs>\r\n       <path d=\"M 37.796875 64.3125 \r\nL 12.890625 25.390625 \r\nL 37.796875 25.390625 \r\nz\r\nM 35.203125 72.90625 \r\nL 47.609375 72.90625 \r\nL 47.609375 25.390625 \r\nL 58.015625 25.390625 \r\nL 58.015625 17.1875 \r\nL 47.609375 17.1875 \r\nL 47.609375 0 \r\nL 37.796875 0 \r\nL 37.796875 17.1875 \r\nL 4.890625 17.1875 \r\nL 4.890625 26.703125 \r\nz\r\n\" id=\"DejaVuSans-52\"/>\r\n      </defs>\r\n      <g transform=\"translate(27.240625 237.767997)scale(0.1 -0.1)\">\r\n       <use xlink:href=\"#DejaVuSans-52\"/>\r\n       <use x=\"63.623047\" xlink:href=\"#DejaVuSans-48\"/>\r\n       <use x=\"127.246094\" xlink:href=\"#DejaVuSans-48\"/>\r\n      </g>\r\n     </g>\r\n    </g>\r\n    <g id=\"ytick_2\">\r\n     <g id=\"line2d_11\">\r\n      <g>\r\n       <use style=\"stroke:#000000;stroke-width:0.8;\" x=\"53.328125\" xlink:href=\"#ma68349338e\" y=\"203.211611\"/>\r\n      </g>\r\n     </g>\r\n     <g id=\"text_12\">\r\n      <!-- 600 -->\r\n      <defs>\r\n       <path d=\"M 33.015625 40.375 \r\nQ 26.375 40.375 22.484375 35.828125 \r\nQ 18.609375 31.296875 18.609375 23.390625 \r\nQ 18.609375 15.53125 22.484375 10.953125 \r\nQ 26.375 6.390625 33.015625 6.390625 \r\nQ 39.65625 6.390625 43.53125 10.953125 \r\nQ 47.40625 15.53125 47.40625 23.390625 \r\nQ 47.40625 31.296875 43.53125 35.828125 \r\nQ 39.65625 40.375 33.015625 40.375 \r\nz\r\nM 52.59375 71.296875 \r\nL 52.59375 62.3125 \r\nQ 48.875 64.0625 45.09375 64.984375 \r\nQ 41.3125 65.921875 37.59375 65.921875 \r\nQ 27.828125 65.921875 22.671875 59.328125 \r\nQ 17.53125 52.734375 16.796875 39.40625 \r\nQ 19.671875 43.65625 24.015625 45.921875 \r\nQ 28.375 48.1875 33.59375 48.1875 \r\nQ 44.578125 48.1875 50.953125 41.515625 \r\nQ 57.328125 34.859375 57.328125 23.390625 \r\nQ 57.328125 12.15625 50.6875 5.359375 \r\nQ 44.046875 -1.421875 33.015625 -1.421875 \r\nQ 20.359375 -1.421875 13.671875 8.265625 \r\nQ 6.984375 17.96875 6.984375 36.375 \r\nQ 6.984375 53.65625 15.1875 63.9375 \r\nQ 23.390625 74.21875 37.203125 74.21875 \r\nQ 40.921875 74.21875 44.703125 73.484375 \r\nQ 48.484375 72.75 52.59375 71.296875 \r\nz\r\n\" id=\"DejaVuSans-54\"/>\r\n      </defs>\r\n      <g transform=\"translate(27.240625 207.01083)scale(0.1 -0.1)\">\r\n       <use xlink:href=\"#DejaVuSans-54\"/>\r\n       <use x=\"63.623047\" xlink:href=\"#DejaVuSans-48\"/>\r\n       <use x=\"127.246094\" xlink:href=\"#DejaVuSans-48\"/>\r\n      </g>\r\n     </g>\r\n    </g>\r\n    <g id=\"ytick_3\">\r\n     <g id=\"line2d_12\">\r\n      <g>\r\n       <use style=\"stroke:#000000;stroke-width:0.8;\" x=\"53.328125\" xlink:href=\"#ma68349338e\" y=\"172.454444\"/>\r\n      </g>\r\n     </g>\r\n     <g id=\"text_13\">\r\n      <!-- 800 -->\r\n      <defs>\r\n       <path d=\"M 31.78125 34.625 \r\nQ 24.75 34.625 20.71875 30.859375 \r\nQ 16.703125 27.09375 16.703125 20.515625 \r\nQ 16.703125 13.921875 20.71875 10.15625 \r\nQ 24.75 6.390625 31.78125 6.390625 \r\nQ 38.8125 6.390625 42.859375 10.171875 \r\nQ 46.921875 13.96875 46.921875 20.515625 \r\nQ 46.921875 27.09375 42.890625 30.859375 \r\nQ 38.875 34.625 31.78125 34.625 \r\nz\r\nM 21.921875 38.8125 \r\nQ 15.578125 40.375 12.03125 44.71875 \r\nQ 8.5 49.078125 8.5 55.328125 \r\nQ 8.5 64.0625 14.71875 69.140625 \r\nQ 20.953125 74.21875 31.78125 74.21875 \r\nQ 42.671875 74.21875 48.875 69.140625 \r\nQ 55.078125 64.0625 55.078125 55.328125 \r\nQ 55.078125 49.078125 51.53125 44.71875 \r\nQ 48 40.375 41.703125 38.8125 \r\nQ 48.828125 37.15625 52.796875 32.3125 \r\nQ 56.78125 27.484375 56.78125 20.515625 \r\nQ 56.78125 9.90625 50.3125 4.234375 \r\nQ 43.84375 -1.421875 31.78125 -1.421875 \r\nQ 19.734375 -1.421875 13.25 4.234375 \r\nQ 6.78125 9.90625 6.78125 20.515625 \r\nQ 6.78125 27.484375 10.78125 32.3125 \r\nQ 14.796875 37.15625 21.921875 38.8125 \r\nz\r\nM 18.3125 54.390625 \r\nQ 18.3125 48.734375 21.84375 45.5625 \r\nQ 25.390625 42.390625 31.78125 42.390625 \r\nQ 38.140625 42.390625 41.71875 45.5625 \r\nQ 45.3125 48.734375 45.3125 54.390625 \r\nQ 45.3125 60.0625 41.71875 63.234375 \r\nQ 38.140625 66.40625 31.78125 66.40625 \r\nQ 25.390625 66.40625 21.84375 63.234375 \r\nQ 18.3125 60.0625 18.3125 54.390625 \r\nz\r\n\" id=\"DejaVuSans-56\"/>\r\n      </defs>\r\n      <g transform=\"translate(27.240625 176.253663)scale(0.1 -0.1)\">\r\n       <use xlink:href=\"#DejaVuSans-56\"/>\r\n       <use x=\"63.623047\" xlink:href=\"#DejaVuSans-48\"/>\r\n       <use x=\"127.246094\" xlink:href=\"#DejaVuSans-48\"/>\r\n      </g>\r\n     </g>\r\n    </g>\r\n    <g id=\"ytick_4\">\r\n     <g id=\"line2d_13\">\r\n      <g>\r\n       <use style=\"stroke:#000000;stroke-width:0.8;\" x=\"53.328125\" xlink:href=\"#ma68349338e\" y=\"141.697277\"/>\r\n      </g>\r\n     </g>\r\n     <g id=\"text_14\">\r\n      <!-- 1000 -->\r\n      <g transform=\"translate(20.878125 145.496495)scale(0.1 -0.1)\">\r\n       <use xlink:href=\"#DejaVuSans-49\"/>\r\n       <use x=\"63.623047\" xlink:href=\"#DejaVuSans-48\"/>\r\n       <use x=\"127.246094\" xlink:href=\"#DejaVuSans-48\"/>\r\n       <use x=\"190.869141\" xlink:href=\"#DejaVuSans-48\"/>\r\n      </g>\r\n     </g>\r\n    </g>\r\n    <g id=\"ytick_5\">\r\n     <g id=\"line2d_14\">\r\n      <g>\r\n       <use style=\"stroke:#000000;stroke-width:0.8;\" x=\"53.328125\" xlink:href=\"#ma68349338e\" y=\"110.940109\"/>\r\n      </g>\r\n     </g>\r\n     <g id=\"text_15\">\r\n      <!-- 1200 -->\r\n      <g transform=\"translate(20.878125 114.739328)scale(0.1 -0.1)\">\r\n       <use xlink:href=\"#DejaVuSans-49\"/>\r\n       <use x=\"63.623047\" xlink:href=\"#DejaVuSans-50\"/>\r\n       <use x=\"127.246094\" xlink:href=\"#DejaVuSans-48\"/>\r\n       <use x=\"190.869141\" xlink:href=\"#DejaVuSans-48\"/>\r\n      </g>\r\n     </g>\r\n    </g>\r\n    <g id=\"ytick_6\">\r\n     <g id=\"line2d_15\">\r\n      <g>\r\n       <use style=\"stroke:#000000;stroke-width:0.8;\" x=\"53.328125\" xlink:href=\"#ma68349338e\" y=\"80.182942\"/>\r\n      </g>\r\n     </g>\r\n     <g id=\"text_16\">\r\n      <!-- 1400 -->\r\n      <g transform=\"translate(20.878125 83.982161)scale(0.1 -0.1)\">\r\n       <use xlink:href=\"#DejaVuSans-49\"/>\r\n       <use x=\"63.623047\" xlink:href=\"#DejaVuSans-52\"/>\r\n       <use x=\"127.246094\" xlink:href=\"#DejaVuSans-48\"/>\r\n       <use x=\"190.869141\" xlink:href=\"#DejaVuSans-48\"/>\r\n      </g>\r\n     </g>\r\n    </g>\r\n    <g id=\"ytick_7\">\r\n     <g id=\"line2d_16\">\r\n      <g>\r\n       <use style=\"stroke:#000000;stroke-width:0.8;\" x=\"53.328125\" xlink:href=\"#ma68349338e\" y=\"49.425775\"/>\r\n      </g>\r\n     </g>\r\n     <g id=\"text_17\">\r\n      <!-- 1600 -->\r\n      <g transform=\"translate(20.878125 53.224994)scale(0.1 -0.1)\">\r\n       <use xlink:href=\"#DejaVuSans-49\"/>\r\n       <use x=\"63.623047\" xlink:href=\"#DejaVuSans-54\"/>\r\n       <use x=\"127.246094\" xlink:href=\"#DejaVuSans-48\"/>\r\n       <use x=\"190.869141\" xlink:href=\"#DejaVuSans-48\"/>\r\n      </g>\r\n     </g>\r\n    </g>\r\n    <g id=\"text_18\">\r\n     <!-- stock price -->\r\n     <defs>\r\n      <path d=\"M 30.609375 48.390625 \r\nQ 23.390625 48.390625 19.1875 42.75 \r\nQ 14.984375 37.109375 14.984375 27.296875 \r\nQ 14.984375 17.484375 19.15625 11.84375 \r\nQ 23.34375 6.203125 30.609375 6.203125 \r\nQ 37.796875 6.203125 41.984375 11.859375 \r\nQ 46.1875 17.53125 46.1875 27.296875 \r\nQ 46.1875 37.015625 41.984375 42.703125 \r\nQ 37.796875 48.390625 30.609375 48.390625 \r\nz\r\nM 30.609375 56 \r\nQ 42.328125 56 49.015625 48.375 \r\nQ 55.71875 40.765625 55.71875 27.296875 \r\nQ 55.71875 13.875 49.015625 6.21875 \r\nQ 42.328125 -1.421875 30.609375 -1.421875 \r\nQ 18.84375 -1.421875 12.171875 6.21875 \r\nQ 5.515625 13.875 5.515625 27.296875 \r\nQ 5.515625 40.765625 12.171875 48.375 \r\nQ 18.84375 56 30.609375 56 \r\nz\r\n\" id=\"DejaVuSans-111\"/>\r\n      <path d=\"M 48.78125 52.59375 \r\nL 48.78125 44.1875 \r\nQ 44.96875 46.296875 41.140625 47.34375 \r\nQ 37.3125 48.390625 33.40625 48.390625 \r\nQ 24.65625 48.390625 19.8125 42.84375 \r\nQ 14.984375 37.3125 14.984375 27.296875 \r\nQ 14.984375 17.28125 19.8125 11.734375 \r\nQ 24.65625 6.203125 33.40625 6.203125 \r\nQ 37.3125 6.203125 41.140625 7.25 \r\nQ 44.96875 8.296875 48.78125 10.40625 \r\nL 48.78125 2.09375 \r\nQ 45.015625 0.34375 40.984375 -0.53125 \r\nQ 36.96875 -1.421875 32.421875 -1.421875 \r\nQ 20.0625 -1.421875 12.78125 6.34375 \r\nQ 5.515625 14.109375 5.515625 27.296875 \r\nQ 5.515625 40.671875 12.859375 48.328125 \r\nQ 20.21875 56 33.015625 56 \r\nQ 37.15625 56 41.109375 55.140625 \r\nQ 45.0625 54.296875 48.78125 52.59375 \r\nz\r\n\" id=\"DejaVuSans-99\"/>\r\n      <path d=\"M 9.078125 75.984375 \r\nL 18.109375 75.984375 \r\nL 18.109375 31.109375 \r\nL 44.921875 54.6875 \r\nL 56.390625 54.6875 \r\nL 27.390625 29.109375 \r\nL 57.625 0 \r\nL 45.90625 0 \r\nL 18.109375 26.703125 \r\nL 18.109375 0 \r\nL 9.078125 0 \r\nz\r\n\" id=\"DejaVuSans-107\"/>\r\n      <path d=\"M 18.109375 8.203125 \r\nL 18.109375 -20.796875 \r\nL 9.078125 -20.796875 \r\nL 9.078125 54.6875 \r\nL 18.109375 54.6875 \r\nL 18.109375 46.390625 \r\nQ 20.953125 51.265625 25.265625 53.625 \r\nQ 29.59375 56 35.59375 56 \r\nQ 45.5625 56 51.78125 48.09375 \r\nQ 58.015625 40.1875 58.015625 27.296875 \r\nQ 58.015625 14.40625 51.78125 6.484375 \r\nQ 45.5625 -1.421875 35.59375 -1.421875 \r\nQ 29.59375 -1.421875 25.265625 0.953125 \r\nQ 20.953125 3.328125 18.109375 8.203125 \r\nz\r\nM 48.6875 27.296875 \r\nQ 48.6875 37.203125 44.609375 42.84375 \r\nQ 40.53125 48.484375 33.40625 48.484375 \r\nQ 26.265625 48.484375 22.1875 42.84375 \r\nQ 18.109375 37.203125 18.109375 27.296875 \r\nQ 18.109375 17.390625 22.1875 11.75 \r\nQ 26.265625 6.109375 33.40625 6.109375 \r\nQ 40.53125 6.109375 44.609375 11.75 \r\nQ 48.6875 17.390625 48.6875 27.296875 \r\nz\r\n\" id=\"DejaVuSans-112\"/>\r\n      <path d=\"M 41.109375 46.296875 \r\nQ 39.59375 47.171875 37.8125 47.578125 \r\nQ 36.03125 48 33.890625 48 \r\nQ 26.265625 48 22.1875 43.046875 \r\nQ 18.109375 38.09375 18.109375 28.8125 \r\nL 18.109375 0 \r\nL 9.078125 0 \r\nL 9.078125 54.6875 \r\nL 18.109375 54.6875 \r\nL 18.109375 46.1875 \r\nQ 20.953125 51.171875 25.484375 53.578125 \r\nQ 30.03125 56 36.53125 56 \r\nQ 37.453125 56 38.578125 55.875 \r\nQ 39.703125 55.765625 41.0625 55.515625 \r\nz\r\n\" id=\"DejaVuSans-114\"/>\r\n     </defs>\r\n     <g transform=\"translate(14.798438 158.340469)rotate(-90)scale(0.1 -0.1)\">\r\n      <use xlink:href=\"#DejaVuSans-115\"/>\r\n      <use x=\"52.099609\" xlink:href=\"#DejaVuSans-116\"/>\r\n      <use x=\"91.308594\" xlink:href=\"#DejaVuSans-111\"/>\r\n      <use x=\"152.490234\" xlink:href=\"#DejaVuSans-99\"/>\r\n      <use x=\"207.470703\" xlink:href=\"#DejaVuSans-107\"/>\r\n      <use x=\"265.380859\" xlink:href=\"#DejaVuSans-32\"/>\r\n      <use x=\"297.167969\" xlink:href=\"#DejaVuSans-112\"/>\r\n      <use x=\"360.644531\" xlink:href=\"#DejaVuSans-114\"/>\r\n      <use x=\"401.757812\" xlink:href=\"#DejaVuSans-105\"/>\r\n      <use x=\"429.541016\" xlink:href=\"#DejaVuSans-99\"/>\r\n      <use x=\"484.521484\" xlink:href=\"#DejaVuSans-101\"/>\r\n     </g>\r\n    </g>\r\n   </g>\r\n   <g id=\"line2d_17\">\r\n    <path clip-path=\"url(#pd3f5c8bdb1)\" d=\"M 68.546307 70.156113 \r\nL 83.764489 61.727103 \r\nL 98.98267 60.190784 \r\nL 114.200852 49.070521 \r\nL 129.419034 39.477378 \r\nL 144.637216 41.278204 \r\nL 159.855398 43.119016 \r\nL 175.07358 43.189752 \r\nL 190.291761 47.118987 \r\nL 205.509943 44.504628 \r\nL 220.728125 36.473936 \r\nL 235.946307 37.122908 \r\nL 251.164489 32.201761 \r\nL 266.38267 36.969122 \r\nL 281.600852 40.813768 \r\nL 296.819034 43.109799 \r\nL 312.037216 38.583874 \r\nL 327.255398 42.722256 \r\nL 342.47358 44.616889 \r\nL 357.691761 45.888701 \r\nL 372.909943 35.146764 \r\n\" style=\"fill:none;stroke:#008000;stroke-linecap:square;stroke-width:1.5;\"/>\r\n   </g>\r\n   <g id=\"line2d_18\">\r\n    <path clip-path=\"url(#pd3f5c8bdb1)\" d=\"M 68.546307 229.872433 \r\nL 83.764489 229.872259 \r\nL 98.98267 229.872133 \r\nL 114.200852 229.872095 \r\nL 129.419034 229.872133 \r\nL 144.637216 229.872269 \r\nL 159.855398 229.872461 \r\nL 175.07358 229.872686 \r\nL 190.291761 229.872935 \r\nL 205.509943 229.873184 \r\nL 220.728125 229.873409 \r\nL 235.946307 229.873644 \r\nL 251.164489 229.873836 \r\nL 266.38267 229.874015 \r\nL 281.600852 229.87417 \r\nL 296.819034 229.874287 \r\nL 312.037216 229.874376 \r\nL 327.255398 229.874446 \r\nL 342.47358 229.87447 \r\nL 357.691761 229.874489 \r\nL 372.909943 229.874475 \r\n\" style=\"fill:none;stroke:#ff0000;stroke-dasharray:5.55,2.4;stroke-dashoffset:0;stroke-width:1.5;\"/>\r\n   </g>\r\n   <g id=\"patch_3\">\r\n    <path d=\"M 53.328125 239.758125 \r\nL 53.328125 22.318125 \r\n\" style=\"fill:none;stroke:#000000;stroke-linecap:square;stroke-linejoin:miter;stroke-width:0.8;\"/>\r\n   </g>\r\n   <g id=\"patch_4\">\r\n    <path d=\"M 388.128125 239.758125 \r\nL 388.128125 22.318125 \r\n\" style=\"fill:none;stroke:#000000;stroke-linecap:square;stroke-linejoin:miter;stroke-width:0.8;\"/>\r\n   </g>\r\n   <g id=\"patch_5\">\r\n    <path d=\"M 53.328125 239.758125 \r\nL 388.128125 239.758125 \r\n\" style=\"fill:none;stroke:#000000;stroke-linecap:square;stroke-linejoin:miter;stroke-width:0.8;\"/>\r\n   </g>\r\n   <g id=\"patch_6\">\r\n    <path d=\"M 53.328125 22.318125 \r\nL 388.128125 22.318125 \r\n\" style=\"fill:none;stroke:#000000;stroke-linecap:square;stroke-linejoin:miter;stroke-width:0.8;\"/>\r\n   </g>\r\n   <g id=\"text_19\">\r\n    <!-- Predicted vs. actual stock prices -->\r\n    <defs>\r\n     <path d=\"M 19.671875 64.796875 \r\nL 19.671875 37.40625 \r\nL 32.078125 37.40625 \r\nQ 38.96875 37.40625 42.71875 40.96875 \r\nQ 46.484375 44.53125 46.484375 51.125 \r\nQ 46.484375 57.671875 42.71875 61.234375 \r\nQ 38.96875 64.796875 32.078125 64.796875 \r\nz\r\nM 9.8125 72.90625 \r\nL 32.078125 72.90625 \r\nQ 44.34375 72.90625 50.609375 67.359375 \r\nQ 56.890625 61.8125 56.890625 51.125 \r\nQ 56.890625 40.328125 50.609375 34.8125 \r\nQ 44.34375 29.296875 32.078125 29.296875 \r\nL 19.671875 29.296875 \r\nL 19.671875 0 \r\nL 9.8125 0 \r\nz\r\n\" id=\"DejaVuSans-80\"/>\r\n     <path d=\"M 2.984375 54.6875 \r\nL 12.5 54.6875 \r\nL 29.59375 8.796875 \r\nL 46.6875 54.6875 \r\nL 56.203125 54.6875 \r\nL 35.6875 0 \r\nL 23.484375 0 \r\nz\r\n\" id=\"DejaVuSans-118\"/>\r\n     <path d=\"M 8.5 21.578125 \r\nL 8.5 54.6875 \r\nL 17.484375 54.6875 \r\nL 17.484375 21.921875 \r\nQ 17.484375 14.15625 20.5 10.265625 \r\nQ 23.53125 6.390625 29.59375 6.390625 \r\nQ 36.859375 6.390625 41.078125 11.03125 \r\nQ 45.3125 15.671875 45.3125 23.6875 \r\nL 45.3125 54.6875 \r\nL 54.296875 54.6875 \r\nL 54.296875 0 \r\nL 45.3125 0 \r\nL 45.3125 8.40625 \r\nQ 42.046875 3.421875 37.71875 1 \r\nQ 33.40625 -1.421875 27.6875 -1.421875 \r\nQ 18.265625 -1.421875 13.375 4.4375 \r\nQ 8.5 10.296875 8.5 21.578125 \r\nz\r\nM 31.109375 56 \r\nz\r\n\" id=\"DejaVuSans-117\"/>\r\n     <path d=\"M 9.421875 75.984375 \r\nL 18.40625 75.984375 \r\nL 18.40625 0 \r\nL 9.421875 0 \r\nz\r\n\" id=\"DejaVuSans-108\"/>\r\n    </defs>\r\n    <g transform=\"translate(123.896563 16.318125)scale(0.12 -0.12)\">\r\n     <use xlink:href=\"#DejaVuSans-80\"/>\r\n     <use x=\"58.552734\" xlink:href=\"#DejaVuSans-114\"/>\r\n     <use x=\"97.416016\" xlink:href=\"#DejaVuSans-101\"/>\r\n     <use x=\"158.939453\" xlink:href=\"#DejaVuSans-100\"/>\r\n     <use x=\"222.416016\" xlink:href=\"#DejaVuSans-105\"/>\r\n     <use x=\"250.199219\" xlink:href=\"#DejaVuSans-99\"/>\r\n     <use x=\"305.179688\" xlink:href=\"#DejaVuSans-116\"/>\r\n     <use x=\"344.388672\" xlink:href=\"#DejaVuSans-101\"/>\r\n     <use x=\"405.912109\" xlink:href=\"#DejaVuSans-100\"/>\r\n     <use x=\"469.388672\" xlink:href=\"#DejaVuSans-32\"/>\r\n     <use x=\"501.175781\" xlink:href=\"#DejaVuSans-118\"/>\r\n     <use x=\"560.355469\" xlink:href=\"#DejaVuSans-115\"/>\r\n     <use x=\"612.455078\" xlink:href=\"#DejaVuSans-46\"/>\r\n     <use x=\"644.242188\" xlink:href=\"#DejaVuSans-32\"/>\r\n     <use x=\"676.029297\" xlink:href=\"#DejaVuSans-97\"/>\r\n     <use x=\"737.308594\" xlink:href=\"#DejaVuSans-99\"/>\r\n     <use x=\"792.289062\" xlink:href=\"#DejaVuSans-116\"/>\r\n     <use x=\"831.498047\" xlink:href=\"#DejaVuSans-117\"/>\r\n     <use x=\"894.876953\" xlink:href=\"#DejaVuSans-97\"/>\r\n     <use x=\"956.15625\" xlink:href=\"#DejaVuSans-108\"/>\r\n     <use x=\"983.939453\" xlink:href=\"#DejaVuSans-32\"/>\r\n     <use x=\"1015.726562\" xlink:href=\"#DejaVuSans-115\"/>\r\n     <use x=\"1067.826172\" xlink:href=\"#DejaVuSans-116\"/>\r\n     <use x=\"1107.035156\" xlink:href=\"#DejaVuSans-111\"/>\r\n     <use x=\"1168.216797\" xlink:href=\"#DejaVuSans-99\"/>\r\n     <use x=\"1223.197266\" xlink:href=\"#DejaVuSans-107\"/>\r\n     <use x=\"1281.107422\" xlink:href=\"#DejaVuSans-32\"/>\r\n     <use x=\"1312.894531\" xlink:href=\"#DejaVuSans-112\"/>\r\n     <use x=\"1376.371094\" xlink:href=\"#DejaVuSans-114\"/>\r\n     <use x=\"1417.484375\" xlink:href=\"#DejaVuSans-105\"/>\r\n     <use x=\"1445.267578\" xlink:href=\"#DejaVuSans-99\"/>\r\n     <use x=\"1500.248047\" xlink:href=\"#DejaVuSans-101\"/>\r\n     <use x=\"1561.771484\" xlink:href=\"#DejaVuSans-115\"/>\r\n    </g>\r\n   </g>\r\n   <g id=\"legend_1\">\r\n    <g id=\"patch_7\">\r\n     <path d=\"M 273.626563 147.21625 \r\nL 381.128125 147.21625 \r\nQ 383.128125 147.21625 383.128125 145.21625 \r\nL 383.128125 116.86 \r\nQ 383.128125 114.86 381.128125 114.86 \r\nL 273.626563 114.86 \r\nQ 271.626563 114.86 271.626563 116.86 \r\nL 271.626563 145.21625 \r\nQ 271.626563 147.21625 273.626563 147.21625 \r\nz\r\n\" style=\"fill:#ffffff;opacity:0.8;stroke:#cccccc;stroke-linejoin:miter;\"/>\r\n    </g>\r\n    <g id=\"line2d_19\">\r\n     <path d=\"M 275.626563 122.958437 \r\nL 295.626563 122.958437 \r\n\" style=\"fill:none;stroke:#008000;stroke-linecap:square;stroke-width:1.5;\"/>\r\n    </g>\r\n    <g id=\"line2d_20\"/>\r\n    <g id=\"text_20\">\r\n     <!-- actual price -->\r\n     <g transform=\"translate(303.626563 126.458437)scale(0.1 -0.1)\">\r\n      <use xlink:href=\"#DejaVuSans-97\"/>\r\n      <use x=\"61.279297\" xlink:href=\"#DejaVuSans-99\"/>\r\n      <use x=\"116.259766\" xlink:href=\"#DejaVuSans-116\"/>\r\n      <use x=\"155.46875\" xlink:href=\"#DejaVuSans-117\"/>\r\n      <use x=\"218.847656\" xlink:href=\"#DejaVuSans-97\"/>\r\n      <use x=\"280.126953\" xlink:href=\"#DejaVuSans-108\"/>\r\n      <use x=\"307.910156\" xlink:href=\"#DejaVuSans-32\"/>\r\n      <use x=\"339.697266\" xlink:href=\"#DejaVuSans-112\"/>\r\n      <use x=\"403.173828\" xlink:href=\"#DejaVuSans-114\"/>\r\n      <use x=\"444.287109\" xlink:href=\"#DejaVuSans-105\"/>\r\n      <use x=\"472.070312\" xlink:href=\"#DejaVuSans-99\"/>\r\n      <use x=\"527.050781\" xlink:href=\"#DejaVuSans-101\"/>\r\n     </g>\r\n    </g>\r\n    <g id=\"line2d_21\">\r\n     <path d=\"M 275.626563 137.636562 \r\nL 295.626563 137.636562 \r\n\" style=\"fill:none;stroke:#ff0000;stroke-dasharray:5.55,2.4;stroke-dashoffset:0;stroke-width:1.5;\"/>\r\n    </g>\r\n    <g id=\"line2d_22\"/>\r\n    <g id=\"text_21\">\r\n     <!-- predicted price -->\r\n     <g transform=\"translate(303.626563 141.136562)scale(0.1 -0.1)\">\r\n      <use xlink:href=\"#DejaVuSans-112\"/>\r\n      <use x=\"63.476562\" xlink:href=\"#DejaVuSans-114\"/>\r\n      <use x=\"102.339844\" xlink:href=\"#DejaVuSans-101\"/>\r\n      <use x=\"163.863281\" xlink:href=\"#DejaVuSans-100\"/>\r\n      <use x=\"227.339844\" xlink:href=\"#DejaVuSans-105\"/>\r\n      <use x=\"255.123047\" xlink:href=\"#DejaVuSans-99\"/>\r\n      <use x=\"310.103516\" xlink:href=\"#DejaVuSans-116\"/>\r\n      <use x=\"349.3125\" xlink:href=\"#DejaVuSans-101\"/>\r\n      <use x=\"410.835938\" xlink:href=\"#DejaVuSans-100\"/>\r\n      <use x=\"474.3125\" xlink:href=\"#DejaVuSans-32\"/>\r\n      <use x=\"506.099609\" xlink:href=\"#DejaVuSans-112\"/>\r\n      <use x=\"569.576172\" xlink:href=\"#DejaVuSans-114\"/>\r\n      <use x=\"610.689453\" xlink:href=\"#DejaVuSans-105\"/>\r\n      <use x=\"638.472656\" xlink:href=\"#DejaVuSans-99\"/>\r\n      <use x=\"693.453125\" xlink:href=\"#DejaVuSans-101\"/>\r\n     </g>\r\n    </g>\r\n   </g>\r\n  </g>\r\n </g>\r\n <defs>\r\n  <clipPath id=\"pd3f5c8bdb1\">\r\n   <rect height=\"217.44\" width=\"334.8\" x=\"53.328125\" y=\"22.318125\"/>\r\n  </clipPath>\r\n </defs>\r\n</svg>\r\n",
      "image/png": "[encoded data removed]"
     },
     "metadata": {
      "needs_background": "light"
     }
    }
   ],
   "source": [
    "plt.plot(test_data, color='green', label='actual price', ls='-')\n",
    "plt.plot(predicted, color='red', label='predicted price', ls='--')\n",
    "plt.title('Predicted vs. actual stock prices')\n",
    "plt.legend()\n",
    "plt.xlabel('time (days)')\n",
    "plt.ylabel('stock price')\n",
    "plt.show"
   ]
  },
  {
   "cell_type": "markdown",
   "metadata": {},
   "source": [
    "Now, let's try and improve performance by tweaking our LSTM. There is no gold standard on how to build an LSTM; however, the following permutation combinations can be tried in order to improve performance:\n",
    "\n",
    "- Build an LSTM with moderate units, such as 50\n",
    "- Build an LSTM with over 100 units\n",
    "- Use more data; that is, instead of 5 years, take data from 10 years\n",
    "- Apply regularization using 100 units\n",
    "- Apply regularization using 50 units\n",
    "- Apply regularization using more data and 50 units\n",
    "\n",
    "This list can have a number of combinations; whichever combination offers the best results can be considered a good algorithm for that particular dataset. In the next exercise, we will explore one of these options by adding more units to our LSTM layer and observing the performance."
   ]
  }
 ],
 "metadata": {
  "language_info": {
   "codemirror_mode": {
    "name": "ipython",
    "version": 3
   },
   "file_extension": ".py",
   "mimetype": "text/x-python",
   "name": "python",
   "nbconvert_exporter": "python",
   "pygments_lexer": "ipython3",
   "version": 3
  },
  "orig_nbformat": 2,
  "kernelspec": {
   "name": "python_defaultSpec_1593758256347",
   "display_name": "Python 3.7.2 64-bit ('dlwk': venv)"
  }
 },
 "nbformat": 4,
 "nbformat_minor": 2
}