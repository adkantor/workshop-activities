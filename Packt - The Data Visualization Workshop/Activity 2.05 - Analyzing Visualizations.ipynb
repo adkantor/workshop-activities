{
 "metadata": {
  "language_info": {
   "codemirror_mode": {
    "name": "ipython",
    "version": 3
   },
   "file_extension": ".py",
   "mimetype": "text/x-python",
   "name": "python",
   "nbconvert_exporter": "python",
   "pygments_lexer": "ipython3",
   "version": 3
  },
  "orig_nbformat": 2
 },
 "nbformat": 4,
 "nbformat_minor": 2,
 "cells": [
  {
   "source": [
    "# Activity 2.05: Analyzing Visualizations\n",
    "\n",
    "The following visualizations are not ideal as they do not represent data well. Answer the following questions for each visualization. The aim of this activity is to sharpen your skills with regard to choosing the best suitable plot for a scenario.\n",
    "\n",
    "\n",
    "The first visualization is supposed to illustrate the top 30 YouTube music channels according to their number of subscribers:\n",
    "\n",
    "<img src=\"../Graphics/Chapter02/Figure2.42.png\">\n",
    "<p>Figure 2.42: Pie chart showing the top 30 YouTube music channels</p>\n",
    "\n",
    "\n",
    "The second visualization is supposed to illustrate the number of people playing a certain game in a casino over 2 days:\n",
    "\n",
    "<img src=\"../Graphics/Chapter02/Figure2.43.png\">\n",
    "<p>Figure 2.43: Line chart displaying casino data for 2 days</p>\n",
    "\n",
    "---\n",
    "\n",
    "1. What are the bad aspects of these visualizations?\n",
    "    \n",
    "***First Visualization***\n",
    "\n",
    ">The proposed visualization has multiple faults. First, a pie chart is supposed to show part-of-a-whole relations, which is not the case for this task since we only consider the top 30 YouTube music channels and not all channels. Second, 30 values are too many to visualize within a pie chart. Third, the labels overlap. Also, it is difficult to quantify the slices as there is no unit of measurement specified.\n",
    "\n",
    "***Second Visualization***\n",
    "\n",
    ">This is also an example of using the wrong chart type. A line chart was used to compare different categories that do not have any temporal relation. Furthermore, informative guides such as legends and labels are missing.\n",
    "\n",
    "2. How could we improve the visualizations? Sketch the right visualization for both scenarios.\n",
    "    \n",
    "***First Visualization***\n",
    ">An improvement would be to use a bar chart. For example, in the following horizontal bar chart, it is easier to tell the number of subscribers in millions for each YouTube channel:\n",
    "    \n",
    "<img src=\"../Graphics/Solution/Figure2.48.png\">\n",
    "<p>Figure 2.48: Horizontal bar chart showing YouTube music channels</p>    \n",
    "\n",
    "***Second Visualization***\n",
    ">The following diagram shows how the data should have been represented using a comparative bar chart:\n",
    "    \n",
    "<img src=\"../Graphics/Solution/Figure2.49.png\">\n",
    "<p>Figure 2.49: Comparative bar chart displaying casino data for 2 days</p>"
   ],
   "cell_type": "markdown",
   "metadata": {}
  }
 ]
}