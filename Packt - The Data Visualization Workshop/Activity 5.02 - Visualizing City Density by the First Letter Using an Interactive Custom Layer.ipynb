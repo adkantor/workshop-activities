{
 "metadata": {
  "language_info": {
   "codemirror_mode": {
    "name": "ipython",
    "version": 3
   },
   "file_extension": ".py",
   "mimetype": "text/x-python",
   "name": "python",
   "nbconvert_exporter": "python",
   "pygments_lexer": "ipython3",
   "version": "3.7.2-final"
  },
  "orig_nbformat": 2,
  "kernelspec": {
   "name": "python3",
   "display_name": "Python 3.7.2 64-bit ('dvw')",
   "metadata": {
    "interpreter": {
     "hash": "8352346f857ead0c5352c80b3faa88db502bfde9c6c8c8b59818c149aaa2eebc"
    }
   }
  }
 },
 "nbformat": 4,
 "nbformat_minor": 2,
 "cells": [
  {
   "source": [
    "# Activity 5.02: Visualizing City Density by the First Letter Using an Interactive Custom Layer\n",
    "\n",
    "In this last activity for geoplotlib, you'll combine all the methodologies learned in the previous exercises and the activity to create an interactive visualization that displays the cities that start with a given letter, by merely pressing the left and right arrow keys on your keyboard.\n",
    "\n",
    "Since we use the same setup to create custom layers as the library does, you will be able to understand the library implementations of most of the layers provided by geoplotlib after this activity."
   ],
   "cell_type": "markdown",
   "metadata": {}
  },
  {
   "cell_type": "code",
   "execution_count": 65,
   "metadata": {},
   "outputs": [],
   "source": [
    "import string\n",
    "\n",
    "import pandas as pd\n",
    "import numpy as np\n",
    "import geoplotlib\n",
    "from geoplotlib.layers import BaseLayer\n",
    "from geoplotlib.core import BatchPainter\n",
    "from geoplotlib.utils import BoundingBox, DataAccessObject\n",
    "import pyglet"
   ]
  },
  {
   "cell_type": "code",
   "execution_count": 3,
   "metadata": {},
   "outputs": [
    {
     "output_type": "execute_result",
     "data": {
      "text/plain": [
       "        Country         City   AccentCity Region  Population   Latitude  \\\n",
       "0            ad        aixas        Aixàs      6         NaN  42.483333   \n",
       "1            ad   aixirivali   Aixirivali      6         NaN  42.466667   \n",
       "2            ad   aixirivall   Aixirivall      6         NaN  42.466667   \n",
       "3            ad    aixirvall    Aixirvall      6         NaN  42.466667   \n",
       "4            ad     aixovall     Aixovall      6         NaN  42.466667   \n",
       "...         ...          ...          ...    ...         ...        ...   \n",
       "3173953      zw   zimre park   Zimre Park      4         NaN -17.866111   \n",
       "3173954      zw  ziyakamanas  Ziyakamanas      0         NaN -18.216667   \n",
       "3173955      zw   zizalisari   Zizalisari      4         NaN -17.758889   \n",
       "3173956      zw      zuzumba      Zuzumba      6         NaN -20.033333   \n",
       "3173957      zw   zvishavane   Zvishavane      7     79876.0 -20.333333   \n",
       "\n",
       "         Longitude  \n",
       "0         1.466667  \n",
       "1         1.500000  \n",
       "2         1.500000  \n",
       "3         1.500000  \n",
       "4         1.483333  \n",
       "...            ...  \n",
       "3173953  31.213611  \n",
       "3173954  27.950000  \n",
       "3173955  31.010556  \n",
       "3173956  27.933333  \n",
       "3173957  30.033333  \n",
       "\n",
       "[3173958 rows x 7 columns]"
      ],
      "text/html": "<div>\n<style scoped>\n    .dataframe tbody tr th:only-of-type {\n        vertical-align: middle;\n    }\n\n    .dataframe tbody tr th {\n        vertical-align: top;\n    }\n\n    .dataframe thead th {\n        text-align: right;\n    }\n</style>\n<table border=\"1\" class=\"dataframe\">\n  <thead>\n    <tr style=\"text-align: right;\">\n      <th></th>\n      <th>Country</th>\n      <th>City</th>\n      <th>AccentCity</th>\n      <th>Region</th>\n      <th>Population</th>\n      <th>Latitude</th>\n      <th>Longitude</th>\n    </tr>\n  </thead>\n  <tbody>\n    <tr>\n      <th>0</th>\n      <td>ad</td>\n      <td>aixas</td>\n      <td>Aixàs</td>\n      <td>6</td>\n      <td>NaN</td>\n      <td>42.483333</td>\n      <td>1.466667</td>\n    </tr>\n    <tr>\n      <th>1</th>\n      <td>ad</td>\n      <td>aixirivali</td>\n      <td>Aixirivali</td>\n      <td>6</td>\n      <td>NaN</td>\n      <td>42.466667</td>\n      <td>1.500000</td>\n    </tr>\n    <tr>\n      <th>2</th>\n      <td>ad</td>\n      <td>aixirivall</td>\n      <td>Aixirivall</td>\n      <td>6</td>\n      <td>NaN</td>\n      <td>42.466667</td>\n      <td>1.500000</td>\n    </tr>\n    <tr>\n      <th>3</th>\n      <td>ad</td>\n      <td>aixirvall</td>\n      <td>Aixirvall</td>\n      <td>6</td>\n      <td>NaN</td>\n      <td>42.466667</td>\n      <td>1.500000</td>\n    </tr>\n    <tr>\n      <th>4</th>\n      <td>ad</td>\n      <td>aixovall</td>\n      <td>Aixovall</td>\n      <td>6</td>\n      <td>NaN</td>\n      <td>42.466667</td>\n      <td>1.483333</td>\n    </tr>\n    <tr>\n      <th>...</th>\n      <td>...</td>\n      <td>...</td>\n      <td>...</td>\n      <td>...</td>\n      <td>...</td>\n      <td>...</td>\n      <td>...</td>\n    </tr>\n    <tr>\n      <th>3173953</th>\n      <td>zw</td>\n      <td>zimre park</td>\n      <td>Zimre Park</td>\n      <td>4</td>\n      <td>NaN</td>\n      <td>-17.866111</td>\n      <td>31.213611</td>\n    </tr>\n    <tr>\n      <th>3173954</th>\n      <td>zw</td>\n      <td>ziyakamanas</td>\n      <td>Ziyakamanas</td>\n      <td>0</td>\n      <td>NaN</td>\n      <td>-18.216667</td>\n      <td>27.950000</td>\n    </tr>\n    <tr>\n      <th>3173955</th>\n      <td>zw</td>\n      <td>zizalisari</td>\n      <td>Zizalisari</td>\n      <td>4</td>\n      <td>NaN</td>\n      <td>-17.758889</td>\n      <td>31.010556</td>\n    </tr>\n    <tr>\n      <th>3173956</th>\n      <td>zw</td>\n      <td>zuzumba</td>\n      <td>Zuzumba</td>\n      <td>6</td>\n      <td>NaN</td>\n      <td>-20.033333</td>\n      <td>27.933333</td>\n    </tr>\n    <tr>\n      <th>3173957</th>\n      <td>zw</td>\n      <td>zvishavane</td>\n      <td>Zvishavane</td>\n      <td>7</td>\n      <td>79876.0</td>\n      <td>-20.333333</td>\n      <td>30.033333</td>\n    </tr>\n  </tbody>\n</table>\n<p>3173958 rows × 7 columns</p>\n</div>"
     },
     "metadata": {},
     "execution_count": 3
    }
   ],
   "source": [
    "df = pd.read_csv('../../Datasets/world_cities_pop.csv')\n",
    "df"
   ]
  },
  {
   "cell_type": "code",
   "execution_count": 4,
   "metadata": {},
   "outputs": [
    {
     "output_type": "execute_result",
     "data": {
      "text/plain": [
       "        Country         City   AccentCity Region  Population        lat  \\\n",
       "0            ad        aixas        Aixàs      6         NaN  42.483333   \n",
       "1            ad   aixirivali   Aixirivali      6         NaN  42.466667   \n",
       "2            ad   aixirivall   Aixirivall      6         NaN  42.466667   \n",
       "3            ad    aixirvall    Aixirvall      6         NaN  42.466667   \n",
       "4            ad     aixovall     Aixovall      6         NaN  42.466667   \n",
       "...         ...          ...          ...    ...         ...        ...   \n",
       "3173953      zw   zimre park   Zimre Park      4         NaN -17.866111   \n",
       "3173954      zw  ziyakamanas  Ziyakamanas      0         NaN -18.216667   \n",
       "3173955      zw   zizalisari   Zizalisari      4         NaN -17.758889   \n",
       "3173956      zw      zuzumba      Zuzumba      6         NaN -20.033333   \n",
       "3173957      zw   zvishavane   Zvishavane      7     79876.0 -20.333333   \n",
       "\n",
       "               lon  \n",
       "0         1.466667  \n",
       "1         1.500000  \n",
       "2         1.500000  \n",
       "3         1.500000  \n",
       "4         1.483333  \n",
       "...            ...  \n",
       "3173953  31.213611  \n",
       "3173954  27.950000  \n",
       "3173955  31.010556  \n",
       "3173956  27.933333  \n",
       "3173957  30.033333  \n",
       "\n",
       "[3173958 rows x 7 columns]"
      ],
      "text/html": "<div>\n<style scoped>\n    .dataframe tbody tr th:only-of-type {\n        vertical-align: middle;\n    }\n\n    .dataframe tbody tr th {\n        vertical-align: top;\n    }\n\n    .dataframe thead th {\n        text-align: right;\n    }\n</style>\n<table border=\"1\" class=\"dataframe\">\n  <thead>\n    <tr style=\"text-align: right;\">\n      <th></th>\n      <th>Country</th>\n      <th>City</th>\n      <th>AccentCity</th>\n      <th>Region</th>\n      <th>Population</th>\n      <th>lat</th>\n      <th>lon</th>\n    </tr>\n  </thead>\n  <tbody>\n    <tr>\n      <th>0</th>\n      <td>ad</td>\n      <td>aixas</td>\n      <td>Aixàs</td>\n      <td>6</td>\n      <td>NaN</td>\n      <td>42.483333</td>\n      <td>1.466667</td>\n    </tr>\n    <tr>\n      <th>1</th>\n      <td>ad</td>\n      <td>aixirivali</td>\n      <td>Aixirivali</td>\n      <td>6</td>\n      <td>NaN</td>\n      <td>42.466667</td>\n      <td>1.500000</td>\n    </tr>\n    <tr>\n      <th>2</th>\n      <td>ad</td>\n      <td>aixirivall</td>\n      <td>Aixirivall</td>\n      <td>6</td>\n      <td>NaN</td>\n      <td>42.466667</td>\n      <td>1.500000</td>\n    </tr>\n    <tr>\n      <th>3</th>\n      <td>ad</td>\n      <td>aixirvall</td>\n      <td>Aixirvall</td>\n      <td>6</td>\n      <td>NaN</td>\n      <td>42.466667</td>\n      <td>1.500000</td>\n    </tr>\n    <tr>\n      <th>4</th>\n      <td>ad</td>\n      <td>aixovall</td>\n      <td>Aixovall</td>\n      <td>6</td>\n      <td>NaN</td>\n      <td>42.466667</td>\n      <td>1.483333</td>\n    </tr>\n    <tr>\n      <th>...</th>\n      <td>...</td>\n      <td>...</td>\n      <td>...</td>\n      <td>...</td>\n      <td>...</td>\n      <td>...</td>\n      <td>...</td>\n    </tr>\n    <tr>\n      <th>3173953</th>\n      <td>zw</td>\n      <td>zimre park</td>\n      <td>Zimre Park</td>\n      <td>4</td>\n      <td>NaN</td>\n      <td>-17.866111</td>\n      <td>31.213611</td>\n    </tr>\n    <tr>\n      <th>3173954</th>\n      <td>zw</td>\n      <td>ziyakamanas</td>\n      <td>Ziyakamanas</td>\n      <td>0</td>\n      <td>NaN</td>\n      <td>-18.216667</td>\n      <td>27.950000</td>\n    </tr>\n    <tr>\n      <th>3173955</th>\n      <td>zw</td>\n      <td>zizalisari</td>\n      <td>Zizalisari</td>\n      <td>4</td>\n      <td>NaN</td>\n      <td>-17.758889</td>\n      <td>31.010556</td>\n    </tr>\n    <tr>\n      <th>3173956</th>\n      <td>zw</td>\n      <td>zuzumba</td>\n      <td>Zuzumba</td>\n      <td>6</td>\n      <td>NaN</td>\n      <td>-20.033333</td>\n      <td>27.933333</td>\n    </tr>\n    <tr>\n      <th>3173957</th>\n      <td>zw</td>\n      <td>zvishavane</td>\n      <td>Zvishavane</td>\n      <td>7</td>\n      <td>79876.0</td>\n      <td>-20.333333</td>\n      <td>30.033333</td>\n    </tr>\n  </tbody>\n</table>\n<p>3173958 rows × 7 columns</p>\n</div>"
     },
     "metadata": {},
     "execution_count": 4
    }
   ],
   "source": [
    "df.rename(columns={'Latitude': 'lat', 'Longitude': 'lon'}, inplace=True)\n",
    "df"
   ]
  },
  {
   "cell_type": "code",
   "execution_count": 5,
   "metadata": {},
   "outputs": [],
   "source": [
    "europe_country_codes = [\n",
    "    'al', 'ad', 'at', 'by', 'be', 'ba', 'bg', 'hr', 'cy', 'cz', 'dk', 'ee', 'fo', 'fi', 'fr', 'de', \n",
    "    'gi', 'gr', 'hu', 'is', 'ie', 'im', 'it', 'xk', 'lv', 'li', 'lt', 'lu', 'mk', 'mt', 'md', 'mc',\n",
    "    'me', 'nl', 'no', 'pl', 'pt', 'ro', 'sm', 'rs', 'sk', 'si', 'es', 'se', 'ch', 'ua', 'gb', 'va'\n",
    "]"
   ]
  },
  {
   "cell_type": "code",
   "execution_count": 60,
   "metadata": {},
   "outputs": [
    {
     "output_type": "execute_result",
     "data": {
      "text/plain": [
       "        Country         City   AccentCity Region  Population        lat  \\\n",
       "0            ad        aixas        Aixàs      6         NaN  42.483333   \n",
       "1            ad   aixirivali   Aixirivali      6         NaN  42.466667   \n",
       "2            ad   aixirivall   Aixirivall      6         NaN  42.466667   \n",
       "3            ad    aixirvall    Aixirvall      6         NaN  42.466667   \n",
       "4            ad     aixovall     Aixovall      6         NaN  42.466667   \n",
       "...         ...          ...          ...    ...         ...        ...   \n",
       "2901652      ua        zymne        Zymne     24         NaN  50.801362   \n",
       "2901653      ua  zymovyshche  Zymovyshche     13         NaN  51.423169   \n",
       "2901654      ua       zymyne       Zymyne     11         NaN  45.507970   \n",
       "2901655      ua    zytomierz    Zytomierz     27         NaN  50.264868   \n",
       "2901656      ua    zyubrovka    Zyubrovka     09         NaN  48.636837   \n",
       "\n",
       "               lon  \n",
       "0         1.466667  \n",
       "1         1.500000  \n",
       "2         1.500000  \n",
       "3         1.500000  \n",
       "4         1.483333  \n",
       "...            ...  \n",
       "2901652  24.331114  \n",
       "2901653  30.185614  \n",
       "2901654  33.514312  \n",
       "2901655  28.676691  \n",
       "2901656  26.601589  \n",
       "\n",
       "[682346 rows x 7 columns]"
      ],
      "text/html": "<div>\n<style scoped>\n    .dataframe tbody tr th:only-of-type {\n        vertical-align: middle;\n    }\n\n    .dataframe tbody tr th {\n        vertical-align: top;\n    }\n\n    .dataframe thead th {\n        text-align: right;\n    }\n</style>\n<table border=\"1\" class=\"dataframe\">\n  <thead>\n    <tr style=\"text-align: right;\">\n      <th></th>\n      <th>Country</th>\n      <th>City</th>\n      <th>AccentCity</th>\n      <th>Region</th>\n      <th>Population</th>\n      <th>lat</th>\n      <th>lon</th>\n    </tr>\n  </thead>\n  <tbody>\n    <tr>\n      <th>0</th>\n      <td>ad</td>\n      <td>aixas</td>\n      <td>Aixàs</td>\n      <td>6</td>\n      <td>NaN</td>\n      <td>42.483333</td>\n      <td>1.466667</td>\n    </tr>\n    <tr>\n      <th>1</th>\n      <td>ad</td>\n      <td>aixirivali</td>\n      <td>Aixirivali</td>\n      <td>6</td>\n      <td>NaN</td>\n      <td>42.466667</td>\n      <td>1.500000</td>\n    </tr>\n    <tr>\n      <th>2</th>\n      <td>ad</td>\n      <td>aixirivall</td>\n      <td>Aixirivall</td>\n      <td>6</td>\n      <td>NaN</td>\n      <td>42.466667</td>\n      <td>1.500000</td>\n    </tr>\n    <tr>\n      <th>3</th>\n      <td>ad</td>\n      <td>aixirvall</td>\n      <td>Aixirvall</td>\n      <td>6</td>\n      <td>NaN</td>\n      <td>42.466667</td>\n      <td>1.500000</td>\n    </tr>\n    <tr>\n      <th>4</th>\n      <td>ad</td>\n      <td>aixovall</td>\n      <td>Aixovall</td>\n      <td>6</td>\n      <td>NaN</td>\n      <td>42.466667</td>\n      <td>1.483333</td>\n    </tr>\n    <tr>\n      <th>...</th>\n      <td>...</td>\n      <td>...</td>\n      <td>...</td>\n      <td>...</td>\n      <td>...</td>\n      <td>...</td>\n      <td>...</td>\n    </tr>\n    <tr>\n      <th>2901652</th>\n      <td>ua</td>\n      <td>zymne</td>\n      <td>Zymne</td>\n      <td>24</td>\n      <td>NaN</td>\n      <td>50.801362</td>\n      <td>24.331114</td>\n    </tr>\n    <tr>\n      <th>2901653</th>\n      <td>ua</td>\n      <td>zymovyshche</td>\n      <td>Zymovyshche</td>\n      <td>13</td>\n      <td>NaN</td>\n      <td>51.423169</td>\n      <td>30.185614</td>\n    </tr>\n    <tr>\n      <th>2901654</th>\n      <td>ua</td>\n      <td>zymyne</td>\n      <td>Zymyne</td>\n      <td>11</td>\n      <td>NaN</td>\n      <td>45.507970</td>\n      <td>33.514312</td>\n    </tr>\n    <tr>\n      <th>2901655</th>\n      <td>ua</td>\n      <td>zytomierz</td>\n      <td>Zytomierz</td>\n      <td>27</td>\n      <td>NaN</td>\n      <td>50.264868</td>\n      <td>28.676691</td>\n    </tr>\n    <tr>\n      <th>2901656</th>\n      <td>ua</td>\n      <td>zyubrovka</td>\n      <td>Zyubrovka</td>\n      <td>09</td>\n      <td>NaN</td>\n      <td>48.636837</td>\n      <td>26.601589</td>\n    </tr>\n  </tbody>\n</table>\n<p>682346 rows × 7 columns</p>\n</div>"
     },
     "metadata": {},
     "execution_count": 60
    }
   ],
   "source": [
    "# filter dataset to European countries\n",
    "df_eu = df[df.Country.isin(europe_country_codes)]\n",
    "df_eu.dropna(subset=['City', 'Country'], inplace=True)\n",
    "df_eu"
   ]
  },
  {
   "cell_type": "code",
   "execution_count": 12,
   "metadata": {},
   "outputs": [
    {
     "output_type": "execute_result",
     "data": {
      "text/plain": [
       "        Country               City         AccentCity Region  Population  \\\n",
       "104206       al             zaane             ZÄane     44         NaN   \n",
       "104207       al          zabarzani          Zabarzani     40         NaN   \n",
       "104208       al           zabarzan           Zabarzan     40         NaN   \n",
       "104209       al          zaberzane          Zabërzanë     40         NaN   \n",
       "104210       al  zaberzan i siperm  Zaberzan i Sipërm     40         NaN   \n",
       "...         ...                ...                ...    ...         ...   \n",
       "2901652      ua              zymne              Zymne     24         NaN   \n",
       "2901653      ua        zymovyshche        Zymovyshche     13         NaN   \n",
       "2901654      ua             zymyne             Zymyne     11         NaN   \n",
       "2901655      ua          zytomierz          Zytomierz     27         NaN   \n",
       "2901656      ua          zyubrovka          Zyubrovka     09         NaN   \n",
       "\n",
       "               lat        lon  \n",
       "104206   40.932778  19.783056  \n",
       "104207   40.427778  20.269167  \n",
       "104208   40.427778  20.269167  \n",
       "104209   40.427778  20.269167  \n",
       "104210   40.427778  20.269167  \n",
       "...            ...        ...  \n",
       "2901652  50.801362  24.331114  \n",
       "2901653  51.423169  30.185614  \n",
       "2901654  45.507970  33.514312  \n",
       "2901655  50.264868  28.676691  \n",
       "2901656  48.636837  26.601589  \n",
       "\n",
       "[13218 rows x 7 columns]"
      ],
      "text/html": "<div>\n<style scoped>\n    .dataframe tbody tr th:only-of-type {\n        vertical-align: middle;\n    }\n\n    .dataframe tbody tr th {\n        vertical-align: top;\n    }\n\n    .dataframe thead th {\n        text-align: right;\n    }\n</style>\n<table border=\"1\" class=\"dataframe\">\n  <thead>\n    <tr style=\"text-align: right;\">\n      <th></th>\n      <th>Country</th>\n      <th>City</th>\n      <th>AccentCity</th>\n      <th>Region</th>\n      <th>Population</th>\n      <th>lat</th>\n      <th>lon</th>\n    </tr>\n  </thead>\n  <tbody>\n    <tr>\n      <th>104206</th>\n      <td>al</td>\n      <td>zaane</td>\n      <td>ZÄane</td>\n      <td>44</td>\n      <td>NaN</td>\n      <td>40.932778</td>\n      <td>19.783056</td>\n    </tr>\n    <tr>\n      <th>104207</th>\n      <td>al</td>\n      <td>zabarzani</td>\n      <td>Zabarzani</td>\n      <td>40</td>\n      <td>NaN</td>\n      <td>40.427778</td>\n      <td>20.269167</td>\n    </tr>\n    <tr>\n      <th>104208</th>\n      <td>al</td>\n      <td>zabarzan</td>\n      <td>Zabarzan</td>\n      <td>40</td>\n      <td>NaN</td>\n      <td>40.427778</td>\n      <td>20.269167</td>\n    </tr>\n    <tr>\n      <th>104209</th>\n      <td>al</td>\n      <td>zaberzane</td>\n      <td>Zabërzanë</td>\n      <td>40</td>\n      <td>NaN</td>\n      <td>40.427778</td>\n      <td>20.269167</td>\n    </tr>\n    <tr>\n      <th>104210</th>\n      <td>al</td>\n      <td>zaberzan i siperm</td>\n      <td>Zaberzan i Sipërm</td>\n      <td>40</td>\n      <td>NaN</td>\n      <td>40.427778</td>\n      <td>20.269167</td>\n    </tr>\n    <tr>\n      <th>...</th>\n      <td>...</td>\n      <td>...</td>\n      <td>...</td>\n      <td>...</td>\n      <td>...</td>\n      <td>...</td>\n      <td>...</td>\n    </tr>\n    <tr>\n      <th>2901652</th>\n      <td>ua</td>\n      <td>zymne</td>\n      <td>Zymne</td>\n      <td>24</td>\n      <td>NaN</td>\n      <td>50.801362</td>\n      <td>24.331114</td>\n    </tr>\n    <tr>\n      <th>2901653</th>\n      <td>ua</td>\n      <td>zymovyshche</td>\n      <td>Zymovyshche</td>\n      <td>13</td>\n      <td>NaN</td>\n      <td>51.423169</td>\n      <td>30.185614</td>\n    </tr>\n    <tr>\n      <th>2901654</th>\n      <td>ua</td>\n      <td>zymyne</td>\n      <td>Zymyne</td>\n      <td>11</td>\n      <td>NaN</td>\n      <td>45.507970</td>\n      <td>33.514312</td>\n    </tr>\n    <tr>\n      <th>2901655</th>\n      <td>ua</td>\n      <td>zytomierz</td>\n      <td>Zytomierz</td>\n      <td>27</td>\n      <td>NaN</td>\n      <td>50.264868</td>\n      <td>28.676691</td>\n    </tr>\n    <tr>\n      <th>2901656</th>\n      <td>ua</td>\n      <td>zyubrovka</td>\n      <td>Zyubrovka</td>\n      <td>09</td>\n      <td>NaN</td>\n      <td>48.636837</td>\n      <td>26.601589</td>\n    </tr>\n  </tbody>\n</table>\n<p>13218 rows × 7 columns</p>\n</div>"
     },
     "metadata": {},
     "execution_count": 12
    }
   ],
   "source": [
    "# filter further to cities that start with letter Z\n",
    "df_eu_z = df_eu[df_eu.City.str.startswith('z', na=False)]\n",
    "df_eu_z"
   ]
  },
  {
   "source": [
    "Create a dot density plot with a tooltip that shows the country code and the name of the city separated by a -. Use the DataAccessObject to create a copy of our dataset, which allows the use of f_tooltip. "
   ],
   "cell_type": "markdown",
   "metadata": {}
  },
  {
   "cell_type": "code",
   "execution_count": 22,
   "metadata": {},
   "outputs": [],
   "source": [
    "# convert Pandas DataFrame to DataAccessObject\n",
    "dataset = DataAccessObject(df_eu_z)"
   ]
  },
  {
   "cell_type": "code",
   "execution_count": 23,
   "metadata": {},
   "outputs": [
    {
     "output_type": "stream",
     "name": "stdout",
     "text": [
      "('bbox from Nominatim:', 26.0, 76.0, -15.0, 35.0)\n"
     ]
    }
   ],
   "source": [
    "# plot dataset with points\n",
    "geoplotlib.dot(\n",
    "    dataset,\n",
    "    color='r',\n",
    "    point_size=1,\n",
    "    f_tooltip=lambda d:f\"{d['Country'].upper()} - {str(d['City']).title()}\"\n",
    ")\n",
    "\n",
    "geoplotlib.set_bbox(BoundingBox.from_nominatim('EUROPE'))\n",
    "geoplotlib.show()"
   ]
  },
  {
   "source": [
    "Create a Voronoi plot with the same dataset that only contains cities that start with Z"
   ],
   "cell_type": "markdown",
   "metadata": {}
  },
  {
   "cell_type": "code",
   "execution_count": 26,
   "metadata": {},
   "outputs": [],
   "source": [
    "# plot a Voronoi tessellation\n",
    "geoplotlib.voronoi(\n",
    "    dataset, \n",
    "    cmap='Reds_r',  \n",
    "    max_area=1e5, \n",
    "    alpha=50  \n",
    ")\n",
    "geoplotlib.set_smoothing(True)\n",
    "geoplotlib.show()"
   ]
  },
  {
   "source": [
    "Create a custom layer that plots all the cities in Europe dataset that starts with the provided letter. Make it interactive so that by using the left and right arrow keys, we can switch between the letters."
   ],
   "cell_type": "markdown",
   "metadata": {}
  },
  {
   "cell_type": "code",
   "execution_count": 66,
   "metadata": {},
   "outputs": [
    {
     "output_type": "stream",
     "name": "stdout",
     "text": [
      "('bbox from Nominatim:', 26.0, 76.0, -15.0, 35.0)\n"
     ]
    }
   ],
   "source": [
    "class CustomLayer(BaseLayer):\n",
    " \n",
    "    def __init__(self, dataset, bbox=BoundingBox.from_nominatim('EUROPE')):\n",
    "        self.data = dataset\n",
    "        self.painter = BatchPainter()\n",
    "        self.view = bbox\n",
    "        self.start_letters = list(string.ascii_lowercase)\n",
    "        self.start_letter = 0\n",
    " \n",
    "    def draw(self, proj, mouse_x, mouse_y, ui_manager):\n",
    "        self.painter.batch_draw()\n",
    "        ui_manager.info(f'Cities starting with letter {self.start_letters[self.start_letter % len(self.start_letters)]}')\n",
    "    \n",
    "    def invalidate(self, proj):\n",
    "        letter = self.start_letters[self.start_letter % len(self.start_letters)]\n",
    "        df = self.data[self.data['City'].str.startswith(letter, na=False)]\n",
    "        self.painter = BatchPainter()\n",
    "        x, y = proj.lonlat_to_screen(df['lon'], df['lat'])\n",
    "        self.painter.points(x, y, 1)\n",
    " \n",
    "    def on_key_release(self, key, modifiers):\n",
    "        # if returns True, then draw called\n",
    "        if key == pyglet.window.key.RIGHT:\n",
    "            self.start_letter += 1\n",
    "            return True\n",
    "        elif key == pyglet.window.key.LEFT:\n",
    "            self.start_letter -= 1\n",
    "            return True\n",
    "            \n",
    "        return False\n",
    "     \n",
    "    # bounding box that gets used when layer is created\n",
    "    def bbox(self):\n",
    "        return self.view\n",
    "        \n",
    "# bounding box\n",
    "europe_bbox = BoundingBox(north=68.574309, west=-25.298424, south=34.266013, east=47.387123)\n",
    "\n",
    "geoplotlib.add_layer(CustomLayer(df_eu, europe_bbox))\n",
    "geoplotlib.show()"
   ]
  }
 ]
}