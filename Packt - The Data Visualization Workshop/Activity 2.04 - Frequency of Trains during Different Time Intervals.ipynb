{
 "metadata": {
  "language_info": {
   "codemirror_mode": {
    "name": "ipython",
    "version": 3
   },
   "file_extension": ".py",
   "mimetype": "text/x-python",
   "name": "python",
   "nbconvert_exporter": "python",
   "pygments_lexer": "ipython3",
   "version": 3
  },
  "orig_nbformat": 2
 },
 "nbformat": 4,
 "nbformat_minor": 2,
 "cells": [
  {
   "source": [
    "# Activity 2.04: Frequency of Trains during Different Time Intervals\n",
    "\n",
    "You are provided with a histogram that states the number of trains arriving at different time intervals in the afternoon to determine the maximum number of trains arriving in 2-hour time intervals. The goal of this activity is to gain a deeper insight into histograms:\n",
    "\n",
    "<img src=\"../Graphics/Chapter02/Figure2.38.png\">\n",
    "<p>Figure 2.38: Frequency of trains during different time intervals</p>\n",
    "\n",
    "1. Looking at the following histogram, can you identify the interval during which a maximum number of trains arrive?\n",
    ">Most trains arrive at 4 p.m. and 6 p.m.\n",
    "\n",
    "2. How would the histogram change if in the morning, the same total number of trains arrive as in the afternoon, and if you have the same frequencies for all time intervals?\n",
    ">The histogram appears as follows:\n",
    "><img src=\"../Graphics/Solution/Figure2.47.png\">\n",
    "><p>Figure 2.47: Frequency of trains in the morning</p>"
   ],
   "cell_type": "markdown",
   "metadata": {}
  }
 ]
}