{
 "metadata": {
  "language_info": {
   "codemirror_mode": {
    "name": "ipython",
    "version": 3
   },
   "file_extension": ".py",
   "mimetype": "text/x-python",
   "name": "python",
   "nbconvert_exporter": "python",
   "pygments_lexer": "ipython3",
   "version": 3
  },
  "orig_nbformat": 2
 },
 "nbformat": 4,
 "nbformat_minor": 2,
 "cells": [
  {
   "source": [
    "# Activity 2.03: Smartphone Sales Units\n",
    "\n",
    "You want to compare smartphone sales units for the five biggest smartphone manufacturers over time and see whether there is any trend. In this activity, we also want to look at the advantages and disadvantages of stacked area charts compared to line charts:\n",
    "\n",
    "1. Looking at the following line chart, analyze the sales of each manufacturer and identify the one whose fourth-quarter performance is exceptional when compared to the third quarter.\n",
    ">If we compare the performance of each manufacturer in the third and fourth quarters, we come to the conclusion that Apple has performed exceptionally well. Their sales units have risen at a higher rate from the third quarter to the fourth quarter for both 2016 and 2017 when compared with that of other manufacturers.\n",
    "\n",
    "2. Analyze the performance of all manufacturers and make a prediction about two companies whose sales units will show a downward and an upward trend.\n",
    ">If we look at the trends in the sales units of each manufacturer, we can see that after the third quarter of 2017, the sales units of all the companies except Xiaomi have shown an inconsistency. If we look at the performance of Xiaomi, there has been an upward trend after the first quarter of the year 2017. The sales of Apple and Samsung are exhibiting a downward trend while the sales of Huawei and Xiaomi are showing an upward trend. It is predicted that these trends will continue.\n",
    "\n",
    "<img src=\"../Graphics/Chapter02/Figure2.28.png\">\n",
    "<p>Figure 2.28: Line chart of smartphone sales units</p>\n",
    "\n",
    "3. What would be the advantages and disadvantages of using a stacked area chart instead of a line chart?\n",
    ">Using a stacked area chart would additionally directly visualize the overall trend of smartphone sales. A small drawback is that it would be more difficult to read absolute smartphone sales numbers for an individual company."
   ],
   "cell_type": "markdown",
   "metadata": {}
  }
 ]
}