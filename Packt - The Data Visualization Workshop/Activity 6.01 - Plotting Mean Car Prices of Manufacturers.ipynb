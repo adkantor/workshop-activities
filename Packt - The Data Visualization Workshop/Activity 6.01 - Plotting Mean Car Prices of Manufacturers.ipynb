{
 "metadata": {
  "language_info": {
   "codemirror_mode": {
    "name": "ipython",
    "version": 3
   },
   "file_extension": ".py",
   "mimetype": "text/x-python",
   "name": "python",
   "nbconvert_exporter": "python",
   "pygments_lexer": "ipython3",
   "version": "3.7.2-final"
  },
  "orig_nbformat": 2,
  "kernelspec": {
   "name": "python3",
   "display_name": "Python 3.7.2 64-bit ('dvw')",
   "metadata": {
    "interpreter": {
     "hash": "8352346f857ead0c5352c80b3faa88db502bfde9c6c8c8b59818c149aaa2eebc"
    }
   }
  }
 },
 "nbformat": 4,
 "nbformat_minor": 2,
 "cells": [
  {
   "source": [
    "# Activity 6.01: Plotting Mean Car Prices of Manufacturers\n",
    "\n",
    "This activity will combine everything that you have learned about Bokeh so far. We will use this knowledge to create a visualization that displays the mean price of each car manufacturer of our dataset.\n",
    "\n",
    "Our automobile dataset contains the following columns:\n",
    "\n",
    "- make: Manufacturer of the car\n",
    "- fuel-type: Diesel or gas\n",
    "- num-of-doors: Number of doors\n",
    "- body-style: Body style of the car, for example, convertible\n",
    "- engine-location: Front or rear\n",
    "- length: Continuous from 141.1 to 208.1\n",
    "- width: Continuous from 60.3 to 72.3\n",
    "- height: Continuous from 47.8 to 59.8\n",
    "- num-of-cylinders: Number of cylinders, for example, eight\n",
    "- horsepower: Amount of horsepower\n",
    "- peak-rpm: Maximum RPM\n",
    "- city-mpg: Fuel consumption in the city\n",
    "- highway-mpg: Fuel consumption on the highway\n",
    "- price: Price of the car\n",
    "\n",
    "Note that we will use only the make and price columns in our activity.\n",
    "\n",
    "In the process, we will first plot all cars with their prices and then slowly develop a more sophisticated visualization that also uses color to visually focus the manufacturers with the highest mean prices."
   ],
   "cell_type": "markdown",
   "metadata": {}
  },
  {
   "cell_type": "code",
   "execution_count": 24,
   "metadata": {},
   "outputs": [
    {
     "output_type": "display_data",
     "data": {
      "text/html": "\n    <div class=\"bk-root\">\n        <a href=\"https://bokeh.org\" target=\"_blank\" class=\"bk-logo bk-logo-small bk-logo-notebook\"></a>\n        <span id=\"2382\">Loading BokehJS ...</span>\n    </div>"
     },
     "metadata": {}
    },
    {
     "output_type": "display_data",
     "data": {
      "application/javascript": "\n(function(root) {\n  function now() {\n    return new Date();\n  }\n\n  var force = true;\n\n  if (typeof root._bokeh_onload_callbacks === \"undefined\" || force === true) {\n    root._bokeh_onload_callbacks = [];\n    root._bokeh_is_loading = undefined;\n  }\n\n  var JS_MIME_TYPE = 'application/javascript';\n  var HTML_MIME_TYPE = 'text/html';\n  var EXEC_MIME_TYPE = 'application/vnd.bokehjs_exec.v0+json';\n  var CLASS_NAME = 'output_bokeh rendered_html';\n\n  /**\n   * Render data to the DOM node\n   */\n  function render(props, node) {\n    var script = document.createElement(\"script\");\n    node.appendChild(script);\n  }\n\n  /**\n   * Handle when an output is cleared or removed\n   */\n  function handleClearOutput(event, handle) {\n    var cell = handle.cell;\n\n    var id = cell.output_area._bokeh_element_id;\n    var server_id = cell.output_area._bokeh_server_id;\n    // Clean up Bokeh references\n    if (id != null && id in Bokeh.index) {\n      Bokeh.index[id].model.document.clear();\n      delete Bokeh.index[id];\n    }\n\n    if (server_id !== undefined) {\n      // Clean up Bokeh references\n      var cmd = \"from bokeh.io.state import curstate; print(curstate().uuid_to_server['\" + server_id + \"'].get_sessions()[0].document.roots[0]._id)\";\n      cell.notebook.kernel.execute(cmd, {\n        iopub: {\n          output: function(msg) {\n            var id = msg.content.text.trim();\n            if (id in Bokeh.index) {\n              Bokeh.index[id].model.document.clear();\n              delete Bokeh.index[id];\n            }\n          }\n        }\n      });\n      // Destroy server and session\n      var cmd = \"import bokeh.io.notebook as ion; ion.destroy_server('\" + server_id + \"')\";\n      cell.notebook.kernel.execute(cmd);\n    }\n  }\n\n  /**\n   * Handle when a new output is added\n   */\n  function handleAddOutput(event, handle) {\n    var output_area = handle.output_area;\n    var output = handle.output;\n\n    // limit handleAddOutput to display_data with EXEC_MIME_TYPE content only\n    if ((output.output_type != \"display_data\") || (!output.data.hasOwnProperty(EXEC_MIME_TYPE))) {\n      return\n    }\n\n    var toinsert = output_area.element.find(\".\" + CLASS_NAME.split(' ')[0]);\n\n    if (output.metadata[EXEC_MIME_TYPE][\"id\"] !== undefined) {\n      toinsert[toinsert.length - 1].firstChild.textContent = output.data[JS_MIME_TYPE];\n      // store reference to embed id on output_area\n      output_area._bokeh_element_id = output.metadata[EXEC_MIME_TYPE][\"id\"];\n    }\n    if (output.metadata[EXEC_MIME_TYPE][\"server_id\"] !== undefined) {\n      var bk_div = document.createElement(\"div\");\n      bk_div.innerHTML = output.data[HTML_MIME_TYPE];\n      var script_attrs = bk_div.children[0].attributes;\n      for (var i = 0; i < script_attrs.length; i++) {\n        toinsert[toinsert.length - 1].firstChild.setAttribute(script_attrs[i].name, script_attrs[i].value);\n        toinsert[toinsert.length - 1].firstChild.textContent = bk_div.children[0].textContent\n      }\n      // store reference to server id on output_area\n      output_area._bokeh_server_id = output.metadata[EXEC_MIME_TYPE][\"server_id\"];\n    }\n  }\n\n  function register_renderer(events, OutputArea) {\n\n    function append_mime(data, metadata, element) {\n      // create a DOM node to render to\n      var toinsert = this.create_output_subarea(\n        metadata,\n        CLASS_NAME,\n        EXEC_MIME_TYPE\n      );\n      this.keyboard_manager.register_events(toinsert);\n      // Render to node\n      var props = {data: data, metadata: metadata[EXEC_MIME_TYPE]};\n      render(props, toinsert[toinsert.length - 1]);\n      element.append(toinsert);\n      return toinsert\n    }\n\n    /* Handle when an output is cleared or removed */\n    events.on('clear_output.CodeCell', handleClearOutput);\n    events.on('delete.Cell', handleClearOutput);\n\n    /* Handle when a new output is added */\n    events.on('output_added.OutputArea', handleAddOutput);\n\n    /**\n     * Register the mime type and append_mime function with output_area\n     */\n    OutputArea.prototype.register_mime_type(EXEC_MIME_TYPE, append_mime, {\n      /* Is output safe? */\n      safe: true,\n      /* Index of renderer in `output_area.display_order` */\n      index: 0\n    });\n  }\n\n  // register the mime type if in Jupyter Notebook environment and previously unregistered\n  if (root.Jupyter !== undefined) {\n    var events = require('base/js/events');\n    var OutputArea = require('notebook/js/outputarea').OutputArea;\n\n    if (OutputArea.prototype.mime_types().indexOf(EXEC_MIME_TYPE) == -1) {\n      register_renderer(events, OutputArea);\n    }\n  }\n\n  \n  if (typeof (root._bokeh_timeout) === \"undefined\" || force === true) {\n    root._bokeh_timeout = Date.now() + 5000;\n    root._bokeh_failed_load = false;\n  }\n\n  var NB_LOAD_WARNING = {'data': {'text/html':\n     \"<div style='background-color: #fdd'>\\n\"+\n     \"<p>\\n\"+\n     \"BokehJS does not appear to have successfully loaded. If loading BokehJS from CDN, this \\n\"+\n     \"may be due to a slow or bad network connection. Possible fixes:\\n\"+\n     \"</p>\\n\"+\n     \"<ul>\\n\"+\n     \"<li>re-rerun `output_notebook()` to attempt to load from CDN again, or</li>\\n\"+\n     \"<li>use INLINE resources instead, as so:</li>\\n\"+\n     \"</ul>\\n\"+\n     \"<code>\\n\"+\n     \"from bokeh.resources import INLINE\\n\"+\n     \"output_notebook(resources=INLINE)\\n\"+\n     \"</code>\\n\"+\n     \"</div>\"}};\n\n  function display_loaded() {\n    var el = document.getElementById(\"2382\");\n    if (el != null) {\n      el.textContent = \"BokehJS is loading...\";\n    }\n    if (root.Bokeh !== undefined) {\n      if (el != null) {\n        el.textContent = \"BokehJS \" + root.Bokeh.version + \" successfully loaded.\";\n      }\n    } else if (Date.now() < root._bokeh_timeout) {\n      setTimeout(display_loaded, 100)\n    }\n  }\n\n\n  function run_callbacks() {\n    try {\n      root._bokeh_onload_callbacks.forEach(function(callback) {\n        if (callback != null)\n          callback();\n      });\n    } finally {\n      delete root._bokeh_onload_callbacks\n    }\n    console.debug(\"Bokeh: all callbacks have finished\");\n  }\n\n  function load_libs(css_urls, js_urls, callback) {\n    if (css_urls == null) css_urls = [];\n    if (js_urls == null) js_urls = [];\n\n    root._bokeh_onload_callbacks.push(callback);\n    if (root._bokeh_is_loading > 0) {\n      console.debug(\"Bokeh: BokehJS is being loaded, scheduling callback at\", now());\n      return null;\n    }\n    if (js_urls == null || js_urls.length === 0) {\n      run_callbacks();\n      return null;\n    }\n    console.debug(\"Bokeh: BokehJS not loaded, scheduling load and callback at\", now());\n    root._bokeh_is_loading = css_urls.length + js_urls.length;\n\n    function on_load() {\n      root._bokeh_is_loading--;\n      if (root._bokeh_is_loading === 0) {\n        console.debug(\"Bokeh: all BokehJS libraries/stylesheets loaded\");\n        run_callbacks()\n      }\n    }\n\n    function on_error() {\n      console.error(\"failed to load \" + url);\n    }\n\n    for (var i = 0; i < css_urls.length; i++) {\n      var url = css_urls[i];\n      const element = document.createElement(\"link\");\n      element.onload = on_load;\n      element.onerror = on_error;\n      element.rel = \"stylesheet\";\n      element.type = \"text/css\";\n      element.href = url;\n      console.debug(\"Bokeh: injecting link tag for BokehJS stylesheet: \", url);\n      document.body.appendChild(element);\n    }\n\n    const hashes = {\"https://cdn.bokeh.org/bokeh/release/bokeh-2.2.3.min.js\": \"T2yuo9Oe71Cz/I4X9Ac5+gpEa5a8PpJCDlqKYO0CfAuEszu1JrXLl8YugMqYe3sM\", \"https://cdn.bokeh.org/bokeh/release/bokeh-widgets-2.2.3.min.js\": \"98GDGJ0kOMCUMUePhksaQ/GYgB3+NH9h996V88sh3aOiUNX3N+fLXAtry6xctSZ6\", \"https://cdn.bokeh.org/bokeh/release/bokeh-tables-2.2.3.min.js\": \"89bArO+nlbP3sgakeHjCo1JYxYR5wufVgA3IbUvDY+K7w4zyxJqssu7wVnfeKCq8\"};\n\n    for (var i = 0; i < js_urls.length; i++) {\n      var url = js_urls[i];\n      var element = document.createElement('script');\n      element.onload = on_load;\n      element.onerror = on_error;\n      element.async = false;\n      element.src = url;\n      if (url in hashes) {\n        element.crossOrigin = \"anonymous\";\n        element.integrity = \"sha384-\" + hashes[url];\n      }\n      console.debug(\"Bokeh: injecting script tag for BokehJS library: \", url);\n      document.head.appendChild(element);\n    }\n  };\n\n  function inject_raw_css(css) {\n    const element = document.createElement(\"style\");\n    element.appendChild(document.createTextNode(css));\n    document.body.appendChild(element);\n  }\n\n  \n  var js_urls = [\"https://cdn.bokeh.org/bokeh/release/bokeh-2.2.3.min.js\", \"https://cdn.bokeh.org/bokeh/release/bokeh-widgets-2.2.3.min.js\", \"https://cdn.bokeh.org/bokeh/release/bokeh-tables-2.2.3.min.js\"];\n  var css_urls = [];\n  \n\n  var inline_js = [\n    function(Bokeh) {\n      Bokeh.set_log_level(\"info\");\n    },\n    function(Bokeh) {\n    \n    \n    }\n  ];\n\n  function run_inline_js() {\n    \n    if (root.Bokeh !== undefined || force === true) {\n      \n    for (var i = 0; i < inline_js.length; i++) {\n      inline_js[i].call(root, root.Bokeh);\n    }\n    if (force === true) {\n        display_loaded();\n      }} else if (Date.now() < root._bokeh_timeout) {\n      setTimeout(run_inline_js, 100);\n    } else if (!root._bokeh_failed_load) {\n      console.log(\"Bokeh: BokehJS failed to load within specified timeout.\");\n      root._bokeh_failed_load = true;\n    } else if (force !== true) {\n      var cell = $(document.getElementById(\"2382\")).parents('.cell').data().cell;\n      cell.output_area.append_execute_result(NB_LOAD_WARNING)\n    }\n\n  }\n\n  if (root._bokeh_is_loading === 0) {\n    console.debug(\"Bokeh: BokehJS loaded, going straight to plotting\");\n    run_inline_js();\n  } else {\n    load_libs(css_urls, js_urls, function() {\n      console.debug(\"Bokeh: BokehJS plotting callback run at\", now());\n      run_inline_js();\n    });\n  }\n}(window));",
      "application/vnd.bokehjs_load.v0+json": "\n(function(root) {\n  function now() {\n    return new Date();\n  }\n\n  var force = true;\n\n  if (typeof root._bokeh_onload_callbacks === \"undefined\" || force === true) {\n    root._bokeh_onload_callbacks = [];\n    root._bokeh_is_loading = undefined;\n  }\n\n  \n\n  \n  if (typeof (root._bokeh_timeout) === \"undefined\" || force === true) {\n    root._bokeh_timeout = Date.now() + 5000;\n    root._bokeh_failed_load = false;\n  }\n\n  var NB_LOAD_WARNING = {'data': {'text/html':\n     \"<div style='background-color: #fdd'>\\n\"+\n     \"<p>\\n\"+\n     \"BokehJS does not appear to have successfully loaded. If loading BokehJS from CDN, this \\n\"+\n     \"may be due to a slow or bad network connection. Possible fixes:\\n\"+\n     \"</p>\\n\"+\n     \"<ul>\\n\"+\n     \"<li>re-rerun `output_notebook()` to attempt to load from CDN again, or</li>\\n\"+\n     \"<li>use INLINE resources instead, as so:</li>\\n\"+\n     \"</ul>\\n\"+\n     \"<code>\\n\"+\n     \"from bokeh.resources import INLINE\\n\"+\n     \"output_notebook(resources=INLINE)\\n\"+\n     \"</code>\\n\"+\n     \"</div>\"}};\n\n  function display_loaded() {\n    var el = document.getElementById(\"2382\");\n    if (el != null) {\n      el.textContent = \"BokehJS is loading...\";\n    }\n    if (root.Bokeh !== undefined) {\n      if (el != null) {\n        el.textContent = \"BokehJS \" + root.Bokeh.version + \" successfully loaded.\";\n      }\n    } else if (Date.now() < root._bokeh_timeout) {\n      setTimeout(display_loaded, 100)\n    }\n  }\n\n\n  function run_callbacks() {\n    try {\n      root._bokeh_onload_callbacks.forEach(function(callback) {\n        if (callback != null)\n          callback();\n      });\n    } finally {\n      delete root._bokeh_onload_callbacks\n    }\n    console.debug(\"Bokeh: all callbacks have finished\");\n  }\n\n  function load_libs(css_urls, js_urls, callback) {\n    if (css_urls == null) css_urls = [];\n    if (js_urls == null) js_urls = [];\n\n    root._bokeh_onload_callbacks.push(callback);\n    if (root._bokeh_is_loading > 0) {\n      console.debug(\"Bokeh: BokehJS is being loaded, scheduling callback at\", now());\n      return null;\n    }\n    if (js_urls == null || js_urls.length === 0) {\n      run_callbacks();\n      return null;\n    }\n    console.debug(\"Bokeh: BokehJS not loaded, scheduling load and callback at\", now());\n    root._bokeh_is_loading = css_urls.length + js_urls.length;\n\n    function on_load() {\n      root._bokeh_is_loading--;\n      if (root._bokeh_is_loading === 0) {\n        console.debug(\"Bokeh: all BokehJS libraries/stylesheets loaded\");\n        run_callbacks()\n      }\n    }\n\n    function on_error() {\n      console.error(\"failed to load \" + url);\n    }\n\n    for (var i = 0; i < css_urls.length; i++) {\n      var url = css_urls[i];\n      const element = document.createElement(\"link\");\n      element.onload = on_load;\n      element.onerror = on_error;\n      element.rel = \"stylesheet\";\n      element.type = \"text/css\";\n      element.href = url;\n      console.debug(\"Bokeh: injecting link tag for BokehJS stylesheet: \", url);\n      document.body.appendChild(element);\n    }\n\n    const hashes = {\"https://cdn.bokeh.org/bokeh/release/bokeh-2.2.3.min.js\": \"T2yuo9Oe71Cz/I4X9Ac5+gpEa5a8PpJCDlqKYO0CfAuEszu1JrXLl8YugMqYe3sM\", \"https://cdn.bokeh.org/bokeh/release/bokeh-widgets-2.2.3.min.js\": \"98GDGJ0kOMCUMUePhksaQ/GYgB3+NH9h996V88sh3aOiUNX3N+fLXAtry6xctSZ6\", \"https://cdn.bokeh.org/bokeh/release/bokeh-tables-2.2.3.min.js\": \"89bArO+nlbP3sgakeHjCo1JYxYR5wufVgA3IbUvDY+K7w4zyxJqssu7wVnfeKCq8\"};\n\n    for (var i = 0; i < js_urls.length; i++) {\n      var url = js_urls[i];\n      var element = document.createElement('script');\n      element.onload = on_load;\n      element.onerror = on_error;\n      element.async = false;\n      element.src = url;\n      if (url in hashes) {\n        element.crossOrigin = \"anonymous\";\n        element.integrity = \"sha384-\" + hashes[url];\n      }\n      console.debug(\"Bokeh: injecting script tag for BokehJS library: \", url);\n      document.head.appendChild(element);\n    }\n  };\n\n  function inject_raw_css(css) {\n    const element = document.createElement(\"style\");\n    element.appendChild(document.createTextNode(css));\n    document.body.appendChild(element);\n  }\n\n  \n  var js_urls = [\"https://cdn.bokeh.org/bokeh/release/bokeh-2.2.3.min.js\", \"https://cdn.bokeh.org/bokeh/release/bokeh-widgets-2.2.3.min.js\", \"https://cdn.bokeh.org/bokeh/release/bokeh-tables-2.2.3.min.js\"];\n  var css_urls = [];\n  \n\n  var inline_js = [\n    function(Bokeh) {\n      Bokeh.set_log_level(\"info\");\n    },\n    function(Bokeh) {\n    \n    \n    }\n  ];\n\n  function run_inline_js() {\n    \n    if (root.Bokeh !== undefined || force === true) {\n      \n    for (var i = 0; i < inline_js.length; i++) {\n      inline_js[i].call(root, root.Bokeh);\n    }\n    if (force === true) {\n        display_loaded();\n      }} else if (Date.now() < root._bokeh_timeout) {\n      setTimeout(run_inline_js, 100);\n    } else if (!root._bokeh_failed_load) {\n      console.log(\"Bokeh: BokehJS failed to load within specified timeout.\");\n      root._bokeh_failed_load = true;\n    } else if (force !== true) {\n      var cell = $(document.getElementById(\"2382\")).parents('.cell').data().cell;\n      cell.output_area.append_execute_result(NB_LOAD_WARNING)\n    }\n\n  }\n\n  if (root._bokeh_is_loading === 0) {\n    console.debug(\"Bokeh: BokehJS loaded, going straight to plotting\");\n    run_inline_js();\n  } else {\n    load_libs(css_urls, js_urls, function() {\n      console.debug(\"Bokeh: BokehJS plotting callback run at\", now());\n      run_inline_js();\n    });\n  }\n}(window));"
     },
     "metadata": {}
    }
   ],
   "source": [
    "import pandas as pd \n",
    "import numpy as np \n",
    "import bokeh.plotting as plt \n",
    "import bokeh.io as io\n",
    "from bokeh.models import LinearColorMapper\n",
    "\n",
    "io.output_notebook()"
   ]
  },
  {
   "cell_type": "code",
   "execution_count": 14,
   "metadata": {},
   "outputs": [
    {
     "output_type": "execute_result",
     "data": {
      "text/plain": [
       "            make fuel-type num-of-doors   body-style engine-location  length  \\\n",
       "0    alfa-romero       gas          two  convertible           front   168.8   \n",
       "1    alfa-romero       gas          two  convertible           front   168.8   \n",
       "2    alfa-romero       gas          two    hatchback           front   171.2   \n",
       "3           audi       gas         four        sedan           front   176.6   \n",
       "4           audi       gas         four        sedan           front   176.6   \n",
       "..           ...       ...          ...          ...             ...     ...   \n",
       "196        volvo       gas         four        sedan           front   188.8   \n",
       "197        volvo       gas         four        sedan           front   188.8   \n",
       "198        volvo       gas         four        sedan           front   188.8   \n",
       "199        volvo    diesel         four        sedan           front   188.8   \n",
       "200        volvo       gas         four        sedan           front   188.8   \n",
       "\n",
       "     width  height num-of-cylinders horsepower peak-rpm  city-mpg  \\\n",
       "0     64.1    48.8             four        111     5000        21   \n",
       "1     64.1    48.8             four        111     5000        21   \n",
       "2     65.5    52.4              six        154     5000        19   \n",
       "3     66.2    54.3             four        102     5500        24   \n",
       "4     66.4    54.3             five        115     5500        18   \n",
       "..     ...     ...              ...        ...      ...       ...   \n",
       "196   68.9    55.5             four        114     5400        23   \n",
       "197   68.8    55.5             four        160     5300        19   \n",
       "198   68.9    55.5              six        134     5500        18   \n",
       "199   68.9    55.5              six        106     4800        26   \n",
       "200   68.9    55.5             four        114     5400        19   \n",
       "\n",
       "     highway-mpg  price  \n",
       "0             27  13495  \n",
       "1             27  16500  \n",
       "2             26  16500  \n",
       "3             30  13950  \n",
       "4             22  17450  \n",
       "..           ...    ...  \n",
       "196           28  16845  \n",
       "197           25  19045  \n",
       "198           23  21485  \n",
       "199           27  22470  \n",
       "200           25  22625  \n",
       "\n",
       "[201 rows x 14 columns]"
      ],
      "text/html": "<div>\n<style scoped>\n    .dataframe tbody tr th:only-of-type {\n        vertical-align: middle;\n    }\n\n    .dataframe tbody tr th {\n        vertical-align: top;\n    }\n\n    .dataframe thead th {\n        text-align: right;\n    }\n</style>\n<table border=\"1\" class=\"dataframe\">\n  <thead>\n    <tr style=\"text-align: right;\">\n      <th></th>\n      <th>make</th>\n      <th>fuel-type</th>\n      <th>num-of-doors</th>\n      <th>body-style</th>\n      <th>engine-location</th>\n      <th>length</th>\n      <th>width</th>\n      <th>height</th>\n      <th>num-of-cylinders</th>\n      <th>horsepower</th>\n      <th>peak-rpm</th>\n      <th>city-mpg</th>\n      <th>highway-mpg</th>\n      <th>price</th>\n    </tr>\n  </thead>\n  <tbody>\n    <tr>\n      <th>0</th>\n      <td>alfa-romero</td>\n      <td>gas</td>\n      <td>two</td>\n      <td>convertible</td>\n      <td>front</td>\n      <td>168.8</td>\n      <td>64.1</td>\n      <td>48.8</td>\n      <td>four</td>\n      <td>111</td>\n      <td>5000</td>\n      <td>21</td>\n      <td>27</td>\n      <td>13495</td>\n    </tr>\n    <tr>\n      <th>1</th>\n      <td>alfa-romero</td>\n      <td>gas</td>\n      <td>two</td>\n      <td>convertible</td>\n      <td>front</td>\n      <td>168.8</td>\n      <td>64.1</td>\n      <td>48.8</td>\n      <td>four</td>\n      <td>111</td>\n      <td>5000</td>\n      <td>21</td>\n      <td>27</td>\n      <td>16500</td>\n    </tr>\n    <tr>\n      <th>2</th>\n      <td>alfa-romero</td>\n      <td>gas</td>\n      <td>two</td>\n      <td>hatchback</td>\n      <td>front</td>\n      <td>171.2</td>\n      <td>65.5</td>\n      <td>52.4</td>\n      <td>six</td>\n      <td>154</td>\n      <td>5000</td>\n      <td>19</td>\n      <td>26</td>\n      <td>16500</td>\n    </tr>\n    <tr>\n      <th>3</th>\n      <td>audi</td>\n      <td>gas</td>\n      <td>four</td>\n      <td>sedan</td>\n      <td>front</td>\n      <td>176.6</td>\n      <td>66.2</td>\n      <td>54.3</td>\n      <td>four</td>\n      <td>102</td>\n      <td>5500</td>\n      <td>24</td>\n      <td>30</td>\n      <td>13950</td>\n    </tr>\n    <tr>\n      <th>4</th>\n      <td>audi</td>\n      <td>gas</td>\n      <td>four</td>\n      <td>sedan</td>\n      <td>front</td>\n      <td>176.6</td>\n      <td>66.4</td>\n      <td>54.3</td>\n      <td>five</td>\n      <td>115</td>\n      <td>5500</td>\n      <td>18</td>\n      <td>22</td>\n      <td>17450</td>\n    </tr>\n    <tr>\n      <th>...</th>\n      <td>...</td>\n      <td>...</td>\n      <td>...</td>\n      <td>...</td>\n      <td>...</td>\n      <td>...</td>\n      <td>...</td>\n      <td>...</td>\n      <td>...</td>\n      <td>...</td>\n      <td>...</td>\n      <td>...</td>\n      <td>...</td>\n      <td>...</td>\n    </tr>\n    <tr>\n      <th>196</th>\n      <td>volvo</td>\n      <td>gas</td>\n      <td>four</td>\n      <td>sedan</td>\n      <td>front</td>\n      <td>188.8</td>\n      <td>68.9</td>\n      <td>55.5</td>\n      <td>four</td>\n      <td>114</td>\n      <td>5400</td>\n      <td>23</td>\n      <td>28</td>\n      <td>16845</td>\n    </tr>\n    <tr>\n      <th>197</th>\n      <td>volvo</td>\n      <td>gas</td>\n      <td>four</td>\n      <td>sedan</td>\n      <td>front</td>\n      <td>188.8</td>\n      <td>68.8</td>\n      <td>55.5</td>\n      <td>four</td>\n      <td>160</td>\n      <td>5300</td>\n      <td>19</td>\n      <td>25</td>\n      <td>19045</td>\n    </tr>\n    <tr>\n      <th>198</th>\n      <td>volvo</td>\n      <td>gas</td>\n      <td>four</td>\n      <td>sedan</td>\n      <td>front</td>\n      <td>188.8</td>\n      <td>68.9</td>\n      <td>55.5</td>\n      <td>six</td>\n      <td>134</td>\n      <td>5500</td>\n      <td>18</td>\n      <td>23</td>\n      <td>21485</td>\n    </tr>\n    <tr>\n      <th>199</th>\n      <td>volvo</td>\n      <td>diesel</td>\n      <td>four</td>\n      <td>sedan</td>\n      <td>front</td>\n      <td>188.8</td>\n      <td>68.9</td>\n      <td>55.5</td>\n      <td>six</td>\n      <td>106</td>\n      <td>4800</td>\n      <td>26</td>\n      <td>27</td>\n      <td>22470</td>\n    </tr>\n    <tr>\n      <th>200</th>\n      <td>volvo</td>\n      <td>gas</td>\n      <td>four</td>\n      <td>sedan</td>\n      <td>front</td>\n      <td>188.8</td>\n      <td>68.9</td>\n      <td>55.5</td>\n      <td>four</td>\n      <td>114</td>\n      <td>5400</td>\n      <td>19</td>\n      <td>25</td>\n      <td>22625</td>\n    </tr>\n  </tbody>\n</table>\n<p>201 rows × 14 columns</p>\n</div>"
     },
     "metadata": {},
     "execution_count": 14
    }
   ],
   "source": [
    "# load dataset\n",
    "df = pd.read_csv('../../Datasets/automobiles.csv')\n",
    "df"
   ]
  },
  {
   "cell_type": "code",
   "execution_count": 15,
   "metadata": {},
   "outputs": [
    {
     "output_type": "execute_result",
     "data": {
      "text/plain": [
       "            make fuel-type num-of-doors   body-style engine-location  length  \\\n",
       "0    alfa-romero       gas          two  convertible           front   168.8   \n",
       "1    alfa-romero       gas          two  convertible           front   168.8   \n",
       "2    alfa-romero       gas          two    hatchback           front   171.2   \n",
       "3           audi       gas         four        sedan           front   176.6   \n",
       "4           audi       gas         four        sedan           front   176.6   \n",
       "..           ...       ...          ...          ...             ...     ...   \n",
       "196        volvo       gas         four        sedan           front   188.8   \n",
       "197        volvo       gas         four        sedan           front   188.8   \n",
       "198        volvo       gas         four        sedan           front   188.8   \n",
       "199        volvo    diesel         four        sedan           front   188.8   \n",
       "200        volvo       gas         four        sedan           front   188.8   \n",
       "\n",
       "     width  height num-of-cylinders horsepower peak-rpm  city-mpg  \\\n",
       "0     64.1    48.8             four        111     5000        21   \n",
       "1     64.1    48.8             four        111     5000        21   \n",
       "2     65.5    52.4              six        154     5000        19   \n",
       "3     66.2    54.3             four        102     5500        24   \n",
       "4     66.4    54.3             five        115     5500        18   \n",
       "..     ...     ...              ...        ...      ...       ...   \n",
       "196   68.9    55.5             four        114     5400        23   \n",
       "197   68.8    55.5             four        160     5300        19   \n",
       "198   68.9    55.5              six        134     5500        18   \n",
       "199   68.9    55.5              six        106     4800        26   \n",
       "200   68.9    55.5             four        114     5400        19   \n",
       "\n",
       "     highway-mpg  price  index  \n",
       "0             27  13495      0  \n",
       "1             27  16500      1  \n",
       "2             26  16500      2  \n",
       "3             30  13950      3  \n",
       "4             22  17450      4  \n",
       "..           ...    ...    ...  \n",
       "196           28  16845    196  \n",
       "197           25  19045    197  \n",
       "198           23  21485    198  \n",
       "199           27  22470    199  \n",
       "200           25  22625    200  \n",
       "\n",
       "[201 rows x 15 columns]"
      ],
      "text/html": "<div>\n<style scoped>\n    .dataframe tbody tr th:only-of-type {\n        vertical-align: middle;\n    }\n\n    .dataframe tbody tr th {\n        vertical-align: top;\n    }\n\n    .dataframe thead th {\n        text-align: right;\n    }\n</style>\n<table border=\"1\" class=\"dataframe\">\n  <thead>\n    <tr style=\"text-align: right;\">\n      <th></th>\n      <th>make</th>\n      <th>fuel-type</th>\n      <th>num-of-doors</th>\n      <th>body-style</th>\n      <th>engine-location</th>\n      <th>length</th>\n      <th>width</th>\n      <th>height</th>\n      <th>num-of-cylinders</th>\n      <th>horsepower</th>\n      <th>peak-rpm</th>\n      <th>city-mpg</th>\n      <th>highway-mpg</th>\n      <th>price</th>\n      <th>index</th>\n    </tr>\n  </thead>\n  <tbody>\n    <tr>\n      <th>0</th>\n      <td>alfa-romero</td>\n      <td>gas</td>\n      <td>two</td>\n      <td>convertible</td>\n      <td>front</td>\n      <td>168.8</td>\n      <td>64.1</td>\n      <td>48.8</td>\n      <td>four</td>\n      <td>111</td>\n      <td>5000</td>\n      <td>21</td>\n      <td>27</td>\n      <td>13495</td>\n      <td>0</td>\n    </tr>\n    <tr>\n      <th>1</th>\n      <td>alfa-romero</td>\n      <td>gas</td>\n      <td>two</td>\n      <td>convertible</td>\n      <td>front</td>\n      <td>168.8</td>\n      <td>64.1</td>\n      <td>48.8</td>\n      <td>four</td>\n      <td>111</td>\n      <td>5000</td>\n      <td>21</td>\n      <td>27</td>\n      <td>16500</td>\n      <td>1</td>\n    </tr>\n    <tr>\n      <th>2</th>\n      <td>alfa-romero</td>\n      <td>gas</td>\n      <td>two</td>\n      <td>hatchback</td>\n      <td>front</td>\n      <td>171.2</td>\n      <td>65.5</td>\n      <td>52.4</td>\n      <td>six</td>\n      <td>154</td>\n      <td>5000</td>\n      <td>19</td>\n      <td>26</td>\n      <td>16500</td>\n      <td>2</td>\n    </tr>\n    <tr>\n      <th>3</th>\n      <td>audi</td>\n      <td>gas</td>\n      <td>four</td>\n      <td>sedan</td>\n      <td>front</td>\n      <td>176.6</td>\n      <td>66.2</td>\n      <td>54.3</td>\n      <td>four</td>\n      <td>102</td>\n      <td>5500</td>\n      <td>24</td>\n      <td>30</td>\n      <td>13950</td>\n      <td>3</td>\n    </tr>\n    <tr>\n      <th>4</th>\n      <td>audi</td>\n      <td>gas</td>\n      <td>four</td>\n      <td>sedan</td>\n      <td>front</td>\n      <td>176.6</td>\n      <td>66.4</td>\n      <td>54.3</td>\n      <td>five</td>\n      <td>115</td>\n      <td>5500</td>\n      <td>18</td>\n      <td>22</td>\n      <td>17450</td>\n      <td>4</td>\n    </tr>\n    <tr>\n      <th>...</th>\n      <td>...</td>\n      <td>...</td>\n      <td>...</td>\n      <td>...</td>\n      <td>...</td>\n      <td>...</td>\n      <td>...</td>\n      <td>...</td>\n      <td>...</td>\n      <td>...</td>\n      <td>...</td>\n      <td>...</td>\n      <td>...</td>\n      <td>...</td>\n      <td>...</td>\n    </tr>\n    <tr>\n      <th>196</th>\n      <td>volvo</td>\n      <td>gas</td>\n      <td>four</td>\n      <td>sedan</td>\n      <td>front</td>\n      <td>188.8</td>\n      <td>68.9</td>\n      <td>55.5</td>\n      <td>four</td>\n      <td>114</td>\n      <td>5400</td>\n      <td>23</td>\n      <td>28</td>\n      <td>16845</td>\n      <td>196</td>\n    </tr>\n    <tr>\n      <th>197</th>\n      <td>volvo</td>\n      <td>gas</td>\n      <td>four</td>\n      <td>sedan</td>\n      <td>front</td>\n      <td>188.8</td>\n      <td>68.8</td>\n      <td>55.5</td>\n      <td>four</td>\n      <td>160</td>\n      <td>5300</td>\n      <td>19</td>\n      <td>25</td>\n      <td>19045</td>\n      <td>197</td>\n    </tr>\n    <tr>\n      <th>198</th>\n      <td>volvo</td>\n      <td>gas</td>\n      <td>four</td>\n      <td>sedan</td>\n      <td>front</td>\n      <td>188.8</td>\n      <td>68.9</td>\n      <td>55.5</td>\n      <td>six</td>\n      <td>134</td>\n      <td>5500</td>\n      <td>18</td>\n      <td>23</td>\n      <td>21485</td>\n      <td>198</td>\n    </tr>\n    <tr>\n      <th>199</th>\n      <td>volvo</td>\n      <td>diesel</td>\n      <td>four</td>\n      <td>sedan</td>\n      <td>front</td>\n      <td>188.8</td>\n      <td>68.9</td>\n      <td>55.5</td>\n      <td>six</td>\n      <td>106</td>\n      <td>4800</td>\n      <td>26</td>\n      <td>27</td>\n      <td>22470</td>\n      <td>199</td>\n    </tr>\n    <tr>\n      <th>200</th>\n      <td>volvo</td>\n      <td>gas</td>\n      <td>four</td>\n      <td>sedan</td>\n      <td>front</td>\n      <td>188.8</td>\n      <td>68.9</td>\n      <td>55.5</td>\n      <td>four</td>\n      <td>114</td>\n      <td>5400</td>\n      <td>19</td>\n      <td>25</td>\n      <td>22625</td>\n      <td>200</td>\n    </tr>\n  </tbody>\n</table>\n<p>201 rows × 15 columns</p>\n</div>"
     },
     "metadata": {},
     "execution_count": 15
    }
   ],
   "source": [
    "# add 'index' column\n",
    "df['index'] = df.index\n",
    "df"
   ]
  },
  {
   "source": [
    "Create a new figure and plot each car using a scatter plot with the index and price column. Give the visualization a title of Car prices and name the x-axis Car Index. The y-axis should be named Price."
   ],
   "cell_type": "markdown",
   "metadata": {}
  },
  {
   "cell_type": "code",
   "execution_count": 16,
   "metadata": {},
   "outputs": [
    {
     "output_type": "display_data",
     "data": {
      "text/html": "\n\n\n\n\n\n  <div class=\"bk-root\" id=\"219f1707-8104-4113-8fc0-36ff0256dd29\" data-root-id=\"1394\"></div>\n"
     },
     "metadata": {}
    },
    {
     "output_type": "display_data",
     "data": {
      "application/javascript": "(function(root) {\n  function embed_document(root) {\n    \n  var docs_json = {\"99cb0b08-b7e4-4252-bb2c-17062c2ca477\":{\"roots\":{\"references\":[{\"attributes\":{\"below\":[{\"id\":\"1405\"}],\"center\":[{\"id\":\"1408\"},{\"id\":\"1412\"}],\"left\":[{\"id\":\"1409\"}],\"renderers\":[{\"id\":\"1430\"}],\"title\":{\"id\":\"1395\"},\"toolbar\":{\"id\":\"1420\"},\"x_range\":{\"id\":\"1397\"},\"x_scale\":{\"id\":\"1401\"},\"y_range\":{\"id\":\"1399\"},\"y_scale\":{\"id\":\"1403\"}},\"id\":\"1394\",\"subtype\":\"Figure\",\"type\":\"Plot\"},{\"attributes\":{\"axis_label\":\"Car Index\",\"formatter\":{\"id\":\"1468\"},\"ticker\":{\"id\":\"1406\"}},\"id\":\"1405\",\"type\":\"LinearAxis\"},{\"attributes\":{},\"id\":\"1466\",\"type\":\"BasicTickFormatter\"},{\"attributes\":{\"active_drag\":\"auto\",\"active_inspect\":\"auto\",\"active_multi\":null,\"active_scroll\":\"auto\",\"active_tap\":\"auto\",\"tools\":[{\"id\":\"1413\"},{\"id\":\"1414\"},{\"id\":\"1415\"},{\"id\":\"1416\"},{\"id\":\"1417\"},{\"id\":\"1418\"}]},\"id\":\"1420\",\"type\":\"Toolbar\"},{\"attributes\":{\"axis_label\":\"Price\",\"formatter\":{\"id\":\"1466\"},\"ticker\":{\"id\":\"1410\"}},\"id\":\"1409\",\"type\":\"LinearAxis\"},{\"attributes\":{},\"id\":\"1399\",\"type\":\"DataRange1d\"},{\"attributes\":{\"bottom_units\":\"screen\",\"fill_alpha\":0.5,\"fill_color\":\"lightgrey\",\"left_units\":\"screen\",\"level\":\"overlay\",\"line_alpha\":1.0,\"line_color\":\"black\",\"line_dash\":[4,4],\"line_width\":2,\"right_units\":\"screen\",\"top_units\":\"screen\"},\"id\":\"1419\",\"type\":\"BoxAnnotation\"},{\"attributes\":{},\"id\":\"1401\",\"type\":\"LinearScale\"},{\"attributes\":{\"data\":{\"x\":[0,1,2,3,4,5,6,7,8,9,10,11,12,13,14,15,16,17,18,19,20,21,22,23,24,25,26,27,28,29,30,31,32,33,34,35,36,37,38,39,40,41,42,43,44,45,46,47,48,49,50,51,52,53,54,55,56,57,58,59,60,61,62,63,64,65,66,67,68,69,70,71,72,73,74,75,76,77,78,79,80,81,82,83,84,85,86,87,88,89,90,91,92,93,94,95,96,97,98,99,100,101,102,103,104,105,106,107,108,109,110,111,112,113,114,115,116,117,118,119,120,121,122,123,124,125,126,127,128,129,130,131,132,133,134,135,136,137,138,139,140,141,142,143,144,145,146,147,148,149,150,151,152,153,154,155,156,157,158,159,160,161,162,163,164,165,166,167,168,169,170,171,172,173,174,175,176,177,178,179,180,181,182,183,184,185,186,187,188,189,190,191,192,193,194,195,196,197,198,199,200],\"y\":[13495,16500,16500,13950,17450,15250,17710,18920,23875,16430,16925,20970,21105,24565,30760,41315,36880,5151,6295,6575,5572,6377,7957,6229,6692,7609,8558,8921,12964,6479,6855,5399,6529,7129,7295,7295,7895,9095,8845,10295,12945,10345,6785,11048,32250,35550,36000,5195,6095,6795,6695,7395,10945,11845,13645,15645,8845,8495,10595,10245,10795,11245,18280,18344,25552,28248,28176,31600,34184,35056,40960,45400,16503,5389,6189,6669,7689,9959,8499,12629,14869,14489,6989,8189,9279,9279,5499,7099,6649,6849,7349,7299,7799,7499,7999,8249,8949,9549,13499,14399,13499,17199,19699,18399,11900,13200,12440,13860,15580,16900,16695,17075,16630,17950,18150,5572,7957,6229,6692,7609,8921,12764,22018,32528,34028,37028,9295,9895,11850,12170,15040,15510,18150,18620,5118,7053,7603,7126,7775,9960,9233,11259,7463,10198,8013,11694,5348,6338,6488,6918,7898,8778,6938,7198,7898,7788,7738,8358,9258,8058,8238,9298,9538,8449,9639,9989,11199,11549,17669,8948,10698,9988,10898,11248,16558,15998,15690,15750,7775,7975,7995,8195,8495,9495,9995,11595,9980,13295,13845,12290,12940,13415,15985,16515,18420,18950,16845,19045,21485,22470,22625]},\"selected\":{\"id\":\"1470\"},\"selection_policy\":{\"id\":\"1471\"}},\"id\":\"1427\",\"type\":\"ColumnDataSource\"},{\"attributes\":{\"axis\":{\"id\":\"1409\"},\"dimension\":1,\"ticker\":null},\"id\":\"1412\",\"type\":\"Grid\"},{\"attributes\":{},\"id\":\"1414\",\"type\":\"WheelZoomTool\"},{\"attributes\":{\"axis\":{\"id\":\"1405\"},\"ticker\":null},\"id\":\"1408\",\"type\":\"Grid\"},{\"attributes\":{},\"id\":\"1406\",\"type\":\"BasicTicker\"},{\"attributes\":{\"fill_alpha\":{\"value\":0.1},\"fill_color\":{\"value\":\"#1f77b4\"},\"line_alpha\":{\"value\":0.1},\"line_color\":{\"value\":\"#1f77b4\"},\"size\":{\"units\":\"screen\",\"value\":10},\"x\":{\"field\":\"x\"},\"y\":{\"field\":\"y\"}},\"id\":\"1429\",\"type\":\"Scatter\"},{\"attributes\":{},\"id\":\"1470\",\"type\":\"Selection\"},{\"attributes\":{\"overlay\":{\"id\":\"1419\"}},\"id\":\"1415\",\"type\":\"BoxZoomTool\"},{\"attributes\":{\"data_source\":{\"id\":\"1427\"},\"glyph\":{\"id\":\"1428\"},\"hover_glyph\":null,\"muted_glyph\":null,\"nonselection_glyph\":{\"id\":\"1429\"},\"selection_glyph\":null,\"view\":{\"id\":\"1431\"}},\"id\":\"1430\",\"type\":\"GlyphRenderer\"},{\"attributes\":{},\"id\":\"1410\",\"type\":\"BasicTicker\"},{\"attributes\":{},\"id\":\"1417\",\"type\":\"ResetTool\"},{\"attributes\":{},\"id\":\"1397\",\"type\":\"DataRange1d\"},{\"attributes\":{},\"id\":\"1418\",\"type\":\"HelpTool\"},{\"attributes\":{},\"id\":\"1416\",\"type\":\"SaveTool\"},{\"attributes\":{},\"id\":\"1413\",\"type\":\"PanTool\"},{\"attributes\":{},\"id\":\"1403\",\"type\":\"LinearScale\"},{\"attributes\":{},\"id\":\"1468\",\"type\":\"BasicTickFormatter\"},{\"attributes\":{},\"id\":\"1471\",\"type\":\"UnionRenderers\"},{\"attributes\":{\"fill_color\":{\"value\":\"#1f77b4\"},\"line_color\":{\"value\":\"#1f77b4\"},\"size\":{\"units\":\"screen\",\"value\":10},\"x\":{\"field\":\"x\"},\"y\":{\"field\":\"y\"}},\"id\":\"1428\",\"type\":\"Scatter\"},{\"attributes\":{\"source\":{\"id\":\"1427\"}},\"id\":\"1431\",\"type\":\"CDSView\"},{\"attributes\":{\"text\":\"Car prices\"},\"id\":\"1395\",\"type\":\"Title\"}],\"root_ids\":[\"1394\"]},\"title\":\"Bokeh Application\",\"version\":\"2.2.3\"}};\n  var render_items = [{\"docid\":\"99cb0b08-b7e4-4252-bb2c-17062c2ca477\",\"root_ids\":[\"1394\"],\"roots\":{\"1394\":\"219f1707-8104-4113-8fc0-36ff0256dd29\"}}];\n  root.Bokeh.embed.embed_items_notebook(docs_json, render_items);\n\n  }\n  if (root.Bokeh !== undefined) {\n    embed_document(root);\n  } else {\n    var attempts = 0;\n    var timer = setInterval(function(root) {\n      if (root.Bokeh !== undefined) {\n        clearInterval(timer);\n        embed_document(root);\n      } else {\n        attempts++;\n        if (attempts > 100) {\n          clearInterval(timer);\n          console.log(\"Bokeh: ERROR: Unable to run BokehJS code because BokehJS library is missing\");\n        }\n      }\n    }, 10, root)\n  }\n})(window);",
      "application/vnd.bokehjs_exec.v0+json": ""
     },
     "metadata": {
      "application/vnd.bokehjs_exec.v0+json": {
       "id": "1394"
      }
     }
    }
   ],
   "source": [
    "plot = plt.figure(\n",
    "    title='Car prices', \n",
    "    x_axis_label='Car Index', \n",
    "    y_axis_label='Price'\n",
    ")\n",
    " \n",
    "plot.scatter(\n",
    "    x=df['index'], \n",
    "    y=df['price'],\n",
    "    size=10\n",
    ")\n",
    " \n",
    "plt.show(plot)"
   ]
  },
  {
   "source": [
    "## Grouping cars from manufacturers together\n",
    "\n",
    "Group the dataset using ```groupby``` and the column ```make```. Then use the ```mean``` method to get the mean value for each column. We don't want the make column to be used as an index, so provide the ```as_index=False``` argument to ```groupby```."
   ],
   "cell_type": "markdown",
   "metadata": {}
  },
  {
   "cell_type": "code",
   "execution_count": 17,
   "metadata": {},
   "outputs": [
    {
     "output_type": "execute_result",
     "data": {
      "text/plain": [
       "             make      length      width     height   city-mpg  highway-mpg  \\\n",
       "0     alfa-romero  169.600000  64.566667  50.000000  20.333333    26.666667   \n",
       "1            audi  184.766667  68.850000  54.833333  19.333333    24.500000   \n",
       "2             bmw  184.500000  66.475000  54.825000  19.375000    25.375000   \n",
       "3       chevrolet  151.933333  62.500000  52.400000  41.000000    46.333333   \n",
       "4           dodge  160.988889  64.166667  51.644444  28.000000    34.111111   \n",
       "5           honda  160.769231  64.384615  53.238462  30.384615    35.461538   \n",
       "6           isuzu  171.650000  63.500000  52.450000  24.000000    29.000000   \n",
       "7          jaguar  196.966667  69.933333  51.133333  14.333333    18.333333   \n",
       "8           mazda  170.805882  65.588235  53.358824  25.705882    31.941176   \n",
       "9   mercedes-benz  195.262500  71.062500  55.725000  18.500000    21.000000   \n",
       "10        mercury  178.400000  68.000000  54.800000  19.000000    24.000000   \n",
       "11     mitsubishi  168.030769  65.253846  50.692308  24.923077    31.153846   \n",
       "12         nissan  170.988889  65.088889  53.633333  27.000000    32.944444   \n",
       "13         peugot  191.136364  68.390909  57.181818  22.454545    26.636364   \n",
       "14       plymouth  164.900000  64.271429  51.971429  28.142857    34.142857   \n",
       "15        porsche  168.900000  65.825000  51.250000  17.500000    25.500000   \n",
       "16        renault  179.150000  66.550000  52.850000  23.000000    31.000000   \n",
       "17           saab  186.600000  66.500000  56.100000  20.333333    27.333333   \n",
       "18         subaru  168.858333  64.950000  53.750000  26.333333    30.750000   \n",
       "19         toyota  171.934375  65.090625  53.721875  27.500000    32.906250   \n",
       "20     volkswagen  172.533333  65.616667  55.183333  28.583333    34.916667   \n",
       "21          volvo  188.800000  67.963636  56.236364  21.181818    25.818182   \n",
       "\n",
       "           price  index  \n",
       "0   15498.333333    1.0  \n",
       "1   17859.166667    5.5  \n",
       "2   26118.750000   12.5  \n",
       "3    6007.000000   18.0  \n",
       "4    7875.444444   24.0  \n",
       "5    8184.692308   35.0  \n",
       "6    8916.500000   42.5  \n",
       "7   34600.000000   45.0  \n",
       "8   10652.882353   55.0  \n",
       "9   33647.000000   67.5  \n",
       "10  16503.000000   72.0  \n",
       "11   9239.769231   79.0  \n",
       "12  10415.666667   94.5  \n",
       "13  15489.090909  109.0  \n",
       "14   7963.428571  118.0  \n",
       "15  31400.500000  123.5  \n",
       "16   9595.000000  126.5  \n",
       "17  15223.333333  130.5  \n",
       "18   8541.250000  139.5  \n",
       "19   9885.812500  161.5  \n",
       "20  10077.500000  183.5  \n",
       "21  18063.181818  195.0  "
      ],
      "text/html": "<div>\n<style scoped>\n    .dataframe tbody tr th:only-of-type {\n        vertical-align: middle;\n    }\n\n    .dataframe tbody tr th {\n        vertical-align: top;\n    }\n\n    .dataframe thead th {\n        text-align: right;\n    }\n</style>\n<table border=\"1\" class=\"dataframe\">\n  <thead>\n    <tr style=\"text-align: right;\">\n      <th></th>\n      <th>make</th>\n      <th>length</th>\n      <th>width</th>\n      <th>height</th>\n      <th>city-mpg</th>\n      <th>highway-mpg</th>\n      <th>price</th>\n      <th>index</th>\n    </tr>\n  </thead>\n  <tbody>\n    <tr>\n      <th>0</th>\n      <td>alfa-romero</td>\n      <td>169.600000</td>\n      <td>64.566667</td>\n      <td>50.000000</td>\n      <td>20.333333</td>\n      <td>26.666667</td>\n      <td>15498.333333</td>\n      <td>1.0</td>\n    </tr>\n    <tr>\n      <th>1</th>\n      <td>audi</td>\n      <td>184.766667</td>\n      <td>68.850000</td>\n      <td>54.833333</td>\n      <td>19.333333</td>\n      <td>24.500000</td>\n      <td>17859.166667</td>\n      <td>5.5</td>\n    </tr>\n    <tr>\n      <th>2</th>\n      <td>bmw</td>\n      <td>184.500000</td>\n      <td>66.475000</td>\n      <td>54.825000</td>\n      <td>19.375000</td>\n      <td>25.375000</td>\n      <td>26118.750000</td>\n      <td>12.5</td>\n    </tr>\n    <tr>\n      <th>3</th>\n      <td>chevrolet</td>\n      <td>151.933333</td>\n      <td>62.500000</td>\n      <td>52.400000</td>\n      <td>41.000000</td>\n      <td>46.333333</td>\n      <td>6007.000000</td>\n      <td>18.0</td>\n    </tr>\n    <tr>\n      <th>4</th>\n      <td>dodge</td>\n      <td>160.988889</td>\n      <td>64.166667</td>\n      <td>51.644444</td>\n      <td>28.000000</td>\n      <td>34.111111</td>\n      <td>7875.444444</td>\n      <td>24.0</td>\n    </tr>\n    <tr>\n      <th>5</th>\n      <td>honda</td>\n      <td>160.769231</td>\n      <td>64.384615</td>\n      <td>53.238462</td>\n      <td>30.384615</td>\n      <td>35.461538</td>\n      <td>8184.692308</td>\n      <td>35.0</td>\n    </tr>\n    <tr>\n      <th>6</th>\n      <td>isuzu</td>\n      <td>171.650000</td>\n      <td>63.500000</td>\n      <td>52.450000</td>\n      <td>24.000000</td>\n      <td>29.000000</td>\n      <td>8916.500000</td>\n      <td>42.5</td>\n    </tr>\n    <tr>\n      <th>7</th>\n      <td>jaguar</td>\n      <td>196.966667</td>\n      <td>69.933333</td>\n      <td>51.133333</td>\n      <td>14.333333</td>\n      <td>18.333333</td>\n      <td>34600.000000</td>\n      <td>45.0</td>\n    </tr>\n    <tr>\n      <th>8</th>\n      <td>mazda</td>\n      <td>170.805882</td>\n      <td>65.588235</td>\n      <td>53.358824</td>\n      <td>25.705882</td>\n      <td>31.941176</td>\n      <td>10652.882353</td>\n      <td>55.0</td>\n    </tr>\n    <tr>\n      <th>9</th>\n      <td>mercedes-benz</td>\n      <td>195.262500</td>\n      <td>71.062500</td>\n      <td>55.725000</td>\n      <td>18.500000</td>\n      <td>21.000000</td>\n      <td>33647.000000</td>\n      <td>67.5</td>\n    </tr>\n    <tr>\n      <th>10</th>\n      <td>mercury</td>\n      <td>178.400000</td>\n      <td>68.000000</td>\n      <td>54.800000</td>\n      <td>19.000000</td>\n      <td>24.000000</td>\n      <td>16503.000000</td>\n      <td>72.0</td>\n    </tr>\n    <tr>\n      <th>11</th>\n      <td>mitsubishi</td>\n      <td>168.030769</td>\n      <td>65.253846</td>\n      <td>50.692308</td>\n      <td>24.923077</td>\n      <td>31.153846</td>\n      <td>9239.769231</td>\n      <td>79.0</td>\n    </tr>\n    <tr>\n      <th>12</th>\n      <td>nissan</td>\n      <td>170.988889</td>\n      <td>65.088889</td>\n      <td>53.633333</td>\n      <td>27.000000</td>\n      <td>32.944444</td>\n      <td>10415.666667</td>\n      <td>94.5</td>\n    </tr>\n    <tr>\n      <th>13</th>\n      <td>peugot</td>\n      <td>191.136364</td>\n      <td>68.390909</td>\n      <td>57.181818</td>\n      <td>22.454545</td>\n      <td>26.636364</td>\n      <td>15489.090909</td>\n      <td>109.0</td>\n    </tr>\n    <tr>\n      <th>14</th>\n      <td>plymouth</td>\n      <td>164.900000</td>\n      <td>64.271429</td>\n      <td>51.971429</td>\n      <td>28.142857</td>\n      <td>34.142857</td>\n      <td>7963.428571</td>\n      <td>118.0</td>\n    </tr>\n    <tr>\n      <th>15</th>\n      <td>porsche</td>\n      <td>168.900000</td>\n      <td>65.825000</td>\n      <td>51.250000</td>\n      <td>17.500000</td>\n      <td>25.500000</td>\n      <td>31400.500000</td>\n      <td>123.5</td>\n    </tr>\n    <tr>\n      <th>16</th>\n      <td>renault</td>\n      <td>179.150000</td>\n      <td>66.550000</td>\n      <td>52.850000</td>\n      <td>23.000000</td>\n      <td>31.000000</td>\n      <td>9595.000000</td>\n      <td>126.5</td>\n    </tr>\n    <tr>\n      <th>17</th>\n      <td>saab</td>\n      <td>186.600000</td>\n      <td>66.500000</td>\n      <td>56.100000</td>\n      <td>20.333333</td>\n      <td>27.333333</td>\n      <td>15223.333333</td>\n      <td>130.5</td>\n    </tr>\n    <tr>\n      <th>18</th>\n      <td>subaru</td>\n      <td>168.858333</td>\n      <td>64.950000</td>\n      <td>53.750000</td>\n      <td>26.333333</td>\n      <td>30.750000</td>\n      <td>8541.250000</td>\n      <td>139.5</td>\n    </tr>\n    <tr>\n      <th>19</th>\n      <td>toyota</td>\n      <td>171.934375</td>\n      <td>65.090625</td>\n      <td>53.721875</td>\n      <td>27.500000</td>\n      <td>32.906250</td>\n      <td>9885.812500</td>\n      <td>161.5</td>\n    </tr>\n    <tr>\n      <th>20</th>\n      <td>volkswagen</td>\n      <td>172.533333</td>\n      <td>65.616667</td>\n      <td>55.183333</td>\n      <td>28.583333</td>\n      <td>34.916667</td>\n      <td>10077.500000</td>\n      <td>183.5</td>\n    </tr>\n    <tr>\n      <th>21</th>\n      <td>volvo</td>\n      <td>188.800000</td>\n      <td>67.963636</td>\n      <td>56.236364</td>\n      <td>21.181818</td>\n      <td>25.818182</td>\n      <td>18063.181818</td>\n      <td>195.0</td>\n    </tr>\n  </tbody>\n</table>\n</div>"
     },
     "metadata": {},
     "execution_count": 17
    }
   ],
   "source": [
    "df_by_make = df.groupby(by=['make'], as_index=False).mean()\n",
    "df_by_make"
   ]
  },
  {
   "source": [
    "Create a new figure with a ```title``` of Car Manufacturer Mean Prices, an ```x-axis``` of Car Manufacturer, and a ```y-label``` of Mean Price. In addition to that, handle the categorical data by providing the ```x_range``` argument to the figure with the make column."
   ],
   "cell_type": "markdown",
   "metadata": {}
  },
  {
   "cell_type": "code",
   "execution_count": 23,
   "metadata": {},
   "outputs": [
    {
     "output_type": "display_data",
     "data": {
      "text/html": "\n\n\n\n\n\n  <div class=\"bk-root\" id=\"02b346f3-7189-4a6b-b464-ab4267b92e6c\" data-root-id=\"2217\"></div>\n"
     },
     "metadata": {}
    },
    {
     "output_type": "display_data",
     "data": {
      "application/javascript": "(function(root) {\n  function embed_document(root) {\n    \n  var docs_json = {\"5222df51-4ed5-45a2-a54f-a51ee84a6d67\":{\"roots\":{\"references\":[{\"attributes\":{\"below\":[{\"id\":\"2228\"}],\"center\":[{\"id\":\"2230\"},{\"id\":\"2234\"}],\"left\":[{\"id\":\"2231\"}],\"renderers\":[{\"id\":\"2252\"}],\"title\":{\"id\":\"2218\"},\"toolbar\":{\"id\":\"2242\"},\"x_range\":{\"id\":\"2220\"},\"x_scale\":{\"id\":\"2224\"},\"y_range\":{\"id\":\"2222\"},\"y_scale\":{\"id\":\"2226\"}},\"id\":\"2217\",\"subtype\":\"Figure\",\"type\":\"Plot\"},{\"attributes\":{\"axis\":{\"id\":\"2228\"},\"ticker\":null},\"id\":\"2230\",\"type\":\"Grid\"},{\"attributes\":{\"text\":\"Car Manufacturer Mean Prices\"},\"id\":\"2218\",\"type\":\"Title\"},{\"attributes\":{\"factors\":[\"alfa-romero\",\"audi\",\"bmw\",\"chevrolet\",\"dodge\",\"honda\",\"isuzu\",\"jaguar\",\"mazda\",\"mercedes-benz\",\"mercury\",\"mitsubishi\",\"nissan\",\"peugot\",\"plymouth\",\"porsche\",\"renault\",\"saab\",\"subaru\",\"toyota\",\"volkswagen\",\"volvo\"]},\"id\":\"2220\",\"type\":\"FactorRange\"},{\"attributes\":{\"active_drag\":\"auto\",\"active_inspect\":\"auto\",\"active_multi\":null,\"active_scroll\":\"auto\",\"active_tap\":\"auto\",\"tools\":[{\"id\":\"2235\"},{\"id\":\"2236\"},{\"id\":\"2237\"},{\"id\":\"2238\"},{\"id\":\"2239\"},{\"id\":\"2240\"}]},\"id\":\"2242\",\"type\":\"Toolbar\"},{\"attributes\":{\"source\":{\"id\":\"2249\"}},\"id\":\"2253\",\"type\":\"CDSView\"},{\"attributes\":{},\"id\":\"2229\",\"type\":\"CategoricalTicker\"},{\"attributes\":{\"fill_alpha\":{\"value\":0.1},\"fill_color\":{\"value\":\"#1f77b4\"},\"line_alpha\":{\"value\":0.1},\"line_color\":{\"value\":\"#1f77b4\"},\"size\":{\"units\":\"screen\",\"value\":10},\"x\":{\"field\":\"x\"},\"y\":{\"field\":\"y\"}},\"id\":\"2251\",\"type\":\"Scatter\"},{\"attributes\":{\"bottom_units\":\"screen\",\"fill_alpha\":0.5,\"fill_color\":\"lightgrey\",\"left_units\":\"screen\",\"level\":\"overlay\",\"line_alpha\":1.0,\"line_color\":\"black\",\"line_dash\":[4,4],\"line_width\":2,\"right_units\":\"screen\",\"top_units\":\"screen\"},\"id\":\"2241\",\"type\":\"BoxAnnotation\"},{\"attributes\":{},\"id\":\"2224\",\"type\":\"CategoricalScale\"},{\"attributes\":{\"axis\":{\"id\":\"2231\"},\"dimension\":1,\"ticker\":null},\"id\":\"2234\",\"type\":\"Grid\"},{\"attributes\":{},\"id\":\"2336\",\"type\":\"BasicTickFormatter\"},{\"attributes\":{},\"id\":\"2236\",\"type\":\"WheelZoomTool\"},{\"attributes\":{\"axis_label\":\"Car Manufacturer\",\"formatter\":{\"id\":\"2338\"},\"major_label_orientation\":1.57,\"ticker\":{\"id\":\"2229\"}},\"id\":\"2228\",\"type\":\"CategoricalAxis\"},{\"attributes\":{},\"id\":\"2341\",\"type\":\"UnionRenderers\"},{\"attributes\":{\"fill_color\":{\"value\":\"#1f77b4\"},\"line_color\":{\"value\":\"#1f77b4\"},\"size\":{\"units\":\"screen\",\"value\":10},\"x\":{\"field\":\"x\"},\"y\":{\"field\":\"y\"}},\"id\":\"2250\",\"type\":\"Scatter\"},{\"attributes\":{\"axis_label\":\"Mean Price\",\"formatter\":{\"id\":\"2336\"},\"ticker\":{\"id\":\"2232\"}},\"id\":\"2231\",\"type\":\"LinearAxis\"},{\"attributes\":{},\"id\":\"2222\",\"type\":\"DataRange1d\"},{\"attributes\":{},\"id\":\"2226\",\"type\":\"LinearScale\"},{\"attributes\":{},\"id\":\"2340\",\"type\":\"Selection\"},{\"attributes\":{\"data_source\":{\"id\":\"2249\"},\"glyph\":{\"id\":\"2250\"},\"hover_glyph\":null,\"muted_glyph\":null,\"nonselection_glyph\":{\"id\":\"2251\"},\"selection_glyph\":null,\"view\":{\"id\":\"2253\"}},\"id\":\"2252\",\"type\":\"GlyphRenderer\"},{\"attributes\":{},\"id\":\"2338\",\"type\":\"CategoricalTickFormatter\"},{\"attributes\":{},\"id\":\"2235\",\"type\":\"PanTool\"},{\"attributes\":{},\"id\":\"2239\",\"type\":\"ResetTool\"},{\"attributes\":{},\"id\":\"2232\",\"type\":\"BasicTicker\"},{\"attributes\":{},\"id\":\"2240\",\"type\":\"HelpTool\"},{\"attributes\":{},\"id\":\"2238\",\"type\":\"SaveTool\"},{\"attributes\":{\"data\":{\"x\":[\"alfa-romero\",\"audi\",\"bmw\",\"chevrolet\",\"dodge\",\"honda\",\"isuzu\",\"jaguar\",\"mazda\",\"mercedes-benz\",\"mercury\",\"mitsubishi\",\"nissan\",\"peugot\",\"plymouth\",\"porsche\",\"renault\",\"saab\",\"subaru\",\"toyota\",\"volkswagen\",\"volvo\"],\"y\":{\"__ndarray__\":\"q6qqqipFzkCrqqqqynDRQAAAAACwgdlAAAAAAAB3t0DHcRzHccO+QDuxEzux+L9AAAAAAEBqwUAAAAAAAOXgQPHw8PBwzsRAAAAAAOBt4EAAAAAAwB3QQHZiJ3biC8JAVVVVVdVXxEAvuuiii0DOQLdt27ZtG79AAAAAACCq3kAAAAAAgL3CQKuqqqqqu81AAAAAAKCuwEAAAAAA6E7DQAAAAADArsNAL7roosuj0UA=\",\"dtype\":\"float64\",\"order\":\"little\",\"shape\":[22]}},\"selected\":{\"id\":\"2340\"},\"selection_policy\":{\"id\":\"2341\"}},\"id\":\"2249\",\"type\":\"ColumnDataSource\"},{\"attributes\":{\"overlay\":{\"id\":\"2241\"}},\"id\":\"2237\",\"type\":\"BoxZoomTool\"}],\"root_ids\":[\"2217\"]},\"title\":\"Bokeh Application\",\"version\":\"2.2.3\"}};\n  var render_items = [{\"docid\":\"5222df51-4ed5-45a2-a54f-a51ee84a6d67\",\"root_ids\":[\"2217\"],\"roots\":{\"2217\":\"02b346f3-7189-4a6b-b464-ab4267b92e6c\"}}];\n  root.Bokeh.embed.embed_items_notebook(docs_json, render_items);\n\n  }\n  if (root.Bokeh !== undefined) {\n    embed_document(root);\n  } else {\n    var attempts = 0;\n    var timer = setInterval(function(root) {\n      if (root.Bokeh !== undefined) {\n        clearInterval(timer);\n        embed_document(root);\n      } else {\n        attempts++;\n        if (attempts > 100) {\n          clearInterval(timer);\n          console.log(\"Bokeh: ERROR: Unable to run BokehJS code because BokehJS library is missing\");\n        }\n      }\n    }, 10, root)\n  }\n})(window);",
      "application/vnd.bokehjs_exec.v0+json": ""
     },
     "metadata": {
      "application/vnd.bokehjs_exec.v0+json": {
       "id": "2217"
      }
     }
    }
   ],
   "source": [
    "plot2 = plt.figure(\n",
    "    title='Car Manufacturer Mean Prices', \n",
    "    x_axis_label='Car Manufacturer', \n",
    "    y_axis_label='Mean Price',\n",
    "    x_range=df_by_make['make']\n",
    ")\n",
    " \n",
    "plot2.scatter(\n",
    "    x=df_by_make['make'], \n",
    "    y=df_by_make['price'],\n",
    "    size=10\n",
    ")\n",
    "\n",
    "plot2.xaxis.major_label_orientation = 1.57 # pi/2\n",
    "\n",
    "plt.show(plot2)"
   ]
  },
  {
   "source": [
    "## Adding color\n",
    "\n",
    "Import and set up a new ```LinearColorMapper``` object with a palette of Magma256, and the min and max prices for the low and high arguments.\n",
    "\n",
    "Create a new figure with the same name, labels, and x_range as before.\n",
    "\n",
    "Plot each manufacturer and provide a size argument with a size of 15.\n",
    "\n",
    "Provide the color argument to the scatter method and use the field and transform attributes to provide the column (y) and the color_mapper.\n",
    "\n",
    "Set the label orientation to vertical."
   ],
   "cell_type": "markdown",
   "metadata": {}
  },
  {
   "cell_type": "code",
   "execution_count": 27,
   "metadata": {},
   "outputs": [],
   "source": [
    "# color points by value\n",
    "color_mapper = LinearColorMapper(\n",
    "    palette='Magma256', \n",
    "    low=min(df_by_make['price']), \n",
    "    high=max(df_by_make['price'])\n",
    ")"
   ]
  },
  {
   "cell_type": "code",
   "execution_count": 29,
   "metadata": {},
   "outputs": [
    {
     "output_type": "display_data",
     "data": {
      "text/html": "\n\n\n\n\n\n  <div class=\"bk-root\" id=\"e3e19f2f-0c86-424b-9bb8-e42de2e1fe80\" data-root-id=\"2539\"></div>\n"
     },
     "metadata": {}
    },
    {
     "output_type": "display_data",
     "data": {
      "application/javascript": "(function(root) {\n  function embed_document(root) {\n    \n  var docs_json = {\"fab4f566-7a1d-42de-9479-9b059824143d\":{\"roots\":{\"references\":[{\"attributes\":{\"below\":[{\"id\":\"2550\"}],\"center\":[{\"id\":\"2552\"},{\"id\":\"2556\"}],\"left\":[{\"id\":\"2553\"}],\"renderers\":[{\"id\":\"2574\"}],\"title\":{\"id\":\"2540\"},\"toolbar\":{\"id\":\"2564\"},\"x_range\":{\"id\":\"2542\"},\"x_scale\":{\"id\":\"2546\"},\"y_range\":{\"id\":\"2544\"},\"y_scale\":{\"id\":\"2548\"}},\"id\":\"2539\",\"subtype\":\"Figure\",\"type\":\"Plot\"},{\"attributes\":{\"axis_label\":\"Mean Price\",\"formatter\":{\"id\":\"2666\"},\"ticker\":{\"id\":\"2554\"}},\"id\":\"2553\",\"type\":\"LinearAxis\"},{\"attributes\":{\"text\":\"Car Manufacturer Mean Prices\"},\"id\":\"2540\",\"type\":\"Title\"},{\"attributes\":{},\"id\":\"2557\",\"type\":\"PanTool\"},{\"attributes\":{\"overlay\":{\"id\":\"2563\"}},\"id\":\"2559\",\"type\":\"BoxZoomTool\"},{\"attributes\":{\"data\":{\"x\":[\"alfa-romero\",\"audi\",\"bmw\",\"chevrolet\",\"dodge\",\"honda\",\"isuzu\",\"jaguar\",\"mazda\",\"mercedes-benz\",\"mercury\",\"mitsubishi\",\"nissan\",\"peugot\",\"plymouth\",\"porsche\",\"renault\",\"saab\",\"subaru\",\"toyota\",\"volkswagen\",\"volvo\"],\"y\":{\"__ndarray__\":\"q6qqqipFzkCrqqqqynDRQAAAAACwgdlAAAAAAAB3t0DHcRzHccO+QDuxEzux+L9AAAAAAEBqwUAAAAAAAOXgQPHw8PBwzsRAAAAAAOBt4EAAAAAAwB3QQHZiJ3biC8JAVVVVVdVXxEAvuuiii0DOQLdt27ZtG79AAAAAACCq3kAAAAAAgL3CQKuqqqqqu81AAAAAAKCuwEAAAAAA6E7DQAAAAADArsNAL7roosuj0UA=\",\"dtype\":\"float64\",\"order\":\"little\",\"shape\":[22]}},\"selected\":{\"id\":\"2670\"},\"selection_policy\":{\"id\":\"2671\"}},\"id\":\"2571\",\"type\":\"ColumnDataSource\"},{\"attributes\":{},\"id\":\"2666\",\"type\":\"BasicTickFormatter\"},{\"attributes\":{},\"id\":\"2670\",\"type\":\"Selection\"},{\"attributes\":{},\"id\":\"2560\",\"type\":\"SaveTool\"},{\"attributes\":{},\"id\":\"2561\",\"type\":\"ResetTool\"},{\"attributes\":{\"fill_alpha\":{\"value\":0.1},\"fill_color\":{\"field\":\"y\",\"transform\":{\"id\":\"2461\"}},\"line_alpha\":{\"value\":0.1},\"line_color\":{\"field\":\"y\",\"transform\":{\"id\":\"2461\"}},\"size\":{\"units\":\"screen\",\"value\":15},\"x\":{\"field\":\"x\"},\"y\":{\"field\":\"y\"}},\"id\":\"2573\",\"type\":\"Scatter\"},{\"attributes\":{\"axis_label\":\"Car Manufacturer\",\"formatter\":{\"id\":\"2668\"},\"major_label_orientation\":1.57,\"ticker\":{\"id\":\"2551\"}},\"id\":\"2550\",\"type\":\"CategoricalAxis\"},{\"attributes\":{},\"id\":\"2562\",\"type\":\"HelpTool\"},{\"attributes\":{},\"id\":\"2551\",\"type\":\"CategoricalTicker\"},{\"attributes\":{},\"id\":\"2546\",\"type\":\"CategoricalScale\"},{\"attributes\":{},\"id\":\"2548\",\"type\":\"LinearScale\"},{\"attributes\":{\"active_drag\":\"auto\",\"active_inspect\":\"auto\",\"active_multi\":null,\"active_scroll\":\"auto\",\"active_tap\":\"auto\",\"tools\":[{\"id\":\"2557\"},{\"id\":\"2558\"},{\"id\":\"2559\"},{\"id\":\"2560\"},{\"id\":\"2561\"},{\"id\":\"2562\"}]},\"id\":\"2564\",\"type\":\"Toolbar\"},{\"attributes\":{\"bottom_units\":\"screen\",\"fill_alpha\":0.5,\"fill_color\":\"lightgrey\",\"left_units\":\"screen\",\"level\":\"overlay\",\"line_alpha\":1.0,\"line_color\":\"black\",\"line_dash\":[4,4],\"line_width\":2,\"right_units\":\"screen\",\"top_units\":\"screen\"},\"id\":\"2563\",\"type\":\"BoxAnnotation\"},{\"attributes\":{\"data_source\":{\"id\":\"2571\"},\"glyph\":{\"id\":\"2572\"},\"hover_glyph\":null,\"muted_glyph\":null,\"nonselection_glyph\":{\"id\":\"2573\"},\"selection_glyph\":null,\"view\":{\"id\":\"2575\"}},\"id\":\"2574\",\"type\":\"GlyphRenderer\"},{\"attributes\":{},\"id\":\"2544\",\"type\":\"DataRange1d\"},{\"attributes\":{\"source\":{\"id\":\"2571\"}},\"id\":\"2575\",\"type\":\"CDSView\"},{\"attributes\":{\"factors\":[\"alfa-romero\",\"audi\",\"bmw\",\"chevrolet\",\"dodge\",\"honda\",\"isuzu\",\"jaguar\",\"mazda\",\"mercedes-benz\",\"mercury\",\"mitsubishi\",\"nissan\",\"peugot\",\"plymouth\",\"porsche\",\"renault\",\"saab\",\"subaru\",\"toyota\",\"volkswagen\",\"volvo\"]},\"id\":\"2542\",\"type\":\"FactorRange\"},{\"attributes\":{},\"id\":\"2668\",\"type\":\"CategoricalTickFormatter\"},{\"attributes\":{\"fill_color\":{\"field\":\"y\",\"transform\":{\"id\":\"2461\"}},\"line_color\":{\"field\":\"y\",\"transform\":{\"id\":\"2461\"}},\"size\":{\"units\":\"screen\",\"value\":15},\"x\":{\"field\":\"x\"},\"y\":{\"field\":\"y\"}},\"id\":\"2572\",\"type\":\"Scatter\"},{\"attributes\":{},\"id\":\"2671\",\"type\":\"UnionRenderers\"},{\"attributes\":{},\"id\":\"2554\",\"type\":\"BasicTicker\"},{\"attributes\":{\"high\":34600.0,\"low\":6007.0,\"palette\":[\"#000003\",\"#000004\",\"#000006\",\"#010007\",\"#010109\",\"#01010B\",\"#02020D\",\"#02020F\",\"#030311\",\"#040313\",\"#040415\",\"#050417\",\"#060519\",\"#07051B\",\"#08061D\",\"#09071F\",\"#0A0722\",\"#0B0824\",\"#0C0926\",\"#0D0A28\",\"#0E0A2A\",\"#0F0B2C\",\"#100C2F\",\"#110C31\",\"#120D33\",\"#140D35\",\"#150E38\",\"#160E3A\",\"#170F3C\",\"#180F3F\",\"#1A1041\",\"#1B1044\",\"#1C1046\",\"#1E1049\",\"#1F114B\",\"#20114D\",\"#221150\",\"#231152\",\"#251155\",\"#261157\",\"#281159\",\"#2A115C\",\"#2B115E\",\"#2D1060\",\"#2F1062\",\"#301065\",\"#321067\",\"#341068\",\"#350F6A\",\"#370F6C\",\"#390F6E\",\"#3B0F6F\",\"#3C0F71\",\"#3E0F72\",\"#400F73\",\"#420F74\",\"#430F75\",\"#450F76\",\"#470F77\",\"#481078\",\"#4A1079\",\"#4B1079\",\"#4D117A\",\"#4F117B\",\"#50127B\",\"#52127C\",\"#53137C\",\"#55137D\",\"#57147D\",\"#58157E\",\"#5A157E\",\"#5B167E\",\"#5D177E\",\"#5E177F\",\"#60187F\",\"#61187F\",\"#63197F\",\"#651A80\",\"#661A80\",\"#681B80\",\"#691C80\",\"#6B1C80\",\"#6C1D80\",\"#6E1E81\",\"#6F1E81\",\"#711F81\",\"#731F81\",\"#742081\",\"#762181\",\"#772181\",\"#792281\",\"#7A2281\",\"#7C2381\",\"#7E2481\",\"#7F2481\",\"#812581\",\"#822581\",\"#842681\",\"#852681\",\"#872781\",\"#892881\",\"#8A2881\",\"#8C2980\",\"#8D2980\",\"#8F2A80\",\"#912A80\",\"#922B80\",\"#942B80\",\"#952C80\",\"#972C7F\",\"#992D7F\",\"#9A2D7F\",\"#9C2E7F\",\"#9E2E7E\",\"#9F2F7E\",\"#A12F7E\",\"#A3307E\",\"#A4307D\",\"#A6317D\",\"#A7317D\",\"#A9327C\",\"#AB337C\",\"#AC337B\",\"#AE347B\",\"#B0347B\",\"#B1357A\",\"#B3357A\",\"#B53679\",\"#B63679\",\"#B83778\",\"#B93778\",\"#BB3877\",\"#BD3977\",\"#BE3976\",\"#C03A75\",\"#C23A75\",\"#C33B74\",\"#C53C74\",\"#C63C73\",\"#C83D72\",\"#CA3E72\",\"#CB3E71\",\"#CD3F70\",\"#CE4070\",\"#D0416F\",\"#D1426E\",\"#D3426D\",\"#D4436D\",\"#D6446C\",\"#D7456B\",\"#D9466A\",\"#DA4769\",\"#DC4869\",\"#DD4968\",\"#DE4A67\",\"#E04B66\",\"#E14C66\",\"#E24D65\",\"#E44E64\",\"#E55063\",\"#E65162\",\"#E75262\",\"#E85461\",\"#EA5560\",\"#EB5660\",\"#EC585F\",\"#ED595F\",\"#EE5B5E\",\"#EE5D5D\",\"#EF5E5D\",\"#F0605D\",\"#F1615C\",\"#F2635C\",\"#F3655C\",\"#F3675B\",\"#F4685B\",\"#F56A5B\",\"#F56C5B\",\"#F66E5B\",\"#F6705B\",\"#F7715B\",\"#F7735C\",\"#F8755C\",\"#F8775C\",\"#F9795C\",\"#F97B5D\",\"#F97D5D\",\"#FA7F5E\",\"#FA805E\",\"#FA825F\",\"#FB8460\",\"#FB8660\",\"#FB8861\",\"#FB8A62\",\"#FC8C63\",\"#FC8E63\",\"#FC9064\",\"#FC9265\",\"#FC9366\",\"#FD9567\",\"#FD9768\",\"#FD9969\",\"#FD9B6A\",\"#FD9D6B\",\"#FD9F6C\",\"#FDA16E\",\"#FDA26F\",\"#FDA470\",\"#FEA671\",\"#FEA873\",\"#FEAA74\",\"#FEAC75\",\"#FEAE76\",\"#FEAF78\",\"#FEB179\",\"#FEB37B\",\"#FEB57C\",\"#FEB77D\",\"#FEB97F\",\"#FEBB80\",\"#FEBC82\",\"#FEBE83\",\"#FEC085\",\"#FEC286\",\"#FEC488\",\"#FEC689\",\"#FEC78B\",\"#FEC98D\",\"#FECB8E\",\"#FDCD90\",\"#FDCF92\",\"#FDD193\",\"#FDD295\",\"#FDD497\",\"#FDD698\",\"#FDD89A\",\"#FDDA9C\",\"#FDDC9D\",\"#FDDD9F\",\"#FDDFA1\",\"#FDE1A3\",\"#FCE3A5\",\"#FCE5A6\",\"#FCE6A8\",\"#FCE8AA\",\"#FCEAAC\",\"#FCECAE\",\"#FCEEB0\",\"#FCF0B1\",\"#FCF1B3\",\"#FCF3B5\",\"#FCF5B7\",\"#FBF7B9\",\"#FBF9BB\",\"#FBFABD\",\"#FBFCBF\"]},\"id\":\"2461\",\"type\":\"LinearColorMapper\"},{\"attributes\":{\"axis\":{\"id\":\"2553\"},\"dimension\":1,\"ticker\":null},\"id\":\"2556\",\"type\":\"Grid\"},{\"attributes\":{},\"id\":\"2558\",\"type\":\"WheelZoomTool\"},{\"attributes\":{\"axis\":{\"id\":\"2550\"},\"ticker\":null},\"id\":\"2552\",\"type\":\"Grid\"}],\"root_ids\":[\"2539\"]},\"title\":\"Bokeh Application\",\"version\":\"2.2.3\"}};\n  var render_items = [{\"docid\":\"fab4f566-7a1d-42de-9479-9b059824143d\",\"root_ids\":[\"2539\"],\"roots\":{\"2539\":\"e3e19f2f-0c86-424b-9bb8-e42de2e1fe80\"}}];\n  root.Bokeh.embed.embed_items_notebook(docs_json, render_items);\n\n  }\n  if (root.Bokeh !== undefined) {\n    embed_document(root);\n  } else {\n    var attempts = 0;\n    var timer = setInterval(function(root) {\n      if (root.Bokeh !== undefined) {\n        clearInterval(timer);\n        embed_document(root);\n      } else {\n        attempts++;\n        if (attempts > 100) {\n          clearInterval(timer);\n          console.log(\"Bokeh: ERROR: Unable to run BokehJS code because BokehJS library is missing\");\n        }\n      }\n    }, 10, root)\n  }\n})(window);",
      "application/vnd.bokehjs_exec.v0+json": ""
     },
     "metadata": {
      "application/vnd.bokehjs_exec.v0+json": {
       "id": "2539"
      }
     }
    }
   ],
   "source": [
    "plot3 = plt.figure(\n",
    "    title='Car Manufacturer Mean Prices', \n",
    "    x_axis_label='Car Manufacturer', \n",
    "    y_axis_label='Mean Price',\n",
    "    x_range=df_by_make['make']\n",
    ")\n",
    " \n",
    "plot3.scatter(\n",
    "    x=df_by_make['make'], \n",
    "    y=df_by_make['price'],\n",
    "    color={'field': 'y', 'transform': color_mapper},\n",
    "    size=15\n",
    ")\n",
    "\n",
    "plot3.xaxis.major_label_orientation = 1.57 # pi/2\n",
    "\n",
    "plt.show(plot3)"
   ]
  },
  {
   "cell_type": "code",
   "execution_count": null,
   "metadata": {},
   "outputs": [],
   "source": []
  }
 ]
}