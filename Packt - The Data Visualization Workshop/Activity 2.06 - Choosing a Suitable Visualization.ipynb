{
 "metadata": {
  "language_info": {
   "codemirror_mode": {
    "name": "ipython",
    "version": 3
   },
   "file_extension": ".py",
   "mimetype": "text/x-python",
   "name": "python",
   "nbconvert_exporter": "python",
   "pygments_lexer": "ipython3",
   "version": 3
  },
  "orig_nbformat": 2
 },
 "nbformat": 4,
 "nbformat_minor": 2,
 "cells": [
  {
   "source": [
    "# Activity 2.06: Choosing a Suitable Visualization\n",
    "\n",
    "In this activity, we are using a dataset to visualize the median, the interquartile ranges, and the underlying density of populations from different income groups. Here is the link to the dataset that we have used. Select the best suitable plot from the following plots.\n",
    "\n",
    "The following diagram shows the population by different income groups using a density plot:\n",
    "\n",
    "<img src=\"../Graphics/Chapter02/Figure2.44.png\">\n",
    "<p>Figure 2.44: Density plot</p>\n",
    "\n",
    "\n",
    "The following diagram shows the population by different income groups using a box plot:\n",
    "\n",
    "<img src=\"../Graphics/Chapter02/Figure2.45.png\">\n",
    "<p>Figure 2.45: Box plot</p>\n",
    "\n",
    "\n",
    "The following diagram shows the population by different income groups using a violin plot:\n",
    "\n",
    "<img src=\"../Graphics/Chapter02/Figure2.46.png\">\n",
    "<p>Figure 2.46: Violin plot</p>\n",
    "\n",
    "---\n",
    "\n",
    ">Since it was asked of us to visualize the median, the interquartile ranges, and the underlying density of populations from different income groups, violin plots are the best choice as they visualize both summary statistics and a kernel density estimate. The density plot only shows the density, whereas box plots only illustrate summary statistics."
   ],
   "cell_type": "markdown",
   "metadata": {}
  }
 ]
}