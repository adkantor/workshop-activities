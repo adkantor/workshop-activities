{
 "metadata": {
  "language_info": {
   "codemirror_mode": {
    "name": "ipython",
    "version": 3
   },
   "file_extension": ".py",
   "mimetype": "text/x-python",
   "name": "python",
   "nbconvert_exporter": "python",
   "pygments_lexer": "ipython3",
   "version": "3.7.2-final"
  },
  "orig_nbformat": 2,
  "kernelspec": {
   "name": "Python 3.7.2 64-bit ('dvw')",
   "display_name": "Python 3.7.2 64-bit ('dvw')",
   "metadata": {
    "interpreter": {
     "hash": "8352346f857ead0c5352c80b3faa88db502bfde9c6c8c8b59818c149aaa2eebc"
    }
   }
  }
 },
 "nbformat": 4,
 "nbformat_minor": 2,
 "cells": [
  {
   "source": [
    "# Forest Fire Size and Temperature Analysis\n",
    "\n",
    "In this activity, we will use pandas features to derive some insights from a forest fire dataset. We will get the mean size of forest fires, what the largest recorded fire in our dataset is, and whether the amount of forest fires grows proportionally to the temperature in each month.\n",
    "\n",
    "Our forest fires dataset has the following structure:\n",
    "\n",
    "- X: X-axis spatial coordinate within the Montesinho park map: 1 to 9\n",
    "- Y: Y-axis spatial coordinate within the Montesinho park map: 2 to 9\n",
    "- month: Month of the year: 'jan' to 'dec'\n",
    "- day: Day of the week: 'mon' to 'sun'\n",
    "- FFMC: FFMC index from the FWI system: 18.7 to 96.20\n",
    "- DMC: DMC index from the FWI system: 1.1 to 291.3\n",
    "- DC: DC index from the FWI system: 7.9 to 860.6\n",
    "- ISI: ISI index from the FWI system: 0.0 to 56.10\n",
    "- temp: Temperature in degrees Celsius: 2.2 to 33.30\n",
    "- RH: Relative humidity in %: 15.0 to 100\n",
    "- wind: Wind speed in km/h: 0.40 to 9.40\n",
    "- rain: Outside rain in mm/m2: 0.0 to 6.4\n",
    "- area: The burned area of the forest (in ha): 0.00 to 1090.84\n",
    "- Note: We will only be using the month, temp, and area columns in this activity."
   ],
   "cell_type": "markdown",
   "metadata": {}
  },
  {
   "cell_type": "code",
   "execution_count": 1,
   "metadata": {},
   "outputs": [],
   "source": [
    "import pandas as pd "
   ]
  },
  {
   "cell_type": "code",
   "execution_count": 4,
   "metadata": {},
   "outputs": [
    {
     "output_type": "execute_result",
     "data": {
      "text/plain": [
       "     X  Y month  day  FFMC    DMC     DC   ISI  temp  RH  wind  rain   area\n",
       "0    7  5   mar  fri  86.2   26.2   94.3   5.1   8.2  51   6.7   0.0   0.00\n",
       "1    7  4   oct  tue  90.6   35.4  669.1   6.7  18.0  33   0.9   0.0   0.00\n",
       "2    7  4   oct  sat  90.6   43.7  686.9   6.7  14.6  33   1.3   0.0   0.00\n",
       "3    8  6   mar  fri  91.7   33.3   77.5   9.0   8.3  97   4.0   0.2   0.00\n",
       "4    8  6   mar  sun  89.3   51.3  102.2   9.6  11.4  99   1.8   0.0   0.00\n",
       "..  .. ..   ...  ...   ...    ...    ...   ...   ...  ..   ...   ...    ...\n",
       "512  4  3   aug  sun  81.6   56.7  665.6   1.9  27.8  32   2.7   0.0   6.44\n",
       "513  2  4   aug  sun  81.6   56.7  665.6   1.9  21.9  71   5.8   0.0  54.29\n",
       "514  7  4   aug  sun  81.6   56.7  665.6   1.9  21.2  70   6.7   0.0  11.16\n",
       "515  1  4   aug  sat  94.4  146.0  614.7  11.3  25.6  42   4.0   0.0   0.00\n",
       "516  6  3   nov  tue  79.5    3.0  106.7   1.1  11.8  31   4.5   0.0   0.00\n",
       "\n",
       "[517 rows x 13 columns]"
      ],
      "text/html": "<div>\n<style scoped>\n    .dataframe tbody tr th:only-of-type {\n        vertical-align: middle;\n    }\n\n    .dataframe tbody tr th {\n        vertical-align: top;\n    }\n\n    .dataframe thead th {\n        text-align: right;\n    }\n</style>\n<table border=\"1\" class=\"dataframe\">\n  <thead>\n    <tr style=\"text-align: right;\">\n      <th></th>\n      <th>X</th>\n      <th>Y</th>\n      <th>month</th>\n      <th>day</th>\n      <th>FFMC</th>\n      <th>DMC</th>\n      <th>DC</th>\n      <th>ISI</th>\n      <th>temp</th>\n      <th>RH</th>\n      <th>wind</th>\n      <th>rain</th>\n      <th>area</th>\n    </tr>\n  </thead>\n  <tbody>\n    <tr>\n      <th>0</th>\n      <td>7</td>\n      <td>5</td>\n      <td>mar</td>\n      <td>fri</td>\n      <td>86.2</td>\n      <td>26.2</td>\n      <td>94.3</td>\n      <td>5.1</td>\n      <td>8.2</td>\n      <td>51</td>\n      <td>6.7</td>\n      <td>0.0</td>\n      <td>0.00</td>\n    </tr>\n    <tr>\n      <th>1</th>\n      <td>7</td>\n      <td>4</td>\n      <td>oct</td>\n      <td>tue</td>\n      <td>90.6</td>\n      <td>35.4</td>\n      <td>669.1</td>\n      <td>6.7</td>\n      <td>18.0</td>\n      <td>33</td>\n      <td>0.9</td>\n      <td>0.0</td>\n      <td>0.00</td>\n    </tr>\n    <tr>\n      <th>2</th>\n      <td>7</td>\n      <td>4</td>\n      <td>oct</td>\n      <td>sat</td>\n      <td>90.6</td>\n      <td>43.7</td>\n      <td>686.9</td>\n      <td>6.7</td>\n      <td>14.6</td>\n      <td>33</td>\n      <td>1.3</td>\n      <td>0.0</td>\n      <td>0.00</td>\n    </tr>\n    <tr>\n      <th>3</th>\n      <td>8</td>\n      <td>6</td>\n      <td>mar</td>\n      <td>fri</td>\n      <td>91.7</td>\n      <td>33.3</td>\n      <td>77.5</td>\n      <td>9.0</td>\n      <td>8.3</td>\n      <td>97</td>\n      <td>4.0</td>\n      <td>0.2</td>\n      <td>0.00</td>\n    </tr>\n    <tr>\n      <th>4</th>\n      <td>8</td>\n      <td>6</td>\n      <td>mar</td>\n      <td>sun</td>\n      <td>89.3</td>\n      <td>51.3</td>\n      <td>102.2</td>\n      <td>9.6</td>\n      <td>11.4</td>\n      <td>99</td>\n      <td>1.8</td>\n      <td>0.0</td>\n      <td>0.00</td>\n    </tr>\n    <tr>\n      <th>...</th>\n      <td>...</td>\n      <td>...</td>\n      <td>...</td>\n      <td>...</td>\n      <td>...</td>\n      <td>...</td>\n      <td>...</td>\n      <td>...</td>\n      <td>...</td>\n      <td>...</td>\n      <td>...</td>\n      <td>...</td>\n      <td>...</td>\n    </tr>\n    <tr>\n      <th>512</th>\n      <td>4</td>\n      <td>3</td>\n      <td>aug</td>\n      <td>sun</td>\n      <td>81.6</td>\n      <td>56.7</td>\n      <td>665.6</td>\n      <td>1.9</td>\n      <td>27.8</td>\n      <td>32</td>\n      <td>2.7</td>\n      <td>0.0</td>\n      <td>6.44</td>\n    </tr>\n    <tr>\n      <th>513</th>\n      <td>2</td>\n      <td>4</td>\n      <td>aug</td>\n      <td>sun</td>\n      <td>81.6</td>\n      <td>56.7</td>\n      <td>665.6</td>\n      <td>1.9</td>\n      <td>21.9</td>\n      <td>71</td>\n      <td>5.8</td>\n      <td>0.0</td>\n      <td>54.29</td>\n    </tr>\n    <tr>\n      <th>514</th>\n      <td>7</td>\n      <td>4</td>\n      <td>aug</td>\n      <td>sun</td>\n      <td>81.6</td>\n      <td>56.7</td>\n      <td>665.6</td>\n      <td>1.9</td>\n      <td>21.2</td>\n      <td>70</td>\n      <td>6.7</td>\n      <td>0.0</td>\n      <td>11.16</td>\n    </tr>\n    <tr>\n      <th>515</th>\n      <td>1</td>\n      <td>4</td>\n      <td>aug</td>\n      <td>sat</td>\n      <td>94.4</td>\n      <td>146.0</td>\n      <td>614.7</td>\n      <td>11.3</td>\n      <td>25.6</td>\n      <td>42</td>\n      <td>4.0</td>\n      <td>0.0</td>\n      <td>0.00</td>\n    </tr>\n    <tr>\n      <th>516</th>\n      <td>6</td>\n      <td>3</td>\n      <td>nov</td>\n      <td>tue</td>\n      <td>79.5</td>\n      <td>3.0</td>\n      <td>106.7</td>\n      <td>1.1</td>\n      <td>11.8</td>\n      <td>31</td>\n      <td>4.5</td>\n      <td>0.0</td>\n      <td>0.00</td>\n    </tr>\n  </tbody>\n</table>\n<p>517 rows × 13 columns</p>\n</div>"
     },
     "metadata": {},
     "execution_count": 4
    }
   ],
   "source": [
    "df = pd.read_csv('../../Datasets/forestfires.csv')\n",
    "df"
   ]
  },
  {
   "source": [
    "## Derive insights from the sizes of forest fires"
   ],
   "cell_type": "markdown",
   "metadata": {}
  },
  {
   "cell_type": "code",
   "execution_count": 7,
   "metadata": {},
   "outputs": [
    {
     "output_type": "execute_result",
     "data": {
      "text/plain": [
       "     X  Y month  day  FFMC    DMC     DC   ISI  temp  RH  wind  rain   area\n",
       "138  9  9   jul  tue  85.8   48.3  313.4   3.9  18.0  42   2.7   0.0   0.36\n",
       "139  1  4   sep  tue  91.0  129.5  692.6   7.0  21.7  38   2.2   0.0   0.43\n",
       "140  2  5   sep  mon  90.9  126.5  686.5   7.0  21.9  39   1.8   0.0   0.47\n",
       "141  1  2   aug  wed  95.5   99.9  513.3  13.2  23.3  31   4.5   0.0   0.55\n",
       "142  8  6   aug  fri  90.1  108.0  529.8  12.5  21.2  51   8.9   0.0   0.61\n",
       "..  .. ..   ...  ...   ...    ...    ...   ...   ...  ..   ...   ...    ...\n",
       "509  5  4   aug  fri  91.0  166.9  752.6   7.1  21.1  71   7.6   1.4   2.17\n",
       "510  6  5   aug  fri  91.0  166.9  752.6   7.1  18.2  62   5.4   0.0   0.43\n",
       "512  4  3   aug  sun  81.6   56.7  665.6   1.9  27.8  32   2.7   0.0   6.44\n",
       "513  2  4   aug  sun  81.6   56.7  665.6   1.9  21.9  71   5.8   0.0  54.29\n",
       "514  7  4   aug  sun  81.6   56.7  665.6   1.9  21.2  70   6.7   0.0  11.16\n",
       "\n",
       "[270 rows x 13 columns]"
      ],
      "text/html": "<div>\n<style scoped>\n    .dataframe tbody tr th:only-of-type {\n        vertical-align: middle;\n    }\n\n    .dataframe tbody tr th {\n        vertical-align: top;\n    }\n\n    .dataframe thead th {\n        text-align: right;\n    }\n</style>\n<table border=\"1\" class=\"dataframe\">\n  <thead>\n    <tr style=\"text-align: right;\">\n      <th></th>\n      <th>X</th>\n      <th>Y</th>\n      <th>month</th>\n      <th>day</th>\n      <th>FFMC</th>\n      <th>DMC</th>\n      <th>DC</th>\n      <th>ISI</th>\n      <th>temp</th>\n      <th>RH</th>\n      <th>wind</th>\n      <th>rain</th>\n      <th>area</th>\n    </tr>\n  </thead>\n  <tbody>\n    <tr>\n      <th>138</th>\n      <td>9</td>\n      <td>9</td>\n      <td>jul</td>\n      <td>tue</td>\n      <td>85.8</td>\n      <td>48.3</td>\n      <td>313.4</td>\n      <td>3.9</td>\n      <td>18.0</td>\n      <td>42</td>\n      <td>2.7</td>\n      <td>0.0</td>\n      <td>0.36</td>\n    </tr>\n    <tr>\n      <th>139</th>\n      <td>1</td>\n      <td>4</td>\n      <td>sep</td>\n      <td>tue</td>\n      <td>91.0</td>\n      <td>129.5</td>\n      <td>692.6</td>\n      <td>7.0</td>\n      <td>21.7</td>\n      <td>38</td>\n      <td>2.2</td>\n      <td>0.0</td>\n      <td>0.43</td>\n    </tr>\n    <tr>\n      <th>140</th>\n      <td>2</td>\n      <td>5</td>\n      <td>sep</td>\n      <td>mon</td>\n      <td>90.9</td>\n      <td>126.5</td>\n      <td>686.5</td>\n      <td>7.0</td>\n      <td>21.9</td>\n      <td>39</td>\n      <td>1.8</td>\n      <td>0.0</td>\n      <td>0.47</td>\n    </tr>\n    <tr>\n      <th>141</th>\n      <td>1</td>\n      <td>2</td>\n      <td>aug</td>\n      <td>wed</td>\n      <td>95.5</td>\n      <td>99.9</td>\n      <td>513.3</td>\n      <td>13.2</td>\n      <td>23.3</td>\n      <td>31</td>\n      <td>4.5</td>\n      <td>0.0</td>\n      <td>0.55</td>\n    </tr>\n    <tr>\n      <th>142</th>\n      <td>8</td>\n      <td>6</td>\n      <td>aug</td>\n      <td>fri</td>\n      <td>90.1</td>\n      <td>108.0</td>\n      <td>529.8</td>\n      <td>12.5</td>\n      <td>21.2</td>\n      <td>51</td>\n      <td>8.9</td>\n      <td>0.0</td>\n      <td>0.61</td>\n    </tr>\n    <tr>\n      <th>...</th>\n      <td>...</td>\n      <td>...</td>\n      <td>...</td>\n      <td>...</td>\n      <td>...</td>\n      <td>...</td>\n      <td>...</td>\n      <td>...</td>\n      <td>...</td>\n      <td>...</td>\n      <td>...</td>\n      <td>...</td>\n      <td>...</td>\n    </tr>\n    <tr>\n      <th>509</th>\n      <td>5</td>\n      <td>4</td>\n      <td>aug</td>\n      <td>fri</td>\n      <td>91.0</td>\n      <td>166.9</td>\n      <td>752.6</td>\n      <td>7.1</td>\n      <td>21.1</td>\n      <td>71</td>\n      <td>7.6</td>\n      <td>1.4</td>\n      <td>2.17</td>\n    </tr>\n    <tr>\n      <th>510</th>\n      <td>6</td>\n      <td>5</td>\n      <td>aug</td>\n      <td>fri</td>\n      <td>91.0</td>\n      <td>166.9</td>\n      <td>752.6</td>\n      <td>7.1</td>\n      <td>18.2</td>\n      <td>62</td>\n      <td>5.4</td>\n      <td>0.0</td>\n      <td>0.43</td>\n    </tr>\n    <tr>\n      <th>512</th>\n      <td>4</td>\n      <td>3</td>\n      <td>aug</td>\n      <td>sun</td>\n      <td>81.6</td>\n      <td>56.7</td>\n      <td>665.6</td>\n      <td>1.9</td>\n      <td>27.8</td>\n      <td>32</td>\n      <td>2.7</td>\n      <td>0.0</td>\n      <td>6.44</td>\n    </tr>\n    <tr>\n      <th>513</th>\n      <td>2</td>\n      <td>4</td>\n      <td>aug</td>\n      <td>sun</td>\n      <td>81.6</td>\n      <td>56.7</td>\n      <td>665.6</td>\n      <td>1.9</td>\n      <td>21.9</td>\n      <td>71</td>\n      <td>5.8</td>\n      <td>0.0</td>\n      <td>54.29</td>\n    </tr>\n    <tr>\n      <th>514</th>\n      <td>7</td>\n      <td>4</td>\n      <td>aug</td>\n      <td>sun</td>\n      <td>81.6</td>\n      <td>56.7</td>\n      <td>665.6</td>\n      <td>1.9</td>\n      <td>21.2</td>\n      <td>70</td>\n      <td>6.7</td>\n      <td>0.0</td>\n      <td>11.16</td>\n    </tr>\n  </tbody>\n</table>\n<p>270 rows × 13 columns</p>\n</div>"
     },
     "metadata": {},
     "execution_count": 7
    }
   ],
   "source": [
    "# Filter the dataset so that it only contains entries that have an area larger than 0\n",
    "df_area = df[df.area > 0]\n",
    "df_area"
   ]
  },
  {
   "cell_type": "code",
   "execution_count": 16,
   "metadata": {},
   "outputs": [
    {
     "output_type": "execute_result",
     "data": {
      "text/plain": [
       "      count        mean         std    min      25%     50%       75%      max\n",
       "X     270.0    4.807407    2.383326   1.00    3.000    5.00    7.0000     9.00\n",
       "Y     270.0    4.366667    1.170740   2.00    4.000    4.00    5.0000     9.00\n",
       "FFMC  270.0   91.034074    3.709020  63.50   90.325   91.70   92.9750    96.20\n",
       "DMC   270.0  114.707778   61.786520   3.20   82.900  111.70  141.3000   291.30\n",
       "DC    270.0  570.867037  229.981242  15.30  486.500  665.60  721.3250   860.60\n",
       "ISI   270.0    9.177037    4.147350   0.80    6.800    8.40   11.3750    22.70\n",
       "temp  270.0   19.311111    6.179444   2.20   16.125   20.10   23.4000    33.30\n",
       "RH    270.0   43.733333   15.080059  15.00   33.000   41.00   53.0000    96.00\n",
       "wind  270.0    4.112963    1.884573   0.40    2.700    4.00    4.9000     9.40\n",
       "rain  270.0    0.028889    0.398392   0.00    0.000    0.00    0.0000     6.40\n",
       "area  270.0   24.600185   86.501635   0.09    2.140    6.37   15.4225  1090.84"
      ],
      "text/html": "<div>\n<style scoped>\n    .dataframe tbody tr th:only-of-type {\n        vertical-align: middle;\n    }\n\n    .dataframe tbody tr th {\n        vertical-align: top;\n    }\n\n    .dataframe thead th {\n        text-align: right;\n    }\n</style>\n<table border=\"1\" class=\"dataframe\">\n  <thead>\n    <tr style=\"text-align: right;\">\n      <th></th>\n      <th>count</th>\n      <th>mean</th>\n      <th>std</th>\n      <th>min</th>\n      <th>25%</th>\n      <th>50%</th>\n      <th>75%</th>\n      <th>max</th>\n    </tr>\n  </thead>\n  <tbody>\n    <tr>\n      <th>X</th>\n      <td>270.0</td>\n      <td>4.807407</td>\n      <td>2.383326</td>\n      <td>1.00</td>\n      <td>3.000</td>\n      <td>5.00</td>\n      <td>7.0000</td>\n      <td>9.00</td>\n    </tr>\n    <tr>\n      <th>Y</th>\n      <td>270.0</td>\n      <td>4.366667</td>\n      <td>1.170740</td>\n      <td>2.00</td>\n      <td>4.000</td>\n      <td>4.00</td>\n      <td>5.0000</td>\n      <td>9.00</td>\n    </tr>\n    <tr>\n      <th>FFMC</th>\n      <td>270.0</td>\n      <td>91.034074</td>\n      <td>3.709020</td>\n      <td>63.50</td>\n      <td>90.325</td>\n      <td>91.70</td>\n      <td>92.9750</td>\n      <td>96.20</td>\n    </tr>\n    <tr>\n      <th>DMC</th>\n      <td>270.0</td>\n      <td>114.707778</td>\n      <td>61.786520</td>\n      <td>3.20</td>\n      <td>82.900</td>\n      <td>111.70</td>\n      <td>141.3000</td>\n      <td>291.30</td>\n    </tr>\n    <tr>\n      <th>DC</th>\n      <td>270.0</td>\n      <td>570.867037</td>\n      <td>229.981242</td>\n      <td>15.30</td>\n      <td>486.500</td>\n      <td>665.60</td>\n      <td>721.3250</td>\n      <td>860.60</td>\n    </tr>\n    <tr>\n      <th>ISI</th>\n      <td>270.0</td>\n      <td>9.177037</td>\n      <td>4.147350</td>\n      <td>0.80</td>\n      <td>6.800</td>\n      <td>8.40</td>\n      <td>11.3750</td>\n      <td>22.70</td>\n    </tr>\n    <tr>\n      <th>temp</th>\n      <td>270.0</td>\n      <td>19.311111</td>\n      <td>6.179444</td>\n      <td>2.20</td>\n      <td>16.125</td>\n      <td>20.10</td>\n      <td>23.4000</td>\n      <td>33.30</td>\n    </tr>\n    <tr>\n      <th>RH</th>\n      <td>270.0</td>\n      <td>43.733333</td>\n      <td>15.080059</td>\n      <td>15.00</td>\n      <td>33.000</td>\n      <td>41.00</td>\n      <td>53.0000</td>\n      <td>96.00</td>\n    </tr>\n    <tr>\n      <th>wind</th>\n      <td>270.0</td>\n      <td>4.112963</td>\n      <td>1.884573</td>\n      <td>0.40</td>\n      <td>2.700</td>\n      <td>4.00</td>\n      <td>4.9000</td>\n      <td>9.40</td>\n    </tr>\n    <tr>\n      <th>rain</th>\n      <td>270.0</td>\n      <td>0.028889</td>\n      <td>0.398392</td>\n      <td>0.00</td>\n      <td>0.000</td>\n      <td>0.00</td>\n      <td>0.0000</td>\n      <td>6.40</td>\n    </tr>\n    <tr>\n      <th>area</th>\n      <td>270.0</td>\n      <td>24.600185</td>\n      <td>86.501635</td>\n      <td>0.09</td>\n      <td>2.140</td>\n      <td>6.37</td>\n      <td>15.4225</td>\n      <td>1090.84</td>\n    </tr>\n  </tbody>\n</table>\n</div>"
     },
     "metadata": {},
     "execution_count": 16
    }
   ],
   "source": [
    "df_area.describe().T"
   ]
  },
  {
   "cell_type": "code",
   "execution_count": 19,
   "metadata": {},
   "outputs": [
    {
     "output_type": "stream",
     "name": "stdout",
     "text": [
      "mean: 24.60\nmin: 0.09\nmax: 1090.84\nstd: 86.50\n"
     ]
    }
   ],
   "source": [
    "# mean of the area column\n",
    "print(f'mean: {df_area.area.mean():.2f}')\n",
    "# min of the area column\n",
    "print(f'min: {df_area.area.min():.2f}')\n",
    "# max of the area column\n",
    "print(f'max: {df_area.area.max():.2f}')\n",
    "# std of the area column\n",
    "print(f'std: {df_area.area.std():.2f}')"
   ]
  },
  {
   "cell_type": "code",
   "execution_count": 22,
   "metadata": {},
   "outputs": [
    {
     "output_type": "execute_result",
     "data": {
      "text/plain": [
       "        area\n",
       "469    61.13\n",
       "228    64.10\n",
       "473    70.32\n",
       "392    70.76\n",
       "229    71.30\n",
       "457    82.75\n",
       "293    86.45\n",
       "230    88.49\n",
       "231    95.18\n",
       "232   103.39\n",
       "233   105.66\n",
       "234   154.88\n",
       "377   174.63\n",
       "420   185.76\n",
       "235   196.48\n",
       "236   200.94\n",
       "237   212.88\n",
       "479   278.53\n",
       "415   746.28\n",
       "238  1090.84"
      ],
      "text/html": "<div>\n<style scoped>\n    .dataframe tbody tr th:only-of-type {\n        vertical-align: middle;\n    }\n\n    .dataframe tbody tr th {\n        vertical-align: top;\n    }\n\n    .dataframe thead th {\n        text-align: right;\n    }\n</style>\n<table border=\"1\" class=\"dataframe\">\n  <thead>\n    <tr style=\"text-align: right;\">\n      <th></th>\n      <th>area</th>\n    </tr>\n  </thead>\n  <tbody>\n    <tr>\n      <th>469</th>\n      <td>61.13</td>\n    </tr>\n    <tr>\n      <th>228</th>\n      <td>64.10</td>\n    </tr>\n    <tr>\n      <th>473</th>\n      <td>70.32</td>\n    </tr>\n    <tr>\n      <th>392</th>\n      <td>70.76</td>\n    </tr>\n    <tr>\n      <th>229</th>\n      <td>71.30</td>\n    </tr>\n    <tr>\n      <th>457</th>\n      <td>82.75</td>\n    </tr>\n    <tr>\n      <th>293</th>\n      <td>86.45</td>\n    </tr>\n    <tr>\n      <th>230</th>\n      <td>88.49</td>\n    </tr>\n    <tr>\n      <th>231</th>\n      <td>95.18</td>\n    </tr>\n    <tr>\n      <th>232</th>\n      <td>103.39</td>\n    </tr>\n    <tr>\n      <th>233</th>\n      <td>105.66</td>\n    </tr>\n    <tr>\n      <th>234</th>\n      <td>154.88</td>\n    </tr>\n    <tr>\n      <th>377</th>\n      <td>174.63</td>\n    </tr>\n    <tr>\n      <th>420</th>\n      <td>185.76</td>\n    </tr>\n    <tr>\n      <th>235</th>\n      <td>196.48</td>\n    </tr>\n    <tr>\n      <th>236</th>\n      <td>200.94</td>\n    </tr>\n    <tr>\n      <th>237</th>\n      <td>212.88</td>\n    </tr>\n    <tr>\n      <th>479</th>\n      <td>278.53</td>\n    </tr>\n    <tr>\n      <th>415</th>\n      <td>746.28</td>\n    </tr>\n    <tr>\n      <th>238</th>\n      <td>1090.84</td>\n    </tr>\n  </tbody>\n</table>\n</div>"
     },
     "metadata": {},
     "execution_count": 22
    }
   ],
   "source": [
    "# Sort the filtered dataset using the area column and print the last 20 entries using the tail method to see how many huge values it holds.\n",
    "df_area.sort_values(by=[\"area\"])[[\"area\"]].tail(20)"
   ]
  },
  {
   "cell_type": "code",
   "execution_count": 24,
   "metadata": {},
   "outputs": [
    {
     "output_type": "execute_result",
     "data": {
      "text/plain": [
       "6.37"
      ]
     },
     "metadata": {},
     "execution_count": 24
    }
   ],
   "source": [
    "# get the median of the area column and visually compare it to the mean value.\n",
    "df_area.area.median()"
   ]
  },
  {
   "source": [
    "## Finding the month with the most forest fires"
   ],
   "cell_type": "markdown",
   "metadata": {}
  },
  {
   "cell_type": "code",
   "execution_count": 29,
   "metadata": {},
   "outputs": [
    {
     "output_type": "execute_result",
     "data": {
      "text/plain": [
       "['mar',\n",
       " 'oct',\n",
       " 'aug',\n",
       " 'sep',\n",
       " 'apr',\n",
       " 'jun',\n",
       " 'jul',\n",
       " 'feb',\n",
       " 'jan',\n",
       " 'dec',\n",
       " 'may',\n",
       " 'nov']"
      ]
     },
     "metadata": {},
     "execution_count": 29
    }
   ],
   "source": [
    "# Get a list of unique values from the month column of the dataset\n",
    "months = list(df['month'].unique())\n",
    "months"
   ]
  },
  {
   "cell_type": "code",
   "execution_count": 28,
   "metadata": {},
   "outputs": [
    {
     "output_type": "execute_result",
     "data": {
      "text/plain": [
       "54"
      ]
     },
     "metadata": {},
     "execution_count": 28
    }
   ],
   "source": [
    "# Get the number of entries for the month of March using the shape member of our DataFrame.\n",
    "df[df.month == 'mar'].shape[0]"
   ]
  },
  {
   "cell_type": "code",
   "execution_count": 40,
   "metadata": {},
   "outputs": [
    {
     "output_type": "stream",
     "name": "stdout",
     "text": [
      "mar\nnumber of fires: 54\nmean temperature: 13.08\n\n\noct\nnumber of fires: 15\nmean temperature: 17.09\n\n\naug\nnumber of fires: 184\nmean temperature: 21.63\n\n\nsep\nnumber of fires: 172\nmean temperature: 19.61\n\n\napr\nnumber of fires: 9\nmean temperature: 12.04\n\n\njun\nnumber of fires: 17\nmean temperature: 20.49\n\n\njul\nnumber of fires: 32\nmean temperature: 22.11\n\n\nfeb\nnumber of fires: 20\nmean temperature: 9.63\n\n\njan\nnumber of fires: 2\nmean temperature: 5.25\n\n\ndec\nnumber of fires: 9\nmean temperature: 4.52\n\n\nmay\nnumber of fires: 2\nmean temperature: 14.65\n\n\nnov\nnumber of fires: 1\nmean temperature: 11.80\n\n\n"
     ]
    }
   ],
   "source": [
    "# iterate over all the months, filter our dataset for the rows containing the given month, and calculate the mean temperature. Print a statement with the number of fires, the mean temperature, and the month.\n",
    "for month in months:\n",
    "    print(month)\n",
    "    df_temp = df[df.month == month]\n",
    "    print(f'number of fires: {df_temp.shape[0]}')\n",
    "    print(f'mean temperature: {df_temp[\"temp\"].mean():.2f}')\n",
    "    print('\\n')"
   ]
  }
 ]
}