{
 "metadata": {
  "language_info": {
   "codemirror_mode": {
    "name": "ipython",
    "version": 3
   },
   "file_extension": ".py",
   "mimetype": "text/x-python",
   "name": "python",
   "nbconvert_exporter": "python",
   "pygments_lexer": "ipython3",
   "version": 3
  },
  "orig_nbformat": 2
 },
 "nbformat": 4,
 "nbformat_minor": 2,
 "cells": [
  {
   "source": [
    "# Activity 2.02: Road Accidents Occurring over Two Decades\n",
    "\n",
    "You are given a diagram that provides information about the road accidents that have occurred over the past two decades during the months of January, April, July, and October. The aim of this activity is to understand how you can use heatmaps to visualize multivariate data.\n",
    "\n",
    "1. Identify the two years during which the number of road accidents occurring was the least.\n",
    ">If we look at Figure 2.20, we can see that the years 2000 and 2015 have the lightest colored squares overall. These are the two years that have the lowest accident rates.\n",
    "\n",
    "2. For the past two decades, identify the month for which accidents showed a marked decrease.\n",
    "> If we look at the trend for each month, that is, January, April, July, and October for the past two decades, we can see a decreasing trend in the number of accidents taking place in January.\n",
    "\n",
    "<img src=\"../Graphics/Chapter02/Figure2.20.png\">\n",
    "<p>Figure 2.20: Total accidents over 20 years</p>"
   ],
   "cell_type": "markdown",
   "metadata": {}
  }
 ]
}