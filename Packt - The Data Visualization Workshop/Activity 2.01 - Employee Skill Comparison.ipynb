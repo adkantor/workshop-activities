{
 "metadata": {
  "language_info": {
   "codemirror_mode": {
    "name": "ipython",
    "version": 3
   },
   "file_extension": ".py",
   "mimetype": "text/x-python",
   "name": "python",
   "nbconvert_exporter": "python",
   "pygments_lexer": "ipython3",
   "version": 3
  },
  "orig_nbformat": 2
 },
 "nbformat": 4,
 "nbformat_minor": 2,
 "cells": [
  {
   "source": [
    "# Activity 2.01: Employee Skill Comparison\n",
    "\n",
    "You are given scores of four employees (Alex, Alice, Chris, and Jennifer) for five attributes: efficiency, quality, commitment, responsible conduct, and cooperation. Your task is to compare the employees and their skills. This activity will foster your skills in choosing the best visualization when it comes to comparing items.\n",
    "\n",
    "### Which charts are suitable for this task?\n",
    "> Bar charts and radar charts are great for comparing multiple variables for multiple groups.\n",
    "\n",
    "\n",
    "You are given the following bar and radar charts.\n",
    "\n",
    "### List the advantages and disadvantages of both charts. Which is the better chart for this task in your opinion, and why?\n",
    "\n",
    ">The bar chart is great for comparing the skill attributes of the different employees, but it is not the best choice when it comes to getting an overall impression of an employee, due to the fact that the skills are not displayed directly next to one another.\n",
    "\n",
    ">The radar chart is great for this scenario because you can both compare performance across employees and directly observe the individual performance for each skill attribute.\n",
    "\n",
    "\n",
    "The following diagram shows a bar chart for the employee skills:\n",
    "\n",
    "<img src=\"../Graphics/Chapter02/Figure2.09.png\">\n",
    "<p>Figure 2.9: Employee skills comparison with a bar chart</p>\n",
    "\n",
    "The following diagram shows a radar chart for the employee skills:\n",
    "\n",
    "<img src=\"../Graphics/Chapter02/Figure2.10.png\">\n",
    "<p>Figure 2.10: Employee skills comparison with a radar chart</p>\n",
    "\n",
    "### What could be improved in the respective visualizations?\n",
    "\n",
    "> For both the bar and radar charts, adding a title and labels would help to understand the plots better. Additionally, using different colors for the different employees in the radar chart would help to keep the different employees apart.\n",
    "\n",
    "Concluding the activity, you hopefully have a good understanding of deciding which comparison plots are best for the situation. In the next section, we will discuss different relation plots."
   ],
   "cell_type": "markdown",
   "metadata": {}
  }
 ]
}