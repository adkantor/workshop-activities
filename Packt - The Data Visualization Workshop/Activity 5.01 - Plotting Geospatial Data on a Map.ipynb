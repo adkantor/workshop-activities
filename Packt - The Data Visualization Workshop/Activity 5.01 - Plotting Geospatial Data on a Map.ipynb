{
 "metadata": {
  "language_info": {
   "codemirror_mode": {
    "name": "ipython",
    "version": 3
   },
   "file_extension": ".py",
   "mimetype": "text/x-python",
   "name": "python",
   "nbconvert_exporter": "python",
   "pygments_lexer": "ipython3",
   "version": "3.7.2-final"
  },
  "orig_nbformat": 2,
  "kernelspec": {
   "name": "python3",
   "display_name": "Python 3.7.2 64-bit ('dvw')",
   "metadata": {
    "interpreter": {
     "hash": "8352346f857ead0c5352c80b3faa88db502bfde9c6c8c8b59818c149aaa2eebc"
    }
   }
  }
 },
 "nbformat": 4,
 "nbformat_minor": 2,
 "cells": [
  {
   "source": [
    "# Activity 5.01: Plotting Geospatial Data on a Map\n",
    "\n",
    "In this activity, we will take our previously learned skills of plotting data with geoplotlib and apply them to our new world_cities_pop.csv dataset. We will find the dense areas of cities in Europe that have a population of more than 100,000 people:"
   ],
   "cell_type": "markdown",
   "metadata": {}
  },
  {
   "cell_type": "code",
   "execution_count": 48,
   "metadata": {},
   "outputs": [],
   "source": [
    "import numpy as np\n",
    "import pandas as pd\n",
    "import geoplotlib\n",
    "from geoplotlib.utils import read_csv, DataAccessObject, BoundingBox"
   ]
  },
  {
   "cell_type": "code",
   "execution_count": 2,
   "metadata": {},
   "outputs": [
    {
     "output_type": "execute_result",
     "data": {
      "text/plain": [
       "        Country         City   AccentCity Region  Population   Latitude  \\\n",
       "0            ad        aixas        Aixàs     06         NaN  42.483333   \n",
       "1            ad   aixirivali   Aixirivali     06         NaN  42.466667   \n",
       "2            ad   aixirivall   Aixirivall     06         NaN  42.466667   \n",
       "3            ad    aixirvall    Aixirvall     06         NaN  42.466667   \n",
       "4            ad     aixovall     Aixovall     06         NaN  42.466667   \n",
       "...         ...          ...          ...    ...         ...        ...   \n",
       "3173953      zw   zimre park   Zimre Park     04         NaN -17.866111   \n",
       "3173954      zw  ziyakamanas  Ziyakamanas     00         NaN -18.216667   \n",
       "3173955      zw   zizalisari   Zizalisari     04         NaN -17.758889   \n",
       "3173956      zw      zuzumba      Zuzumba     06         NaN -20.033333   \n",
       "3173957      zw   zvishavane   Zvishavane     07     79876.0 -20.333333   \n",
       "\n",
       "         Longitude  \n",
       "0         1.466667  \n",
       "1         1.500000  \n",
       "2         1.500000  \n",
       "3         1.500000  \n",
       "4         1.483333  \n",
       "...            ...  \n",
       "3173953  31.213611  \n",
       "3173954  27.950000  \n",
       "3173955  31.010556  \n",
       "3173956  27.933333  \n",
       "3173957  30.033333  \n",
       "\n",
       "[3173958 rows x 7 columns]"
      ],
      "text/html": "<div>\n<style scoped>\n    .dataframe tbody tr th:only-of-type {\n        vertical-align: middle;\n    }\n\n    .dataframe tbody tr th {\n        vertical-align: top;\n    }\n\n    .dataframe thead th {\n        text-align: right;\n    }\n</style>\n<table border=\"1\" class=\"dataframe\">\n  <thead>\n    <tr style=\"text-align: right;\">\n      <th></th>\n      <th>Country</th>\n      <th>City</th>\n      <th>AccentCity</th>\n      <th>Region</th>\n      <th>Population</th>\n      <th>Latitude</th>\n      <th>Longitude</th>\n    </tr>\n  </thead>\n  <tbody>\n    <tr>\n      <th>0</th>\n      <td>ad</td>\n      <td>aixas</td>\n      <td>Aixàs</td>\n      <td>06</td>\n      <td>NaN</td>\n      <td>42.483333</td>\n      <td>1.466667</td>\n    </tr>\n    <tr>\n      <th>1</th>\n      <td>ad</td>\n      <td>aixirivali</td>\n      <td>Aixirivali</td>\n      <td>06</td>\n      <td>NaN</td>\n      <td>42.466667</td>\n      <td>1.500000</td>\n    </tr>\n    <tr>\n      <th>2</th>\n      <td>ad</td>\n      <td>aixirivall</td>\n      <td>Aixirivall</td>\n      <td>06</td>\n      <td>NaN</td>\n      <td>42.466667</td>\n      <td>1.500000</td>\n    </tr>\n    <tr>\n      <th>3</th>\n      <td>ad</td>\n      <td>aixirvall</td>\n      <td>Aixirvall</td>\n      <td>06</td>\n      <td>NaN</td>\n      <td>42.466667</td>\n      <td>1.500000</td>\n    </tr>\n    <tr>\n      <th>4</th>\n      <td>ad</td>\n      <td>aixovall</td>\n      <td>Aixovall</td>\n      <td>06</td>\n      <td>NaN</td>\n      <td>42.466667</td>\n      <td>1.483333</td>\n    </tr>\n    <tr>\n      <th>...</th>\n      <td>...</td>\n      <td>...</td>\n      <td>...</td>\n      <td>...</td>\n      <td>...</td>\n      <td>...</td>\n      <td>...</td>\n    </tr>\n    <tr>\n      <th>3173953</th>\n      <td>zw</td>\n      <td>zimre park</td>\n      <td>Zimre Park</td>\n      <td>04</td>\n      <td>NaN</td>\n      <td>-17.866111</td>\n      <td>31.213611</td>\n    </tr>\n    <tr>\n      <th>3173954</th>\n      <td>zw</td>\n      <td>ziyakamanas</td>\n      <td>Ziyakamanas</td>\n      <td>00</td>\n      <td>NaN</td>\n      <td>-18.216667</td>\n      <td>27.950000</td>\n    </tr>\n    <tr>\n      <th>3173955</th>\n      <td>zw</td>\n      <td>zizalisari</td>\n      <td>Zizalisari</td>\n      <td>04</td>\n      <td>NaN</td>\n      <td>-17.758889</td>\n      <td>31.010556</td>\n    </tr>\n    <tr>\n      <th>3173956</th>\n      <td>zw</td>\n      <td>zuzumba</td>\n      <td>Zuzumba</td>\n      <td>06</td>\n      <td>NaN</td>\n      <td>-20.033333</td>\n      <td>27.933333</td>\n    </tr>\n    <tr>\n      <th>3173957</th>\n      <td>zw</td>\n      <td>zvishavane</td>\n      <td>Zvishavane</td>\n      <td>07</td>\n      <td>79876.0</td>\n      <td>-20.333333</td>\n      <td>30.033333</td>\n    </tr>\n  </tbody>\n</table>\n<p>3173958 rows × 7 columns</p>\n</div>"
     },
     "metadata": {},
     "execution_count": 2
    }
   ],
   "source": [
    "df_raw = pd.read_csv('../../Datasets/world_cities_pop.csv', dtype={'Region': np.str})\n",
    "df_raw"
   ]
  },
  {
   "cell_type": "code",
   "execution_count": 3,
   "metadata": {},
   "outputs": [
    {
     "output_type": "execute_result",
     "data": {
      "text/plain": [
       "Country        object\n",
       "City           object\n",
       "AccentCity     object\n",
       "Region         object\n",
       "Population    float64\n",
       "Latitude      float64\n",
       "Longitude     float64\n",
       "dtype: object"
      ]
     },
     "metadata": {},
     "execution_count": 3
    }
   ],
   "source": [
    "df_raw.dtypes"
   ]
  },
  {
   "cell_type": "code",
   "execution_count": 4,
   "metadata": {},
   "outputs": [
    {
     "output_type": "execute_result",
     "data": {
      "text/plain": [
       "        Country         City   AccentCity Region  Population        lat  \\\n",
       "0            ad        aixas        Aixàs     06         NaN  42.483333   \n",
       "1            ad   aixirivali   Aixirivali     06         NaN  42.466667   \n",
       "2            ad   aixirivall   Aixirivall     06         NaN  42.466667   \n",
       "3            ad    aixirvall    Aixirvall     06         NaN  42.466667   \n",
       "4            ad     aixovall     Aixovall     06         NaN  42.466667   \n",
       "...         ...          ...          ...    ...         ...        ...   \n",
       "3173953      zw   zimre park   Zimre Park     04         NaN -17.866111   \n",
       "3173954      zw  ziyakamanas  Ziyakamanas     00         NaN -18.216667   \n",
       "3173955      zw   zizalisari   Zizalisari     04         NaN -17.758889   \n",
       "3173956      zw      zuzumba      Zuzumba     06         NaN -20.033333   \n",
       "3173957      zw   zvishavane   Zvishavane     07     79876.0 -20.333333   \n",
       "\n",
       "               lon  \n",
       "0         1.466667  \n",
       "1         1.500000  \n",
       "2         1.500000  \n",
       "3         1.500000  \n",
       "4         1.483333  \n",
       "...            ...  \n",
       "3173953  31.213611  \n",
       "3173954  27.950000  \n",
       "3173955  31.010556  \n",
       "3173956  27.933333  \n",
       "3173957  30.033333  \n",
       "\n",
       "[3173958 rows x 7 columns]"
      ],
      "text/html": "<div>\n<style scoped>\n    .dataframe tbody tr th:only-of-type {\n        vertical-align: middle;\n    }\n\n    .dataframe tbody tr th {\n        vertical-align: top;\n    }\n\n    .dataframe thead th {\n        text-align: right;\n    }\n</style>\n<table border=\"1\" class=\"dataframe\">\n  <thead>\n    <tr style=\"text-align: right;\">\n      <th></th>\n      <th>Country</th>\n      <th>City</th>\n      <th>AccentCity</th>\n      <th>Region</th>\n      <th>Population</th>\n      <th>lat</th>\n      <th>lon</th>\n    </tr>\n  </thead>\n  <tbody>\n    <tr>\n      <th>0</th>\n      <td>ad</td>\n      <td>aixas</td>\n      <td>Aixàs</td>\n      <td>06</td>\n      <td>NaN</td>\n      <td>42.483333</td>\n      <td>1.466667</td>\n    </tr>\n    <tr>\n      <th>1</th>\n      <td>ad</td>\n      <td>aixirivali</td>\n      <td>Aixirivali</td>\n      <td>06</td>\n      <td>NaN</td>\n      <td>42.466667</td>\n      <td>1.500000</td>\n    </tr>\n    <tr>\n      <th>2</th>\n      <td>ad</td>\n      <td>aixirivall</td>\n      <td>Aixirivall</td>\n      <td>06</td>\n      <td>NaN</td>\n      <td>42.466667</td>\n      <td>1.500000</td>\n    </tr>\n    <tr>\n      <th>3</th>\n      <td>ad</td>\n      <td>aixirvall</td>\n      <td>Aixirvall</td>\n      <td>06</td>\n      <td>NaN</td>\n      <td>42.466667</td>\n      <td>1.500000</td>\n    </tr>\n    <tr>\n      <th>4</th>\n      <td>ad</td>\n      <td>aixovall</td>\n      <td>Aixovall</td>\n      <td>06</td>\n      <td>NaN</td>\n      <td>42.466667</td>\n      <td>1.483333</td>\n    </tr>\n    <tr>\n      <th>...</th>\n      <td>...</td>\n      <td>...</td>\n      <td>...</td>\n      <td>...</td>\n      <td>...</td>\n      <td>...</td>\n      <td>...</td>\n    </tr>\n    <tr>\n      <th>3173953</th>\n      <td>zw</td>\n      <td>zimre park</td>\n      <td>Zimre Park</td>\n      <td>04</td>\n      <td>NaN</td>\n      <td>-17.866111</td>\n      <td>31.213611</td>\n    </tr>\n    <tr>\n      <th>3173954</th>\n      <td>zw</td>\n      <td>ziyakamanas</td>\n      <td>Ziyakamanas</td>\n      <td>00</td>\n      <td>NaN</td>\n      <td>-18.216667</td>\n      <td>27.950000</td>\n    </tr>\n    <tr>\n      <th>3173955</th>\n      <td>zw</td>\n      <td>zizalisari</td>\n      <td>Zizalisari</td>\n      <td>04</td>\n      <td>NaN</td>\n      <td>-17.758889</td>\n      <td>31.010556</td>\n    </tr>\n    <tr>\n      <th>3173956</th>\n      <td>zw</td>\n      <td>zuzumba</td>\n      <td>Zuzumba</td>\n      <td>06</td>\n      <td>NaN</td>\n      <td>-20.033333</td>\n      <td>27.933333</td>\n    </tr>\n    <tr>\n      <th>3173957</th>\n      <td>zw</td>\n      <td>zvishavane</td>\n      <td>Zvishavane</td>\n      <td>07</td>\n      <td>79876.0</td>\n      <td>-20.333333</td>\n      <td>30.033333</td>\n    </tr>\n  </tbody>\n</table>\n<p>3173958 rows × 7 columns</p>\n</div>"
     },
     "metadata": {},
     "execution_count": 4
    }
   ],
   "source": [
    "df = pd.DataFrame(df_raw)\n",
    "df.rename(columns={'Latitude': 'lat', 'Longitude': 'lon'}, inplace=True)\n",
    "df"
   ]
  },
  {
   "cell_type": "code",
   "execution_count": 5,
   "metadata": {},
   "outputs": [
    {
     "output_type": "execute_result",
     "data": {
      "text/plain": [
       "DataAccessObject(['Country', 'City', 'AccentCity', 'Region', 'Population', 'lat', 'lon'] x 3173958)"
      ]
     },
     "metadata": {},
     "execution_count": 5
    }
   ],
   "source": [
    "dataset = DataAccessObject(df)\n",
    "dataset"
   ]
  },
  {
   "cell_type": "code",
   "execution_count": 6,
   "metadata": {},
   "outputs": [],
   "source": [
    "# plot the data points on a dot density plot\n",
    "geoplotlib.dot(\n",
    "    dataset\n",
    ")\n",
    "geoplotlib.show()"
   ]
  },
  {
   "cell_type": "code",
   "execution_count": 7,
   "metadata": {},
   "outputs": [
    {
     "output_type": "execute_result",
     "data": {
      "text/plain": [
       "          City\n",
       "Country       \n",
       "ad          92\n",
       "ae         446\n",
       "af       88749\n",
       "ag         183\n",
       "ai          42\n",
       "...        ...\n",
       "yt         122\n",
       "za       12693\n",
       "zm       13027\n",
       "zr       23012\n",
       "zw        1341\n",
       "\n",
       "[234 rows x 1 columns]"
      ],
      "text/html": "<div>\n<style scoped>\n    .dataframe tbody tr th:only-of-type {\n        vertical-align: middle;\n    }\n\n    .dataframe tbody tr th {\n        vertical-align: top;\n    }\n\n    .dataframe thead th {\n        text-align: right;\n    }\n</style>\n<table border=\"1\" class=\"dataframe\">\n  <thead>\n    <tr style=\"text-align: right;\">\n      <th></th>\n      <th>City</th>\n    </tr>\n    <tr>\n      <th>Country</th>\n      <th></th>\n    </tr>\n  </thead>\n  <tbody>\n    <tr>\n      <th>ad</th>\n      <td>92</td>\n    </tr>\n    <tr>\n      <th>ae</th>\n      <td>446</td>\n    </tr>\n    <tr>\n      <th>af</th>\n      <td>88749</td>\n    </tr>\n    <tr>\n      <th>ag</th>\n      <td>183</td>\n    </tr>\n    <tr>\n      <th>ai</th>\n      <td>42</td>\n    </tr>\n    <tr>\n      <th>...</th>\n      <td>...</td>\n    </tr>\n    <tr>\n      <th>yt</th>\n      <td>122</td>\n    </tr>\n    <tr>\n      <th>za</th>\n      <td>12693</td>\n    </tr>\n    <tr>\n      <th>zm</th>\n      <td>13027</td>\n    </tr>\n    <tr>\n      <th>zr</th>\n      <td>23012</td>\n    </tr>\n    <tr>\n      <th>zw</th>\n      <td>1341</td>\n    </tr>\n  </tbody>\n</table>\n<p>234 rows × 1 columns</p>\n</div>"
     },
     "metadata": {},
     "execution_count": 7
    }
   ],
   "source": [
    "# get the number of cities per country\n",
    "df.groupby(['Country']).agg({'City': 'count'})"
   ]
  },
  {
   "cell_type": "code",
   "execution_count": 8,
   "metadata": {},
   "outputs": [
    {
     "output_type": "execute_result",
     "data": {
      "text/plain": [
       "Country\n",
       "ad       92\n",
       "ae      446\n",
       "af    88749\n",
       "ag      183\n",
       "ai       42\n",
       "      ...  \n",
       "yt      122\n",
       "za    12693\n",
       "zm    13027\n",
       "zr    23012\n",
       "zw     1341\n",
       "Length: 234, dtype: int64"
      ]
     },
     "metadata": {},
     "execution_count": 8
    }
   ],
   "source": [
    "df.groupby(['Country']).size()"
   ]
  },
  {
   "cell_type": "code",
   "execution_count": 9,
   "metadata": {},
   "outputs": [
    {
     "output_type": "execute_result",
     "data": {
      "text/plain": [
       "13563.923076923076"
      ]
     },
     "metadata": {},
     "execution_count": 9
    }
   ],
   "source": [
    "# get the average number of cities per country\n",
    "df.groupby(['Country']).size().agg('mean')"
   ]
  },
  {
   "cell_type": "code",
   "execution_count": 20,
   "metadata": {},
   "outputs": [],
   "source": [
    "# extract the countries that have a population of greater than zero\n",
    "countries_mask = (df.groupby(['Country']).agg({'Population': 'sum'}) > 0)\n",
    "countries_to_include = list(countries_mask[countries_mask['Population'] == True].index)"
   ]
  },
  {
   "cell_type": "code",
   "execution_count": 21,
   "metadata": {},
   "outputs": [
    {
     "output_type": "execute_result",
     "data": {
      "text/plain": [
       "        Country              City        AccentCity Region  Population  \\\n",
       "6            ad  andorra la vella  Andorra la Vella     07     20430.0   \n",
       "20           ad           canillo           Canillo     02      3292.0   \n",
       "32           ad            encamp            Encamp     03     11224.0   \n",
       "49           ad        la massana        La Massana     04      7211.0   \n",
       "53           ad      les escaldes      Les Escaldes     08     15854.0   \n",
       "...         ...               ...               ...    ...         ...   \n",
       "3173646      zw         redcliffe         Redcliffe     06     38231.0   \n",
       "3173676      zw            rusape            Rusape     04     23761.0   \n",
       "3173737      zw          shurugwi          Shurugwi     07     17107.0   \n",
       "3173892      zw    victoria falls    Victoria Falls     00     36702.0   \n",
       "3173957      zw        zvishavane        Zvishavane     07     79876.0   \n",
       "\n",
       "               lat        lon  \n",
       "6        42.500000   1.516667  \n",
       "20       42.566667   1.600000  \n",
       "32       42.533333   1.583333  \n",
       "49       42.550000   1.516667  \n",
       "53       42.500000   1.533333  \n",
       "...            ...        ...  \n",
       "3173646 -19.033333  29.783333  \n",
       "3173676 -18.533333  32.116667  \n",
       "3173737 -19.666667  30.000000  \n",
       "3173892 -17.933333  25.833333  \n",
       "3173957 -20.333333  30.033333  \n",
       "\n",
       "[47980 rows x 7 columns]"
      ],
      "text/html": "<div>\n<style scoped>\n    .dataframe tbody tr th:only-of-type {\n        vertical-align: middle;\n    }\n\n    .dataframe tbody tr th {\n        vertical-align: top;\n    }\n\n    .dataframe thead th {\n        text-align: right;\n    }\n</style>\n<table border=\"1\" class=\"dataframe\">\n  <thead>\n    <tr style=\"text-align: right;\">\n      <th></th>\n      <th>Country</th>\n      <th>City</th>\n      <th>AccentCity</th>\n      <th>Region</th>\n      <th>Population</th>\n      <th>lat</th>\n      <th>lon</th>\n    </tr>\n  </thead>\n  <tbody>\n    <tr>\n      <th>6</th>\n      <td>ad</td>\n      <td>andorra la vella</td>\n      <td>Andorra la Vella</td>\n      <td>07</td>\n      <td>20430.0</td>\n      <td>42.500000</td>\n      <td>1.516667</td>\n    </tr>\n    <tr>\n      <th>20</th>\n      <td>ad</td>\n      <td>canillo</td>\n      <td>Canillo</td>\n      <td>02</td>\n      <td>3292.0</td>\n      <td>42.566667</td>\n      <td>1.600000</td>\n    </tr>\n    <tr>\n      <th>32</th>\n      <td>ad</td>\n      <td>encamp</td>\n      <td>Encamp</td>\n      <td>03</td>\n      <td>11224.0</td>\n      <td>42.533333</td>\n      <td>1.583333</td>\n    </tr>\n    <tr>\n      <th>49</th>\n      <td>ad</td>\n      <td>la massana</td>\n      <td>La Massana</td>\n      <td>04</td>\n      <td>7211.0</td>\n      <td>42.550000</td>\n      <td>1.516667</td>\n    </tr>\n    <tr>\n      <th>53</th>\n      <td>ad</td>\n      <td>les escaldes</td>\n      <td>Les Escaldes</td>\n      <td>08</td>\n      <td>15854.0</td>\n      <td>42.500000</td>\n      <td>1.533333</td>\n    </tr>\n    <tr>\n      <th>...</th>\n      <td>...</td>\n      <td>...</td>\n      <td>...</td>\n      <td>...</td>\n      <td>...</td>\n      <td>...</td>\n      <td>...</td>\n    </tr>\n    <tr>\n      <th>3173646</th>\n      <td>zw</td>\n      <td>redcliffe</td>\n      <td>Redcliffe</td>\n      <td>06</td>\n      <td>38231.0</td>\n      <td>-19.033333</td>\n      <td>29.783333</td>\n    </tr>\n    <tr>\n      <th>3173676</th>\n      <td>zw</td>\n      <td>rusape</td>\n      <td>Rusape</td>\n      <td>04</td>\n      <td>23761.0</td>\n      <td>-18.533333</td>\n      <td>32.116667</td>\n    </tr>\n    <tr>\n      <th>3173737</th>\n      <td>zw</td>\n      <td>shurugwi</td>\n      <td>Shurugwi</td>\n      <td>07</td>\n      <td>17107.0</td>\n      <td>-19.666667</td>\n      <td>30.000000</td>\n    </tr>\n    <tr>\n      <th>3173892</th>\n      <td>zw</td>\n      <td>victoria falls</td>\n      <td>Victoria Falls</td>\n      <td>00</td>\n      <td>36702.0</td>\n      <td>-17.933333</td>\n      <td>25.833333</td>\n    </tr>\n    <tr>\n      <th>3173957</th>\n      <td>zw</td>\n      <td>zvishavane</td>\n      <td>Zvishavane</td>\n      <td>07</td>\n      <td>79876.0</td>\n      <td>-20.333333</td>\n      <td>30.033333</td>\n    </tr>\n  </tbody>\n</table>\n<p>47980 rows × 7 columns</p>\n</div>"
     },
     "metadata": {},
     "execution_count": 21
    }
   ],
   "source": [
    "df_filtered=df[df.Country.isin(countries_to_include)]\n",
    "df_filtered.dropna(subset=['Population'], inplace=True)\n",
    "df_filtered"
   ]
  },
  {
   "cell_type": "code",
   "execution_count": 18,
   "metadata": {},
   "outputs": [],
   "source": [
    "# plot the filtered data points on a dot density plot\n",
    "geoplotlib.dot(\n",
    "    df_filtered\n",
    ")\n",
    "geoplotlib.show()"
   ]
  },
  {
   "cell_type": "code",
   "execution_count": 47,
   "metadata": {},
   "outputs": [
    {
     "output_type": "execute_result",
     "data": {
      "text/plain": [
       "        Country       City AccentCity Region  Population        lat        lon\n",
       "93           ae  abu dhabi  Abu Dhabi     01    603687.0  24.466667  54.366667\n",
       "242          ae      dubai      Dubai     03   1137376.0  25.258172  55.304717\n",
       "490          ae    sharjah    Sharjah     06    543942.0  25.357310  55.403304\n",
       "6644         af     baglan     Baglan     03    108481.0  36.130684  68.708286\n",
       "24457        af     gardez     Gardez     36    103732.0  33.597439  69.225922\n",
       "...         ...        ...        ...    ...         ...        ...        ...\n",
       "3173009      zw      gweru      Gweru     06    201879.0 -19.450000  29.816667\n",
       "3173019      zw     harare     Harare     04   2213701.0 -17.817778  31.044722\n",
       "3173109      zw     kadoma     Kadoma     04    100276.0 -18.350000  29.916667\n",
       "3173161      zw     kwekwe     Kwekwe     04    116332.0 -18.916667  29.816667\n",
       "3173478      zw     mutare     Mutare     04    253449.0 -18.966667  32.666667\n",
       "\n",
       "[5432 rows x 7 columns]"
      ],
      "text/html": "<div>\n<style scoped>\n    .dataframe tbody tr th:only-of-type {\n        vertical-align: middle;\n    }\n\n    .dataframe tbody tr th {\n        vertical-align: top;\n    }\n\n    .dataframe thead th {\n        text-align: right;\n    }\n</style>\n<table border=\"1\" class=\"dataframe\">\n  <thead>\n    <tr style=\"text-align: right;\">\n      <th></th>\n      <th>Country</th>\n      <th>City</th>\n      <th>AccentCity</th>\n      <th>Region</th>\n      <th>Population</th>\n      <th>lat</th>\n      <th>lon</th>\n    </tr>\n  </thead>\n  <tbody>\n    <tr>\n      <th>93</th>\n      <td>ae</td>\n      <td>abu dhabi</td>\n      <td>Abu Dhabi</td>\n      <td>01</td>\n      <td>603687.0</td>\n      <td>24.466667</td>\n      <td>54.366667</td>\n    </tr>\n    <tr>\n      <th>242</th>\n      <td>ae</td>\n      <td>dubai</td>\n      <td>Dubai</td>\n      <td>03</td>\n      <td>1137376.0</td>\n      <td>25.258172</td>\n      <td>55.304717</td>\n    </tr>\n    <tr>\n      <th>490</th>\n      <td>ae</td>\n      <td>sharjah</td>\n      <td>Sharjah</td>\n      <td>06</td>\n      <td>543942.0</td>\n      <td>25.357310</td>\n      <td>55.403304</td>\n    </tr>\n    <tr>\n      <th>6644</th>\n      <td>af</td>\n      <td>baglan</td>\n      <td>Baglan</td>\n      <td>03</td>\n      <td>108481.0</td>\n      <td>36.130684</td>\n      <td>68.708286</td>\n    </tr>\n    <tr>\n      <th>24457</th>\n      <td>af</td>\n      <td>gardez</td>\n      <td>Gardez</td>\n      <td>36</td>\n      <td>103732.0</td>\n      <td>33.597439</td>\n      <td>69.225922</td>\n    </tr>\n    <tr>\n      <th>...</th>\n      <td>...</td>\n      <td>...</td>\n      <td>...</td>\n      <td>...</td>\n      <td>...</td>\n      <td>...</td>\n      <td>...</td>\n    </tr>\n    <tr>\n      <th>3173009</th>\n      <td>zw</td>\n      <td>gweru</td>\n      <td>Gweru</td>\n      <td>06</td>\n      <td>201879.0</td>\n      <td>-19.450000</td>\n      <td>29.816667</td>\n    </tr>\n    <tr>\n      <th>3173019</th>\n      <td>zw</td>\n      <td>harare</td>\n      <td>Harare</td>\n      <td>04</td>\n      <td>2213701.0</td>\n      <td>-17.817778</td>\n      <td>31.044722</td>\n    </tr>\n    <tr>\n      <th>3173109</th>\n      <td>zw</td>\n      <td>kadoma</td>\n      <td>Kadoma</td>\n      <td>04</td>\n      <td>100276.0</td>\n      <td>-18.350000</td>\n      <td>29.916667</td>\n    </tr>\n    <tr>\n      <th>3173161</th>\n      <td>zw</td>\n      <td>kwekwe</td>\n      <td>Kwekwe</td>\n      <td>04</td>\n      <td>116332.0</td>\n      <td>-18.916667</td>\n      <td>29.816667</td>\n    </tr>\n    <tr>\n      <th>3173478</th>\n      <td>zw</td>\n      <td>mutare</td>\n      <td>Mutare</td>\n      <td>04</td>\n      <td>253449.0</td>\n      <td>-18.966667</td>\n      <td>32.666667</td>\n    </tr>\n  </tbody>\n</table>\n<p>5432 rows × 7 columns</p>\n</div>"
     },
     "metadata": {},
     "execution_count": 47
    }
   ],
   "source": [
    "# extract the countries that have a population of greater than 100,000\n",
    "cities_mask = (df.groupby(['City']).agg({'Population': 'sum'}) >= 100000)\n",
    "cities_to_include = list(cities_mask[cities_mask['Population'] == True].index)\n",
    "df_filtered2=df[df.City.isin(cities_to_include)]\n",
    "df_filtered2.dropna(subset=['Population'], inplace=True)\n",
    "df_filtered2"
   ]
  },
  {
   "cell_type": "code",
   "execution_count": 23,
   "metadata": {},
   "outputs": [],
   "source": [
    "# plot the filtered data points on a dot density plot\n",
    "geoplotlib.dot(\n",
    "    df_filtered2\n",
    ")\n",
    "geoplotlib.show()"
   ]
  },
  {
   "source": [
    "To get a better understanding of the density of our data points on the map, use a Voronoi tessellation layer."
   ],
   "cell_type": "markdown",
   "metadata": {}
  },
  {
   "cell_type": "code",
   "execution_count": 49,
   "metadata": {},
   "outputs": [],
   "source": [
    "# plot a Voronoi tessellation\n",
    "geoplotlib.dot(\n",
    "    df_filtered2,\n",
    "    color='b',\n",
    "    point_size=1\n",
    ")\n",
    "geoplotlib.voronoi(\n",
    "    df_filtered2, \n",
    "    cmap='hot_r',    \n",
    "    max_area=1e5, \n",
    "    alpha=200           \n",
    ")\n",
    "geoplotlib.set_smoothing(True)\n",
    "geoplotlib.set_bbox(BoundingBox.WORLD)\n",
    "geoplotlib.show()"
   ]
  },
  {
   "source": [
    "Filter down the data even further to only cities in countries such as Germany and Great Britain."
   ],
   "cell_type": "markdown",
   "metadata": {}
  },
  {
   "cell_type": "code",
   "execution_count": 45,
   "metadata": {},
   "outputs": [
    {
     "output_type": "execute_result",
     "data": {
      "text/plain": [
       "        Country               City         AccentCity Region  Population  \\\n",
       "722416       de             aachen             Aachen     07    251104.0   \n",
       "725123       de           augsburg           Augsburg     02    261842.0   \n",
       "726965       de             bergen             Bergen     06     13586.0   \n",
       "726970       de             bergen             Bergen     12     14621.0   \n",
       "727047       de  bergisch gladbach  Bergisch Gladbach     07    106611.0   \n",
       "...         ...                ...                ...    ...         ...   \n",
       "1003432      gb           weymouth           Weymouth     D6     50253.0   \n",
       "1003718      gb         winchester         Winchester     F2     44094.0   \n",
       "1003869      gb      wolverhampton      Wolverhampton     Q3    252792.0   \n",
       "1003982      gb          worcester          Worcester     Q4    100023.0   \n",
       "1004163      gb               york               York     Q5    144202.0   \n",
       "\n",
       "               lat        lon  \n",
       "722416   50.770833   6.105278  \n",
       "725123   48.366667  10.883333  \n",
       "726965   52.816667   9.966667  \n",
       "726970   54.416667  13.433333  \n",
       "727047   50.983333   7.133333  \n",
       "...            ...        ...  \n",
       "1003432  50.600000  -2.450000  \n",
       "1003718  51.016667  -1.316667  \n",
       "1003869  52.583333  -2.133333  \n",
       "1003982  52.166667  -2.166667  \n",
       "1004163  53.954115  -1.064262  \n",
       "\n",
       "[203 rows x 7 columns]"
      ],
      "text/html": "<div>\n<style scoped>\n    .dataframe tbody tr th:only-of-type {\n        vertical-align: middle;\n    }\n\n    .dataframe tbody tr th {\n        vertical-align: top;\n    }\n\n    .dataframe thead th {\n        text-align: right;\n    }\n</style>\n<table border=\"1\" class=\"dataframe\">\n  <thead>\n    <tr style=\"text-align: right;\">\n      <th></th>\n      <th>Country</th>\n      <th>City</th>\n      <th>AccentCity</th>\n      <th>Region</th>\n      <th>Population</th>\n      <th>lat</th>\n      <th>lon</th>\n    </tr>\n  </thead>\n  <tbody>\n    <tr>\n      <th>722416</th>\n      <td>de</td>\n      <td>aachen</td>\n      <td>Aachen</td>\n      <td>07</td>\n      <td>251104.0</td>\n      <td>50.770833</td>\n      <td>6.105278</td>\n    </tr>\n    <tr>\n      <th>725123</th>\n      <td>de</td>\n      <td>augsburg</td>\n      <td>Augsburg</td>\n      <td>02</td>\n      <td>261842.0</td>\n      <td>48.366667</td>\n      <td>10.883333</td>\n    </tr>\n    <tr>\n      <th>726965</th>\n      <td>de</td>\n      <td>bergen</td>\n      <td>Bergen</td>\n      <td>06</td>\n      <td>13586.0</td>\n      <td>52.816667</td>\n      <td>9.966667</td>\n    </tr>\n    <tr>\n      <th>726970</th>\n      <td>de</td>\n      <td>bergen</td>\n      <td>Bergen</td>\n      <td>12</td>\n      <td>14621.0</td>\n      <td>54.416667</td>\n      <td>13.433333</td>\n    </tr>\n    <tr>\n      <th>727047</th>\n      <td>de</td>\n      <td>bergisch gladbach</td>\n      <td>Bergisch Gladbach</td>\n      <td>07</td>\n      <td>106611.0</td>\n      <td>50.983333</td>\n      <td>7.133333</td>\n    </tr>\n    <tr>\n      <th>...</th>\n      <td>...</td>\n      <td>...</td>\n      <td>...</td>\n      <td>...</td>\n      <td>...</td>\n      <td>...</td>\n      <td>...</td>\n    </tr>\n    <tr>\n      <th>1003432</th>\n      <td>gb</td>\n      <td>weymouth</td>\n      <td>Weymouth</td>\n      <td>D6</td>\n      <td>50253.0</td>\n      <td>50.600000</td>\n      <td>-2.450000</td>\n    </tr>\n    <tr>\n      <th>1003718</th>\n      <td>gb</td>\n      <td>winchester</td>\n      <td>Winchester</td>\n      <td>F2</td>\n      <td>44094.0</td>\n      <td>51.016667</td>\n      <td>-1.316667</td>\n    </tr>\n    <tr>\n      <th>1003869</th>\n      <td>gb</td>\n      <td>wolverhampton</td>\n      <td>Wolverhampton</td>\n      <td>Q3</td>\n      <td>252792.0</td>\n      <td>52.583333</td>\n      <td>-2.133333</td>\n    </tr>\n    <tr>\n      <th>1003982</th>\n      <td>gb</td>\n      <td>worcester</td>\n      <td>Worcester</td>\n      <td>Q4</td>\n      <td>100023.0</td>\n      <td>52.166667</td>\n      <td>-2.166667</td>\n    </tr>\n    <tr>\n      <th>1004163</th>\n      <td>gb</td>\n      <td>york</td>\n      <td>York</td>\n      <td>Q5</td>\n      <td>144202.0</td>\n      <td>53.954115</td>\n      <td>-1.064262</td>\n    </tr>\n  </tbody>\n</table>\n<p>203 rows × 7 columns</p>\n</div>"
     },
     "metadata": {},
     "execution_count": 45
    }
   ],
   "source": [
    "\n",
    "df_filtered3=df_filtered2[df_filtered2.Country.isin(['de', 'gb'])]\n",
    "df_filtered3"
   ]
  },
  {
   "source": [
    "Finally, use a Delaunay triangulation layer to find the most densely populated areas."
   ],
   "cell_type": "markdown",
   "metadata": {}
  },
  {
   "cell_type": "code",
   "execution_count": 59,
   "metadata": {},
   "outputs": [
    {
     "output_type": "stream",
     "name": "stdout",
     "text": [
      "('bbox from Nominatim:', 26.0, 76.0, -15.0, 35.0)\n"
     ]
    }
   ],
   "source": [
    "# plot a Delaunay triangulation\n",
    "geoplotlib.delaunay(\n",
    "    df_filtered3, \n",
    "    cmap='hot_r'\n",
    ")\n",
    "geoplotlib.set_smoothing(True)\n",
    "geoplotlib.set_bbox(BoundingBox.from_nominatim('EUROPE'))\n",
    "geoplotlib.show()"
   ]
  },
  {
   "cell_type": "code",
   "execution_count": null,
   "metadata": {},
   "outputs": [],
   "source": []
  }
 ]
}