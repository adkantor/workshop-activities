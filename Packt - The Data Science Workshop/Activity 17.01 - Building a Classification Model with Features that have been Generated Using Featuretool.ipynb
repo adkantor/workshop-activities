{
 "metadata": {
  "language_info": {
   "codemirror_mode": {
    "name": "ipython",
    "version": 3
   },
   "file_extension": ".py",
   "mimetype": "text/x-python",
   "name": "python",
   "nbconvert_exporter": "python",
   "pygments_lexer": "ipython3",
   "version": "3.7.2-final"
  },
  "orig_nbformat": 2,
  "kernelspec": {
   "name": "Python 3.7.2 64-bit ('dsw')",
   "display_name": "Python 3.7.2 64-bit ('dsw')",
   "metadata": {
    "interpreter": {
     "hash": "0d469a86b9a09f89c1759d071d50989ca98f9a2423bcdef283c9e386d614e982"
    }
   }
  }
 },
 "nbformat": 4,
 "nbformat_minor": 2,
 "cells": [
  {
   "source": [
    "# Building a Classification Model with Features that have been Generated Using Featuretools\n",
    "\n",
    "In this chapter, we have learned about Featuretools and how to build automated features using it. In the next activity, we will apply what we have learned to a new dataset. This dataset is a modified version of the adult dataset from the UCI Machine Learning Repository, Irvine, CA: University of California, School of Information and Computer Science, which can be found here, in the adult.data file. This dataset has various attributes of a working adult, such as age, occupation, education, and native. The task is to predict whether a particular adult will earn more than 50,000 in their yearly salary or not.\n",
    "\n",
    "The details about the various attributes are available at the preceding link in the adult.names file. This dataset has a mix of both categorical and numerical data and is a good dataset to try out what you have learned about Featuretools.\n",
    "\n",
    "In this activity, you will build a logistic regression model on the adult dataset to predict whether an adult will earn more than 50,000 per year or not. You will begin this activity by fitting a benchmark model on raw features and then note the benchmark metrics. After this, you will generate new features using Featuretools and then build another model on the new dataset. You should analyze the results to observe the performance of the models you've built."
   ],
   "cell_type": "markdown",
   "metadata": {}
  },
  {
   "cell_type": "code",
   "execution_count": 83,
   "metadata": {},
   "outputs": [],
   "source": [
    "import pandas as pd \n",
    "import numpy as np\n",
    "from sklearn.model_selection import train_test_split\n",
    "from sklearn.pipeline import Pipeline\n",
    "from sklearn.preprocessing import StandardScaler, OneHotEncoder\n",
    "from sklearn.compose import ColumnTransformer\n",
    "from sklearn.linear_model import LogisticRegression\n",
    "from sklearn.metrics import confusion_matrix, classification_report\n",
    "import featuretools as ft"
   ]
  },
  {
   "cell_type": "code",
   "execution_count": 84,
   "metadata": {},
   "outputs": [
    {
     "output_type": "execute_result",
     "data": {
      "text/plain": "       age          workclass  fnlwgt    education  education-num  \\\n0       39          State-gov   77516    Bachelors             13   \n1       50   Self-emp-not-inc   83311    Bachelors             13   \n2       38            Private  215646      HS-grad              9   \n3       53            Private  234721         11th              7   \n4       28            Private  338409    Bachelors             13   \n...    ...                ...     ...          ...            ...   \n32556   27            Private  257302   Assoc-acdm             12   \n32557   40            Private  154374      HS-grad              9   \n32558   58            Private  151910      HS-grad              9   \n32559   22            Private  201490      HS-grad              9   \n32560   52       Self-emp-inc  287927      HS-grad              9   \n\n            marital-status          occupation    relationship      sex  \\\n0            Never-married        Adm-clerical   Not-in-family     Male   \n1       Married-civ-spouse     Exec-managerial         Husband     Male   \n2                 Divorced   Handlers-cleaners   Not-in-family     Male   \n3       Married-civ-spouse   Handlers-cleaners         Husband     Male   \n4       Married-civ-spouse      Prof-specialty            Wife   Female   \n...                    ...                 ...             ...      ...   \n32556   Married-civ-spouse        Tech-support            Wife   Female   \n32557   Married-civ-spouse   Machine-op-inspct         Husband     Male   \n32558              Widowed        Adm-clerical       Unmarried   Female   \n32559        Never-married        Adm-clerical       Own-child     Male   \n32560   Married-civ-spouse     Exec-managerial            Wife   Female   \n\n       capital-gain  capital-loss  hours          native  label  \n0              2174             0     40   United-States      0  \n1                 0             0     13   United-States      0  \n2                 0             0     40   United-States      0  \n3                 0             0     40   United-States      0  \n4                 0             0     40            Cuba      0  \n...             ...           ...    ...             ...    ...  \n32556             0             0     38   United-States      0  \n32557             0             0     40   United-States      1  \n32558             0             0     40   United-States      0  \n32559             0             0     20   United-States      0  \n32560         15024             0     40   United-States      1  \n\n[32561 rows x 14 columns]",
      "text/html": "<div>\n<style scoped>\n    .dataframe tbody tr th:only-of-type {\n        vertical-align: middle;\n    }\n\n    .dataframe tbody tr th {\n        vertical-align: top;\n    }\n\n    .dataframe thead th {\n        text-align: right;\n    }\n</style>\n<table border=\"1\" class=\"dataframe\">\n  <thead>\n    <tr style=\"text-align: right;\">\n      <th></th>\n      <th>age</th>\n      <th>workclass</th>\n      <th>fnlwgt</th>\n      <th>education</th>\n      <th>education-num</th>\n      <th>marital-status</th>\n      <th>occupation</th>\n      <th>relationship</th>\n      <th>sex</th>\n      <th>capital-gain</th>\n      <th>capital-loss</th>\n      <th>hours</th>\n      <th>native</th>\n      <th>label</th>\n    </tr>\n  </thead>\n  <tbody>\n    <tr>\n      <th>0</th>\n      <td>39</td>\n      <td>State-gov</td>\n      <td>77516</td>\n      <td>Bachelors</td>\n      <td>13</td>\n      <td>Never-married</td>\n      <td>Adm-clerical</td>\n      <td>Not-in-family</td>\n      <td>Male</td>\n      <td>2174</td>\n      <td>0</td>\n      <td>40</td>\n      <td>United-States</td>\n      <td>0</td>\n    </tr>\n    <tr>\n      <th>1</th>\n      <td>50</td>\n      <td>Self-emp-not-inc</td>\n      <td>83311</td>\n      <td>Bachelors</td>\n      <td>13</td>\n      <td>Married-civ-spouse</td>\n      <td>Exec-managerial</td>\n      <td>Husband</td>\n      <td>Male</td>\n      <td>0</td>\n      <td>0</td>\n      <td>13</td>\n      <td>United-States</td>\n      <td>0</td>\n    </tr>\n    <tr>\n      <th>2</th>\n      <td>38</td>\n      <td>Private</td>\n      <td>215646</td>\n      <td>HS-grad</td>\n      <td>9</td>\n      <td>Divorced</td>\n      <td>Handlers-cleaners</td>\n      <td>Not-in-family</td>\n      <td>Male</td>\n      <td>0</td>\n      <td>0</td>\n      <td>40</td>\n      <td>United-States</td>\n      <td>0</td>\n    </tr>\n    <tr>\n      <th>3</th>\n      <td>53</td>\n      <td>Private</td>\n      <td>234721</td>\n      <td>11th</td>\n      <td>7</td>\n      <td>Married-civ-spouse</td>\n      <td>Handlers-cleaners</td>\n      <td>Husband</td>\n      <td>Male</td>\n      <td>0</td>\n      <td>0</td>\n      <td>40</td>\n      <td>United-States</td>\n      <td>0</td>\n    </tr>\n    <tr>\n      <th>4</th>\n      <td>28</td>\n      <td>Private</td>\n      <td>338409</td>\n      <td>Bachelors</td>\n      <td>13</td>\n      <td>Married-civ-spouse</td>\n      <td>Prof-specialty</td>\n      <td>Wife</td>\n      <td>Female</td>\n      <td>0</td>\n      <td>0</td>\n      <td>40</td>\n      <td>Cuba</td>\n      <td>0</td>\n    </tr>\n    <tr>\n      <th>...</th>\n      <td>...</td>\n      <td>...</td>\n      <td>...</td>\n      <td>...</td>\n      <td>...</td>\n      <td>...</td>\n      <td>...</td>\n      <td>...</td>\n      <td>...</td>\n      <td>...</td>\n      <td>...</td>\n      <td>...</td>\n      <td>...</td>\n      <td>...</td>\n    </tr>\n    <tr>\n      <th>32556</th>\n      <td>27</td>\n      <td>Private</td>\n      <td>257302</td>\n      <td>Assoc-acdm</td>\n      <td>12</td>\n      <td>Married-civ-spouse</td>\n      <td>Tech-support</td>\n      <td>Wife</td>\n      <td>Female</td>\n      <td>0</td>\n      <td>0</td>\n      <td>38</td>\n      <td>United-States</td>\n      <td>0</td>\n    </tr>\n    <tr>\n      <th>32557</th>\n      <td>40</td>\n      <td>Private</td>\n      <td>154374</td>\n      <td>HS-grad</td>\n      <td>9</td>\n      <td>Married-civ-spouse</td>\n      <td>Machine-op-inspct</td>\n      <td>Husband</td>\n      <td>Male</td>\n      <td>0</td>\n      <td>0</td>\n      <td>40</td>\n      <td>United-States</td>\n      <td>1</td>\n    </tr>\n    <tr>\n      <th>32558</th>\n      <td>58</td>\n      <td>Private</td>\n      <td>151910</td>\n      <td>HS-grad</td>\n      <td>9</td>\n      <td>Widowed</td>\n      <td>Adm-clerical</td>\n      <td>Unmarried</td>\n      <td>Female</td>\n      <td>0</td>\n      <td>0</td>\n      <td>40</td>\n      <td>United-States</td>\n      <td>0</td>\n    </tr>\n    <tr>\n      <th>32559</th>\n      <td>22</td>\n      <td>Private</td>\n      <td>201490</td>\n      <td>HS-grad</td>\n      <td>9</td>\n      <td>Never-married</td>\n      <td>Adm-clerical</td>\n      <td>Own-child</td>\n      <td>Male</td>\n      <td>0</td>\n      <td>0</td>\n      <td>20</td>\n      <td>United-States</td>\n      <td>0</td>\n    </tr>\n    <tr>\n      <th>32560</th>\n      <td>52</td>\n      <td>Self-emp-inc</td>\n      <td>287927</td>\n      <td>HS-grad</td>\n      <td>9</td>\n      <td>Married-civ-spouse</td>\n      <td>Exec-managerial</td>\n      <td>Wife</td>\n      <td>Female</td>\n      <td>15024</td>\n      <td>0</td>\n      <td>40</td>\n      <td>United-States</td>\n      <td>1</td>\n    </tr>\n  </tbody>\n</table>\n<p>32561 rows × 14 columns</p>\n</div>"
     },
     "metadata": {},
     "execution_count": 84
    }
   ],
   "source": [
    "df = pd.read_csv('../Datasets/adult.csv', sep=',', na_values=' ?')\n",
    "df"
   ]
  },
  {
   "cell_type": "code",
   "execution_count": 85,
   "metadata": {},
   "outputs": [
    {
     "output_type": "execute_result",
     "data": {
      "text/plain": "age                int64\nworkclass         object\nfnlwgt             int64\neducation         object\neducation-num      int64\nmarital-status    object\noccupation        object\nrelationship      object\nsex               object\ncapital-gain       int64\ncapital-loss       int64\nhours              int64\nnative            object\nlabel              int64\ndtype: object"
     },
     "metadata": {},
     "execution_count": 85
    }
   ],
   "source": [
    "df.dtypes"
   ]
  },
  {
   "cell_type": "code",
   "execution_count": 86,
   "metadata": {},
   "outputs": [
    {
     "output_type": "execute_result",
     "data": {
      "text/plain": "       age          workclass  fnlwgt    education  education-num  \\\n0       39          State-gov   77516    Bachelors             13   \n1       50   Self-emp-not-inc   83311    Bachelors             13   \n2       38            Private  215646      HS-grad              9   \n3       53            Private  234721         11th              7   \n4       28            Private  338409    Bachelors             13   \n...    ...                ...     ...          ...            ...   \n32556   27            Private  257302   Assoc-acdm             12   \n32557   40            Private  154374      HS-grad              9   \n32558   58            Private  151910      HS-grad              9   \n32559   22            Private  201490      HS-grad              9   \n32560   52       Self-emp-inc  287927      HS-grad              9   \n\n            marital-status          occupation    relationship      sex  \\\n0            Never-married        Adm-clerical   Not-in-family     Male   \n1       Married-civ-spouse     Exec-managerial         Husband     Male   \n2                 Divorced   Handlers-cleaners   Not-in-family     Male   \n3       Married-civ-spouse   Handlers-cleaners         Husband     Male   \n4       Married-civ-spouse      Prof-specialty            Wife   Female   \n...                    ...                 ...             ...      ...   \n32556   Married-civ-spouse        Tech-support            Wife   Female   \n32557   Married-civ-spouse   Machine-op-inspct         Husband     Male   \n32558              Widowed        Adm-clerical       Unmarried   Female   \n32559        Never-married        Adm-clerical       Own-child     Male   \n32560   Married-civ-spouse     Exec-managerial            Wife   Female   \n\n       capital-gain  capital-loss  hours          native  label  \n0              2174             0     40   United-States      0  \n1                 0             0     13   United-States      0  \n2                 0             0     40   United-States      0  \n3                 0             0     40   United-States      0  \n4                 0             0     40            Cuba      0  \n...             ...           ...    ...             ...    ...  \n32556             0             0     38   United-States      0  \n32557             0             0     40   United-States      1  \n32558             0             0     40   United-States      0  \n32559             0             0     20   United-States      0  \n32560         15024             0     40   United-States      1  \n\n[30162 rows x 14 columns]",
      "text/html": "<div>\n<style scoped>\n    .dataframe tbody tr th:only-of-type {\n        vertical-align: middle;\n    }\n\n    .dataframe tbody tr th {\n        vertical-align: top;\n    }\n\n    .dataframe thead th {\n        text-align: right;\n    }\n</style>\n<table border=\"1\" class=\"dataframe\">\n  <thead>\n    <tr style=\"text-align: right;\">\n      <th></th>\n      <th>age</th>\n      <th>workclass</th>\n      <th>fnlwgt</th>\n      <th>education</th>\n      <th>education-num</th>\n      <th>marital-status</th>\n      <th>occupation</th>\n      <th>relationship</th>\n      <th>sex</th>\n      <th>capital-gain</th>\n      <th>capital-loss</th>\n      <th>hours</th>\n      <th>native</th>\n      <th>label</th>\n    </tr>\n  </thead>\n  <tbody>\n    <tr>\n      <th>0</th>\n      <td>39</td>\n      <td>State-gov</td>\n      <td>77516</td>\n      <td>Bachelors</td>\n      <td>13</td>\n      <td>Never-married</td>\n      <td>Adm-clerical</td>\n      <td>Not-in-family</td>\n      <td>Male</td>\n      <td>2174</td>\n      <td>0</td>\n      <td>40</td>\n      <td>United-States</td>\n      <td>0</td>\n    </tr>\n    <tr>\n      <th>1</th>\n      <td>50</td>\n      <td>Self-emp-not-inc</td>\n      <td>83311</td>\n      <td>Bachelors</td>\n      <td>13</td>\n      <td>Married-civ-spouse</td>\n      <td>Exec-managerial</td>\n      <td>Husband</td>\n      <td>Male</td>\n      <td>0</td>\n      <td>0</td>\n      <td>13</td>\n      <td>United-States</td>\n      <td>0</td>\n    </tr>\n    <tr>\n      <th>2</th>\n      <td>38</td>\n      <td>Private</td>\n      <td>215646</td>\n      <td>HS-grad</td>\n      <td>9</td>\n      <td>Divorced</td>\n      <td>Handlers-cleaners</td>\n      <td>Not-in-family</td>\n      <td>Male</td>\n      <td>0</td>\n      <td>0</td>\n      <td>40</td>\n      <td>United-States</td>\n      <td>0</td>\n    </tr>\n    <tr>\n      <th>3</th>\n      <td>53</td>\n      <td>Private</td>\n      <td>234721</td>\n      <td>11th</td>\n      <td>7</td>\n      <td>Married-civ-spouse</td>\n      <td>Handlers-cleaners</td>\n      <td>Husband</td>\n      <td>Male</td>\n      <td>0</td>\n      <td>0</td>\n      <td>40</td>\n      <td>United-States</td>\n      <td>0</td>\n    </tr>\n    <tr>\n      <th>4</th>\n      <td>28</td>\n      <td>Private</td>\n      <td>338409</td>\n      <td>Bachelors</td>\n      <td>13</td>\n      <td>Married-civ-spouse</td>\n      <td>Prof-specialty</td>\n      <td>Wife</td>\n      <td>Female</td>\n      <td>0</td>\n      <td>0</td>\n      <td>40</td>\n      <td>Cuba</td>\n      <td>0</td>\n    </tr>\n    <tr>\n      <th>...</th>\n      <td>...</td>\n      <td>...</td>\n      <td>...</td>\n      <td>...</td>\n      <td>...</td>\n      <td>...</td>\n      <td>...</td>\n      <td>...</td>\n      <td>...</td>\n      <td>...</td>\n      <td>...</td>\n      <td>...</td>\n      <td>...</td>\n      <td>...</td>\n    </tr>\n    <tr>\n      <th>32556</th>\n      <td>27</td>\n      <td>Private</td>\n      <td>257302</td>\n      <td>Assoc-acdm</td>\n      <td>12</td>\n      <td>Married-civ-spouse</td>\n      <td>Tech-support</td>\n      <td>Wife</td>\n      <td>Female</td>\n      <td>0</td>\n      <td>0</td>\n      <td>38</td>\n      <td>United-States</td>\n      <td>0</td>\n    </tr>\n    <tr>\n      <th>32557</th>\n      <td>40</td>\n      <td>Private</td>\n      <td>154374</td>\n      <td>HS-grad</td>\n      <td>9</td>\n      <td>Married-civ-spouse</td>\n      <td>Machine-op-inspct</td>\n      <td>Husband</td>\n      <td>Male</td>\n      <td>0</td>\n      <td>0</td>\n      <td>40</td>\n      <td>United-States</td>\n      <td>1</td>\n    </tr>\n    <tr>\n      <th>32558</th>\n      <td>58</td>\n      <td>Private</td>\n      <td>151910</td>\n      <td>HS-grad</td>\n      <td>9</td>\n      <td>Widowed</td>\n      <td>Adm-clerical</td>\n      <td>Unmarried</td>\n      <td>Female</td>\n      <td>0</td>\n      <td>0</td>\n      <td>40</td>\n      <td>United-States</td>\n      <td>0</td>\n    </tr>\n    <tr>\n      <th>32559</th>\n      <td>22</td>\n      <td>Private</td>\n      <td>201490</td>\n      <td>HS-grad</td>\n      <td>9</td>\n      <td>Never-married</td>\n      <td>Adm-clerical</td>\n      <td>Own-child</td>\n      <td>Male</td>\n      <td>0</td>\n      <td>0</td>\n      <td>20</td>\n      <td>United-States</td>\n      <td>0</td>\n    </tr>\n    <tr>\n      <th>32560</th>\n      <td>52</td>\n      <td>Self-emp-inc</td>\n      <td>287927</td>\n      <td>HS-grad</td>\n      <td>9</td>\n      <td>Married-civ-spouse</td>\n      <td>Exec-managerial</td>\n      <td>Wife</td>\n      <td>Female</td>\n      <td>15024</td>\n      <td>0</td>\n      <td>40</td>\n      <td>United-States</td>\n      <td>1</td>\n    </tr>\n  </tbody>\n</table>\n<p>30162 rows × 14 columns</p>\n</div>"
     },
     "metadata": {},
     "execution_count": 86
    }
   ],
   "source": [
    "# drop rows with NaN\n",
    "df.dropna(axis=0, inplace=True)\n",
    "df"
   ]
  },
  {
   "cell_type": "code",
   "execution_count": 87,
   "metadata": {},
   "outputs": [
    {
     "output_type": "execute_result",
     "data": {
      "text/plain": "Index(['age', 'workclass', 'fnlwgt', 'education', 'education-num',\n       'marital-status', 'occupation', 'relationship', 'sex', 'capital-gain',\n       'capital-loss', 'hours', 'native', 'label'],\n      dtype='object')"
     },
     "metadata": {},
     "execution_count": 87
    }
   ],
   "source": [
    "df.columns"
   ]
  },
  {
   "cell_type": "code",
   "execution_count": 88,
   "metadata": {
    "tags": []
   },
   "outputs": [
    {
     "output_type": "stream",
     "name": "stdout",
     "text": "(30162, 13)\n(30162,)\n"
    }
   ],
   "source": [
    "# Create X, y\n",
    "y = df.pop('label')\n",
    "X = df\n",
    "print(X.shape)\n",
    "print(y.shape)"
   ]
  },
  {
   "source": [
    "## Benchmark model"
   ],
   "cell_type": "markdown",
   "metadata": {}
  },
  {
   "cell_type": "code",
   "execution_count": 89,
   "metadata": {
    "tags": []
   },
   "outputs": [
    {
     "output_type": "stream",
     "name": "stdout",
     "text": "(21113, 13)\n(9049, 13)\n(21113,)\n(9049,)\n"
    }
   ],
   "source": [
    "# Split train-test sets\n",
    "X_train, X_test, y_train, y_test = train_test_split(X, y, test_size=0.3, random_state=123)\n",
    "print(X_train.shape)\n",
    "print(X_test.shape)\n",
    "print(y_train.shape)\n",
    "print(y_test.shape)"
   ]
  },
  {
   "cell_type": "code",
   "execution_count": 90,
   "metadata": {},
   "outputs": [],
   "source": [
    "# Pipeline for transforming categorical variables\n",
    "catFeatures = X.select_dtypes(include=['object']).columns\n",
    "catTransformer = Pipeline(steps=[('onehot', OneHotEncoder(handle_unknown='ignore'))])\n",
    " \n",
    "# Pipeline for scaling numerical variables\n",
    "numFeatures = X.select_dtypes(include=['int64']).columns\n",
    "numTransformer = Pipeline(steps=[('scaler', StandardScaler())])\n",
    "\n",
    "# Create the preprocessing engine\n",
    "preprocessor = ColumnTransformer(\n",
    "    transformers=[\n",
    "        ('numeric', numTransformer, numFeatures),\n",
    "        ('categoric', catTransformer, catFeatures)\n",
    "    ]\n",
    ")"
   ]
  },
  {
   "cell_type": "code",
   "execution_count": 91,
   "metadata": {},
   "outputs": [],
   "source": [
    "# Create an estimator with both preprocessor and model\n",
    "estimator = Pipeline(\n",
    "    steps=[\n",
    "        ('preprocessor', preprocessor),\n",
    "        ('clf', LogisticRegression(random_state=123))\n",
    "    ]\n",
    ")"
   ]
  },
  {
   "cell_type": "code",
   "execution_count": 92,
   "metadata": {},
   "outputs": [
    {
     "output_type": "execute_result",
     "data": {
      "text/plain": "Pipeline(steps=[('preprocessor',\n                 ColumnTransformer(transformers=[('numeric',\n                                                  Pipeline(steps=[('scaler',\n                                                                   StandardScaler())]),\n                                                  Index(['age', 'fnlwgt', 'education-num', 'capital-gain', 'capital-loss',\n       'hours'],\n      dtype='object')),\n                                                 ('categoric',\n                                                  Pipeline(steps=[('onehot',\n                                                                   OneHotEncoder(handle_unknown='ignore'))]),\n                                                  Index(['workclass', 'education', 'marital-status', 'occupation',\n       'relationship', 'sex', 'native'],\n      dtype='object'))])),\n                ('clf', LogisticRegression(random_state=123))])"
     },
     "metadata": {},
     "execution_count": 92
    }
   ],
   "source": [
    "# Fit the modelling pipeline on the training set\n",
    "estimator.fit(X_train, y_train)"
   ]
  },
  {
   "cell_type": "code",
   "execution_count": 93,
   "metadata": {
    "tags": []
   },
   "outputs": [
    {
     "output_type": "stream",
     "name": "stdout",
     "text": "Score: 0.8534644712122886\n\n[[6333  468]\n [ 858 1390]]\n\n\n              precision    recall  f1-score   support\n\n           0       0.88      0.93      0.91      6801\n           1       0.75      0.62      0.68      2248\n\n    accuracy                           0.85      9049\n   macro avg       0.81      0.77      0.79      9049\nweighted avg       0.85      0.85      0.85      9049\n\n"
    }
   ],
   "source": [
    "# predict and evaluate\n",
    "y_pred = estimator.predict(X_test)\n",
    "print(f'Score: {estimator.score(X_test, y_test)}\\n')\n",
    "print(confusion_matrix(y_test, y_pred))\n",
    "print('\\n')\n",
    "print(classification_report(y_test, y_pred))"
   ]
  },
  {
   "source": [
    "## Feature Engineering"
   ],
   "cell_type": "markdown",
   "metadata": {}
  },
  {
   "cell_type": "code",
   "execution_count": 94,
   "metadata": {},
   "outputs": [],
   "source": [
    "# Create entities and their IDs\n",
    "df['adultID'] = df.index.values\n",
    "df['adultID'] = 'ad' + df['adultID'].astype(str)"
   ]
  },
  {
   "cell_type": "code",
   "execution_count": 102,
   "metadata": {},
   "outputs": [],
   "source": [
    "df['workclassID'] = 0\n",
    "df['workclassID'] = df['workclass'].apply(lambda x: list(df['workclass'].unique()).index(x))"
   ]
  },
  {
   "cell_type": "code",
   "execution_count": 103,
   "metadata": {},
   "outputs": [],
   "source": [
    "df['occupationID'] = 0\n",
    "df['occupationID'] = df['occupation'].apply(lambda x: list(df['occupation'].unique()).index(x))"
   ]
  },
  {
   "cell_type": "code",
   "execution_count": 108,
   "metadata": {},
   "outputs": [],
   "source": [
    "# Create the entity set\n",
    "adult_entities = ft.EntitySet(id = 'Adult')"
   ]
  },
  {
   "cell_type": "code",
   "execution_count": 109,
   "metadata": {},
   "outputs": [
    {
     "output_type": "execute_result",
     "data": {
      "text/plain": "Entityset: Adult\n  Entities:\n    DemographicData [Rows: 30162, Columns: 18]\n  Relationships:\n    No relationships"
     },
     "metadata": {},
     "execution_count": 109
    }
   ],
   "source": [
    "# Map a dataframe to the entityset to form the parent entity\n",
    "adult_entities.entity_from_dataframe(\n",
    "    entity_id = 'DemographicData', \n",
    "    dataframe = df, \n",
    "    index = 'adultID'\n",
    ")"
   ]
  },
  {
   "cell_type": "code",
   "execution_count": 110,
   "metadata": {},
   "outputs": [
    {
     "output_type": "execute_result",
     "data": {
      "text/plain": "Entityset: Adult\n  Entities:\n    DemographicData [Rows: 30162, Columns: 15]\n    Education [Rows: 16, Columns: 2]\n    WorkClass [Rows: 7, Columns: 2]\n    Occupation [Rows: 14, Columns: 2]\n  Relationships:\n    DemographicData.education-num -> Education.education-num\n    DemographicData.workclassID -> WorkClass.workclassID\n    DemographicData.occupationID -> Occupation.occupationID"
     },
     "metadata": {},
     "execution_count": 110
    }
   ],
   "source": [
    "# Map to parent entity and set the relationship\n",
    "adult_entities.normalize_entity(\n",
    "    base_entity_id='DemographicData', \n",
    "    new_entity_id='Education', \n",
    "    index = 'education-num', \n",
    "    additional_variables = ['education']\n",
    ")\n",
    "\n",
    "adult_entities.normalize_entity(\n",
    "    base_entity_id='DemographicData', \n",
    "    new_entity_id='WorkClass', \n",
    "    index = 'workclassID', \n",
    "    additional_variables = ['workclass']\n",
    ")\n",
    "\n",
    "adult_entities.normalize_entity(\n",
    "    base_entity_id='DemographicData', \n",
    "    new_entity_id='Occupation', \n",
    "    index = 'occupationID', \n",
    "    additional_variables = ['occupation']\n",
    ")"
   ]
  },
  {
   "cell_type": "code",
   "execution_count": 112,
   "metadata": {
    "tags": []
   },
   "outputs": [
    {
     "output_type": "stream",
     "name": "stdout",
     "text": "Built 216 features\nElapsed: 00:02 | Progress: 100%|██████████\n"
    }
   ],
   "source": [
    "# Create aggregation and transformation primitives\n",
    "agg_primitives = ['std', 'min', 'max', 'mean', 'last', 'count']\n",
    "trans_primitives = ['percentile', 'subtract_numeric', 'divide_numeric']\n",
    "\n",
    "# Define the new set of features\n",
    "feature_set, feature_names = ft.dfs(\n",
    "    entityset=adult_entities, \n",
    "    target_entity='DemographicData',\n",
    "    agg_primitives=agg_primitives,\n",
    "    trans_primitives=trans_primitives, \n",
    "    max_depth=2, \n",
    "    verbose=2, \n",
    "    n_jobs=1\n",
    ")"
   ]
  },
  {
   "cell_type": "code",
   "execution_count": 113,
   "metadata": {},
   "outputs": [],
   "source": [
    "# Reindex the feature_set\n",
    "feature_set = feature_set.reindex(index=df['adultID'])\n",
    "feature_set = feature_set.reset_index()"
   ]
  },
  {
   "cell_type": "code",
   "execution_count": 114,
   "metadata": {},
   "outputs": [],
   "source": [
    "# Drop all Ids\n",
    "X = feature_set[feature_set.columns[~feature_set.columns.str.contains('adultID|education-num|workclassID|occupationID')]]\n",
    "# Replace all columns with infinity with nan\n",
    "X = X.replace([np.inf, -np.inf], np.nan)\n",
    "# Drop all columns with nan\n",
    "X = X.dropna(axis=1, how='any')"
   ]
  },
  {
   "cell_type": "code",
   "execution_count": 115,
   "metadata": {
    "tags": []
   },
   "outputs": [
    {
     "output_type": "stream",
     "name": "stdout",
     "text": "(21113, 180)\n(9049, 180)\n(21113,)\n(9049,)\n"
    }
   ],
   "source": [
    "# Split train-test sets\n",
    "X_train, X_test, y_train, y_test = train_test_split(X, y, test_size=0.3, random_state=123)\n",
    "print(X_train.shape)\n",
    "print(X_test.shape)\n",
    "print(y_train.shape)\n",
    "print(y_test.shape)"
   ]
  },
  {
   "cell_type": "code",
   "execution_count": 119,
   "metadata": {},
   "outputs": [],
   "source": [
    "# Pipeline for transforming categorical variables\n",
    "catFeatures = X.select_dtypes(include=['object']).columns\n",
    "catTransformer = Pipeline(steps=[('onehot', OneHotEncoder(handle_unknown='ignore'))])\n",
    " \n",
    "# Pipeline for scaling numerical variables\n",
    "numFeatures = X.select_dtypes(include=['int64', 'float64']).columns\n",
    "numTransformer = Pipeline(steps=[('scaler', StandardScaler())])\n",
    "\n",
    "# Create the preprocessing engine\n",
    "preprocessor = ColumnTransformer(\n",
    "    transformers=[\n",
    "        ('numeric', numTransformer, numFeatures),\n",
    "        ('categoric', catTransformer, catFeatures)\n",
    "    ]\n",
    ")"
   ]
  },
  {
   "cell_type": "code",
   "execution_count": 120,
   "metadata": {},
   "outputs": [],
   "source": [
    "# Create an estimator with both preprocessor and model\n",
    "estimator = Pipeline(\n",
    "    steps=[\n",
    "        ('preprocessor', preprocessor),\n",
    "        ('clf', LogisticRegression(random_state=123))\n",
    "    ]\n",
    ")"
   ]
  },
  {
   "cell_type": "code",
   "execution_count": 121,
   "metadata": {},
   "outputs": [
    {
     "output_type": "execute_result",
     "data": {
      "text/plain": "Pipeline(steps=[('preprocessor',\n                 ColumnTransformer(transformers=[('numeric',\n                                                  Pipeline(steps=[('scaler',\n                                                                   StandardScaler())]),\n                                                  Index(['age', 'fnlwgt', 'capital-gain', 'capital-loss', 'hours', 'workclassId',\n       'occupationId', 'age / fnlwgt', 'age / hours', 'capital-gain / age',\n       ...\n       'Occupation.MIN(DemographicData.hours)',\n       'Occupation.MIN(DemographicData.occupationId)',\n       'Occup...\n       'WorkClass.LAST(DemographicData.native)',\n       'WorkClass.LAST(DemographicData.relationship)',\n       'WorkClass.LAST(DemographicData.sex)',\n       'Occupation.LAST(DemographicData.marital-status)',\n       'Occupation.LAST(DemographicData.native)',\n       'Occupation.LAST(DemographicData.relationship)',\n       'Occupation.LAST(DemographicData.sex)'],\n      dtype='object'))])),\n                ('clf', LogisticRegression(random_state=123))])"
     },
     "metadata": {},
     "execution_count": 121
    }
   ],
   "source": [
    "# Fit the modelling pipeline on the training set\n",
    "estimator.fit(X_train, y_train)"
   ]
  },
  {
   "cell_type": "code",
   "execution_count": 122,
   "metadata": {
    "tags": []
   },
   "outputs": [
    {
     "output_type": "stream",
     "name": "stdout",
     "text": "Score: 0.8587689247430655\n\n[[6338  463]\n [ 815 1433]]\n\n\n              precision    recall  f1-score   support\n\n           0       0.89      0.93      0.91      6801\n           1       0.76      0.64      0.69      2248\n\n    accuracy                           0.86      9049\n   macro avg       0.82      0.78      0.80      9049\nweighted avg       0.85      0.86      0.85      9049\n\n"
    }
   ],
   "source": [
    "# predict and evaluate\n",
    "y_pred = estimator.predict(X_test)\n",
    "print(f'Score: {estimator.score(X_test, y_test)}\\n')\n",
    "print(confusion_matrix(y_test, y_pred))\n",
    "print('\\n')\n",
    "print(classification_report(y_test, y_pred))"
   ]
  }
 ]
}