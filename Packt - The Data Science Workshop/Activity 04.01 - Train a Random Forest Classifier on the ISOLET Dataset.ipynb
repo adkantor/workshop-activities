{
 "cells": [
  {
   "cell_type": "markdown",
   "metadata": {},
   "source": [
    "# Train a Random Forest Classifier on the ISOLET Dataset\n",
    "\n",
    "You are working for a technology company and they are planning to launch a new voice assistant product. You have been tasked with building a classification model that will recognize the letters spelled out by a user based on the signal frequencies captured. Each sound can be captured and represented as a signal composed of multiple frequencies.\n",
    "\n",
    "> Note: This is the ISOLET [dataset](https://archive.ics.uci.edu/ml/datasets/ISOLET), taken from the UCI Machine Learning Repository. The link to CSV version of this [dataset](https://raw.githubusercontent.com/PacktWorkshops/The-Data-Science-Workshop/master/Chapter04/Dataset/phpB0xrNj.csv)."
   ]
  },
  {
   "cell_type": "markdown",
   "metadata": {},
   "source": [
    "### Download and load the dataset using .read_csv() from pandas.\n",
    "### Extract the response variable using .pop() from pandas.\n",
    "### Split the dataset into training and test sets using train_test_split() from sklearn.model_selection."
   ]
  },
  {
   "cell_type": "code",
   "execution_count": 1,
   "metadata": {},
   "outputs": [],
   "source": [
    "import pandas as pd\n",
    "from sklearn.model_selection import train_test_split\n",
    "from sklearn.ensemble import RandomForestClassifier\n",
    "from sklearn.metrics import accuracy_score"
   ]
  },
  {
   "cell_type": "code",
   "execution_count": 2,
   "metadata": {
    "tags": []
   },
   "outputs": [
    {
     "output_type": "stream",
     "name": "stdout",
     "text": "(5457, 617) (2340, 617) (5457,) (2340,)\n"
    }
   ],
   "source": [
    "df = pd.read_csv('..\\Dataset\\phpB0xrNj.csv')\n",
    "y = df.pop('class')\n",
    "X_train, X_test, y_train, y_test = train_test_split(df, y, random_state=1, test_size = 0.3)\n",
    "print(X_train.shape, X_test.shape, y_train.shape, y_test.shape)"
   ]
  },
  {
   "cell_type": "markdown",
   "metadata": {},
   "source": [
    "### Create a function that will instantiate and fit a RandomForestClassifier using .fit() from sklearn.ensemble."
   ]
  },
  {
   "cell_type": "code",
   "execution_count": 3,
   "metadata": {},
   "outputs": [],
   "source": [
    "def build_model(X, y, n_estimators=100, max_depth=None, min_samples_leaf=1, max_features='auto'):\n",
    "    model = RandomForestClassifier(\n",
    "        n_estimators=n_estimators, \n",
    "        max_depth=max_depth, \n",
    "        min_samples_leaf=min_samples_leaf, \n",
    "        max_features=max_features,\n",
    "        random_state=1\n",
    "    )\n",
    "    model.fit(X, y)\n",
    "    return model"
   ]
  },
  {
   "cell_type": "markdown",
   "metadata": {},
   "source": [
    "### Create a function that will predict the outcome for the training and testing sets using .predict()."
   ]
  },
  {
   "cell_type": "code",
   "execution_count": 4,
   "metadata": {},
   "outputs": [],
   "source": [
    "def get_predictions(model, X_train, X_test):\n",
    "    pred_train = model.predict(X_train)\n",
    "    pred_test = model.predict(X_test)\n",
    "    return pred_train, pred_test"
   ]
  },
  {
   "cell_type": "markdown",
   "metadata": {},
   "source": [
    "### Create a function that will print the accuracy score for the training and testing sets using accuracy_score() from sklearn.metrics."
   ]
  },
  {
   "cell_type": "code",
   "execution_count": 5,
   "metadata": {},
   "outputs": [],
   "source": [
    "def print_accuracy_scores(y_train, y_test, pred_train, pred_test):\n",
    "    print(f'Train accuracy: {accuracy_score(y_train, pred_train):.3f}')\n",
    "    print(f'Test accuracy: {accuracy_score(y_test, pred_test):.3f}')"
   ]
  },
  {
   "cell_type": "code",
   "execution_count": 6,
   "metadata": {
    "tags": []
   },
   "outputs": [
    {
     "output_type": "stream",
     "name": "stdout",
     "text": "Train accuracy: 1.000\nTest accuracy: 0.944\n"
    }
   ],
   "source": [
    "model0 = build_model(X_train, y_train)\n",
    "pred_train0, pred_test0 = get_predictions(model0, X_train, X_test)\n",
    "print_accuracy_scores(y_train, y_test, pred_train0, pred_test0)"
   ]
  },
  {
   "cell_type": "markdown",
   "metadata": {},
   "source": [
    "### Train and get the accuracy score for n_estimators = 20 and 50."
   ]
  },
  {
   "cell_type": "code",
   "execution_count": 7,
   "metadata": {
    "tags": []
   },
   "outputs": [
    {
     "output_type": "stream",
     "name": "stdout",
     "text": "Train accuracy: 1.000\nTest accuracy: 0.922\n"
    }
   ],
   "source": [
    "model1 = build_model(X_train, y_train, n_estimators=20)\n",
    "pred_train1, pred_test1 = get_predictions(model1, X_train, X_test)\n",
    "print_accuracy_scores(y_train, y_test, pred_train1, pred_test1)"
   ]
  },
  {
   "cell_type": "code",
   "execution_count": 8,
   "metadata": {
    "tags": []
   },
   "outputs": [
    {
     "output_type": "stream",
     "name": "stdout",
     "text": "Train accuracy: 1.000\nTest accuracy: 0.939\n"
    }
   ],
   "source": [
    "model2 = build_model(X_train, y_train, n_estimators=50)\n",
    "pred_train2, pred_test2 = get_predictions(model2, X_train, X_test)\n",
    "print_accuracy_scores(y_train, y_test, pred_train2, pred_test2)"
   ]
  },
  {
   "cell_type": "markdown",
   "metadata": {},
   "source": [
    "### Train and get the accuracy score for max_depth = 5 and 10."
   ]
  },
  {
   "cell_type": "code",
   "execution_count": 9,
   "metadata": {
    "tags": []
   },
   "outputs": [
    {
     "output_type": "stream",
     "name": "stdout",
     "text": "Train accuracy: 0.885\nTest accuracy: 0.851\n"
    }
   ],
   "source": [
    "model3 = build_model(X_train, y_train, max_depth=5)\n",
    "pred_train3, pred_test3 = get_predictions(model3, X_train, X_test)\n",
    "print_accuracy_scores(y_train, y_test, pred_train3, pred_test3)"
   ]
  },
  {
   "cell_type": "code",
   "execution_count": 10,
   "metadata": {
    "tags": []
   },
   "outputs": [
    {
     "output_type": "stream",
     "name": "stdout",
     "text": "Train accuracy: 0.986\nTest accuracy: 0.935\n"
    }
   ],
   "source": [
    "model4 = build_model(X_train, y_train, max_depth=10)\n",
    "pred_train4, pred_test4 = get_predictions(model4, X_train, X_test)\n",
    "print_accuracy_scores(y_train, y_test, pred_train4, pred_test4)"
   ]
  },
  {
   "cell_type": "markdown",
   "metadata": {},
   "source": [
    "### Train and get the accuracy score for min_samples_leaf = 10 and 50."
   ]
  },
  {
   "cell_type": "code",
   "execution_count": 11,
   "metadata": {
    "tags": []
   },
   "outputs": [
    {
     "output_type": "stream",
     "name": "stdout",
     "text": "Train accuracy: 0.975\nTest accuracy: 0.938\n"
    }
   ],
   "source": [
    "model5 = build_model(X_train, y_train, min_samples_leaf=10)\n",
    "pred_train5, pred_test5 = get_predictions(model5, X_train, X_test)\n",
    "print_accuracy_scores(y_train, y_test, pred_train5, pred_test5)"
   ]
  },
  {
   "cell_type": "code",
   "execution_count": 12,
   "metadata": {
    "tags": []
   },
   "outputs": [
    {
     "output_type": "stream",
     "name": "stdout",
     "text": "Train accuracy: 0.921\nTest accuracy: 0.899\n"
    }
   ],
   "source": [
    "model6 = build_model(X_train, y_train, min_samples_leaf=50)\n",
    "pred_train6, pred_test6 = get_predictions(model6, X_train, X_test)\n",
    "print_accuracy_scores(y_train, y_test, pred_train6, pred_test6)"
   ]
  },
  {
   "cell_type": "markdown",
   "metadata": {},
   "source": [
    "### Train and get the accuracy score for max_features = 0.5 and 0.3."
   ]
  },
  {
   "cell_type": "code",
   "execution_count": 13,
   "metadata": {
    "tags": []
   },
   "outputs": [
    {
     "output_type": "stream",
     "name": "stdout",
     "text": "Train accuracy: 1.000\nTest accuracy: 0.928\n"
    }
   ],
   "source": [
    "model7 = build_model(X_train, y_train, max_features=0.5)\n",
    "pred_train7, pred_test7 = get_predictions(model7, X_train, X_test)\n",
    "print_accuracy_scores(y_train, y_test, pred_train7, pred_test7)"
   ]
  },
  {
   "cell_type": "code",
   "execution_count": 14,
   "metadata": {
    "tags": []
   },
   "outputs": [
    {
     "output_type": "stream",
     "name": "stdout",
     "text": "Train accuracy: 1.000\nTest accuracy: 0.939\n"
    }
   ],
   "source": [
    "model8 = build_model(X_train, y_train, max_features=0.3)\n",
    "pred_train8, pred_test8 = get_predictions(model8, X_train, X_test)\n",
    "print_accuracy_scores(y_train, y_test, pred_train8, pred_test8)"
   ]
  },
  {
   "cell_type": "markdown",
   "metadata": {},
   "source": [
    "### Select the best hyperparameter value."
   ]
  },
  {
   "cell_type": "code",
   "execution_count": 17,
   "metadata": {
    "tags": []
   },
   "outputs": [
    {
     "output_type": "stream",
     "name": "stdout",
     "text": "Train accuracy: 0.899\nTest accuracy: 0.870\n"
    }
   ],
   "source": [
    "model9 = build_model(X_train, y_train, n_estimators=50, max_depth=10, min_samples_leaf=50, max_features=0.3)\n",
    "pred_train9, pred_test9 = get_predictions(model9, X_train, X_test)\n",
    "print_accuracy_scores(y_train, y_test, pred_train9, pred_test9)"
   ]
  },
  {
   "cell_type": "code",
   "execution_count": 18,
   "metadata": {
    "tags": []
   },
   "outputs": [
    {
     "output_type": "stream",
     "name": "stdout",
     "text": "Train accuracy: 0.953\nTest accuracy: 0.911\n"
    }
   ],
   "source": [
    "model10 = build_model(X_train, y_train, n_estimators=50, max_depth=10, min_samples_leaf=10, max_features=0.3)\n",
    "pred_train10, pred_test10 = get_predictions(model10, X_train, X_test)\n",
    "print_accuracy_scores(y_train, y_test, pred_train10, pred_test10)"
   ]
  }
 ],
 "metadata": {
  "language_info": {
   "codemirror_mode": {
    "name": "ipython",
    "version": 3
   },
   "file_extension": ".py",
   "mimetype": "text/x-python",
   "name": "python",
   "nbconvert_exporter": "python",
   "pygments_lexer": "ipython3",
   "version": 3
  },
  "orig_nbformat": 2,
  "kernelspec": {
   "name": "python_defaultSpec_1595002881248",
   "display_name": "Python 3.7.2 64-bit ('dsw': venv)"
  }
 },
 "nbformat": 4,
 "nbformat_minor": 2
}