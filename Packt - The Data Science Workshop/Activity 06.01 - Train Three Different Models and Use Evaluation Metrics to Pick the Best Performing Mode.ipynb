{
 "metadata": {
  "language_info": {
   "codemirror_mode": {
    "name": "ipython",
    "version": 3
   },
   "file_extension": ".py",
   "mimetype": "text/x-python",
   "name": "python",
   "nbconvert_exporter": "python",
   "pygments_lexer": "ipython3",
   "version": 3
  },
  "orig_nbformat": 2,
  "kernelspec": {
   "name": "python_defaultSpec_1597057684311",
   "display_name": "Python 3.7.2 64-bit ('dsw': venv)"
  }
 },
 "nbformat": 4,
 "nbformat_minor": 2,
 "cells": [
  {
   "cell_type": "markdown",
   "metadata": {},
   "source": [
    "# Train Three Different Models and Use Evaluation Metrics to Pick the Best Performing Model\n",
    "\n",
    "You work as a data scientist at a bank. The bank would like to implement a model that predicts the likelihood of a customer purchasing a term deposit. The bank provides you with a dataset, which is the same as the one in Chapter 3, Binary Classification. You have previously learned how to train a logistic regression model for binary classification. You have also heard about other non-parametric modeling techniques and would like to try out a decision tree as well as a random forest to see how well they perform against the logistic regression models you have been training.\n",
    "\n",
    "In this activity, you will train a logistic regression model and compute a classification report. You will then proceed to train a decision tree classifier and compute a classification report. You will compare the models using the classification reports. Finally, you will train a random forest classifier and generate the classification report. You will then compare the logistic regression model with the random forest using the classification reports to determine which model you should put into production."
   ]
  },
  {
   "cell_type": "code",
   "execution_count": 72,
   "metadata": {},
   "outputs": [],
   "source": [
    "import pandas as pd \n",
    "import numpy as np \n",
    "\n",
    "from sklearn.model_selection import train_test_split\n",
    "from sklearn.metrics import classification_report"
   ]
  },
  {
   "cell_type": "code",
   "execution_count": 73,
   "metadata": {},
   "outputs": [
    {
     "output_type": "execute_result",
     "data": {
      "text/plain": "       age          job  marital            education  default housing loan  \\\n0       56    housemaid  married             basic.4y       no      no   no   \n1       57     services  married          high.school  unknown      no   no   \n2       37     services  married          high.school       no     yes   no   \n3       40       admin.  married             basic.6y       no      no   no   \n4       56     services  married          high.school       no      no  yes   \n...    ...          ...      ...                  ...      ...     ...  ...   \n41183   73      retired  married  professional.course       no     yes   no   \n41184   46  blue-collar  married  professional.course       no      no   no   \n41185   56      retired  married    university.degree       no     yes   no   \n41186   44   technician  married  professional.course       no      no   no   \n41187   74      retired  married  professional.course       no     yes   no   \n\n         contact month day_of_week  ...  campaign  pdays  previous  \\\n0      telephone   may         mon  ...         1    999         0   \n1      telephone   may         mon  ...         1    999         0   \n2      telephone   may         mon  ...         1    999         0   \n3      telephone   may         mon  ...         1    999         0   \n4      telephone   may         mon  ...         1    999         0   \n...          ...   ...         ...  ...       ...    ...       ...   \n41183   cellular   nov         fri  ...         1    999         0   \n41184   cellular   nov         fri  ...         1    999         0   \n41185   cellular   nov         fri  ...         2    999         0   \n41186   cellular   nov         fri  ...         1    999         0   \n41187   cellular   nov         fri  ...         3    999         1   \n\n          poutcome emp.var.rate  cons.price.idx  cons.conf.idx  euribor3m  \\\n0      nonexistent          1.1          93.994          -36.4      4.857   \n1      nonexistent          1.1          93.994          -36.4      4.857   \n2      nonexistent          1.1          93.994          -36.4      4.857   \n3      nonexistent          1.1          93.994          -36.4      4.857   \n4      nonexistent          1.1          93.994          -36.4      4.857   \n...            ...          ...             ...            ...        ...   \n41183  nonexistent         -1.1          94.767          -50.8      1.028   \n41184  nonexistent         -1.1          94.767          -50.8      1.028   \n41185  nonexistent         -1.1          94.767          -50.8      1.028   \n41186  nonexistent         -1.1          94.767          -50.8      1.028   \n41187      failure         -1.1          94.767          -50.8      1.028   \n\n       nr.employed    y  \n0           5191.0   no  \n1           5191.0   no  \n2           5191.0   no  \n3           5191.0   no  \n4           5191.0   no  \n...            ...  ...  \n41183       4963.6  yes  \n41184       4963.6   no  \n41185       4963.6   no  \n41186       4963.6  yes  \n41187       4963.6   no  \n\n[41188 rows x 21 columns]",
      "text/html": "<div>\n<style scoped>\n    .dataframe tbody tr th:only-of-type {\n        vertical-align: middle;\n    }\n\n    .dataframe tbody tr th {\n        vertical-align: top;\n    }\n\n    .dataframe thead th {\n        text-align: right;\n    }\n</style>\n<table border=\"1\" class=\"dataframe\">\n  <thead>\n    <tr style=\"text-align: right;\">\n      <th></th>\n      <th>age</th>\n      <th>job</th>\n      <th>marital</th>\n      <th>education</th>\n      <th>default</th>\n      <th>housing</th>\n      <th>loan</th>\n      <th>contact</th>\n      <th>month</th>\n      <th>day_of_week</th>\n      <th>...</th>\n      <th>campaign</th>\n      <th>pdays</th>\n      <th>previous</th>\n      <th>poutcome</th>\n      <th>emp.var.rate</th>\n      <th>cons.price.idx</th>\n      <th>cons.conf.idx</th>\n      <th>euribor3m</th>\n      <th>nr.employed</th>\n      <th>y</th>\n    </tr>\n  </thead>\n  <tbody>\n    <tr>\n      <th>0</th>\n      <td>56</td>\n      <td>housemaid</td>\n      <td>married</td>\n      <td>basic.4y</td>\n      <td>no</td>\n      <td>no</td>\n      <td>no</td>\n      <td>telephone</td>\n      <td>may</td>\n      <td>mon</td>\n      <td>...</td>\n      <td>1</td>\n      <td>999</td>\n      <td>0</td>\n      <td>nonexistent</td>\n      <td>1.1</td>\n      <td>93.994</td>\n      <td>-36.4</td>\n      <td>4.857</td>\n      <td>5191.0</td>\n      <td>no</td>\n    </tr>\n    <tr>\n      <th>1</th>\n      <td>57</td>\n      <td>services</td>\n      <td>married</td>\n      <td>high.school</td>\n      <td>unknown</td>\n      <td>no</td>\n      <td>no</td>\n      <td>telephone</td>\n      <td>may</td>\n      <td>mon</td>\n      <td>...</td>\n      <td>1</td>\n      <td>999</td>\n      <td>0</td>\n      <td>nonexistent</td>\n      <td>1.1</td>\n      <td>93.994</td>\n      <td>-36.4</td>\n      <td>4.857</td>\n      <td>5191.0</td>\n      <td>no</td>\n    </tr>\n    <tr>\n      <th>2</th>\n      <td>37</td>\n      <td>services</td>\n      <td>married</td>\n      <td>high.school</td>\n      <td>no</td>\n      <td>yes</td>\n      <td>no</td>\n      <td>telephone</td>\n      <td>may</td>\n      <td>mon</td>\n      <td>...</td>\n      <td>1</td>\n      <td>999</td>\n      <td>0</td>\n      <td>nonexistent</td>\n      <td>1.1</td>\n      <td>93.994</td>\n      <td>-36.4</td>\n      <td>4.857</td>\n      <td>5191.0</td>\n      <td>no</td>\n    </tr>\n    <tr>\n      <th>3</th>\n      <td>40</td>\n      <td>admin.</td>\n      <td>married</td>\n      <td>basic.6y</td>\n      <td>no</td>\n      <td>no</td>\n      <td>no</td>\n      <td>telephone</td>\n      <td>may</td>\n      <td>mon</td>\n      <td>...</td>\n      <td>1</td>\n      <td>999</td>\n      <td>0</td>\n      <td>nonexistent</td>\n      <td>1.1</td>\n      <td>93.994</td>\n      <td>-36.4</td>\n      <td>4.857</td>\n      <td>5191.0</td>\n      <td>no</td>\n    </tr>\n    <tr>\n      <th>4</th>\n      <td>56</td>\n      <td>services</td>\n      <td>married</td>\n      <td>high.school</td>\n      <td>no</td>\n      <td>no</td>\n      <td>yes</td>\n      <td>telephone</td>\n      <td>may</td>\n      <td>mon</td>\n      <td>...</td>\n      <td>1</td>\n      <td>999</td>\n      <td>0</td>\n      <td>nonexistent</td>\n      <td>1.1</td>\n      <td>93.994</td>\n      <td>-36.4</td>\n      <td>4.857</td>\n      <td>5191.0</td>\n      <td>no</td>\n    </tr>\n    <tr>\n      <th>...</th>\n      <td>...</td>\n      <td>...</td>\n      <td>...</td>\n      <td>...</td>\n      <td>...</td>\n      <td>...</td>\n      <td>...</td>\n      <td>...</td>\n      <td>...</td>\n      <td>...</td>\n      <td>...</td>\n      <td>...</td>\n      <td>...</td>\n      <td>...</td>\n      <td>...</td>\n      <td>...</td>\n      <td>...</td>\n      <td>...</td>\n      <td>...</td>\n      <td>...</td>\n      <td>...</td>\n    </tr>\n    <tr>\n      <th>41183</th>\n      <td>73</td>\n      <td>retired</td>\n      <td>married</td>\n      <td>professional.course</td>\n      <td>no</td>\n      <td>yes</td>\n      <td>no</td>\n      <td>cellular</td>\n      <td>nov</td>\n      <td>fri</td>\n      <td>...</td>\n      <td>1</td>\n      <td>999</td>\n      <td>0</td>\n      <td>nonexistent</td>\n      <td>-1.1</td>\n      <td>94.767</td>\n      <td>-50.8</td>\n      <td>1.028</td>\n      <td>4963.6</td>\n      <td>yes</td>\n    </tr>\n    <tr>\n      <th>41184</th>\n      <td>46</td>\n      <td>blue-collar</td>\n      <td>married</td>\n      <td>professional.course</td>\n      <td>no</td>\n      <td>no</td>\n      <td>no</td>\n      <td>cellular</td>\n      <td>nov</td>\n      <td>fri</td>\n      <td>...</td>\n      <td>1</td>\n      <td>999</td>\n      <td>0</td>\n      <td>nonexistent</td>\n      <td>-1.1</td>\n      <td>94.767</td>\n      <td>-50.8</td>\n      <td>1.028</td>\n      <td>4963.6</td>\n      <td>no</td>\n    </tr>\n    <tr>\n      <th>41185</th>\n      <td>56</td>\n      <td>retired</td>\n      <td>married</td>\n      <td>university.degree</td>\n      <td>no</td>\n      <td>yes</td>\n      <td>no</td>\n      <td>cellular</td>\n      <td>nov</td>\n      <td>fri</td>\n      <td>...</td>\n      <td>2</td>\n      <td>999</td>\n      <td>0</td>\n      <td>nonexistent</td>\n      <td>-1.1</td>\n      <td>94.767</td>\n      <td>-50.8</td>\n      <td>1.028</td>\n      <td>4963.6</td>\n      <td>no</td>\n    </tr>\n    <tr>\n      <th>41186</th>\n      <td>44</td>\n      <td>technician</td>\n      <td>married</td>\n      <td>professional.course</td>\n      <td>no</td>\n      <td>no</td>\n      <td>no</td>\n      <td>cellular</td>\n      <td>nov</td>\n      <td>fri</td>\n      <td>...</td>\n      <td>1</td>\n      <td>999</td>\n      <td>0</td>\n      <td>nonexistent</td>\n      <td>-1.1</td>\n      <td>94.767</td>\n      <td>-50.8</td>\n      <td>1.028</td>\n      <td>4963.6</td>\n      <td>yes</td>\n    </tr>\n    <tr>\n      <th>41187</th>\n      <td>74</td>\n      <td>retired</td>\n      <td>married</td>\n      <td>professional.course</td>\n      <td>no</td>\n      <td>yes</td>\n      <td>no</td>\n      <td>cellular</td>\n      <td>nov</td>\n      <td>fri</td>\n      <td>...</td>\n      <td>3</td>\n      <td>999</td>\n      <td>1</td>\n      <td>failure</td>\n      <td>-1.1</td>\n      <td>94.767</td>\n      <td>-50.8</td>\n      <td>1.028</td>\n      <td>4963.6</td>\n      <td>no</td>\n    </tr>\n  </tbody>\n</table>\n<p>41188 rows × 21 columns</p>\n</div>"
     },
     "metadata": {},
     "execution_count": 73
    }
   ],
   "source": [
    "df = pd.read_csv('https://raw.githubusercontent.com/PacktWorkshops/The-Data-Science-Workshop/master/Chapter06/Dataset/bank-additional-full.csv', sep=';')\n",
    "df"
   ]
  },
  {
   "cell_type": "code",
   "execution_count": 74,
   "metadata": {},
   "outputs": [
    {
     "output_type": "execute_result",
     "data": {
      "text/plain": "                          0            1            2            3  \\\nage                      56           57           37           40   \njob               housemaid     services     services       admin.   \nmarital             married      married      married      married   \neducation          basic.4y  high.school  high.school     basic.6y   \ndefault                  no      unknown           no           no   \nhousing                  no           no          yes           no   \nloan                     no           no           no           no   \ncontact           telephone    telephone    telephone    telephone   \nmonth                   may          may          may          may   \nday_of_week             mon          mon          mon          mon   \nduration                261          149          226          151   \ncampaign                  1            1            1            1   \npdays                   999          999          999          999   \nprevious                  0            0            0            0   \npoutcome        nonexistent  nonexistent  nonexistent  nonexistent   \nemp.var.rate            1.1          1.1          1.1          1.1   \ncons.price.idx       93.994       93.994       93.994       93.994   \ncons.conf.idx         -36.4        -36.4        -36.4        -36.4   \neuribor3m             4.857        4.857        4.857        4.857   \nnr.employed            5191         5191         5191         5191   \ny                        no           no           no           no   \n\n                          4            5                    6            7  \\\nage                      56           45                   59           41   \njob                services     services               admin.  blue-collar   \nmarital             married      married              married      married   \neducation       high.school     basic.9y  professional.course      unknown   \ndefault                  no      unknown                   no      unknown   \nhousing                  no           no                   no           no   \nloan                    yes           no                   no           no   \ncontact           telephone    telephone            telephone    telephone   \nmonth                   may          may                  may          may   \nday_of_week             mon          mon                  mon          mon   \nduration                307          198                  139          217   \ncampaign                  1            1                    1            1   \npdays                   999          999                  999          999   \nprevious                  0            0                    0            0   \npoutcome        nonexistent  nonexistent          nonexistent  nonexistent   \nemp.var.rate            1.1          1.1                  1.1          1.1   \ncons.price.idx       93.994       93.994               93.994       93.994   \ncons.conf.idx         -36.4        -36.4                -36.4        -36.4   \neuribor3m             4.857        4.857                4.857        4.857   \nnr.employed            5191         5191                 5191         5191   \ny                        no           no                   no           no   \n\n                                  8            9  \nage                              24           25  \njob                      technician     services  \nmarital                      single       single  \neducation       professional.course  high.school  \ndefault                          no           no  \nhousing                         yes          yes  \nloan                             no           no  \ncontact                   telephone    telephone  \nmonth                           may          may  \nday_of_week                     mon          mon  \nduration                        380           50  \ncampaign                          1            1  \npdays                           999          999  \nprevious                          0            0  \npoutcome                nonexistent  nonexistent  \nemp.var.rate                    1.1          1.1  \ncons.price.idx               93.994       93.994  \ncons.conf.idx                 -36.4        -36.4  \neuribor3m                     4.857        4.857  \nnr.employed                    5191         5191  \ny                                no           no  ",
      "text/html": "<div>\n<style scoped>\n    .dataframe tbody tr th:only-of-type {\n        vertical-align: middle;\n    }\n\n    .dataframe tbody tr th {\n        vertical-align: top;\n    }\n\n    .dataframe thead th {\n        text-align: right;\n    }\n</style>\n<table border=\"1\" class=\"dataframe\">\n  <thead>\n    <tr style=\"text-align: right;\">\n      <th></th>\n      <th>0</th>\n      <th>1</th>\n      <th>2</th>\n      <th>3</th>\n      <th>4</th>\n      <th>5</th>\n      <th>6</th>\n      <th>7</th>\n      <th>8</th>\n      <th>9</th>\n    </tr>\n  </thead>\n  <tbody>\n    <tr>\n      <th>age</th>\n      <td>56</td>\n      <td>57</td>\n      <td>37</td>\n      <td>40</td>\n      <td>56</td>\n      <td>45</td>\n      <td>59</td>\n      <td>41</td>\n      <td>24</td>\n      <td>25</td>\n    </tr>\n    <tr>\n      <th>job</th>\n      <td>housemaid</td>\n      <td>services</td>\n      <td>services</td>\n      <td>admin.</td>\n      <td>services</td>\n      <td>services</td>\n      <td>admin.</td>\n      <td>blue-collar</td>\n      <td>technician</td>\n      <td>services</td>\n    </tr>\n    <tr>\n      <th>marital</th>\n      <td>married</td>\n      <td>married</td>\n      <td>married</td>\n      <td>married</td>\n      <td>married</td>\n      <td>married</td>\n      <td>married</td>\n      <td>married</td>\n      <td>single</td>\n      <td>single</td>\n    </tr>\n    <tr>\n      <th>education</th>\n      <td>basic.4y</td>\n      <td>high.school</td>\n      <td>high.school</td>\n      <td>basic.6y</td>\n      <td>high.school</td>\n      <td>basic.9y</td>\n      <td>professional.course</td>\n      <td>unknown</td>\n      <td>professional.course</td>\n      <td>high.school</td>\n    </tr>\n    <tr>\n      <th>default</th>\n      <td>no</td>\n      <td>unknown</td>\n      <td>no</td>\n      <td>no</td>\n      <td>no</td>\n      <td>unknown</td>\n      <td>no</td>\n      <td>unknown</td>\n      <td>no</td>\n      <td>no</td>\n    </tr>\n    <tr>\n      <th>housing</th>\n      <td>no</td>\n      <td>no</td>\n      <td>yes</td>\n      <td>no</td>\n      <td>no</td>\n      <td>no</td>\n      <td>no</td>\n      <td>no</td>\n      <td>yes</td>\n      <td>yes</td>\n    </tr>\n    <tr>\n      <th>loan</th>\n      <td>no</td>\n      <td>no</td>\n      <td>no</td>\n      <td>no</td>\n      <td>yes</td>\n      <td>no</td>\n      <td>no</td>\n      <td>no</td>\n      <td>no</td>\n      <td>no</td>\n    </tr>\n    <tr>\n      <th>contact</th>\n      <td>telephone</td>\n      <td>telephone</td>\n      <td>telephone</td>\n      <td>telephone</td>\n      <td>telephone</td>\n      <td>telephone</td>\n      <td>telephone</td>\n      <td>telephone</td>\n      <td>telephone</td>\n      <td>telephone</td>\n    </tr>\n    <tr>\n      <th>month</th>\n      <td>may</td>\n      <td>may</td>\n      <td>may</td>\n      <td>may</td>\n      <td>may</td>\n      <td>may</td>\n      <td>may</td>\n      <td>may</td>\n      <td>may</td>\n      <td>may</td>\n    </tr>\n    <tr>\n      <th>day_of_week</th>\n      <td>mon</td>\n      <td>mon</td>\n      <td>mon</td>\n      <td>mon</td>\n      <td>mon</td>\n      <td>mon</td>\n      <td>mon</td>\n      <td>mon</td>\n      <td>mon</td>\n      <td>mon</td>\n    </tr>\n    <tr>\n      <th>duration</th>\n      <td>261</td>\n      <td>149</td>\n      <td>226</td>\n      <td>151</td>\n      <td>307</td>\n      <td>198</td>\n      <td>139</td>\n      <td>217</td>\n      <td>380</td>\n      <td>50</td>\n    </tr>\n    <tr>\n      <th>campaign</th>\n      <td>1</td>\n      <td>1</td>\n      <td>1</td>\n      <td>1</td>\n      <td>1</td>\n      <td>1</td>\n      <td>1</td>\n      <td>1</td>\n      <td>1</td>\n      <td>1</td>\n    </tr>\n    <tr>\n      <th>pdays</th>\n      <td>999</td>\n      <td>999</td>\n      <td>999</td>\n      <td>999</td>\n      <td>999</td>\n      <td>999</td>\n      <td>999</td>\n      <td>999</td>\n      <td>999</td>\n      <td>999</td>\n    </tr>\n    <tr>\n      <th>previous</th>\n      <td>0</td>\n      <td>0</td>\n      <td>0</td>\n      <td>0</td>\n      <td>0</td>\n      <td>0</td>\n      <td>0</td>\n      <td>0</td>\n      <td>0</td>\n      <td>0</td>\n    </tr>\n    <tr>\n      <th>poutcome</th>\n      <td>nonexistent</td>\n      <td>nonexistent</td>\n      <td>nonexistent</td>\n      <td>nonexistent</td>\n      <td>nonexistent</td>\n      <td>nonexistent</td>\n      <td>nonexistent</td>\n      <td>nonexistent</td>\n      <td>nonexistent</td>\n      <td>nonexistent</td>\n    </tr>\n    <tr>\n      <th>emp.var.rate</th>\n      <td>1.1</td>\n      <td>1.1</td>\n      <td>1.1</td>\n      <td>1.1</td>\n      <td>1.1</td>\n      <td>1.1</td>\n      <td>1.1</td>\n      <td>1.1</td>\n      <td>1.1</td>\n      <td>1.1</td>\n    </tr>\n    <tr>\n      <th>cons.price.idx</th>\n      <td>93.994</td>\n      <td>93.994</td>\n      <td>93.994</td>\n      <td>93.994</td>\n      <td>93.994</td>\n      <td>93.994</td>\n      <td>93.994</td>\n      <td>93.994</td>\n      <td>93.994</td>\n      <td>93.994</td>\n    </tr>\n    <tr>\n      <th>cons.conf.idx</th>\n      <td>-36.4</td>\n      <td>-36.4</td>\n      <td>-36.4</td>\n      <td>-36.4</td>\n      <td>-36.4</td>\n      <td>-36.4</td>\n      <td>-36.4</td>\n      <td>-36.4</td>\n      <td>-36.4</td>\n      <td>-36.4</td>\n    </tr>\n    <tr>\n      <th>euribor3m</th>\n      <td>4.857</td>\n      <td>4.857</td>\n      <td>4.857</td>\n      <td>4.857</td>\n      <td>4.857</td>\n      <td>4.857</td>\n      <td>4.857</td>\n      <td>4.857</td>\n      <td>4.857</td>\n      <td>4.857</td>\n    </tr>\n    <tr>\n      <th>nr.employed</th>\n      <td>5191</td>\n      <td>5191</td>\n      <td>5191</td>\n      <td>5191</td>\n      <td>5191</td>\n      <td>5191</td>\n      <td>5191</td>\n      <td>5191</td>\n      <td>5191</td>\n      <td>5191</td>\n    </tr>\n    <tr>\n      <th>y</th>\n      <td>no</td>\n      <td>no</td>\n      <td>no</td>\n      <td>no</td>\n      <td>no</td>\n      <td>no</td>\n      <td>no</td>\n      <td>no</td>\n      <td>no</td>\n      <td>no</td>\n    </tr>\n  </tbody>\n</table>\n</div>"
     },
     "metadata": {},
     "execution_count": 74
    }
   ],
   "source": [
    "df.head(10).T"
   ]
  },
  {
   "cell_type": "code",
   "execution_count": 75,
   "metadata": {},
   "outputs": [
    {
     "output_type": "execute_result",
     "data": {
      "text/plain": "1     17642\n2     10570\n3      5341\n4      2651\n5      1599\n6       979\n7       629\n8       400\n9       283\n10      225\n11      177\n12      125\n13       92\n14       69\n17       58\n15       51\n16       51\n18       33\n20       30\n19       26\n21       24\n22       17\n23       16\n24       15\n27       11\n29       10\n25        8\n26        8\n28        8\n30        7\n31        7\n35        5\n33        4\n32        4\n34        3\n40        2\n42        2\n43        2\n37        1\n39        1\n41        1\n56        1\nName: campaign, dtype: int64"
     },
     "metadata": {},
     "execution_count": 75
    }
   ],
   "source": [
    "df.campaign.value_counts()"
   ]
  },
  {
   "cell_type": "code",
   "execution_count": 76,
   "metadata": {},
   "outputs": [
    {
     "output_type": "execute_result",
     "data": {
      "text/plain": "999    39673\n3        439\n6        412\n4        118\n9         64\n2         61\n7         60\n12        58\n10        52\n5         46\n13        36\n11        28\n1         26\n15        24\n14        20\n8         18\n0         15\n16        11\n17         8\n18         7\n19         3\n22         3\n21         2\n26         1\n20         1\n25         1\n27         1\nName: pdays, dtype: int64"
     },
     "metadata": {},
     "execution_count": 76
    }
   ],
   "source": [
    "df.pdays.value_counts()"
   ]
  },
  {
   "cell_type": "code",
   "execution_count": 77,
   "metadata": {},
   "outputs": [
    {
     "output_type": "execute_result",
     "data": {
      "text/plain": "0    35563\n1     4561\n2      754\n3      216\n4       70\n5       18\n6        5\n7        1\nName: previous, dtype: int64"
     },
     "metadata": {},
     "execution_count": 77
    }
   ],
   "source": [
    "df.previous.value_counts()"
   ]
  },
  {
   "cell_type": "code",
   "execution_count": 78,
   "metadata": {
    "tags": []
   },
   "outputs": [
    {
     "output_type": "stream",
     "name": "stdout",
     "text": "<class 'pandas.core.frame.DataFrame'>\nRangeIndex: 41188 entries, 0 to 41187\nData columns (total 21 columns):\n #   Column          Non-Null Count  Dtype  \n---  ------          --------------  -----  \n 0   age             41188 non-null  int64  \n 1   job             41188 non-null  object \n 2   marital         41188 non-null  object \n 3   education       41188 non-null  object \n 4   default         41188 non-null  object \n 5   housing         41188 non-null  object \n 6   loan            41188 non-null  object \n 7   contact         41188 non-null  object \n 8   month           41188 non-null  object \n 9   day_of_week     41188 non-null  object \n 10  duration        41188 non-null  int64  \n 11  campaign        41188 non-null  int64  \n 12  pdays           41188 non-null  int64  \n 13  previous        41188 non-null  int64  \n 14  poutcome        41188 non-null  object \n 15  emp.var.rate    41188 non-null  float64\n 16  cons.price.idx  41188 non-null  float64\n 17  cons.conf.idx   41188 non-null  float64\n 18  euribor3m       41188 non-null  float64\n 19  nr.employed     41188 non-null  float64\n 20  y               41188 non-null  object \ndtypes: float64(5), int64(5), object(11)\nmemory usage: 6.6+ MB\n"
    }
   ],
   "source": [
    "df.info()"
   ]
  },
  {
   "cell_type": "code",
   "execution_count": 79,
   "metadata": {},
   "outputs": [
    {
     "output_type": "execute_result",
     "data": {
      "text/plain": "Index(['age', 'duration', 'campaign', 'pdays', 'previous', 'emp.var.rate',\n       'cons.price.idx', 'cons.conf.idx', 'euribor3m', 'nr.employed', 'y',\n       'job_admin.', 'job_blue-collar', 'job_entrepreneur', 'job_housemaid',\n       'job_management', 'job_retired', 'job_self-employed', 'job_services',\n       'job_student', 'job_technician', 'job_unemployed', 'job_unknown',\n       'marital_divorced', 'marital_married', 'marital_single',\n       'marital_unknown', 'education_basic.4y', 'education_basic.6y',\n       'education_basic.9y', 'education_high.school', 'education_illiterate',\n       'education_professional.course', 'education_university.degree',\n       'education_unknown', 'default_no', 'default_unknown', 'default_yes',\n       'housing_no', 'housing_unknown', 'housing_yes', 'loan_no',\n       'loan_unknown', 'loan_yes', 'contact_cellular', 'contact_telephone',\n       'month_apr', 'month_aug', 'month_dec', 'month_jul', 'month_jun',\n       'month_mar', 'month_may', 'month_nov', 'month_oct', 'month_sep',\n       'day_of_week_fri', 'day_of_week_mon', 'day_of_week_thu',\n       'day_of_week_tue', 'day_of_week_wed', 'poutcome_failure',\n       'poutcome_nonexistent', 'poutcome_success'],\n      dtype='object')"
     },
     "metadata": {},
     "execution_count": 79
    }
   ],
   "source": [
    "cat_df = df.drop(['age', 'duration', 'campaign', 'previous', 'pdays', 'emp.var.rate', 'cons.price.idx', 'cons.conf.idx', 'euribor3m', 'nr.employed', 'y'], axis=1)\n",
    "\n",
    "_df = pd.get_dummies(df, columns=cat_df.columns)\n",
    "_df.columns"
   ]
  },
  {
   "cell_type": "code",
   "execution_count": 80,
   "metadata": {},
   "outputs": [],
   "source": [
    "X = _df.drop('y', axis=1)\n",
    "y = _df['y']"
   ]
  },
  {
   "cell_type": "code",
   "execution_count": 81,
   "metadata": {},
   "outputs": [],
   "source": [
    "X_train, X_eval, y_train, y_eval = train_test_split(X, y, test_size=0.3, random_state=0)"
   ]
  },
  {
   "cell_type": "code",
   "execution_count": 82,
   "metadata": {},
   "outputs": [],
   "source": [
    "X_val, X_test, y_val, y_test = train_test_split(X_eval, y_eval, test_size=0.5, random_state=0)"
   ]
  },
  {
   "cell_type": "code",
   "execution_count": 83,
   "metadata": {
    "tags": []
   },
   "outputs": [
    {
     "output_type": "stream",
     "name": "stdout",
     "text": "precision    recall  f1-score   support\n\n          no       0.93      0.98      0.95      5465\n         yes       0.69      0.41      0.51       713\n\n    accuracy                           0.91      6178\n   macro avg       0.81      0.69      0.73      6178\nweighted avg       0.90      0.91      0.90      6178\n\n"
    }
   ],
   "source": [
    "from sklearn.linear_model import LogisticRegression\n",
    "model1 = LogisticRegression()\n",
    "model1.fit(X_train, y_train)\n",
    "y_pred1 = model1.predict(X_val)\n",
    "\n",
    "report1 = classification_report(y_val, y_pred1)\n",
    "print(report1)"
   ]
  },
  {
   "cell_type": "code",
   "execution_count": 84,
   "metadata": {
    "tags": []
   },
   "outputs": [
    {
     "output_type": "stream",
     "name": "stdout",
     "text": "precision    recall  f1-score   support\n\n          no       0.94      0.97      0.95      5465\n         yes       0.68      0.54      0.60       713\n\n    accuracy                           0.92      6178\n   macro avg       0.81      0.75      0.78      6178\nweighted avg       0.91      0.92      0.91      6178\n\n"
    }
   ],
   "source": [
    "from sklearn.tree import DecisionTreeClassifier\n",
    "model2 = DecisionTreeClassifier(max_depth=6)\n",
    "model2.fit(X_train, y_train)\n",
    "y_pred2 = model2.predict(X_val)\n",
    "\n",
    "report2 = classification_report(y_val, y_pred2)\n",
    "print(report2)"
   ]
  },
  {
   "cell_type": "code",
   "execution_count": 85,
   "metadata": {
    "tags": []
   },
   "outputs": [
    {
     "output_type": "stream",
     "name": "stdout",
     "text": "precision    recall  f1-score   support\n\n          no       0.93      0.97      0.95      5465\n         yes       0.68      0.45      0.54       713\n\n    accuracy                           0.91      6178\n   macro avg       0.80      0.71      0.75      6178\nweighted avg       0.90      0.91      0.90      6178\n\n"
    }
   ],
   "source": [
    "from sklearn.ensemble import RandomForestClassifier\n",
    "model3 = RandomForestClassifier(n_estimators=1000)\n",
    "model3.fit(X_train, y_train)\n",
    "y_pred3 = model3.predict(X_val)\n",
    "\n",
    "report3 = classification_report(y_val, y_pred3)\n",
    "print(report3)"
   ]
  },
  {
   "cell_type": "code",
   "execution_count": 87,
   "metadata": {
    "tags": []
   },
   "outputs": [
    {
     "output_type": "stream",
     "name": "stdout",
     "text": "0.9108125606992554\n0.9180964713499514\n0.9117837487860149\n"
    }
   ],
   "source": [
    "print(model1.score(X_val, y_val))\n",
    "print(model2.score(X_val, y_val))\n",
    "print(model3.score(X_val, y_val))"
   ]
  },
  {
   "cell_type": "code",
   "execution_count": null,
   "metadata": {},
   "outputs": [],
   "source": []
  }
 ]
}