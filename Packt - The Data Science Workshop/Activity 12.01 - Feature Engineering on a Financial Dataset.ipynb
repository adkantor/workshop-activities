{
 "metadata": {
  "language_info": {
   "codemirror_mode": {
    "name": "ipython",
    "version": 3
   },
   "file_extension": ".py",
   "mimetype": "text/x-python",
   "name": "python",
   "nbconvert_exporter": "python",
   "pygments_lexer": "ipython3",
   "version": "3.7.2-final"
  },
  "orig_nbformat": 2,
  "kernelspec": {
   "name": "python_defaultSpec_1600413388398",
   "display_name": "Python 3.7.2 64-bit ('dsw': venv)"
  }
 },
 "nbformat": 4,
 "nbformat_minor": 2,
 "cells": [
  {
   "cell_type": "markdown",
   "metadata": {},
   "source": [
    "# Feature Engineering on a Financial Dataset\n",
    "\n",
    "You are working for a major bank in the Czech Republic and you have been tasked to analyze the transactions of existing customers. The data team has extracted all the tables from their database they think will be useful for you to analyze the dataset. You will need to consolidate the data from those tables into a single DataFrame and create new features in order to get an enriched dataset from which you will be able to perform an in-depth analysis of customers' banking transactions.\n",
    "\n",
    "You will be using only the following four tables:\n",
    "\n",
    "- account: The characteristics of a customer's bank account for a given branch\n",
    "- client: Personal information related to the bank's customers\n",
    "- disp: A table that links an account to a customer\n",
    "- trans: A list of all historical transactions by account\n",
    "\n",
    ">Note: If you want to know more about these tables, you can look at the [data dictionary](https://github.com/Kusainov/czech-banking-fin-analysis/blob/master/Data%20dictionary.pdf) for this dataset."
   ]
  },
  {
   "cell_type": "code",
   "execution_count": 130,
   "metadata": {},
   "outputs": [],
   "source": [
    "import pandas as pd\n",
    "import numpy as np"
   ]
  },
  {
   "cell_type": "code",
   "execution_count": 131,
   "metadata": {},
   "outputs": [
    {
     "output_type": "execute_result",
     "data": {
      "text/plain": "      account_id  district_id         frequency  account_date\n0            576           55  POPLATEK MESICNE        930101\n1           3818           74  POPLATEK MESICNE        930101\n2            704           55  POPLATEK MESICNE        930101\n3           2378           16  POPLATEK MESICNE        930101\n4           2632           24  POPLATEK MESICNE        930102\n...          ...          ...               ...           ...\n4495         124           55  POPLATEK MESICNE        971228\n4496        3958           59  POPLATEK MESICNE        971228\n4497         777           30  POPLATEK MESICNE        971228\n4498        1573           63  POPLATEK MESICNE        971229\n4499        3276            1  POPLATEK MESICNE        971229\n\n[4500 rows x 4 columns]",
      "text/html": "<div>\n<style scoped>\n    .dataframe tbody tr th:only-of-type {\n        vertical-align: middle;\n    }\n\n    .dataframe tbody tr th {\n        vertical-align: top;\n    }\n\n    .dataframe thead th {\n        text-align: right;\n    }\n</style>\n<table border=\"1\" class=\"dataframe\">\n  <thead>\n    <tr style=\"text-align: right;\">\n      <th></th>\n      <th>account_id</th>\n      <th>district_id</th>\n      <th>frequency</th>\n      <th>account_date</th>\n    </tr>\n  </thead>\n  <tbody>\n    <tr>\n      <th>0</th>\n      <td>576</td>\n      <td>55</td>\n      <td>POPLATEK MESICNE</td>\n      <td>930101</td>\n    </tr>\n    <tr>\n      <th>1</th>\n      <td>3818</td>\n      <td>74</td>\n      <td>POPLATEK MESICNE</td>\n      <td>930101</td>\n    </tr>\n    <tr>\n      <th>2</th>\n      <td>704</td>\n      <td>55</td>\n      <td>POPLATEK MESICNE</td>\n      <td>930101</td>\n    </tr>\n    <tr>\n      <th>3</th>\n      <td>2378</td>\n      <td>16</td>\n      <td>POPLATEK MESICNE</td>\n      <td>930101</td>\n    </tr>\n    <tr>\n      <th>4</th>\n      <td>2632</td>\n      <td>24</td>\n      <td>POPLATEK MESICNE</td>\n      <td>930102</td>\n    </tr>\n    <tr>\n      <th>...</th>\n      <td>...</td>\n      <td>...</td>\n      <td>...</td>\n      <td>...</td>\n    </tr>\n    <tr>\n      <th>4495</th>\n      <td>124</td>\n      <td>55</td>\n      <td>POPLATEK MESICNE</td>\n      <td>971228</td>\n    </tr>\n    <tr>\n      <th>4496</th>\n      <td>3958</td>\n      <td>59</td>\n      <td>POPLATEK MESICNE</td>\n      <td>971228</td>\n    </tr>\n    <tr>\n      <th>4497</th>\n      <td>777</td>\n      <td>30</td>\n      <td>POPLATEK MESICNE</td>\n      <td>971228</td>\n    </tr>\n    <tr>\n      <th>4498</th>\n      <td>1573</td>\n      <td>63</td>\n      <td>POPLATEK MESICNE</td>\n      <td>971229</td>\n    </tr>\n    <tr>\n      <th>4499</th>\n      <td>3276</td>\n      <td>1</td>\n      <td>POPLATEK MESICNE</td>\n      <td>971229</td>\n    </tr>\n  </tbody>\n</table>\n<p>4500 rows × 4 columns</p>\n</div>"
     },
     "metadata": {},
     "execution_count": 131
    }
   ],
   "source": [
    "df_account = pd.read_csv(\"../Dataset/account.csv\", sep=';')\n",
    "df_account.rename(\n",
    "    columns={'date':'account_date'}, \n",
    "    inplace=True\n",
    ")\n",
    "df_account"
   ]
  },
  {
   "cell_type": "code",
   "execution_count": 132,
   "metadata": {},
   "outputs": [
    {
     "output_type": "execute_result",
     "data": {
      "text/plain": "4500"
     },
     "metadata": {},
     "execution_count": 132
    }
   ],
   "source": [
    "df_account.account_id.nunique()"
   ]
  },
  {
   "cell_type": "code",
   "execution_count": 133,
   "metadata": {},
   "outputs": [
    {
     "output_type": "execute_result",
     "data": {
      "text/plain": "      client_id  birth_number  district_id\n0             1        706213           18\n1             2        450204            1\n2             3        406009            1\n3             4        561201            5\n4             5        605703            5\n...         ...           ...          ...\n5364      13955        456030            1\n5365      13956        430406            1\n5366      13968        680413           61\n5367      13971        626019           67\n5368      13998        535812           74\n\n[5369 rows x 3 columns]",
      "text/html": "<div>\n<style scoped>\n    .dataframe tbody tr th:only-of-type {\n        vertical-align: middle;\n    }\n\n    .dataframe tbody tr th {\n        vertical-align: top;\n    }\n\n    .dataframe thead th {\n        text-align: right;\n    }\n</style>\n<table border=\"1\" class=\"dataframe\">\n  <thead>\n    <tr style=\"text-align: right;\">\n      <th></th>\n      <th>client_id</th>\n      <th>birth_number</th>\n      <th>district_id</th>\n    </tr>\n  </thead>\n  <tbody>\n    <tr>\n      <th>0</th>\n      <td>1</td>\n      <td>706213</td>\n      <td>18</td>\n    </tr>\n    <tr>\n      <th>1</th>\n      <td>2</td>\n      <td>450204</td>\n      <td>1</td>\n    </tr>\n    <tr>\n      <th>2</th>\n      <td>3</td>\n      <td>406009</td>\n      <td>1</td>\n    </tr>\n    <tr>\n      <th>3</th>\n      <td>4</td>\n      <td>561201</td>\n      <td>5</td>\n    </tr>\n    <tr>\n      <th>4</th>\n      <td>5</td>\n      <td>605703</td>\n      <td>5</td>\n    </tr>\n    <tr>\n      <th>...</th>\n      <td>...</td>\n      <td>...</td>\n      <td>...</td>\n    </tr>\n    <tr>\n      <th>5364</th>\n      <td>13955</td>\n      <td>456030</td>\n      <td>1</td>\n    </tr>\n    <tr>\n      <th>5365</th>\n      <td>13956</td>\n      <td>430406</td>\n      <td>1</td>\n    </tr>\n    <tr>\n      <th>5366</th>\n      <td>13968</td>\n      <td>680413</td>\n      <td>61</td>\n    </tr>\n    <tr>\n      <th>5367</th>\n      <td>13971</td>\n      <td>626019</td>\n      <td>67</td>\n    </tr>\n    <tr>\n      <th>5368</th>\n      <td>13998</td>\n      <td>535812</td>\n      <td>74</td>\n    </tr>\n  </tbody>\n</table>\n<p>5369 rows × 3 columns</p>\n</div>"
     },
     "metadata": {},
     "execution_count": 133
    }
   ],
   "source": [
    "df_client = pd.read_csv(\"../Dataset/client.csv\", sep=';')\n",
    "df_client"
   ]
  },
  {
   "cell_type": "code",
   "execution_count": 134,
   "metadata": {},
   "outputs": [
    {
     "output_type": "execute_result",
     "data": {
      "text/plain": "5369"
     },
     "metadata": {},
     "execution_count": 134
    }
   ],
   "source": [
    "df_client.client_id.nunique()"
   ]
  },
  {
   "cell_type": "code",
   "execution_count": 135,
   "metadata": {},
   "outputs": [
    {
     "output_type": "execute_result",
     "data": {
      "text/plain": "      disp_id  client_id  account_id  disp_type\n0           1          1           1      OWNER\n1           2          2           2      OWNER\n2           3          3           2  DISPONENT\n3           4          4           3      OWNER\n4           5          5           3  DISPONENT\n...       ...        ...         ...        ...\n5364    13647      13955       11349      OWNER\n5365    13648      13956       11349  DISPONENT\n5366    13660      13968       11359      OWNER\n5367    13663      13971       11362      OWNER\n5368    13690      13998       11382      OWNER\n\n[5369 rows x 4 columns]",
      "text/html": "<div>\n<style scoped>\n    .dataframe tbody tr th:only-of-type {\n        vertical-align: middle;\n    }\n\n    .dataframe tbody tr th {\n        vertical-align: top;\n    }\n\n    .dataframe thead th {\n        text-align: right;\n    }\n</style>\n<table border=\"1\" class=\"dataframe\">\n  <thead>\n    <tr style=\"text-align: right;\">\n      <th></th>\n      <th>disp_id</th>\n      <th>client_id</th>\n      <th>account_id</th>\n      <th>disp_type</th>\n    </tr>\n  </thead>\n  <tbody>\n    <tr>\n      <th>0</th>\n      <td>1</td>\n      <td>1</td>\n      <td>1</td>\n      <td>OWNER</td>\n    </tr>\n    <tr>\n      <th>1</th>\n      <td>2</td>\n      <td>2</td>\n      <td>2</td>\n      <td>OWNER</td>\n    </tr>\n    <tr>\n      <th>2</th>\n      <td>3</td>\n      <td>3</td>\n      <td>2</td>\n      <td>DISPONENT</td>\n    </tr>\n    <tr>\n      <th>3</th>\n      <td>4</td>\n      <td>4</td>\n      <td>3</td>\n      <td>OWNER</td>\n    </tr>\n    <tr>\n      <th>4</th>\n      <td>5</td>\n      <td>5</td>\n      <td>3</td>\n      <td>DISPONENT</td>\n    </tr>\n    <tr>\n      <th>...</th>\n      <td>...</td>\n      <td>...</td>\n      <td>...</td>\n      <td>...</td>\n    </tr>\n    <tr>\n      <th>5364</th>\n      <td>13647</td>\n      <td>13955</td>\n      <td>11349</td>\n      <td>OWNER</td>\n    </tr>\n    <tr>\n      <th>5365</th>\n      <td>13648</td>\n      <td>13956</td>\n      <td>11349</td>\n      <td>DISPONENT</td>\n    </tr>\n    <tr>\n      <th>5366</th>\n      <td>13660</td>\n      <td>13968</td>\n      <td>11359</td>\n      <td>OWNER</td>\n    </tr>\n    <tr>\n      <th>5367</th>\n      <td>13663</td>\n      <td>13971</td>\n      <td>11362</td>\n      <td>OWNER</td>\n    </tr>\n    <tr>\n      <th>5368</th>\n      <td>13690</td>\n      <td>13998</td>\n      <td>11382</td>\n      <td>OWNER</td>\n    </tr>\n  </tbody>\n</table>\n<p>5369 rows × 4 columns</p>\n</div>"
     },
     "metadata": {},
     "execution_count": 135
    }
   ],
   "source": [
    "df_disp = pd.read_csv(\"../Dataset/disp.csv\", sep=';')\n",
    "df_disp.rename(\n",
    "    columns={'type':'disp_type'}, \n",
    "    inplace=True\n",
    ")\n",
    "df_disp"
   ]
  },
  {
   "cell_type": "code",
   "execution_count": 136,
   "metadata": {},
   "outputs": [
    {
     "output_type": "execute_result",
     "data": {
      "text/plain": "5369"
     },
     "metadata": {},
     "execution_count": 136
    }
   ],
   "source": [
    "df_disp.client_id.nunique()"
   ]
  },
  {
   "cell_type": "code",
   "execution_count": 137,
   "metadata": {},
   "outputs": [
    {
     "output_type": "execute_result",
     "data": {
      "text/plain": "4500"
     },
     "metadata": {},
     "execution_count": 137
    }
   ],
   "source": [
    "df_disp.account_id.nunique()"
   ]
  },
  {
   "cell_type": "code",
   "execution_count": 138,
   "metadata": {},
   "outputs": [
    {
     "output_type": "execute_result",
     "data": {
      "text/plain": "      disp_id  client_id  account_id disp_type\n0           1          1           1     OWNER\n1           2          2           2     OWNER\n3           4          4           3     OWNER\n5           6          6           4     OWNER\n6           7          7           5     OWNER\n...       ...        ...         ...       ...\n5363    13623      13931       11333     OWNER\n5364    13647      13955       11349     OWNER\n5366    13660      13968       11359     OWNER\n5367    13663      13971       11362     OWNER\n5368    13690      13998       11382     OWNER\n\n[4500 rows x 4 columns]",
      "text/html": "<div>\n<style scoped>\n    .dataframe tbody tr th:only-of-type {\n        vertical-align: middle;\n    }\n\n    .dataframe tbody tr th {\n        vertical-align: top;\n    }\n\n    .dataframe thead th {\n        text-align: right;\n    }\n</style>\n<table border=\"1\" class=\"dataframe\">\n  <thead>\n    <tr style=\"text-align: right;\">\n      <th></th>\n      <th>disp_id</th>\n      <th>client_id</th>\n      <th>account_id</th>\n      <th>disp_type</th>\n    </tr>\n  </thead>\n  <tbody>\n    <tr>\n      <th>0</th>\n      <td>1</td>\n      <td>1</td>\n      <td>1</td>\n      <td>OWNER</td>\n    </tr>\n    <tr>\n      <th>1</th>\n      <td>2</td>\n      <td>2</td>\n      <td>2</td>\n      <td>OWNER</td>\n    </tr>\n    <tr>\n      <th>3</th>\n      <td>4</td>\n      <td>4</td>\n      <td>3</td>\n      <td>OWNER</td>\n    </tr>\n    <tr>\n      <th>5</th>\n      <td>6</td>\n      <td>6</td>\n      <td>4</td>\n      <td>OWNER</td>\n    </tr>\n    <tr>\n      <th>6</th>\n      <td>7</td>\n      <td>7</td>\n      <td>5</td>\n      <td>OWNER</td>\n    </tr>\n    <tr>\n      <th>...</th>\n      <td>...</td>\n      <td>...</td>\n      <td>...</td>\n      <td>...</td>\n    </tr>\n    <tr>\n      <th>5363</th>\n      <td>13623</td>\n      <td>13931</td>\n      <td>11333</td>\n      <td>OWNER</td>\n    </tr>\n    <tr>\n      <th>5364</th>\n      <td>13647</td>\n      <td>13955</td>\n      <td>11349</td>\n      <td>OWNER</td>\n    </tr>\n    <tr>\n      <th>5366</th>\n      <td>13660</td>\n      <td>13968</td>\n      <td>11359</td>\n      <td>OWNER</td>\n    </tr>\n    <tr>\n      <th>5367</th>\n      <td>13663</td>\n      <td>13971</td>\n      <td>11362</td>\n      <td>OWNER</td>\n    </tr>\n    <tr>\n      <th>5368</th>\n      <td>13690</td>\n      <td>13998</td>\n      <td>11382</td>\n      <td>OWNER</td>\n    </tr>\n  </tbody>\n</table>\n<p>4500 rows × 4 columns</p>\n</div>"
     },
     "metadata": {},
     "execution_count": 138
    }
   ],
   "source": [
    "# keep only owners\n",
    "df_disp_owner = df_disp[df_disp['disp_type'] == 'OWNER']\n",
    "df_disp_owner"
   ]
  },
  {
   "cell_type": "code",
   "execution_count": 139,
   "metadata": {},
   "outputs": [
    {
     "output_type": "execute_result",
     "data": {
      "text/plain": "         trans_id  account_id  trans_date trans_type operation  amount  \\\n0          695247        2378      930101     PRIJEM     VKLAD   700.0   \n1          171812         576      930101     PRIJEM     VKLAD   900.0   \n2          207264         704      930101     PRIJEM     VKLAD  1000.0   \n3         1117247        3818      930101     PRIJEM     VKLAD   600.0   \n4          579373        1972      930102     PRIJEM     VKLAD   400.0   \n...           ...         ...         ...        ...       ...     ...   \n1056315   3626622        2906      981231     PRIJEM       NaN    62.3   \n1056316   3627616        2935      981231     PRIJEM       NaN    81.3   \n1056317   3625403        2869      981231     PRIJEM       NaN    60.2   \n1056318   3626683        2907      981231     PRIJEM       NaN   107.5   \n1056319   3626540        2902      981231     PRIJEM       NaN   164.1   \n\n         balance k_symbol bank  account  \n0          700.0      NaN  NaN      NaN  \n1          900.0      NaN  NaN      NaN  \n2         1000.0      NaN  NaN      NaN  \n3          600.0      NaN  NaN      NaN  \n4          400.0      NaN  NaN      NaN  \n...          ...      ...  ...      ...  \n1056315  13729.4     UROK  NaN      NaN  \n1056316  19544.9     UROK  NaN      NaN  \n1056317  14638.2     UROK  NaN      NaN  \n1056318  23453.0     UROK  NaN      NaN  \n1056319  41642.9     UROK  NaN      NaN  \n\n[1056320 rows x 10 columns]",
      "text/html": "<div>\n<style scoped>\n    .dataframe tbody tr th:only-of-type {\n        vertical-align: middle;\n    }\n\n    .dataframe tbody tr th {\n        vertical-align: top;\n    }\n\n    .dataframe thead th {\n        text-align: right;\n    }\n</style>\n<table border=\"1\" class=\"dataframe\">\n  <thead>\n    <tr style=\"text-align: right;\">\n      <th></th>\n      <th>trans_id</th>\n      <th>account_id</th>\n      <th>trans_date</th>\n      <th>trans_type</th>\n      <th>operation</th>\n      <th>amount</th>\n      <th>balance</th>\n      <th>k_symbol</th>\n      <th>bank</th>\n      <th>account</th>\n    </tr>\n  </thead>\n  <tbody>\n    <tr>\n      <th>0</th>\n      <td>695247</td>\n      <td>2378</td>\n      <td>930101</td>\n      <td>PRIJEM</td>\n      <td>VKLAD</td>\n      <td>700.0</td>\n      <td>700.0</td>\n      <td>NaN</td>\n      <td>NaN</td>\n      <td>NaN</td>\n    </tr>\n    <tr>\n      <th>1</th>\n      <td>171812</td>\n      <td>576</td>\n      <td>930101</td>\n      <td>PRIJEM</td>\n      <td>VKLAD</td>\n      <td>900.0</td>\n      <td>900.0</td>\n      <td>NaN</td>\n      <td>NaN</td>\n      <td>NaN</td>\n    </tr>\n    <tr>\n      <th>2</th>\n      <td>207264</td>\n      <td>704</td>\n      <td>930101</td>\n      <td>PRIJEM</td>\n      <td>VKLAD</td>\n      <td>1000.0</td>\n      <td>1000.0</td>\n      <td>NaN</td>\n      <td>NaN</td>\n      <td>NaN</td>\n    </tr>\n    <tr>\n      <th>3</th>\n      <td>1117247</td>\n      <td>3818</td>\n      <td>930101</td>\n      <td>PRIJEM</td>\n      <td>VKLAD</td>\n      <td>600.0</td>\n      <td>600.0</td>\n      <td>NaN</td>\n      <td>NaN</td>\n      <td>NaN</td>\n    </tr>\n    <tr>\n      <th>4</th>\n      <td>579373</td>\n      <td>1972</td>\n      <td>930102</td>\n      <td>PRIJEM</td>\n      <td>VKLAD</td>\n      <td>400.0</td>\n      <td>400.0</td>\n      <td>NaN</td>\n      <td>NaN</td>\n      <td>NaN</td>\n    </tr>\n    <tr>\n      <th>...</th>\n      <td>...</td>\n      <td>...</td>\n      <td>...</td>\n      <td>...</td>\n      <td>...</td>\n      <td>...</td>\n      <td>...</td>\n      <td>...</td>\n      <td>...</td>\n      <td>...</td>\n    </tr>\n    <tr>\n      <th>1056315</th>\n      <td>3626622</td>\n      <td>2906</td>\n      <td>981231</td>\n      <td>PRIJEM</td>\n      <td>NaN</td>\n      <td>62.3</td>\n      <td>13729.4</td>\n      <td>UROK</td>\n      <td>NaN</td>\n      <td>NaN</td>\n    </tr>\n    <tr>\n      <th>1056316</th>\n      <td>3627616</td>\n      <td>2935</td>\n      <td>981231</td>\n      <td>PRIJEM</td>\n      <td>NaN</td>\n      <td>81.3</td>\n      <td>19544.9</td>\n      <td>UROK</td>\n      <td>NaN</td>\n      <td>NaN</td>\n    </tr>\n    <tr>\n      <th>1056317</th>\n      <td>3625403</td>\n      <td>2869</td>\n      <td>981231</td>\n      <td>PRIJEM</td>\n      <td>NaN</td>\n      <td>60.2</td>\n      <td>14638.2</td>\n      <td>UROK</td>\n      <td>NaN</td>\n      <td>NaN</td>\n    </tr>\n    <tr>\n      <th>1056318</th>\n      <td>3626683</td>\n      <td>2907</td>\n      <td>981231</td>\n      <td>PRIJEM</td>\n      <td>NaN</td>\n      <td>107.5</td>\n      <td>23453.0</td>\n      <td>UROK</td>\n      <td>NaN</td>\n      <td>NaN</td>\n    </tr>\n    <tr>\n      <th>1056319</th>\n      <td>3626540</td>\n      <td>2902</td>\n      <td>981231</td>\n      <td>PRIJEM</td>\n      <td>NaN</td>\n      <td>164.1</td>\n      <td>41642.9</td>\n      <td>UROK</td>\n      <td>NaN</td>\n      <td>NaN</td>\n    </tr>\n  </tbody>\n</table>\n<p>1056320 rows × 10 columns</p>\n</div>"
     },
     "metadata": {},
     "execution_count": 139
    }
   ],
   "source": [
    "df_trans = pd.read_csv(\"../Dataset/trans.csv\", sep=';')\n",
    "df_trans.rename(\n",
    "    columns={'type':'trans_type', 'date':'trans_date'}, \n",
    "    inplace=True\n",
    ")\n",
    "df_trans"
   ]
  },
  {
   "cell_type": "code",
   "execution_count": 140,
   "metadata": {},
   "outputs": [
    {
     "output_type": "execute_result",
     "data": {
      "text/plain": "4500"
     },
     "metadata": {},
     "execution_count": 140
    }
   ],
   "source": [
    "df_trans.account_id.nunique()"
   ]
  },
  {
   "cell_type": "code",
   "execution_count": 141,
   "metadata": {},
   "outputs": [
    {
     "output_type": "execute_result",
     "data": {
      "text/plain": "1056320"
     },
     "metadata": {},
     "execution_count": 141
    }
   ],
   "source": [
    "df_trans.trans_id.nunique()"
   ]
  },
  {
   "cell_type": "markdown",
   "metadata": {},
   "source": [
    "### Merge tables"
   ]
  },
  {
   "cell_type": "code",
   "execution_count": 142,
   "metadata": {},
   "outputs": [
    {
     "output_type": "execute_result",
     "data": {
      "text/plain": "         trans_id  account_id  trans_date trans_type operation  amount  \\\n0          695247        2378      930101     PRIJEM     VKLAD   700.0   \n1          171812         576      930101     PRIJEM     VKLAD   900.0   \n2          207264         704      930101     PRIJEM     VKLAD  1000.0   \n3         1117247        3818      930101     PRIJEM     VKLAD   600.0   \n4          579373        1972      930102     PRIJEM     VKLAD   400.0   \n...           ...         ...         ...        ...       ...     ...   \n1056315   3626622        2906      981231     PRIJEM       NaN    62.3   \n1056316   3627616        2935      981231     PRIJEM       NaN    81.3   \n1056317   3625403        2869      981231     PRIJEM       NaN    60.2   \n1056318   3626683        2907      981231     PRIJEM       NaN   107.5   \n1056319   3626540        2902      981231     PRIJEM       NaN   164.1   \n\n         balance k_symbol bank  account  district_id         frequency  \\\n0          700.0      NaN  NaN      NaN           16  POPLATEK MESICNE   \n1          900.0      NaN  NaN      NaN           55  POPLATEK MESICNE   \n2         1000.0      NaN  NaN      NaN           55  POPLATEK MESICNE   \n3          600.0      NaN  NaN      NaN           74  POPLATEK MESICNE   \n4          400.0      NaN  NaN      NaN           77  POPLATEK MESICNE   \n...          ...      ...  ...      ...          ...               ...   \n1056315  13729.4     UROK  NaN      NaN           49  POPLATEK MESICNE   \n1056316  19544.9     UROK  NaN      NaN           68  POPLATEK MESICNE   \n1056317  14638.2     UROK  NaN      NaN           68  POPLATEK MESICNE   \n1056318  23453.0     UROK  NaN      NaN           70  POPLATEK MESICNE   \n1056319  41642.9     UROK  NaN      NaN           32  POPLATEK MESICNE   \n\n         account_date  \n0              930101  \n1              930101  \n2              930101  \n3              930101  \n4              930102  \n...               ...  \n1056315        960920  \n1056316        950515  \n1056317        960927  \n1056318        930909  \n1056319        930128  \n\n[1056320 rows x 13 columns]",
      "text/html": "<div>\n<style scoped>\n    .dataframe tbody tr th:only-of-type {\n        vertical-align: middle;\n    }\n\n    .dataframe tbody tr th {\n        vertical-align: top;\n    }\n\n    .dataframe thead th {\n        text-align: right;\n    }\n</style>\n<table border=\"1\" class=\"dataframe\">\n  <thead>\n    <tr style=\"text-align: right;\">\n      <th></th>\n      <th>trans_id</th>\n      <th>account_id</th>\n      <th>trans_date</th>\n      <th>trans_type</th>\n      <th>operation</th>\n      <th>amount</th>\n      <th>balance</th>\n      <th>k_symbol</th>\n      <th>bank</th>\n      <th>account</th>\n      <th>district_id</th>\n      <th>frequency</th>\n      <th>account_date</th>\n    </tr>\n  </thead>\n  <tbody>\n    <tr>\n      <th>0</th>\n      <td>695247</td>\n      <td>2378</td>\n      <td>930101</td>\n      <td>PRIJEM</td>\n      <td>VKLAD</td>\n      <td>700.0</td>\n      <td>700.0</td>\n      <td>NaN</td>\n      <td>NaN</td>\n      <td>NaN</td>\n      <td>16</td>\n      <td>POPLATEK MESICNE</td>\n      <td>930101</td>\n    </tr>\n    <tr>\n      <th>1</th>\n      <td>171812</td>\n      <td>576</td>\n      <td>930101</td>\n      <td>PRIJEM</td>\n      <td>VKLAD</td>\n      <td>900.0</td>\n      <td>900.0</td>\n      <td>NaN</td>\n      <td>NaN</td>\n      <td>NaN</td>\n      <td>55</td>\n      <td>POPLATEK MESICNE</td>\n      <td>930101</td>\n    </tr>\n    <tr>\n      <th>2</th>\n      <td>207264</td>\n      <td>704</td>\n      <td>930101</td>\n      <td>PRIJEM</td>\n      <td>VKLAD</td>\n      <td>1000.0</td>\n      <td>1000.0</td>\n      <td>NaN</td>\n      <td>NaN</td>\n      <td>NaN</td>\n      <td>55</td>\n      <td>POPLATEK MESICNE</td>\n      <td>930101</td>\n    </tr>\n    <tr>\n      <th>3</th>\n      <td>1117247</td>\n      <td>3818</td>\n      <td>930101</td>\n      <td>PRIJEM</td>\n      <td>VKLAD</td>\n      <td>600.0</td>\n      <td>600.0</td>\n      <td>NaN</td>\n      <td>NaN</td>\n      <td>NaN</td>\n      <td>74</td>\n      <td>POPLATEK MESICNE</td>\n      <td>930101</td>\n    </tr>\n    <tr>\n      <th>4</th>\n      <td>579373</td>\n      <td>1972</td>\n      <td>930102</td>\n      <td>PRIJEM</td>\n      <td>VKLAD</td>\n      <td>400.0</td>\n      <td>400.0</td>\n      <td>NaN</td>\n      <td>NaN</td>\n      <td>NaN</td>\n      <td>77</td>\n      <td>POPLATEK MESICNE</td>\n      <td>930102</td>\n    </tr>\n    <tr>\n      <th>...</th>\n      <td>...</td>\n      <td>...</td>\n      <td>...</td>\n      <td>...</td>\n      <td>...</td>\n      <td>...</td>\n      <td>...</td>\n      <td>...</td>\n      <td>...</td>\n      <td>...</td>\n      <td>...</td>\n      <td>...</td>\n      <td>...</td>\n    </tr>\n    <tr>\n      <th>1056315</th>\n      <td>3626622</td>\n      <td>2906</td>\n      <td>981231</td>\n      <td>PRIJEM</td>\n      <td>NaN</td>\n      <td>62.3</td>\n      <td>13729.4</td>\n      <td>UROK</td>\n      <td>NaN</td>\n      <td>NaN</td>\n      <td>49</td>\n      <td>POPLATEK MESICNE</td>\n      <td>960920</td>\n    </tr>\n    <tr>\n      <th>1056316</th>\n      <td>3627616</td>\n      <td>2935</td>\n      <td>981231</td>\n      <td>PRIJEM</td>\n      <td>NaN</td>\n      <td>81.3</td>\n      <td>19544.9</td>\n      <td>UROK</td>\n      <td>NaN</td>\n      <td>NaN</td>\n      <td>68</td>\n      <td>POPLATEK MESICNE</td>\n      <td>950515</td>\n    </tr>\n    <tr>\n      <th>1056317</th>\n      <td>3625403</td>\n      <td>2869</td>\n      <td>981231</td>\n      <td>PRIJEM</td>\n      <td>NaN</td>\n      <td>60.2</td>\n      <td>14638.2</td>\n      <td>UROK</td>\n      <td>NaN</td>\n      <td>NaN</td>\n      <td>68</td>\n      <td>POPLATEK MESICNE</td>\n      <td>960927</td>\n    </tr>\n    <tr>\n      <th>1056318</th>\n      <td>3626683</td>\n      <td>2907</td>\n      <td>981231</td>\n      <td>PRIJEM</td>\n      <td>NaN</td>\n      <td>107.5</td>\n      <td>23453.0</td>\n      <td>UROK</td>\n      <td>NaN</td>\n      <td>NaN</td>\n      <td>70</td>\n      <td>POPLATEK MESICNE</td>\n      <td>930909</td>\n    </tr>\n    <tr>\n      <th>1056319</th>\n      <td>3626540</td>\n      <td>2902</td>\n      <td>981231</td>\n      <td>PRIJEM</td>\n      <td>NaN</td>\n      <td>164.1</td>\n      <td>41642.9</td>\n      <td>UROK</td>\n      <td>NaN</td>\n      <td>NaN</td>\n      <td>32</td>\n      <td>POPLATEK MESICNE</td>\n      <td>930128</td>\n    </tr>\n  </tbody>\n</table>\n<p>1056320 rows × 13 columns</p>\n</div>"
     },
     "metadata": {},
     "execution_count": 142
    }
   ],
   "source": [
    "# merge transaction & account\n",
    "df_trans_account = pd.merge(\n",
    "    left=df_trans,\n",
    "    right=df_account,\n",
    "    how='left',\n",
    "    left_on='account_id',\n",
    "    right_on='account_id'\n",
    ")\n",
    "df_trans_account"
   ]
  },
  {
   "cell_type": "code",
   "execution_count": 144,
   "metadata": {},
   "outputs": [
    {
     "output_type": "execute_result",
     "data": {
      "text/plain": "         trans_id  account_id  trans_date trans_type operation  amount  \\\n0          695247        2378      930101     PRIJEM     VKLAD   700.0   \n1          171812         576      930101     PRIJEM     VKLAD   900.0   \n2          207264         704      930101     PRIJEM     VKLAD  1000.0   \n3         1117247        3818      930101     PRIJEM     VKLAD   600.0   \n4          579373        1972      930102     PRIJEM     VKLAD   400.0   \n...           ...         ...         ...        ...       ...     ...   \n1056315   3626622        2906      981231     PRIJEM       NaN    62.3   \n1056316   3627616        2935      981231     PRIJEM       NaN    81.3   \n1056317   3625403        2869      981231     PRIJEM       NaN    60.2   \n1056318   3626683        2907      981231     PRIJEM       NaN   107.5   \n1056319   3626540        2902      981231     PRIJEM       NaN   164.1   \n\n         balance k_symbol bank  account  district_id         frequency  \\\n0          700.0      NaN  NaN      NaN           16  POPLATEK MESICNE   \n1          900.0      NaN  NaN      NaN           55  POPLATEK MESICNE   \n2         1000.0      NaN  NaN      NaN           55  POPLATEK MESICNE   \n3          600.0      NaN  NaN      NaN           74  POPLATEK MESICNE   \n4          400.0      NaN  NaN      NaN           77  POPLATEK MESICNE   \n...          ...      ...  ...      ...          ...               ...   \n1056315  13729.4     UROK  NaN      NaN           49  POPLATEK MESICNE   \n1056316  19544.9     UROK  NaN      NaN           68  POPLATEK MESICNE   \n1056317  14638.2     UROK  NaN      NaN           68  POPLATEK MESICNE   \n1056318  23453.0     UROK  NaN      NaN           70  POPLATEK MESICNE   \n1056319  41642.9     UROK  NaN      NaN           32  POPLATEK MESICNE   \n\n         account_date  disp_id  client_id disp_type  \n0              930101     2873       2873     OWNER  \n1              930101      692        692     OWNER  \n2              930101      844        844     OWNER  \n3              930101     4601       4601     OWNER  \n4              930102     2397       2397     OWNER  \n...               ...      ...        ...       ...  \n1056315        960920     3512       3512     OWNER  \n1056316        950515     3545       3545     OWNER  \n1056317        960927     3468       3468     OWNER  \n1056318        930909     3513       3513     OWNER  \n1056319        930128     3507       3507     OWNER  \n\n[1056320 rows x 16 columns]",
      "text/html": "<div>\n<style scoped>\n    .dataframe tbody tr th:only-of-type {\n        vertical-align: middle;\n    }\n\n    .dataframe tbody tr th {\n        vertical-align: top;\n    }\n\n    .dataframe thead th {\n        text-align: right;\n    }\n</style>\n<table border=\"1\" class=\"dataframe\">\n  <thead>\n    <tr style=\"text-align: right;\">\n      <th></th>\n      <th>trans_id</th>\n      <th>account_id</th>\n      <th>trans_date</th>\n      <th>trans_type</th>\n      <th>operation</th>\n      <th>amount</th>\n      <th>balance</th>\n      <th>k_symbol</th>\n      <th>bank</th>\n      <th>account</th>\n      <th>district_id</th>\n      <th>frequency</th>\n      <th>account_date</th>\n      <th>disp_id</th>\n      <th>client_id</th>\n      <th>disp_type</th>\n    </tr>\n  </thead>\n  <tbody>\n    <tr>\n      <th>0</th>\n      <td>695247</td>\n      <td>2378</td>\n      <td>930101</td>\n      <td>PRIJEM</td>\n      <td>VKLAD</td>\n      <td>700.0</td>\n      <td>700.0</td>\n      <td>NaN</td>\n      <td>NaN</td>\n      <td>NaN</td>\n      <td>16</td>\n      <td>POPLATEK MESICNE</td>\n      <td>930101</td>\n      <td>2873</td>\n      <td>2873</td>\n      <td>OWNER</td>\n    </tr>\n    <tr>\n      <th>1</th>\n      <td>171812</td>\n      <td>576</td>\n      <td>930101</td>\n      <td>PRIJEM</td>\n      <td>VKLAD</td>\n      <td>900.0</td>\n      <td>900.0</td>\n      <td>NaN</td>\n      <td>NaN</td>\n      <td>NaN</td>\n      <td>55</td>\n      <td>POPLATEK MESICNE</td>\n      <td>930101</td>\n      <td>692</td>\n      <td>692</td>\n      <td>OWNER</td>\n    </tr>\n    <tr>\n      <th>2</th>\n      <td>207264</td>\n      <td>704</td>\n      <td>930101</td>\n      <td>PRIJEM</td>\n      <td>VKLAD</td>\n      <td>1000.0</td>\n      <td>1000.0</td>\n      <td>NaN</td>\n      <td>NaN</td>\n      <td>NaN</td>\n      <td>55</td>\n      <td>POPLATEK MESICNE</td>\n      <td>930101</td>\n      <td>844</td>\n      <td>844</td>\n      <td>OWNER</td>\n    </tr>\n    <tr>\n      <th>3</th>\n      <td>1117247</td>\n      <td>3818</td>\n      <td>930101</td>\n      <td>PRIJEM</td>\n      <td>VKLAD</td>\n      <td>600.0</td>\n      <td>600.0</td>\n      <td>NaN</td>\n      <td>NaN</td>\n      <td>NaN</td>\n      <td>74</td>\n      <td>POPLATEK MESICNE</td>\n      <td>930101</td>\n      <td>4601</td>\n      <td>4601</td>\n      <td>OWNER</td>\n    </tr>\n    <tr>\n      <th>4</th>\n      <td>579373</td>\n      <td>1972</td>\n      <td>930102</td>\n      <td>PRIJEM</td>\n      <td>VKLAD</td>\n      <td>400.0</td>\n      <td>400.0</td>\n      <td>NaN</td>\n      <td>NaN</td>\n      <td>NaN</td>\n      <td>77</td>\n      <td>POPLATEK MESICNE</td>\n      <td>930102</td>\n      <td>2397</td>\n      <td>2397</td>\n      <td>OWNER</td>\n    </tr>\n    <tr>\n      <th>...</th>\n      <td>...</td>\n      <td>...</td>\n      <td>...</td>\n      <td>...</td>\n      <td>...</td>\n      <td>...</td>\n      <td>...</td>\n      <td>...</td>\n      <td>...</td>\n      <td>...</td>\n      <td>...</td>\n      <td>...</td>\n      <td>...</td>\n      <td>...</td>\n      <td>...</td>\n      <td>...</td>\n    </tr>\n    <tr>\n      <th>1056315</th>\n      <td>3626622</td>\n      <td>2906</td>\n      <td>981231</td>\n      <td>PRIJEM</td>\n      <td>NaN</td>\n      <td>62.3</td>\n      <td>13729.4</td>\n      <td>UROK</td>\n      <td>NaN</td>\n      <td>NaN</td>\n      <td>49</td>\n      <td>POPLATEK MESICNE</td>\n      <td>960920</td>\n      <td>3512</td>\n      <td>3512</td>\n      <td>OWNER</td>\n    </tr>\n    <tr>\n      <th>1056316</th>\n      <td>3627616</td>\n      <td>2935</td>\n      <td>981231</td>\n      <td>PRIJEM</td>\n      <td>NaN</td>\n      <td>81.3</td>\n      <td>19544.9</td>\n      <td>UROK</td>\n      <td>NaN</td>\n      <td>NaN</td>\n      <td>68</td>\n      <td>POPLATEK MESICNE</td>\n      <td>950515</td>\n      <td>3545</td>\n      <td>3545</td>\n      <td>OWNER</td>\n    </tr>\n    <tr>\n      <th>1056317</th>\n      <td>3625403</td>\n      <td>2869</td>\n      <td>981231</td>\n      <td>PRIJEM</td>\n      <td>NaN</td>\n      <td>60.2</td>\n      <td>14638.2</td>\n      <td>UROK</td>\n      <td>NaN</td>\n      <td>NaN</td>\n      <td>68</td>\n      <td>POPLATEK MESICNE</td>\n      <td>960927</td>\n      <td>3468</td>\n      <td>3468</td>\n      <td>OWNER</td>\n    </tr>\n    <tr>\n      <th>1056318</th>\n      <td>3626683</td>\n      <td>2907</td>\n      <td>981231</td>\n      <td>PRIJEM</td>\n      <td>NaN</td>\n      <td>107.5</td>\n      <td>23453.0</td>\n      <td>UROK</td>\n      <td>NaN</td>\n      <td>NaN</td>\n      <td>70</td>\n      <td>POPLATEK MESICNE</td>\n      <td>930909</td>\n      <td>3513</td>\n      <td>3513</td>\n      <td>OWNER</td>\n    </tr>\n    <tr>\n      <th>1056319</th>\n      <td>3626540</td>\n      <td>2902</td>\n      <td>981231</td>\n      <td>PRIJEM</td>\n      <td>NaN</td>\n      <td>164.1</td>\n      <td>41642.9</td>\n      <td>UROK</td>\n      <td>NaN</td>\n      <td>NaN</td>\n      <td>32</td>\n      <td>POPLATEK MESICNE</td>\n      <td>930128</td>\n      <td>3507</td>\n      <td>3507</td>\n      <td>OWNER</td>\n    </tr>\n  </tbody>\n</table>\n<p>1056320 rows × 16 columns</p>\n</div>"
     },
     "metadata": {},
     "execution_count": 144
    }
   ],
   "source": [
    "# merge transaction & disp\n",
    "df_trans_disp = pd.merge(\n",
    "    left=df_trans_account,\n",
    "    right=df_disp_owner,\n",
    "    how='left',\n",
    "    left_on='account_id',\n",
    "    right_on='account_id'\n",
    ")\n",
    "df_trans_disp"
   ]
  },
  {
   "cell_type": "code",
   "execution_count": 148,
   "metadata": {},
   "outputs": [
    {
     "output_type": "execute_result",
     "data": {
      "text/plain": "         trans_id  account_id  trans_date trans_type operation  amount  \\\n0          695247        2378      930101     PRIJEM     VKLAD   700.0   \n1          171812         576      930101     PRIJEM     VKLAD   900.0   \n2          207264         704      930101     PRIJEM     VKLAD  1000.0   \n3         1117247        3818      930101     PRIJEM     VKLAD   600.0   \n4          579373        1972      930102     PRIJEM     VKLAD   400.0   \n...           ...         ...         ...        ...       ...     ...   \n1056315   3626622        2906      981231     PRIJEM       NaN    62.3   \n1056316   3627616        2935      981231     PRIJEM       NaN    81.3   \n1056317   3625403        2869      981231     PRIJEM       NaN    60.2   \n1056318   3626683        2907      981231     PRIJEM       NaN   107.5   \n1056319   3626540        2902      981231     PRIJEM       NaN   164.1   \n\n         balance k_symbol bank  account  district_id_x         frequency  \\\n0          700.0      NaN  NaN      NaN             16  POPLATEK MESICNE   \n1          900.0      NaN  NaN      NaN             55  POPLATEK MESICNE   \n2         1000.0      NaN  NaN      NaN             55  POPLATEK MESICNE   \n3          600.0      NaN  NaN      NaN             74  POPLATEK MESICNE   \n4          400.0      NaN  NaN      NaN             77  POPLATEK MESICNE   \n...          ...      ...  ...      ...            ...               ...   \n1056315  13729.4     UROK  NaN      NaN             49  POPLATEK MESICNE   \n1056316  19544.9     UROK  NaN      NaN             68  POPLATEK MESICNE   \n1056317  14638.2     UROK  NaN      NaN             68  POPLATEK MESICNE   \n1056318  23453.0     UROK  NaN      NaN             70  POPLATEK MESICNE   \n1056319  41642.9     UROK  NaN      NaN             32  POPLATEK MESICNE   \n\n         account_date  disp_id  client_id disp_type  birth_number  \\\n0              930101     2873       2873     OWNER        755324   \n1              930101      692        692     OWNER        365111   \n2              930101      844        844     OWNER        450114   \n3              930101     4601       4601     OWNER        350402   \n4              930102     2397       2397     OWNER        180714   \n...               ...      ...        ...       ...           ...   \n1056315        960920     3512       3512     OWNER        460525   \n1056316        950515     3545       3545     OWNER        661101   \n1056317        960927     3468       3468     OWNER        336231   \n1056318        930909     3513       3513     OWNER        220720   \n1056319        930128     3507       3507     OWNER        466202   \n\n         district_id_y  \n0                   16  \n1                   74  \n2                   22  \n3                    1  \n4                   46  \n...                ...  \n1056315             49  \n1056316             68  \n1056317             68  \n1056318             70  \n1056319             32  \n\n[1056320 rows x 18 columns]",
      "text/html": "<div>\n<style scoped>\n    .dataframe tbody tr th:only-of-type {\n        vertical-align: middle;\n    }\n\n    .dataframe tbody tr th {\n        vertical-align: top;\n    }\n\n    .dataframe thead th {\n        text-align: right;\n    }\n</style>\n<table border=\"1\" class=\"dataframe\">\n  <thead>\n    <tr style=\"text-align: right;\">\n      <th></th>\n      <th>trans_id</th>\n      <th>account_id</th>\n      <th>trans_date</th>\n      <th>trans_type</th>\n      <th>operation</th>\n      <th>amount</th>\n      <th>balance</th>\n      <th>k_symbol</th>\n      <th>bank</th>\n      <th>account</th>\n      <th>district_id_x</th>\n      <th>frequency</th>\n      <th>account_date</th>\n      <th>disp_id</th>\n      <th>client_id</th>\n      <th>disp_type</th>\n      <th>birth_number</th>\n      <th>district_id_y</th>\n    </tr>\n  </thead>\n  <tbody>\n    <tr>\n      <th>0</th>\n      <td>695247</td>\n      <td>2378</td>\n      <td>930101</td>\n      <td>PRIJEM</td>\n      <td>VKLAD</td>\n      <td>700.0</td>\n      <td>700.0</td>\n      <td>NaN</td>\n      <td>NaN</td>\n      <td>NaN</td>\n      <td>16</td>\n      <td>POPLATEK MESICNE</td>\n      <td>930101</td>\n      <td>2873</td>\n      <td>2873</td>\n      <td>OWNER</td>\n      <td>755324</td>\n      <td>16</td>\n    </tr>\n    <tr>\n      <th>1</th>\n      <td>171812</td>\n      <td>576</td>\n      <td>930101</td>\n      <td>PRIJEM</td>\n      <td>VKLAD</td>\n      <td>900.0</td>\n      <td>900.0</td>\n      <td>NaN</td>\n      <td>NaN</td>\n      <td>NaN</td>\n      <td>55</td>\n      <td>POPLATEK MESICNE</td>\n      <td>930101</td>\n      <td>692</td>\n      <td>692</td>\n      <td>OWNER</td>\n      <td>365111</td>\n      <td>74</td>\n    </tr>\n    <tr>\n      <th>2</th>\n      <td>207264</td>\n      <td>704</td>\n      <td>930101</td>\n      <td>PRIJEM</td>\n      <td>VKLAD</td>\n      <td>1000.0</td>\n      <td>1000.0</td>\n      <td>NaN</td>\n      <td>NaN</td>\n      <td>NaN</td>\n      <td>55</td>\n      <td>POPLATEK MESICNE</td>\n      <td>930101</td>\n      <td>844</td>\n      <td>844</td>\n      <td>OWNER</td>\n      <td>450114</td>\n      <td>22</td>\n    </tr>\n    <tr>\n      <th>3</th>\n      <td>1117247</td>\n      <td>3818</td>\n      <td>930101</td>\n      <td>PRIJEM</td>\n      <td>VKLAD</td>\n      <td>600.0</td>\n      <td>600.0</td>\n      <td>NaN</td>\n      <td>NaN</td>\n      <td>NaN</td>\n      <td>74</td>\n      <td>POPLATEK MESICNE</td>\n      <td>930101</td>\n      <td>4601</td>\n      <td>4601</td>\n      <td>OWNER</td>\n      <td>350402</td>\n      <td>1</td>\n    </tr>\n    <tr>\n      <th>4</th>\n      <td>579373</td>\n      <td>1972</td>\n      <td>930102</td>\n      <td>PRIJEM</td>\n      <td>VKLAD</td>\n      <td>400.0</td>\n      <td>400.0</td>\n      <td>NaN</td>\n      <td>NaN</td>\n      <td>NaN</td>\n      <td>77</td>\n      <td>POPLATEK MESICNE</td>\n      <td>930102</td>\n      <td>2397</td>\n      <td>2397</td>\n      <td>OWNER</td>\n      <td>180714</td>\n      <td>46</td>\n    </tr>\n    <tr>\n      <th>...</th>\n      <td>...</td>\n      <td>...</td>\n      <td>...</td>\n      <td>...</td>\n      <td>...</td>\n      <td>...</td>\n      <td>...</td>\n      <td>...</td>\n      <td>...</td>\n      <td>...</td>\n      <td>...</td>\n      <td>...</td>\n      <td>...</td>\n      <td>...</td>\n      <td>...</td>\n      <td>...</td>\n      <td>...</td>\n      <td>...</td>\n    </tr>\n    <tr>\n      <th>1056315</th>\n      <td>3626622</td>\n      <td>2906</td>\n      <td>981231</td>\n      <td>PRIJEM</td>\n      <td>NaN</td>\n      <td>62.3</td>\n      <td>13729.4</td>\n      <td>UROK</td>\n      <td>NaN</td>\n      <td>NaN</td>\n      <td>49</td>\n      <td>POPLATEK MESICNE</td>\n      <td>960920</td>\n      <td>3512</td>\n      <td>3512</td>\n      <td>OWNER</td>\n      <td>460525</td>\n      <td>49</td>\n    </tr>\n    <tr>\n      <th>1056316</th>\n      <td>3627616</td>\n      <td>2935</td>\n      <td>981231</td>\n      <td>PRIJEM</td>\n      <td>NaN</td>\n      <td>81.3</td>\n      <td>19544.9</td>\n      <td>UROK</td>\n      <td>NaN</td>\n      <td>NaN</td>\n      <td>68</td>\n      <td>POPLATEK MESICNE</td>\n      <td>950515</td>\n      <td>3545</td>\n      <td>3545</td>\n      <td>OWNER</td>\n      <td>661101</td>\n      <td>68</td>\n    </tr>\n    <tr>\n      <th>1056317</th>\n      <td>3625403</td>\n      <td>2869</td>\n      <td>981231</td>\n      <td>PRIJEM</td>\n      <td>NaN</td>\n      <td>60.2</td>\n      <td>14638.2</td>\n      <td>UROK</td>\n      <td>NaN</td>\n      <td>NaN</td>\n      <td>68</td>\n      <td>POPLATEK MESICNE</td>\n      <td>960927</td>\n      <td>3468</td>\n      <td>3468</td>\n      <td>OWNER</td>\n      <td>336231</td>\n      <td>68</td>\n    </tr>\n    <tr>\n      <th>1056318</th>\n      <td>3626683</td>\n      <td>2907</td>\n      <td>981231</td>\n      <td>PRIJEM</td>\n      <td>NaN</td>\n      <td>107.5</td>\n      <td>23453.0</td>\n      <td>UROK</td>\n      <td>NaN</td>\n      <td>NaN</td>\n      <td>70</td>\n      <td>POPLATEK MESICNE</td>\n      <td>930909</td>\n      <td>3513</td>\n      <td>3513</td>\n      <td>OWNER</td>\n      <td>220720</td>\n      <td>70</td>\n    </tr>\n    <tr>\n      <th>1056319</th>\n      <td>3626540</td>\n      <td>2902</td>\n      <td>981231</td>\n      <td>PRIJEM</td>\n      <td>NaN</td>\n      <td>164.1</td>\n      <td>41642.9</td>\n      <td>UROK</td>\n      <td>NaN</td>\n      <td>NaN</td>\n      <td>32</td>\n      <td>POPLATEK MESICNE</td>\n      <td>930128</td>\n      <td>3507</td>\n      <td>3507</td>\n      <td>OWNER</td>\n      <td>466202</td>\n      <td>32</td>\n    </tr>\n  </tbody>\n</table>\n<p>1056320 rows × 18 columns</p>\n</div>"
     },
     "metadata": {},
     "execution_count": 148
    }
   ],
   "source": [
    "# merge transaction & client\n",
    "df = pd.merge(\n",
    "    left=df_trans_disp,\n",
    "    right=df_client,\n",
    "    how='left',\n",
    "    left_on='client_id',\n",
    "    right_on='client_id'\n",
    ")\n",
    "df"
   ]
  },
  {
   "cell_type": "code",
   "execution_count": 149,
   "metadata": {},
   "outputs": [
    {
     "output_type": "execute_result",
     "data": {
      "text/plain": "         trans_id  account_id  trans_date trans_type operation  amount  \\\n1          171812         576      930101     PRIJEM     VKLAD   900.0   \n2          207264         704      930101     PRIJEM     VKLAD  1000.0   \n3         1117247        3818      930101     PRIJEM     VKLAD   600.0   \n4          579373        1972      930102     PRIJEM     VKLAD   400.0   \n6          452728        1539      930103     PRIJEM     VKLAD   600.0   \n...           ...         ...         ...        ...       ...     ...   \n1056244   3626254        2894      981231     PRIJEM       NaN   427.0   \n1056248   3625608        2876      981231     PRIJEM       NaN   195.1   \n1056263   3625933        2884      981231     PRIJEM       NaN   428.1   \n1056283   3627510        2932      981231     PRIJEM       NaN   104.5   \n1056294   3628932        2972      981231     PRIJEM       NaN   224.9   \n\n          balance k_symbol bank  account  district_id_x           frequency  \\\n1           900.0      NaN  NaN      NaN             55    POPLATEK MESICNE   \n2          1000.0      NaN  NaN      NaN             55    POPLATEK MESICNE   \n3           600.0      NaN  NaN      NaN             74    POPLATEK MESICNE   \n4           400.0      NaN  NaN      NaN             77    POPLATEK MESICNE   \n6           600.0      NaN  NaN      NaN              1  POPLATEK PO OBRATU   \n...           ...      ...  ...      ...            ...                 ...   \n1056244   59943.5     UROK  NaN      NaN             17    POPLATEK MESICNE   \n1056248   42162.1     UROK  NaN      NaN             52    POPLATEK MESICNE   \n1056263  105066.3     UROK  NaN      NaN              1    POPLATEK MESICNE   \n1056283   33974.7     UROK  NaN      NaN             72    POPLATEK MESICNE   \n1056294   75999.3     UROK  NaN      NaN             12    POPLATEK MESICNE   \n\n         account_date  disp_id  client_id disp_type  birth_number  \\\n1              930101      692        692     OWNER        365111   \n2              930101      844        844     OWNER        450114   \n3              930101     4601       4601     OWNER        350402   \n4              930102     2397       2397     OWNER        180714   \n6              930103     1866       1866     OWNER        425611   \n...               ...      ...        ...       ...           ...   \n1056244        930828     3498       3498     OWNER        380401   \n1056248        930422     3476       3476     OWNER        685105   \n1056263        930208     3486       3486     OWNER        620309   \n1056283        930504     3540       3540     OWNER        360804   \n1056294        931123     3589       3589     OWNER        615713   \n\n         district_id_y  \n1                   74  \n2                   22  \n3                    1  \n4                   46  \n6                   64  \n...                ...  \n1056244             77  \n1056248             60  \n1056263             77  \n1056283             51  \n1056294             73  \n\n[162134 rows x 18 columns]",
      "text/html": "<div>\n<style scoped>\n    .dataframe tbody tr th:only-of-type {\n        vertical-align: middle;\n    }\n\n    .dataframe tbody tr th {\n        vertical-align: top;\n    }\n\n    .dataframe thead th {\n        text-align: right;\n    }\n</style>\n<table border=\"1\" class=\"dataframe\">\n  <thead>\n    <tr style=\"text-align: right;\">\n      <th></th>\n      <th>trans_id</th>\n      <th>account_id</th>\n      <th>trans_date</th>\n      <th>trans_type</th>\n      <th>operation</th>\n      <th>amount</th>\n      <th>balance</th>\n      <th>k_symbol</th>\n      <th>bank</th>\n      <th>account</th>\n      <th>district_id_x</th>\n      <th>frequency</th>\n      <th>account_date</th>\n      <th>disp_id</th>\n      <th>client_id</th>\n      <th>disp_type</th>\n      <th>birth_number</th>\n      <th>district_id_y</th>\n    </tr>\n  </thead>\n  <tbody>\n    <tr>\n      <th>1</th>\n      <td>171812</td>\n      <td>576</td>\n      <td>930101</td>\n      <td>PRIJEM</td>\n      <td>VKLAD</td>\n      <td>900.0</td>\n      <td>900.0</td>\n      <td>NaN</td>\n      <td>NaN</td>\n      <td>NaN</td>\n      <td>55</td>\n      <td>POPLATEK MESICNE</td>\n      <td>930101</td>\n      <td>692</td>\n      <td>692</td>\n      <td>OWNER</td>\n      <td>365111</td>\n      <td>74</td>\n    </tr>\n    <tr>\n      <th>2</th>\n      <td>207264</td>\n      <td>704</td>\n      <td>930101</td>\n      <td>PRIJEM</td>\n      <td>VKLAD</td>\n      <td>1000.0</td>\n      <td>1000.0</td>\n      <td>NaN</td>\n      <td>NaN</td>\n      <td>NaN</td>\n      <td>55</td>\n      <td>POPLATEK MESICNE</td>\n      <td>930101</td>\n      <td>844</td>\n      <td>844</td>\n      <td>OWNER</td>\n      <td>450114</td>\n      <td>22</td>\n    </tr>\n    <tr>\n      <th>3</th>\n      <td>1117247</td>\n      <td>3818</td>\n      <td>930101</td>\n      <td>PRIJEM</td>\n      <td>VKLAD</td>\n      <td>600.0</td>\n      <td>600.0</td>\n      <td>NaN</td>\n      <td>NaN</td>\n      <td>NaN</td>\n      <td>74</td>\n      <td>POPLATEK MESICNE</td>\n      <td>930101</td>\n      <td>4601</td>\n      <td>4601</td>\n      <td>OWNER</td>\n      <td>350402</td>\n      <td>1</td>\n    </tr>\n    <tr>\n      <th>4</th>\n      <td>579373</td>\n      <td>1972</td>\n      <td>930102</td>\n      <td>PRIJEM</td>\n      <td>VKLAD</td>\n      <td>400.0</td>\n      <td>400.0</td>\n      <td>NaN</td>\n      <td>NaN</td>\n      <td>NaN</td>\n      <td>77</td>\n      <td>POPLATEK MESICNE</td>\n      <td>930102</td>\n      <td>2397</td>\n      <td>2397</td>\n      <td>OWNER</td>\n      <td>180714</td>\n      <td>46</td>\n    </tr>\n    <tr>\n      <th>6</th>\n      <td>452728</td>\n      <td>1539</td>\n      <td>930103</td>\n      <td>PRIJEM</td>\n      <td>VKLAD</td>\n      <td>600.0</td>\n      <td>600.0</td>\n      <td>NaN</td>\n      <td>NaN</td>\n      <td>NaN</td>\n      <td>1</td>\n      <td>POPLATEK PO OBRATU</td>\n      <td>930103</td>\n      <td>1866</td>\n      <td>1866</td>\n      <td>OWNER</td>\n      <td>425611</td>\n      <td>64</td>\n    </tr>\n    <tr>\n      <th>...</th>\n      <td>...</td>\n      <td>...</td>\n      <td>...</td>\n      <td>...</td>\n      <td>...</td>\n      <td>...</td>\n      <td>...</td>\n      <td>...</td>\n      <td>...</td>\n      <td>...</td>\n      <td>...</td>\n      <td>...</td>\n      <td>...</td>\n      <td>...</td>\n      <td>...</td>\n      <td>...</td>\n      <td>...</td>\n      <td>...</td>\n    </tr>\n    <tr>\n      <th>1056244</th>\n      <td>3626254</td>\n      <td>2894</td>\n      <td>981231</td>\n      <td>PRIJEM</td>\n      <td>NaN</td>\n      <td>427.0</td>\n      <td>59943.5</td>\n      <td>UROK</td>\n      <td>NaN</td>\n      <td>NaN</td>\n      <td>17</td>\n      <td>POPLATEK MESICNE</td>\n      <td>930828</td>\n      <td>3498</td>\n      <td>3498</td>\n      <td>OWNER</td>\n      <td>380401</td>\n      <td>77</td>\n    </tr>\n    <tr>\n      <th>1056248</th>\n      <td>3625608</td>\n      <td>2876</td>\n      <td>981231</td>\n      <td>PRIJEM</td>\n      <td>NaN</td>\n      <td>195.1</td>\n      <td>42162.1</td>\n      <td>UROK</td>\n      <td>NaN</td>\n      <td>NaN</td>\n      <td>52</td>\n      <td>POPLATEK MESICNE</td>\n      <td>930422</td>\n      <td>3476</td>\n      <td>3476</td>\n      <td>OWNER</td>\n      <td>685105</td>\n      <td>60</td>\n    </tr>\n    <tr>\n      <th>1056263</th>\n      <td>3625933</td>\n      <td>2884</td>\n      <td>981231</td>\n      <td>PRIJEM</td>\n      <td>NaN</td>\n      <td>428.1</td>\n      <td>105066.3</td>\n      <td>UROK</td>\n      <td>NaN</td>\n      <td>NaN</td>\n      <td>1</td>\n      <td>POPLATEK MESICNE</td>\n      <td>930208</td>\n      <td>3486</td>\n      <td>3486</td>\n      <td>OWNER</td>\n      <td>620309</td>\n      <td>77</td>\n    </tr>\n    <tr>\n      <th>1056283</th>\n      <td>3627510</td>\n      <td>2932</td>\n      <td>981231</td>\n      <td>PRIJEM</td>\n      <td>NaN</td>\n      <td>104.5</td>\n      <td>33974.7</td>\n      <td>UROK</td>\n      <td>NaN</td>\n      <td>NaN</td>\n      <td>72</td>\n      <td>POPLATEK MESICNE</td>\n      <td>930504</td>\n      <td>3540</td>\n      <td>3540</td>\n      <td>OWNER</td>\n      <td>360804</td>\n      <td>51</td>\n    </tr>\n    <tr>\n      <th>1056294</th>\n      <td>3628932</td>\n      <td>2972</td>\n      <td>981231</td>\n      <td>PRIJEM</td>\n      <td>NaN</td>\n      <td>224.9</td>\n      <td>75999.3</td>\n      <td>UROK</td>\n      <td>NaN</td>\n      <td>NaN</td>\n      <td>12</td>\n      <td>POPLATEK MESICNE</td>\n      <td>931123</td>\n      <td>3589</td>\n      <td>3589</td>\n      <td>OWNER</td>\n      <td>615713</td>\n      <td>73</td>\n    </tr>\n  </tbody>\n</table>\n<p>162134 rows × 18 columns</p>\n</div>"
     },
     "metadata": {},
     "execution_count": 149
    }
   ],
   "source": [
    "# check 'district_id_x' and 'district_id_y' are the same\n",
    "df[df.district_id_x != df.district_id_y]"
   ]
  },
  {
   "cell_type": "code",
   "execution_count": 150,
   "metadata": {},
   "outputs": [
    {
     "output_type": "execute_result",
     "data": {
      "text/plain": "         trans_id  account_id  trans_date trans_type operation  amount  \\\n0          695247        2378      930101     PRIJEM     VKLAD   700.0   \n1          171812         576      930101     PRIJEM     VKLAD   900.0   \n2          207264         704      930101     PRIJEM     VKLAD  1000.0   \n3         1117247        3818      930101     PRIJEM     VKLAD   600.0   \n4          579373        1972      930102     PRIJEM     VKLAD   400.0   \n...           ...         ...         ...        ...       ...     ...   \n1056315   3626622        2906      981231     PRIJEM       NaN    62.3   \n1056316   3627616        2935      981231     PRIJEM       NaN    81.3   \n1056317   3625403        2869      981231     PRIJEM       NaN    60.2   \n1056318   3626683        2907      981231     PRIJEM       NaN   107.5   \n1056319   3626540        2902      981231     PRIJEM       NaN   164.1   \n\n         balance k_symbol bank  account  district_id_client         frequency  \\\n0          700.0      NaN  NaN      NaN                  16  POPLATEK MESICNE   \n1          900.0      NaN  NaN      NaN                  55  POPLATEK MESICNE   \n2         1000.0      NaN  NaN      NaN                  55  POPLATEK MESICNE   \n3          600.0      NaN  NaN      NaN                  74  POPLATEK MESICNE   \n4          400.0      NaN  NaN      NaN                  77  POPLATEK MESICNE   \n...          ...      ...  ...      ...                 ...               ...   \n1056315  13729.4     UROK  NaN      NaN                  49  POPLATEK MESICNE   \n1056316  19544.9     UROK  NaN      NaN                  68  POPLATEK MESICNE   \n1056317  14638.2     UROK  NaN      NaN                  68  POPLATEK MESICNE   \n1056318  23453.0     UROK  NaN      NaN                  70  POPLATEK MESICNE   \n1056319  41642.9     UROK  NaN      NaN                  32  POPLATEK MESICNE   \n\n         account_date  disp_id  client_id disp_type  birth_number  \\\n0              930101     2873       2873     OWNER        755324   \n1              930101      692        692     OWNER        365111   \n2              930101      844        844     OWNER        450114   \n3              930101     4601       4601     OWNER        350402   \n4              930102     2397       2397     OWNER        180714   \n...               ...      ...        ...       ...           ...   \n1056315        960920     3512       3512     OWNER        460525   \n1056316        950515     3545       3545     OWNER        661101   \n1056317        960927     3468       3468     OWNER        336231   \n1056318        930909     3513       3513     OWNER        220720   \n1056319        930128     3507       3507     OWNER        466202   \n\n         district_id_account  \n0                         16  \n1                         74  \n2                         22  \n3                          1  \n4                         46  \n...                      ...  \n1056315                   49  \n1056316                   68  \n1056317                   68  \n1056318                   70  \n1056319                   32  \n\n[1056320 rows x 18 columns]",
      "text/html": "<div>\n<style scoped>\n    .dataframe tbody tr th:only-of-type {\n        vertical-align: middle;\n    }\n\n    .dataframe tbody tr th {\n        vertical-align: top;\n    }\n\n    .dataframe thead th {\n        text-align: right;\n    }\n</style>\n<table border=\"1\" class=\"dataframe\">\n  <thead>\n    <tr style=\"text-align: right;\">\n      <th></th>\n      <th>trans_id</th>\n      <th>account_id</th>\n      <th>trans_date</th>\n      <th>trans_type</th>\n      <th>operation</th>\n      <th>amount</th>\n      <th>balance</th>\n      <th>k_symbol</th>\n      <th>bank</th>\n      <th>account</th>\n      <th>district_id_client</th>\n      <th>frequency</th>\n      <th>account_date</th>\n      <th>disp_id</th>\n      <th>client_id</th>\n      <th>disp_type</th>\n      <th>birth_number</th>\n      <th>district_id_account</th>\n    </tr>\n  </thead>\n  <tbody>\n    <tr>\n      <th>0</th>\n      <td>695247</td>\n      <td>2378</td>\n      <td>930101</td>\n      <td>PRIJEM</td>\n      <td>VKLAD</td>\n      <td>700.0</td>\n      <td>700.0</td>\n      <td>NaN</td>\n      <td>NaN</td>\n      <td>NaN</td>\n      <td>16</td>\n      <td>POPLATEK MESICNE</td>\n      <td>930101</td>\n      <td>2873</td>\n      <td>2873</td>\n      <td>OWNER</td>\n      <td>755324</td>\n      <td>16</td>\n    </tr>\n    <tr>\n      <th>1</th>\n      <td>171812</td>\n      <td>576</td>\n      <td>930101</td>\n      <td>PRIJEM</td>\n      <td>VKLAD</td>\n      <td>900.0</td>\n      <td>900.0</td>\n      <td>NaN</td>\n      <td>NaN</td>\n      <td>NaN</td>\n      <td>55</td>\n      <td>POPLATEK MESICNE</td>\n      <td>930101</td>\n      <td>692</td>\n      <td>692</td>\n      <td>OWNER</td>\n      <td>365111</td>\n      <td>74</td>\n    </tr>\n    <tr>\n      <th>2</th>\n      <td>207264</td>\n      <td>704</td>\n      <td>930101</td>\n      <td>PRIJEM</td>\n      <td>VKLAD</td>\n      <td>1000.0</td>\n      <td>1000.0</td>\n      <td>NaN</td>\n      <td>NaN</td>\n      <td>NaN</td>\n      <td>55</td>\n      <td>POPLATEK MESICNE</td>\n      <td>930101</td>\n      <td>844</td>\n      <td>844</td>\n      <td>OWNER</td>\n      <td>450114</td>\n      <td>22</td>\n    </tr>\n    <tr>\n      <th>3</th>\n      <td>1117247</td>\n      <td>3818</td>\n      <td>930101</td>\n      <td>PRIJEM</td>\n      <td>VKLAD</td>\n      <td>600.0</td>\n      <td>600.0</td>\n      <td>NaN</td>\n      <td>NaN</td>\n      <td>NaN</td>\n      <td>74</td>\n      <td>POPLATEK MESICNE</td>\n      <td>930101</td>\n      <td>4601</td>\n      <td>4601</td>\n      <td>OWNER</td>\n      <td>350402</td>\n      <td>1</td>\n    </tr>\n    <tr>\n      <th>4</th>\n      <td>579373</td>\n      <td>1972</td>\n      <td>930102</td>\n      <td>PRIJEM</td>\n      <td>VKLAD</td>\n      <td>400.0</td>\n      <td>400.0</td>\n      <td>NaN</td>\n      <td>NaN</td>\n      <td>NaN</td>\n      <td>77</td>\n      <td>POPLATEK MESICNE</td>\n      <td>930102</td>\n      <td>2397</td>\n      <td>2397</td>\n      <td>OWNER</td>\n      <td>180714</td>\n      <td>46</td>\n    </tr>\n    <tr>\n      <th>...</th>\n      <td>...</td>\n      <td>...</td>\n      <td>...</td>\n      <td>...</td>\n      <td>...</td>\n      <td>...</td>\n      <td>...</td>\n      <td>...</td>\n      <td>...</td>\n      <td>...</td>\n      <td>...</td>\n      <td>...</td>\n      <td>...</td>\n      <td>...</td>\n      <td>...</td>\n      <td>...</td>\n      <td>...</td>\n      <td>...</td>\n    </tr>\n    <tr>\n      <th>1056315</th>\n      <td>3626622</td>\n      <td>2906</td>\n      <td>981231</td>\n      <td>PRIJEM</td>\n      <td>NaN</td>\n      <td>62.3</td>\n      <td>13729.4</td>\n      <td>UROK</td>\n      <td>NaN</td>\n      <td>NaN</td>\n      <td>49</td>\n      <td>POPLATEK MESICNE</td>\n      <td>960920</td>\n      <td>3512</td>\n      <td>3512</td>\n      <td>OWNER</td>\n      <td>460525</td>\n      <td>49</td>\n    </tr>\n    <tr>\n      <th>1056316</th>\n      <td>3627616</td>\n      <td>2935</td>\n      <td>981231</td>\n      <td>PRIJEM</td>\n      <td>NaN</td>\n      <td>81.3</td>\n      <td>19544.9</td>\n      <td>UROK</td>\n      <td>NaN</td>\n      <td>NaN</td>\n      <td>68</td>\n      <td>POPLATEK MESICNE</td>\n      <td>950515</td>\n      <td>3545</td>\n      <td>3545</td>\n      <td>OWNER</td>\n      <td>661101</td>\n      <td>68</td>\n    </tr>\n    <tr>\n      <th>1056317</th>\n      <td>3625403</td>\n      <td>2869</td>\n      <td>981231</td>\n      <td>PRIJEM</td>\n      <td>NaN</td>\n      <td>60.2</td>\n      <td>14638.2</td>\n      <td>UROK</td>\n      <td>NaN</td>\n      <td>NaN</td>\n      <td>68</td>\n      <td>POPLATEK MESICNE</td>\n      <td>960927</td>\n      <td>3468</td>\n      <td>3468</td>\n      <td>OWNER</td>\n      <td>336231</td>\n      <td>68</td>\n    </tr>\n    <tr>\n      <th>1056318</th>\n      <td>3626683</td>\n      <td>2907</td>\n      <td>981231</td>\n      <td>PRIJEM</td>\n      <td>NaN</td>\n      <td>107.5</td>\n      <td>23453.0</td>\n      <td>UROK</td>\n      <td>NaN</td>\n      <td>NaN</td>\n      <td>70</td>\n      <td>POPLATEK MESICNE</td>\n      <td>930909</td>\n      <td>3513</td>\n      <td>3513</td>\n      <td>OWNER</td>\n      <td>220720</td>\n      <td>70</td>\n    </tr>\n    <tr>\n      <th>1056319</th>\n      <td>3626540</td>\n      <td>2902</td>\n      <td>981231</td>\n      <td>PRIJEM</td>\n      <td>NaN</td>\n      <td>164.1</td>\n      <td>41642.9</td>\n      <td>UROK</td>\n      <td>NaN</td>\n      <td>NaN</td>\n      <td>32</td>\n      <td>POPLATEK MESICNE</td>\n      <td>930128</td>\n      <td>3507</td>\n      <td>3507</td>\n      <td>OWNER</td>\n      <td>466202</td>\n      <td>32</td>\n    </tr>\n  </tbody>\n</table>\n<p>1056320 rows × 18 columns</p>\n</div>"
     },
     "metadata": {},
     "execution_count": 150
    }
   ],
   "source": [
    "df.rename(\n",
    "    columns={'district_id_x':'district_id_client', 'district_id_y':'district_id_account'}, \n",
    "    inplace=True\n",
    ")\n",
    "df"
   ]
  },
  {
   "cell_type": "code",
   "execution_count": 151,
   "metadata": {},
   "outputs": [
    {
     "output_type": "execute_result",
     "data": {
      "text/plain": "0"
     },
     "metadata": {},
     "execution_count": 151
    }
   ],
   "source": [
    "# check duplicates\n",
    "df.duplicated().sum()"
   ]
  },
  {
   "cell_type": "markdown",
   "metadata": {},
   "source": [
    "### Datetime features"
   ]
  },
  {
   "cell_type": "code",
   "execution_count": 152,
   "metadata": {},
   "outputs": [
    {
     "output_type": "execute_result",
     "data": {
      "text/plain": "        account_date trans_date\n0         1993-01-01 1993-01-01\n1         1993-01-01 1993-01-01\n2         1993-01-01 1993-01-01\n3         1993-01-01 1993-01-01\n4         1993-01-02 1993-01-02\n...              ...        ...\n1056315   1996-09-20 1998-12-31\n1056316   1995-05-15 1998-12-31\n1056317   1996-09-27 1998-12-31\n1056318   1993-09-09 1998-12-31\n1056319   1993-01-28 1998-12-31\n\n[1056320 rows x 2 columns]",
      "text/html": "<div>\n<style scoped>\n    .dataframe tbody tr th:only-of-type {\n        vertical-align: middle;\n    }\n\n    .dataframe tbody tr th {\n        vertical-align: top;\n    }\n\n    .dataframe thead th {\n        text-align: right;\n    }\n</style>\n<table border=\"1\" class=\"dataframe\">\n  <thead>\n    <tr style=\"text-align: right;\">\n      <th></th>\n      <th>account_date</th>\n      <th>trans_date</th>\n    </tr>\n  </thead>\n  <tbody>\n    <tr>\n      <th>0</th>\n      <td>1993-01-01</td>\n      <td>1993-01-01</td>\n    </tr>\n    <tr>\n      <th>1</th>\n      <td>1993-01-01</td>\n      <td>1993-01-01</td>\n    </tr>\n    <tr>\n      <th>2</th>\n      <td>1993-01-01</td>\n      <td>1993-01-01</td>\n    </tr>\n    <tr>\n      <th>3</th>\n      <td>1993-01-01</td>\n      <td>1993-01-01</td>\n    </tr>\n    <tr>\n      <th>4</th>\n      <td>1993-01-02</td>\n      <td>1993-01-02</td>\n    </tr>\n    <tr>\n      <th>...</th>\n      <td>...</td>\n      <td>...</td>\n    </tr>\n    <tr>\n      <th>1056315</th>\n      <td>1996-09-20</td>\n      <td>1998-12-31</td>\n    </tr>\n    <tr>\n      <th>1056316</th>\n      <td>1995-05-15</td>\n      <td>1998-12-31</td>\n    </tr>\n    <tr>\n      <th>1056317</th>\n      <td>1996-09-27</td>\n      <td>1998-12-31</td>\n    </tr>\n    <tr>\n      <th>1056318</th>\n      <td>1993-09-09</td>\n      <td>1998-12-31</td>\n    </tr>\n    <tr>\n      <th>1056319</th>\n      <td>1993-01-28</td>\n      <td>1998-12-31</td>\n    </tr>\n  </tbody>\n</table>\n<p>1056320 rows × 2 columns</p>\n</div>"
     },
     "metadata": {},
     "execution_count": 152
    }
   ],
   "source": [
    "# fix datetime columns\n",
    "df['account_date'] = pd.to_datetime(df['account_date'], format='%y%m%d')\n",
    "df['trans_date'] = pd.to_datetime(df['trans_date'], format='%y%m%d')\n",
    "df[['account_date', 'trans_date']]"
   ]
  },
  {
   "cell_type": "code",
   "execution_count": 153,
   "metadata": {},
   "outputs": [],
   "source": [
    "# resolve birth_number\n",
    "# birth_number is YY MM DD if male else YY MM+50 DD\n",
    "df['sex'] = df['birth_number'].astype(str).apply(lambda x: 'female' if int(x[2:4]) > 50 else 'male')"
   ]
  },
  {
   "cell_type": "code",
   "execution_count": 154,
   "metadata": {},
   "outputs": [],
   "source": [
    "from datetime import datetime\n",
    "from dateutil.relativedelta import relativedelta\n",
    "def get_birth_date(birth_number):\n",
    "    birth_number = str(birth_number)\n",
    "    if int(birth_number[2:4]) > 50:\n",
    "        amended_birth_number = f'{birth_number[0:2]}{str(int(birth_number[2:4])-50).zfill(2)}{birth_number[4:6]}'\n",
    "    else:\n",
    "        amended_birth_number = birth_number\n",
    "\n",
    "    prelim_birth_date = datetime.strptime(amended_birth_number, '%y%m%d')\n",
    "\n",
    "    if prelim_birth_date.year >= 2000:\n",
    "        birth_date = prelim_birth_date - relativedelta(years=100)\n",
    "    else:\n",
    "        birth_date = prelim_birth_date\n",
    "\n",
    "    return birth_date"
   ]
  },
  {
   "cell_type": "code",
   "execution_count": 155,
   "metadata": {},
   "outputs": [
    {
     "output_type": "execute_result",
     "data": {
      "text/plain": "0         1975-03-24\n1         1936-01-11\n2         1945-01-14\n3         1935-04-02\n4         1918-07-14\n             ...    \n1056315   1946-05-25\n1056316   1966-11-01\n1056317   1933-12-31\n1056318   1922-07-20\n1056319   1946-12-02\nName: birth_date, Length: 1056320, dtype: datetime64[ns]"
     },
     "metadata": {},
     "execution_count": 155
    }
   ],
   "source": [
    "df['birth_date'] = df['birth_number'].apply(get_birth_date)\n",
    "df['birth_date']"
   ]
  },
  {
   "cell_type": "code",
   "execution_count": 156,
   "metadata": {},
   "outputs": [
    {
     "output_type": "execute_result",
     "data": {
      "text/plain": "         trans_id  account_id trans_date trans_type operation  amount  \\\n0          695247        2378 1993-01-01     PRIJEM     VKLAD   700.0   \n1          171812         576 1993-01-01     PRIJEM     VKLAD   900.0   \n2          207264         704 1993-01-01     PRIJEM     VKLAD  1000.0   \n3         1117247        3818 1993-01-01     PRIJEM     VKLAD   600.0   \n4          579373        1972 1993-01-02     PRIJEM     VKLAD   400.0   \n...           ...         ...        ...        ...       ...     ...   \n1056315   3626622        2906 1998-12-31     PRIJEM       NaN    62.3   \n1056316   3627616        2935 1998-12-31     PRIJEM       NaN    81.3   \n1056317   3625403        2869 1998-12-31     PRIJEM       NaN    60.2   \n1056318   3626683        2907 1998-12-31     PRIJEM       NaN   107.5   \n1056319   3626540        2902 1998-12-31     PRIJEM       NaN   164.1   \n\n         balance k_symbol bank  account  district_id_client         frequency  \\\n0          700.0      NaN  NaN      NaN                  16  POPLATEK MESICNE   \n1          900.0      NaN  NaN      NaN                  55  POPLATEK MESICNE   \n2         1000.0      NaN  NaN      NaN                  55  POPLATEK MESICNE   \n3          600.0      NaN  NaN      NaN                  74  POPLATEK MESICNE   \n4          400.0      NaN  NaN      NaN                  77  POPLATEK MESICNE   \n...          ...      ...  ...      ...                 ...               ...   \n1056315  13729.4     UROK  NaN      NaN                  49  POPLATEK MESICNE   \n1056316  19544.9     UROK  NaN      NaN                  68  POPLATEK MESICNE   \n1056317  14638.2     UROK  NaN      NaN                  68  POPLATEK MESICNE   \n1056318  23453.0     UROK  NaN      NaN                  70  POPLATEK MESICNE   \n1056319  41642.9     UROK  NaN      NaN                  32  POPLATEK MESICNE   \n\n        account_date  disp_id  client_id disp_type  birth_number  \\\n0         1993-01-01     2873       2873     OWNER        755324   \n1         1993-01-01      692        692     OWNER        365111   \n2         1993-01-01      844        844     OWNER        450114   \n3         1993-01-01     4601       4601     OWNER        350402   \n4         1993-01-02     2397       2397     OWNER        180714   \n...              ...      ...        ...       ...           ...   \n1056315   1996-09-20     3512       3512     OWNER        460525   \n1056316   1995-05-15     3545       3545     OWNER        661101   \n1056317   1996-09-27     3468       3468     OWNER        336231   \n1056318   1993-09-09     3513       3513     OWNER        220720   \n1056319   1993-01-28     3507       3507     OWNER        466202   \n\n         district_id_account     sex birth_date  \n0                         16  female 1975-03-24  \n1                         74  female 1936-01-11  \n2                         22    male 1945-01-14  \n3                          1    male 1935-04-02  \n4                         46    male 1918-07-14  \n...                      ...     ...        ...  \n1056315                   49    male 1946-05-25  \n1056316                   68    male 1966-11-01  \n1056317                   68  female 1933-12-31  \n1056318                   70    male 1922-07-20  \n1056319                   32  female 1946-12-02  \n\n[1056320 rows x 20 columns]",
      "text/html": "<div>\n<style scoped>\n    .dataframe tbody tr th:only-of-type {\n        vertical-align: middle;\n    }\n\n    .dataframe tbody tr th {\n        vertical-align: top;\n    }\n\n    .dataframe thead th {\n        text-align: right;\n    }\n</style>\n<table border=\"1\" class=\"dataframe\">\n  <thead>\n    <tr style=\"text-align: right;\">\n      <th></th>\n      <th>trans_id</th>\n      <th>account_id</th>\n      <th>trans_date</th>\n      <th>trans_type</th>\n      <th>operation</th>\n      <th>amount</th>\n      <th>balance</th>\n      <th>k_symbol</th>\n      <th>bank</th>\n      <th>account</th>\n      <th>district_id_client</th>\n      <th>frequency</th>\n      <th>account_date</th>\n      <th>disp_id</th>\n      <th>client_id</th>\n      <th>disp_type</th>\n      <th>birth_number</th>\n      <th>district_id_account</th>\n      <th>sex</th>\n      <th>birth_date</th>\n    </tr>\n  </thead>\n  <tbody>\n    <tr>\n      <th>0</th>\n      <td>695247</td>\n      <td>2378</td>\n      <td>1993-01-01</td>\n      <td>PRIJEM</td>\n      <td>VKLAD</td>\n      <td>700.0</td>\n      <td>700.0</td>\n      <td>NaN</td>\n      <td>NaN</td>\n      <td>NaN</td>\n      <td>16</td>\n      <td>POPLATEK MESICNE</td>\n      <td>1993-01-01</td>\n      <td>2873</td>\n      <td>2873</td>\n      <td>OWNER</td>\n      <td>755324</td>\n      <td>16</td>\n      <td>female</td>\n      <td>1975-03-24</td>\n    </tr>\n    <tr>\n      <th>1</th>\n      <td>171812</td>\n      <td>576</td>\n      <td>1993-01-01</td>\n      <td>PRIJEM</td>\n      <td>VKLAD</td>\n      <td>900.0</td>\n      <td>900.0</td>\n      <td>NaN</td>\n      <td>NaN</td>\n      <td>NaN</td>\n      <td>55</td>\n      <td>POPLATEK MESICNE</td>\n      <td>1993-01-01</td>\n      <td>692</td>\n      <td>692</td>\n      <td>OWNER</td>\n      <td>365111</td>\n      <td>74</td>\n      <td>female</td>\n      <td>1936-01-11</td>\n    </tr>\n    <tr>\n      <th>2</th>\n      <td>207264</td>\n      <td>704</td>\n      <td>1993-01-01</td>\n      <td>PRIJEM</td>\n      <td>VKLAD</td>\n      <td>1000.0</td>\n      <td>1000.0</td>\n      <td>NaN</td>\n      <td>NaN</td>\n      <td>NaN</td>\n      <td>55</td>\n      <td>POPLATEK MESICNE</td>\n      <td>1993-01-01</td>\n      <td>844</td>\n      <td>844</td>\n      <td>OWNER</td>\n      <td>450114</td>\n      <td>22</td>\n      <td>male</td>\n      <td>1945-01-14</td>\n    </tr>\n    <tr>\n      <th>3</th>\n      <td>1117247</td>\n      <td>3818</td>\n      <td>1993-01-01</td>\n      <td>PRIJEM</td>\n      <td>VKLAD</td>\n      <td>600.0</td>\n      <td>600.0</td>\n      <td>NaN</td>\n      <td>NaN</td>\n      <td>NaN</td>\n      <td>74</td>\n      <td>POPLATEK MESICNE</td>\n      <td>1993-01-01</td>\n      <td>4601</td>\n      <td>4601</td>\n      <td>OWNER</td>\n      <td>350402</td>\n      <td>1</td>\n      <td>male</td>\n      <td>1935-04-02</td>\n    </tr>\n    <tr>\n      <th>4</th>\n      <td>579373</td>\n      <td>1972</td>\n      <td>1993-01-02</td>\n      <td>PRIJEM</td>\n      <td>VKLAD</td>\n      <td>400.0</td>\n      <td>400.0</td>\n      <td>NaN</td>\n      <td>NaN</td>\n      <td>NaN</td>\n      <td>77</td>\n      <td>POPLATEK MESICNE</td>\n      <td>1993-01-02</td>\n      <td>2397</td>\n      <td>2397</td>\n      <td>OWNER</td>\n      <td>180714</td>\n      <td>46</td>\n      <td>male</td>\n      <td>1918-07-14</td>\n    </tr>\n    <tr>\n      <th>...</th>\n      <td>...</td>\n      <td>...</td>\n      <td>...</td>\n      <td>...</td>\n      <td>...</td>\n      <td>...</td>\n      <td>...</td>\n      <td>...</td>\n      <td>...</td>\n      <td>...</td>\n      <td>...</td>\n      <td>...</td>\n      <td>...</td>\n      <td>...</td>\n      <td>...</td>\n      <td>...</td>\n      <td>...</td>\n      <td>...</td>\n      <td>...</td>\n      <td>...</td>\n    </tr>\n    <tr>\n      <th>1056315</th>\n      <td>3626622</td>\n      <td>2906</td>\n      <td>1998-12-31</td>\n      <td>PRIJEM</td>\n      <td>NaN</td>\n      <td>62.3</td>\n      <td>13729.4</td>\n      <td>UROK</td>\n      <td>NaN</td>\n      <td>NaN</td>\n      <td>49</td>\n      <td>POPLATEK MESICNE</td>\n      <td>1996-09-20</td>\n      <td>3512</td>\n      <td>3512</td>\n      <td>OWNER</td>\n      <td>460525</td>\n      <td>49</td>\n      <td>male</td>\n      <td>1946-05-25</td>\n    </tr>\n    <tr>\n      <th>1056316</th>\n      <td>3627616</td>\n      <td>2935</td>\n      <td>1998-12-31</td>\n      <td>PRIJEM</td>\n      <td>NaN</td>\n      <td>81.3</td>\n      <td>19544.9</td>\n      <td>UROK</td>\n      <td>NaN</td>\n      <td>NaN</td>\n      <td>68</td>\n      <td>POPLATEK MESICNE</td>\n      <td>1995-05-15</td>\n      <td>3545</td>\n      <td>3545</td>\n      <td>OWNER</td>\n      <td>661101</td>\n      <td>68</td>\n      <td>male</td>\n      <td>1966-11-01</td>\n    </tr>\n    <tr>\n      <th>1056317</th>\n      <td>3625403</td>\n      <td>2869</td>\n      <td>1998-12-31</td>\n      <td>PRIJEM</td>\n      <td>NaN</td>\n      <td>60.2</td>\n      <td>14638.2</td>\n      <td>UROK</td>\n      <td>NaN</td>\n      <td>NaN</td>\n      <td>68</td>\n      <td>POPLATEK MESICNE</td>\n      <td>1996-09-27</td>\n      <td>3468</td>\n      <td>3468</td>\n      <td>OWNER</td>\n      <td>336231</td>\n      <td>68</td>\n      <td>female</td>\n      <td>1933-12-31</td>\n    </tr>\n    <tr>\n      <th>1056318</th>\n      <td>3626683</td>\n      <td>2907</td>\n      <td>1998-12-31</td>\n      <td>PRIJEM</td>\n      <td>NaN</td>\n      <td>107.5</td>\n      <td>23453.0</td>\n      <td>UROK</td>\n      <td>NaN</td>\n      <td>NaN</td>\n      <td>70</td>\n      <td>POPLATEK MESICNE</td>\n      <td>1993-09-09</td>\n      <td>3513</td>\n      <td>3513</td>\n      <td>OWNER</td>\n      <td>220720</td>\n      <td>70</td>\n      <td>male</td>\n      <td>1922-07-20</td>\n    </tr>\n    <tr>\n      <th>1056319</th>\n      <td>3626540</td>\n      <td>2902</td>\n      <td>1998-12-31</td>\n      <td>PRIJEM</td>\n      <td>NaN</td>\n      <td>164.1</td>\n      <td>41642.9</td>\n      <td>UROK</td>\n      <td>NaN</td>\n      <td>NaN</td>\n      <td>32</td>\n      <td>POPLATEK MESICNE</td>\n      <td>1993-01-28</td>\n      <td>3507</td>\n      <td>3507</td>\n      <td>OWNER</td>\n      <td>466202</td>\n      <td>32</td>\n      <td>female</td>\n      <td>1946-12-02</td>\n    </tr>\n  </tbody>\n</table>\n<p>1056320 rows × 20 columns</p>\n</div>"
     },
     "metadata": {},
     "execution_count": 156
    }
   ],
   "source": [
    "df"
   ]
  },
  {
   "cell_type": "markdown",
   "metadata": {},
   "source": [
    "### Missing values"
   ]
  },
  {
   "cell_type": "code",
   "execution_count": 126,
   "metadata": {},
   "outputs": [
    {
     "output_type": "execute_result",
     "data": {
      "text/plain": "client_id                   0\nbirth_number                0\ndistrict_id_client          0\ndisp_id                     0\naccount_id                  0\ndisp_type                   0\ndistrict_id_account         0\nfrequency                   0\naccount_date                0\ntrans_id                    0\ntrans_date                  0\ntrans_type                  0\noperation              218311\namount                      0\nbalance                     0\nk_symbol               569817\nbank                   926576\naccount                901033\nsex                         0\nbirth_date                  0\ndtype: int64"
     },
     "metadata": {},
     "execution_count": 126
    }
   ],
   "source": [
    "df.isna().sum()"
   ]
  },
  {
   "cell_type": "markdown",
   "metadata": {},
   "source": [
    "### New features"
   ]
  },
  {
   "cell_type": "code",
   "execution_count": 167,
   "metadata": {},
   "outputs": [
    {
     "output_type": "execute_result",
     "data": {
      "text/plain": "0          18\n1          57\n2          48\n3          58\n4          74\n           ..\n1056315    50\n1056316    29\n1056317    63\n1056318    71\n1056319    46\nName: age_at_account_opened, Length: 1056320, dtype: int32"
     },
     "metadata": {},
     "execution_count": 167
    }
   ],
   "source": [
    "# Customer age when account was opened\n",
    "df['age_at_account_opened'] = df['account_date'] - df['birth_date']\n",
    "df['age_at_account_opened'] = df['age_at_account_opened'] / np.timedelta64(1, 'Y')\n",
    "df['age_at_account_opened'] = df['age_at_account_opened'].round().astype('int')\n",
    "df['age_at_account_opened']"
   ]
  },
  {
   "cell_type": "code",
   "execution_count": null,
   "metadata": {},
   "outputs": [],
   "source": []
  }
 ]
}