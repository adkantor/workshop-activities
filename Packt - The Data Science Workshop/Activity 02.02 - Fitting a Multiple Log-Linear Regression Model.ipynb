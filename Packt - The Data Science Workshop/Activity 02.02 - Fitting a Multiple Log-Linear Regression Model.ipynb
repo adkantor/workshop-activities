{
 "cells": [
  {
   "cell_type": "markdown",
   "metadata": {},
   "source": [
    "# Fitting a Multiple Log-Linear Regression Model\n",
    "\n",
    "A log-linear regression model you developed earlier was able to explain about 24% of the variability in the transformed crime rate per capita variable. You are now asked to develop a log-linear multiple regression model that will likely explain 80% or more of the variability in the transformed dependent variable. You should use independent variables from the Boston Housing dataset that have a correlation coefficient of 0.4 or more.\n",
    "\n",
    "You are also encouraged to include the interaction of these variables to order two in your model. You should produce graphs and data that show that your model satisfies the assumptions of linear regression."
   ]
  },
  {
   "cell_type": "code",
   "execution_count": 8,
   "metadata": {},
   "outputs": [],
   "source": [
    "import pandas as pd\n",
    "import numpy as np\n",
    "import statsmodels.formula.api as smf\n",
    "from sklearn.model_selection import train_test_split"
   ]
  },
  {
   "cell_type": "code",
   "execution_count": 9,
   "metadata": {},
   "outputs": [],
   "source": [
    "rawBostonData = pd.read_csv('https://raw.githubusercontent.com/PacktWorkshops/The-Data-Science-Workshop/master/Chapter02/Dataset/Boston.csv')"
   ]
  },
  {
   "cell_type": "code",
   "execution_count": 10,
   "metadata": {},
   "outputs": [],
   "source": [
    "rawBostonData = rawBostonData.dropna()\n",
    "rawBostonData = rawBostonData.drop_duplicates() \n",
    "renamedBostonData = rawBostonData.rename(columns = {'CRIM':'crimeRatePerCapita',\n",
    " ' ZN ':'landOver25K_sqft',\n",
    " 'INDUS ':'non-retailLandProptn',\n",
    " 'CHAS':'riverDummy',\n",
    " 'NOX':'nitrixOxide_pp10m',\n",
    " 'RM':'AvgNo.RoomsPerDwelling',\n",
    " 'AGE':'ProptnOwnerOccupied',\n",
    " 'DIS':'weightedDist',\n",
    " 'RAD':'radialHighwaysAccess',\n",
    " 'TAX':'propTaxRate_per10K',\n",
    " 'PTRATIO':'pupilTeacherRatio',\n",
    " 'LSTAT':'pctLowerStatus',\n",
    " 'MEDV':'medianValue_Ks'})\n",
    "X = renamedBostonData.drop('crimeRatePerCapita', axis = 1)\n",
    "y = renamedBostonData[['crimeRatePerCapita']]\n",
    "seed = 10 \n",
    "test_data_size = 0.3 \n",
    "X_train, X_test, y_train, y_test = train_test_split(X, y, test_size = test_data_size, random_state = seed)\n",
    "train_data = pd.concat([X_train, y_train], axis = 1)\n",
    "test_data = pd.concat([X_test, y_test], axis = 1)"
   ]
  },
  {
   "cell_type": "code",
   "execution_count": 11,
   "metadata": {},
   "outputs": [
    {
     "output_type": "execute_result",
     "data": {
      "text/plain": "                        landOver25K_sqft  non-retailLandProptn  riverDummy  \\\nlandOver25K_sqft                1.000000             -0.540095   -0.059189   \nnon-retailLandProptn           -0.540095              1.000000    0.065271   \nriverDummy                     -0.059189              0.065271    1.000000   \nnitrixOxide_pp10m              -0.520305              0.758178    0.091469   \nAvgNo.RoomsPerDwelling          0.355346             -0.399166    0.107996   \nProptnOwnerOccupied            -0.577457              0.667887    0.106329   \nweightedDist                    0.659340             -0.728968   -0.098551   \nradialHighwaysAccess           -0.311920              0.580813    0.022731   \npropTaxRate_per10K             -0.324172              0.702973   -0.007864   \npupilTeacherRatio              -0.424612              0.398513   -0.094255   \npctLowerStatus                 -0.435827              0.607457   -0.041110   \nmedianValue_Ks                  0.422574             -0.508338    0.136831   \ncrimeRatePerCapita             -0.198455              0.387471   -0.044587   \n\n                        nitrixOxide_pp10m  AvgNo.RoomsPerDwelling  \\\nlandOver25K_sqft                -0.520305                0.355346   \nnon-retailLandProptn             0.758178               -0.399166   \nriverDummy                       0.091469                0.107996   \nnitrixOxide_pp10m                1.000000               -0.306510   \nAvgNo.RoomsPerDwelling          -0.306510                1.000000   \nProptnOwnerOccupied              0.742016               -0.263085   \nweightedDist                    -0.776311                0.215439   \nradialHighwaysAccess             0.606721               -0.183000   \npropTaxRate_per10K               0.662164               -0.280341   \npupilTeacherRatio                0.206809               -0.350828   \npctLowerStatus                   0.603656               -0.586573   \nmedianValue_Ks                  -0.453424                0.666761   \ncrimeRatePerCapita               0.405813               -0.167258   \n\n                        ProptnOwnerOccupied  weightedDist  \\\nlandOver25K_sqft                  -0.577457      0.659340   \nnon-retailLandProptn               0.667887     -0.728968   \nriverDummy                         0.106329     -0.098551   \nnitrixOxide_pp10m                  0.742016     -0.776311   \nAvgNo.RoomsPerDwelling            -0.263085      0.215439   \nProptnOwnerOccupied                1.000000     -0.751059   \nweightedDist                      -0.751059      1.000000   \nradialHighwaysAccess               0.458717     -0.494932   \npropTaxRate_per10K                 0.515376     -0.543333   \npupilTeacherRatio                  0.289976     -0.259140   \npctLowerStatus                     0.639881     -0.522120   \nmedianValue_Ks                    -0.419062      0.289658   \ncrimeRatePerCapita                 0.355730     -0.378997   \n\n                        radialHighwaysAccess  propTaxRate_per10K  \\\nlandOver25K_sqft                   -0.311920           -0.324172   \nnon-retailLandProptn                0.580813            0.702973   \nriverDummy                          0.022731           -0.007864   \nnitrixOxide_pp10m                   0.606721            0.662164   \nAvgNo.RoomsPerDwelling             -0.183000           -0.280341   \nProptnOwnerOccupied                 0.458717            0.515376   \nweightedDist                       -0.494932           -0.543333   \nradialHighwaysAccess                1.000000            0.908578   \npropTaxRate_per10K                  0.908578            1.000000   \npupilTeacherRatio                   0.462290            0.462556   \npctLowerStatus                      0.456592            0.528029   \nmedianValue_Ks                     -0.383132           -0.478903   \ncrimeRatePerCapita                  0.608838            0.565035   \n\n                        pupilTeacherRatio  pctLowerStatus  medianValue_Ks  \\\nlandOver25K_sqft                -0.424612       -0.435827        0.422574   \nnon-retailLandProptn             0.398513        0.607457       -0.508338   \nriverDummy                      -0.094255       -0.041110        0.136831   \nnitrixOxide_pp10m                0.206809        0.603656       -0.453424   \nAvgNo.RoomsPerDwelling          -0.350828       -0.586573        0.666761   \nProptnOwnerOccupied              0.289976        0.639881       -0.419062   \nweightedDist                    -0.259140       -0.522120        0.289658   \nradialHighwaysAccess             0.462290        0.456592       -0.383132   \npropTaxRate_per10K               0.462556        0.528029       -0.478903   \npupilTeacherRatio                1.000000        0.374842       -0.503692   \npctLowerStatus                   0.374842        1.000000       -0.743548   \nmedianValue_Ks                  -0.503692       -0.743548        1.000000   \ncrimeRatePerCapita               0.276530        0.406340       -0.378949   \n\n                        crimeRatePerCapita  \nlandOver25K_sqft                 -0.198455  \nnon-retailLandProptn              0.387471  \nriverDummy                       -0.044587  \nnitrixOxide_pp10m                 0.405813  \nAvgNo.RoomsPerDwelling           -0.167258  \nProptnOwnerOccupied               0.355730  \nweightedDist                     -0.378997  \nradialHighwaysAccess              0.608838  \npropTaxRate_per10K                0.565035  \npupilTeacherRatio                 0.276530  \npctLowerStatus                    0.406340  \nmedianValue_Ks                   -0.378949  \ncrimeRatePerCapita                1.000000  ",
      "text/html": "<div>\n<style scoped>\n    .dataframe tbody tr th:only-of-type {\n        vertical-align: middle;\n    }\n\n    .dataframe tbody tr th {\n        vertical-align: top;\n    }\n\n    .dataframe thead th {\n        text-align: right;\n    }\n</style>\n<table border=\"1\" class=\"dataframe\">\n  <thead>\n    <tr style=\"text-align: right;\">\n      <th></th>\n      <th>landOver25K_sqft</th>\n      <th>non-retailLandProptn</th>\n      <th>riverDummy</th>\n      <th>nitrixOxide_pp10m</th>\n      <th>AvgNo.RoomsPerDwelling</th>\n      <th>ProptnOwnerOccupied</th>\n      <th>weightedDist</th>\n      <th>radialHighwaysAccess</th>\n      <th>propTaxRate_per10K</th>\n      <th>pupilTeacherRatio</th>\n      <th>pctLowerStatus</th>\n      <th>medianValue_Ks</th>\n      <th>crimeRatePerCapita</th>\n    </tr>\n  </thead>\n  <tbody>\n    <tr>\n      <th>landOver25K_sqft</th>\n      <td>1.000000</td>\n      <td>-0.540095</td>\n      <td>-0.059189</td>\n      <td>-0.520305</td>\n      <td>0.355346</td>\n      <td>-0.577457</td>\n      <td>0.659340</td>\n      <td>-0.311920</td>\n      <td>-0.324172</td>\n      <td>-0.424612</td>\n      <td>-0.435827</td>\n      <td>0.422574</td>\n      <td>-0.198455</td>\n    </tr>\n    <tr>\n      <th>non-retailLandProptn</th>\n      <td>-0.540095</td>\n      <td>1.000000</td>\n      <td>0.065271</td>\n      <td>0.758178</td>\n      <td>-0.399166</td>\n      <td>0.667887</td>\n      <td>-0.728968</td>\n      <td>0.580813</td>\n      <td>0.702973</td>\n      <td>0.398513</td>\n      <td>0.607457</td>\n      <td>-0.508338</td>\n      <td>0.387471</td>\n    </tr>\n    <tr>\n      <th>riverDummy</th>\n      <td>-0.059189</td>\n      <td>0.065271</td>\n      <td>1.000000</td>\n      <td>0.091469</td>\n      <td>0.107996</td>\n      <td>0.106329</td>\n      <td>-0.098551</td>\n      <td>0.022731</td>\n      <td>-0.007864</td>\n      <td>-0.094255</td>\n      <td>-0.041110</td>\n      <td>0.136831</td>\n      <td>-0.044587</td>\n    </tr>\n    <tr>\n      <th>nitrixOxide_pp10m</th>\n      <td>-0.520305</td>\n      <td>0.758178</td>\n      <td>0.091469</td>\n      <td>1.000000</td>\n      <td>-0.306510</td>\n      <td>0.742016</td>\n      <td>-0.776311</td>\n      <td>0.606721</td>\n      <td>0.662164</td>\n      <td>0.206809</td>\n      <td>0.603656</td>\n      <td>-0.453424</td>\n      <td>0.405813</td>\n    </tr>\n    <tr>\n      <th>AvgNo.RoomsPerDwelling</th>\n      <td>0.355346</td>\n      <td>-0.399166</td>\n      <td>0.107996</td>\n      <td>-0.306510</td>\n      <td>1.000000</td>\n      <td>-0.263085</td>\n      <td>0.215439</td>\n      <td>-0.183000</td>\n      <td>-0.280341</td>\n      <td>-0.350828</td>\n      <td>-0.586573</td>\n      <td>0.666761</td>\n      <td>-0.167258</td>\n    </tr>\n    <tr>\n      <th>ProptnOwnerOccupied</th>\n      <td>-0.577457</td>\n      <td>0.667887</td>\n      <td>0.106329</td>\n      <td>0.742016</td>\n      <td>-0.263085</td>\n      <td>1.000000</td>\n      <td>-0.751059</td>\n      <td>0.458717</td>\n      <td>0.515376</td>\n      <td>0.289976</td>\n      <td>0.639881</td>\n      <td>-0.419062</td>\n      <td>0.355730</td>\n    </tr>\n    <tr>\n      <th>weightedDist</th>\n      <td>0.659340</td>\n      <td>-0.728968</td>\n      <td>-0.098551</td>\n      <td>-0.776311</td>\n      <td>0.215439</td>\n      <td>-0.751059</td>\n      <td>1.000000</td>\n      <td>-0.494932</td>\n      <td>-0.543333</td>\n      <td>-0.259140</td>\n      <td>-0.522120</td>\n      <td>0.289658</td>\n      <td>-0.378997</td>\n    </tr>\n    <tr>\n      <th>radialHighwaysAccess</th>\n      <td>-0.311920</td>\n      <td>0.580813</td>\n      <td>0.022731</td>\n      <td>0.606721</td>\n      <td>-0.183000</td>\n      <td>0.458717</td>\n      <td>-0.494932</td>\n      <td>1.000000</td>\n      <td>0.908578</td>\n      <td>0.462290</td>\n      <td>0.456592</td>\n      <td>-0.383132</td>\n      <td>0.608838</td>\n    </tr>\n    <tr>\n      <th>propTaxRate_per10K</th>\n      <td>-0.324172</td>\n      <td>0.702973</td>\n      <td>-0.007864</td>\n      <td>0.662164</td>\n      <td>-0.280341</td>\n      <td>0.515376</td>\n      <td>-0.543333</td>\n      <td>0.908578</td>\n      <td>1.000000</td>\n      <td>0.462556</td>\n      <td>0.528029</td>\n      <td>-0.478903</td>\n      <td>0.565035</td>\n    </tr>\n    <tr>\n      <th>pupilTeacherRatio</th>\n      <td>-0.424612</td>\n      <td>0.398513</td>\n      <td>-0.094255</td>\n      <td>0.206809</td>\n      <td>-0.350828</td>\n      <td>0.289976</td>\n      <td>-0.259140</td>\n      <td>0.462290</td>\n      <td>0.462556</td>\n      <td>1.000000</td>\n      <td>0.374842</td>\n      <td>-0.503692</td>\n      <td>0.276530</td>\n    </tr>\n    <tr>\n      <th>pctLowerStatus</th>\n      <td>-0.435827</td>\n      <td>0.607457</td>\n      <td>-0.041110</td>\n      <td>0.603656</td>\n      <td>-0.586573</td>\n      <td>0.639881</td>\n      <td>-0.522120</td>\n      <td>0.456592</td>\n      <td>0.528029</td>\n      <td>0.374842</td>\n      <td>1.000000</td>\n      <td>-0.743548</td>\n      <td>0.406340</td>\n    </tr>\n    <tr>\n      <th>medianValue_Ks</th>\n      <td>0.422574</td>\n      <td>-0.508338</td>\n      <td>0.136831</td>\n      <td>-0.453424</td>\n      <td>0.666761</td>\n      <td>-0.419062</td>\n      <td>0.289658</td>\n      <td>-0.383132</td>\n      <td>-0.478903</td>\n      <td>-0.503692</td>\n      <td>-0.743548</td>\n      <td>1.000000</td>\n      <td>-0.378949</td>\n    </tr>\n    <tr>\n      <th>crimeRatePerCapita</th>\n      <td>-0.198455</td>\n      <td>0.387471</td>\n      <td>-0.044587</td>\n      <td>0.405813</td>\n      <td>-0.167258</td>\n      <td>0.355730</td>\n      <td>-0.378997</td>\n      <td>0.608838</td>\n      <td>0.565035</td>\n      <td>0.276530</td>\n      <td>0.406340</td>\n      <td>-0.378949</td>\n      <td>1.000000</td>\n    </tr>\n  </tbody>\n</table>\n</div>"
     },
     "metadata": {},
     "execution_count": 11
    }
   ],
   "source": [
    "train_data.corr()"
   ]
  },
  {
   "cell_type": "code",
   "execution_count": 12,
   "metadata": {
    "tags": []
   },
   "outputs": [
    {
     "output_type": "stream",
     "name": "stdout",
     "text": "OLS Regression Results                                \n======================================================================================\nDep. Variable:     np.log(crimeRatePerCapita)   R-squared:                       0.884\nModel:                                    OLS   Adj. R-squared:                  0.881\nMethod:                         Least Squares   F-statistic:                     261.5\nDate:                        Mon, 13 Jul 2020   Prob (F-statistic):          7.79e-154\nTime:                                15:57:55   Log-Likelihood:                -394.39\nNo. Observations:                         354   AIC:                             810.8\nDf Residuals:                             343   BIC:                             853.3\nDf Model:                                  10                                         \nCovariance Type:                    nonrobust                                         \n==========================================================================================================\n                                             coef    std err          t      P>|t|      [0.025      0.975]\n----------------------------------------------------------------------------------------------------------\nIntercept                                 -5.4707      1.490     -3.671      0.000      -8.402      -2.540\npctLowerStatus                             0.1541      0.049      3.161      0.002       0.058       0.250\nradialHighwaysAccess                       0.4697      0.052      9.070      0.000       0.368       0.572\nmedianValue_Ks                            -0.1457      0.044     -3.325      0.001      -0.232      -0.059\nnitrixOxide_pp10m                          3.4509      3.000      1.150      0.251      -2.450       9.352\npctLowerStatus:radialHighwaysAccess       -0.0006      0.001     -0.576      0.565      -0.003       0.002\npctLowerStatus:medianValue_Ks             -0.0041      0.001     -4.159      0.000      -0.006      -0.002\npctLowerStatus:nitrixOxide_pp10m          -0.0783      0.081     -0.964      0.336      -0.238       0.082\nradialHighwaysAccess:medianValue_Ks       -0.0027      0.001     -2.694      0.007      -0.005      -0.001\nradialHighwaysAccess:nitrixOxide_pp10m    -0.4234      0.066     -6.404      0.000      -0.553      -0.293\nmedianValue_Ks:nitrixOxide_pp10m           0.3552      0.092      3.869      0.000       0.175       0.536\n==============================================================================\nOmnibus:                        4.124   Durbin-Watson:                   1.966\nProb(Omnibus):                  0.127   Jarque-Bera (JB):                4.107\nSkew:                           0.175   Prob(JB):                        0.128\nKurtosis:                       3.395   Cond. No.                     3.29e+04\n==============================================================================\n\nWarnings:\n[1] Standard Errors assume that the covariance matrix of the errors is correctly specified.\n[2] The condition number is large, 3.29e+04. This might indicate that there are\nstrong multicollinearity or other numerical problems.\n"
    }
   ],
   "source": [
    "multiLogLinearModel = smf.ols(\n",
    "    formula='np.log(crimeRatePerCapita) ~ (pctLowerStatus + radialHighwaysAccess + medianValue_Ks + nitrixOxide_pp10m) ** 2',\n",
    "    data=train_data\n",
    ")\n",
    "multiLogLinearModResult = multiLogLinearModel.fit()\n",
    "print(multiLogLinearModResult.summary())"
   ]
  },
  {
   "cell_type": "code",
   "execution_count": null,
   "metadata": {},
   "outputs": [],
   "source": []
  }
 ],
 "metadata": {
  "language_info": {
   "codemirror_mode": {
    "name": "ipython",
    "version": 3
   },
   "file_extension": ".py",
   "mimetype": "text/x-python",
   "name": "python",
   "nbconvert_exporter": "python",
   "pygments_lexer": "ipython3",
   "version": 3
  },
  "orig_nbformat": 2,
  "kernelspec": {
   "name": "python_defaultSpec_1594647420874",
   "display_name": "Python 3.7.2 64-bit ('dsw': venv)"
  }
 },
 "nbformat": 4,
 "nbformat_minor": 2
}