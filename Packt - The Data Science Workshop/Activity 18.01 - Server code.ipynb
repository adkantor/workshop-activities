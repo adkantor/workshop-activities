{
 "metadata": {
  "language_info": {
   "codemirror_mode": {
    "name": "ipython",
    "version": 3
   },
   "file_extension": ".py",
   "mimetype": "text/x-python",
   "name": "python",
   "nbconvert_exporter": "python",
   "pygments_lexer": "ipython3",
   "version": "3.7.2-final"
  },
  "orig_nbformat": 2,
  "kernelspec": {
   "name": "Python 3.7.2 64-bit ('dsw')",
   "display_name": "Python 3.7.2 64-bit ('dsw')",
   "metadata": {
    "interpreter": {
     "hash": "0d469a86b9a09f89c1759d071d50989ca98f9a2423bcdef283c9e386d614e982"
    }
   }
  }
 },
 "nbformat": 4,
 "nbformat_minor": 2,
 "cells": [
  {
   "cell_type": "code",
   "execution_count": 19,
   "metadata": {},
   "outputs": [],
   "source": [
    "import pandas as pd\n",
    "from pandas.api.types import CategoricalDtype\n",
    "import numpy as np\n",
    "import joblib\n",
    "from flask import Flask, jsonify, request"
   ]
  },
  {
   "cell_type": "code",
   "execution_count": 20,
   "metadata": {},
   "outputs": [],
   "source": [
    "# create Flask app\n",
    "app = Flask(__name__)"
   ]
  },
  {
   "cell_type": "code",
   "execution_count": 21,
   "metadata": {},
   "outputs": [],
   "source": [
    "column_categories = joblib.load('column_categories.gz')\n",
    "model = joblib.load('model.gz')"
   ]
  },
  {
   "cell_type": "code",
   "execution_count": 22,
   "metadata": {},
   "outputs": [],
   "source": [
    "# helper function\n",
    "def apply_categories(df, column_categories):\n",
    "    for col, categories in column_categories.items():\n",
    "        df[col] = df[col].astype(CategoricalDtype(categories=categories))\n",
    "    return df"
   ]
  },
  {
   "cell_type": "code",
   "execution_count": 23,
   "metadata": {},
   "outputs": [],
   "source": [
    "# create API endpoint\n",
    "@app.route('/api', methods=['POST'])\n",
    "def predict():\n",
    "    # read the JSON received\n",
    "    data = request.get_json()\n",
    "    # transform it into a DataFrame\n",
    "    df = pd.DataFrame(data, index=[0])\n",
    "    # transform categorical columns\n",
    "    df = apply_categories(df, column_categories)\n",
    "    df = pd.get_dummies(df, column_categories.keys())\n",
    "    # predict\n",
    "    prediction = model.predict(df)\n",
    "    # convert the prediction from a numpy array to a string\n",
    "    str_pred = np.array2string(prediction)\n",
    "    # convert it to JSON\n",
    "    return jsonify(str_pred)"
   ]
  },
  {
   "source": [
    "Test request"
   ],
   "cell_type": "markdown",
   "metadata": {}
  },
  {
   "cell_type": "code",
   "execution_count": 24,
   "metadata": {},
   "outputs": [],
   "source": [
    "import socket\n",
    "import threading\n",
    "import requests"
   ]
  },
  {
   "cell_type": "code",
   "execution_count": 25,
   "metadata": {
    "tags": []
   },
   "outputs": [
    {
     "output_type": "stream",
     "name": "stdout",
     "text": " * Serving Flask app &quot;__main__&quot; (lazy loading)\n * Environment: production\n   WARNING: This is a development server. Do not use it in a production deployment.\n   Use a production WSGI server instead.\n * Debug mode: off\n"
    }
   ],
   "source": [
    " # Create a new thread for running Flask app\n",
    "flask_thread = threading.Thread(target=app.run, kwargs={'host':'0.0.0.0','port':80, 'debug': False})\n",
    "flask_thread.start()"
   ]
  },
  {
   "cell_type": "code",
   "execution_count": 26,
   "metadata": {},
   "outputs": [],
   "source": [
    "X_test = joblib.load('X_test.gz')\n",
    "y_test = joblib.load('y_test.gz')"
   ]
  },
  {
   "cell_type": "code",
   "execution_count": 27,
   "metadata": {},
   "outputs": [],
   "source": [
    "def test_predict(json_data):\n",
    "    import json\n",
    "    # read the JSON received\n",
    "    data = json.loads(json_data)\n",
    "    # transform it into a DataFrame\n",
    "    df = pd.DataFrame(data, index=[0])\n",
    "    # transform categorical columns\n",
    "    df = apply_categories(df, column_categories)\n",
    "    df = pd.get_dummies(df, column_categories.keys())\n",
    "    # predict\n",
    "    prediction = model.predict(df)\n",
    "    # convert the prediction from a numpy array to a string\n",
    "    str_pred = np.array2string(prediction)\n",
    "    # convert it to JSON\n",
    "    return str_pred"
   ]
  },
  {
   "cell_type": "code",
   "execution_count": 28,
   "metadata": {
    "tags": []
   },
   "outputs": [
    {
     "output_type": "stream",
     "name": "stdout",
     "text": "[&#39; &lt;=50K&#39;]\n &lt;=50K\n"
    }
   ],
   "source": [
    "# test record\n",
    "record = X_test.iloc[0, :].to_json() \n",
    "r = test_predict(record)\n",
    "print(r)\n",
    "print(y_test.iloc[0])"
   ]
  },
  {
   "cell_type": "code",
   "execution_count": 30,
   "metadata": {
    "tags": []
   },
   "outputs": [
    {
     "output_type": "stream",
     "name": "stdout",
     "text": "{&quot;age&quot;:52,&quot;workclass&quot;:&quot; Private&quot;,&quot;fnlwgt&quot;:117700,&quot;education&quot;:&quot; HS-grad&quot;,&quot;education-num&quot;:9,&quot;marital-status&quot;:&quot; Divorced&quot;,&quot;occupation&quot;:&quot; Adm-clerical&quot;,&quot;relationship&quot;:&quot; Not-in-family&quot;,&quot;sex&quot;:&quot; Female&quot;,&quot;capital-gain&quot;:0,&quot;capital-loss&quot;:0,&quot;hours-per-week&quot;:40,&quot;native-country&quot;:&quot; United-States&quot;}\n&lt;!DOCTYPE HTML PUBLIC &quot;-//W3C//DTD HTML 3.2 Final//EN&quot;&gt;\n&lt;title&gt;500 Internal Server Error&lt;/title&gt;\n&lt;h1&gt;Internal Server Error&lt;/h1&gt;\n&lt;p&gt;The server encountered an internal error and was unable to complete your request. Either the server is overloaded or there is an error in the application.&lt;/p&gt;\n\n &lt;=50K\n"
    }
   ],
   "source": [
    "# test record\n",
    "record = X_test.iloc[0, :].to_json() \n",
    "print(record)\n",
    "headers = {'content-type': 'application/json', 'Accept-Charset': 'UTF-8'}\n",
    "ip_address = socket.gethostbyname(socket.gethostname())\n",
    "r = requests.post(f\"http://{ip_address}/api\", data=record, headers=headers)\n",
    "print(r.text)\n",
    "print(y_test.iloc[0])"
   ]
  },
  {
   "cell_type": "code",
   "execution_count": null,
   "metadata": {},
   "outputs": [],
   "source": []
  }
 ]
}