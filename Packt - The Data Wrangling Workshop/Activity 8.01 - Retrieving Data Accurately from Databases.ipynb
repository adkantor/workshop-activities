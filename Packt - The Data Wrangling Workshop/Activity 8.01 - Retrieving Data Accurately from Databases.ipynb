{
 "cells": [
  {
   "cell_type": "markdown",
   "metadata": {},
   "source": [
    "# Activity 8.01: Retrieving Data Accurately from Databases\r\n",
    "\r\n",
    "The goal of this activity is to fetch data and retrieve information from two tables, persons and pets, which are a part of the petsdb database.\r\n",
    "\r\n",
    "The persons table has the following columns:\r\n",
    "\r\n",
    "- **id**\r\n",
    "- **first_name**: The first name of the person\r\n",
    "- **last_name**: The last name of the person (can be null)\r\n",
    "- **age**: The age of the person\r\n",
    "- **city**: The city where they are from\r\n",
    "- **zip_code**: The zip code of the city\r\n",
    "\r\n",
    "As we can see, the ```id``` column in the persons table (which is an integer) serves as the primary key for that table and as a foreign key for the pets table, which is linked via the ```owner_id``` column.\r\n",
    "\r\n",
    "The pets table has the following columns:\r\n",
    "\r\n",
    "- **owner_id**\r\n",
    "- **pet_name**: The name of the pet.\r\n",
    "- **pet_type**: What type of pet it is, for example, cat or dog. Due to a lack of further information, we do not know  which number represents what, but it is an integer and can be null.\r\n",
    "- **treatment_done**: This is also an integer column, and 0 here represents No, whereas 1 represents Yes."
   ]
  },
  {
   "cell_type": "code",
   "execution_count": 1,
   "metadata": {},
   "outputs": [],
   "source": [
    "import sqlite3"
   ]
  },
  {
   "cell_type": "code",
   "execution_count": 2,
   "metadata": {},
   "outputs": [],
   "source": [
    "with sqlite3.connect(\"../petsdb\") as conn:\r\n",
    "    cursor = conn.cursor()"
   ]
  },
  {
   "cell_type": "code",
   "execution_count": 3,
   "metadata": {},
   "outputs": [
    {
     "name": "stdout",
     "output_type": "stream",
     "text": [
      "We have 2 people aged 5.\n",
      "We have 1 people aged 6.\n",
      "We have 1 people aged 7.\n",
      "We have 3 people aged 8.\n",
      "We have 1 people aged 9.\n",
      "We have 2 people aged 11.\n",
      "We have 3 people aged 12.\n",
      "We have 1 people aged 13.\n",
      "We have 4 people aged 14.\n",
      "We have 2 people aged 16.\n",
      "We have 2 people aged 17.\n",
      "We have 3 people aged 18.\n",
      "We have 1 people aged 19.\n",
      "We have 3 people aged 22.\n",
      "We have 2 people aged 23.\n",
      "We have 3 people aged 24.\n",
      "We have 2 people aged 25.\n",
      "We have 1 people aged 27.\n",
      "We have 1 people aged 30.\n",
      "We have 3 people aged 31.\n",
      "We have 1 people aged 32.\n",
      "We have 1 people aged 33.\n",
      "We have 2 people aged 34.\n",
      "We have 3 people aged 35.\n",
      "We have 3 people aged 36.\n",
      "We have 1 people aged 37.\n",
      "We have 2 people aged 39.\n",
      "We have 1 people aged 40.\n",
      "We have 1 people aged 42.\n",
      "We have 2 people aged 44.\n",
      "We have 2 people aged 48.\n",
      "We have 1 people aged 49.\n",
      "We have 1 people aged 50.\n",
      "We have 2 people aged 51.\n",
      "We have 2 people aged 52.\n",
      "We have 2 people aged 53.\n",
      "We have 2 people aged 54.\n",
      "We have 1 people aged 58.\n",
      "We have 1 people aged 59.\n",
      "We have 1 people aged 60.\n",
      "We have 1 people aged 61.\n",
      "We have 2 people aged 62.\n",
      "We have 1 people aged 63.\n",
      "We have 2 people aged 65.\n",
      "We have 2 people aged 66.\n",
      "We have 1 people aged 67.\n",
      "We have 3 people aged 68.\n",
      "We have 1 people aged 69.\n",
      "We have 1 people aged 70.\n",
      "We have 4 people aged 71.\n",
      "We have 1 people aged 72.\n",
      "We have 5 people aged 73.\n",
      "We have 3 people aged 74.\n"
     ]
    }
   ],
   "source": [
    "# What is the count of people belonging to different age groups in the persons table?\r\n",
    "rows = cursor.execute(\"SELECT age, COUNT(*) FROM persons GROUP BY age;\")\r\n",
    "for row in rows:\r\n",
    "    print(f'We have {row[1]} people aged {row[0]}.')"
   ]
  },
  {
   "cell_type": "code",
   "execution_count": 6,
   "metadata": {},
   "outputs": [
    {
     "name": "stdout",
     "output_type": "stream",
     "text": [
      "Highest number of people is 5 and came from 73 age group\n"
     ]
    }
   ],
   "source": [
    "# Which age group has the maximum number of people?\r\n",
    "sql = \"\"\"\r\n",
    "    SELECT age, COUNT(*) \r\n",
    "    FROM persons \r\n",
    "    GROUP BY age\r\n",
    "    ORDER BY COUNT(*) DESC\r\n",
    "    LIMIT 1; \r\n",
    "    \"\"\"\r\n",
    "rows = cursor.execute(sql)\r\n",
    "for row in rows:\r\n",
    "    print(f'Highest number of people is {row[1]} and came from {row[0]} age group')"
   ]
  },
  {
   "cell_type": "code",
   "execution_count": 7,
   "metadata": {},
   "outputs": [
    {
     "name": "stdout",
     "output_type": "stream",
     "text": [
      "60 people do not have a last name.\n"
     ]
    }
   ],
   "source": [
    "# How many people do not have a last name?\r\n",
    "sql = \"\"\"\r\n",
    "    SELECT COUNT(*) - COUNT(last_name)\r\n",
    "    FROM persons; \r\n",
    "    \"\"\"\r\n",
    "rows = cursor.execute(sql)\r\n",
    "for row in rows:\r\n",
    "    print(f'{row[0]} people do not have a last name.')"
   ]
  },
  {
   "cell_type": "code",
   "execution_count": 8,
   "metadata": {},
   "outputs": [
    {
     "name": "stdout",
     "output_type": "stream",
     "text": [
      "43 people have more than one pet.\n"
     ]
    }
   ],
   "source": [
    "# How many people have more than one pet?\r\n",
    "sql = \"\"\"\r\n",
    "    SELECT COUNT(*)\r\n",
    "    FROM (\r\n",
    "        SELECT id, COUNT(*)\r\n",
    "        FROM persons\r\n",
    "        INNER JOIN pets\r\n",
    "            ON persons.id = pets.owner_id\r\n",
    "        GROUP BY id\r\n",
    "        HAVING COUNT(*) > 1\r\n",
    "        ); \r\n",
    "    \"\"\"\r\n",
    "rows = cursor.execute(sql)\r\n",
    "for row in rows:\r\n",
    "    print(f'{row[0]} people have more than one pet.')"
   ]
  },
  {
   "cell_type": "code",
   "execution_count": 10,
   "metadata": {},
   "outputs": [
    {
     "name": "stdout",
     "output_type": "stream",
     "text": [
      "36 pets have received treatement.\n"
     ]
    }
   ],
   "source": [
    "# How many pets have received treatment?\r\n",
    "sql = \"\"\"\r\n",
    "    SELECT COUNT(*)\r\n",
    "    FROM pets\r\n",
    "    WHERE treatment_done = 1;\r\n",
    "    \"\"\"\r\n",
    "rows = cursor.execute(sql)\r\n",
    "for row in rows:\r\n",
    "    print(f'{row[0]} pets have received treatement.')"
   ]
  },
  {
   "cell_type": "code",
   "execution_count": 11,
   "metadata": {},
   "outputs": [
    {
     "name": "stdout",
     "output_type": "stream",
     "text": [
      "16 pets have received treatement.\n"
     ]
    }
   ],
   "source": [
    "# How many pets have received treatment, and the type of pet is known?\r\n",
    "sql = \"\"\"\r\n",
    "    SELECT COUNT(*)\r\n",
    "    FROM pets\r\n",
    "    WHERE treatment_done = 1\r\n",
    "        AND pet_type IS NOT NULL;\r\n",
    "    \"\"\"\r\n",
    "rows = cursor.execute(sql)\r\n",
    "for row in rows:\r\n",
    "    print(f'{row[0]} pets have received treatement.')"
   ]
  },
  {
   "cell_type": "code",
   "execution_count": 16,
   "metadata": {},
   "outputs": [
    {
     "name": "stdout",
     "output_type": "stream",
     "text": [
      "49 pets are from the city called east port.\n"
     ]
    }
   ],
   "source": [
    "# How many pets are from the city called east port?\r\n",
    "sql = \"\"\"\r\n",
    "    SELECT COUNT(*)\r\n",
    "    FROM pets\r\n",
    "        INNER JOIN persons\r\n",
    "            ON persons.id = pets.owner_id\r\n",
    "    WHERE city = 'east port'; \r\n",
    "    \"\"\"\r\n",
    "rows = cursor.execute(sql)\r\n",
    "for row in rows:\r\n",
    "    print(f'{row[0]} pets are from the city called east port.')"
   ]
  },
  {
   "cell_type": "code",
   "execution_count": 17,
   "metadata": {},
   "outputs": [
    {
     "name": "stdout",
     "output_type": "stream",
     "text": [
      "11 pets are from the city called east port who received treatment.\n"
     ]
    }
   ],
   "source": [
    "# How many pets are from the city called east port, and who received treatment?\r\n",
    "sql = \"\"\"\r\n",
    "    SELECT COUNT(*)\r\n",
    "    FROM pets\r\n",
    "        INNER JOIN persons\r\n",
    "            ON persons.id = pets.owner_id\r\n",
    "    WHERE city = 'east port'\r\n",
    "        AND treatment_done = 1; \r\n",
    "    \"\"\"\r\n",
    "rows = cursor.execute(sql)\r\n",
    "for row in rows:\r\n",
    "    print(f'{row[0]} pets are from the city called east port who received treatment.')"
   ]
  }
 ],
 "metadata": {
  "interpreter": {
   "hash": "0600588c3b5f4418cbe7b5ebc6825b479f3bc010269d8b60d75058cdd010adfe"
  },
  "kernelspec": {
   "display_name": "Python 3.7.2 64-bit",
   "name": "python3"
  },
  "language_info": {
   "codemirror_mode": {
    "name": "ipython",
    "version": 3
   },
   "file_extension": ".py",
   "mimetype": "text/x-python",
   "name": "python",
   "nbconvert_exporter": "python",
   "pygments_lexer": "ipython3",
   "version": "3.7.2"
  },
  "orig_nbformat": 4
 },
 "nbformat": 4,
 "nbformat_minor": 2
}