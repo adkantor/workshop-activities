{
 "cells": [
  {
   "cell_type": "markdown",
   "metadata": {},
   "source": [
    "# Activity 7.02: Building Your Own Movie Database by Reading an API"
   ]
  },
  {
   "cell_type": "code",
   "execution_count": 28,
   "metadata": {},
   "outputs": [],
   "source": [
    "import urllib.request, urllib.parse\r\n",
    "from urllib.error import HTTPError, URLError\r\n",
    "import requests\r\n",
    "import json"
   ]
  },
  {
   "cell_type": "code",
   "execution_count": 18,
   "metadata": {},
   "outputs": [],
   "source": [
    "service_url = R'http://www.omdbapi.com/'"
   ]
  },
  {
   "cell_type": "code",
   "execution_count": 19,
   "metadata": {},
   "outputs": [],
   "source": [
    "# load API key\r\n",
    "with open('APIKeys.json') as f:\r\n",
    "    data = json.load(f)\r\n",
    "    apikey = data['OMDBapi']\r\n"
   ]
  },
  {
   "cell_type": "code",
   "execution_count": 20,
   "metadata": {},
   "outputs": [
    {
     "name": "stdout",
     "output_type": "stream",
     "text": [
      "Title: Guardians of the Galaxy Vol. 2\n",
      "Year: 2017\n",
      "Rated: PG-13\n",
      "Released: 05 May 2017\n",
      "Runtime: 136 min\n",
      "Genre: Action, Adventure, Comedy\n",
      "Director: James Gunn\n",
      "Writer: James Gunn, Dan Abnett, Andy Lanning\n",
      "Actors: Chris Pratt, Zoe Saldana, Dave Bautista\n",
      "Plot: The Guardians struggle to keep together as a team while dealing with their personal family issues, notably Star-Lord's encounter with his father the ambitious celestial being Ego.\n",
      "Language: English\n",
      "Country: United States\n",
      "Awards: Nominated for 1 Oscar. 15 wins & 58 nominations total\n",
      "Poster: https://m.media-amazon.com/images/M/MV5BNjM0NTc0NzItM2FlYS00YzEwLWE0YmUtNTA2ZWIzODc2OTgxXkEyXkFqcGdeQXVyNTgwNzIyNzg@._V1_SX300.jpg\n",
      "Ratings: [{'Source': 'Internet Movie Database', 'Value': '7.6/10'}, {'Source': 'Rotten Tomatoes', 'Value': '85%'}, {'Source': 'Metacritic', 'Value': '67/100'}]\n",
      "Metascore: 67\n",
      "imdbRating: 7.6\n",
      "imdbVotes: 589,440\n",
      "imdbID: tt3896198\n",
      "Type: movie\n",
      "DVD: 10 Jul 2017\n",
      "BoxOffice: $389,813,101\n",
      "Production: Walt Disney Pictures, Marvel Studios\n",
      "Website: N/A\n",
      "Response: True\n"
     ]
    }
   ],
   "source": [
    "# function to print movie data from a JSON file\r\n",
    "def print_json(json_data):\r\n",
    "    data = json.loads(json_data)\r\n",
    "    for k, v in data.items():\r\n",
    "        print(f'{k}: {v}')\r\n",
    "\r\n",
    "test_data = {\r\n",
    "    \"Title\":\"Guardians of the Galaxy Vol. 2\",\r\n",
    "    \"Year\":\"2017\",\r\n",
    "    \"Rated\":\"PG-13\",\r\n",
    "    \"Released\":\"05 May 2017\",\r\n",
    "    \"Runtime\":\"136 min\",\r\n",
    "    \"Genre\":\"Action, Adventure, Comedy\",\r\n",
    "    \"Director\":\"James Gunn\",\r\n",
    "    \"Writer\":\"James Gunn, Dan Abnett, Andy Lanning\",\r\n",
    "    \"Actors\":\"Chris Pratt, Zoe Saldana, Dave Bautista\",\r\n",
    "    \"Plot\":\"The Guardians struggle to keep together as a team while dealing with their personal family issues, notably Star-Lord's encounter with his father the ambitious celestial being Ego.\",\r\n",
    "    \"Language\":\"English\",\r\n",
    "    \"Country\":\"United States\",\r\n",
    "    \"Awards\":\"Nominated for 1 Oscar. 15 wins & 58 nominations total\",\r\n",
    "    \"Poster\":\"https://m.media-amazon.com/images/M/MV5BNjM0NTc0NzItM2FlYS00YzEwLWE0YmUtNTA2ZWIzODc2OTgxXkEyXkFqcGdeQXVyNTgwNzIyNzg@._V1_SX300.jpg\",\r\n",
    "    \"Ratings\":[{\"Source\":\"Internet Movie Database\",\"Value\":\"7.6/10\"},{\"Source\":\"Rotten Tomatoes\",\"Value\":\"85%\"},{\"Source\":\"Metacritic\",\"Value\":\"67/100\"}],\r\n",
    "    \"Metascore\":\"67\",\r\n",
    "    \"imdbRating\":\"7.6\",\r\n",
    "    \"imdbVotes\":\"589,440\",\r\n",
    "    \"imdbID\":\"tt3896198\",\r\n",
    "    \"Type\":\"movie\",\r\n",
    "    \"DVD\":\"10 Jul 2017\",\r\n",
    "    \"BoxOffice\":\"$389,813,101\",\r\n",
    "    \"Production\":\"Walt Disney Pictures, Marvel Studios\",\r\n",
    "    \"Website\":\"N/A\",\r\n",
    "    \"Response\":\"True\"}\r\n",
    "test_json = json.dumps(test_data)\r\n",
    "\r\n",
    "print_json(test_json)"
   ]
  },
  {
   "cell_type": "code",
   "execution_count": 32,
   "metadata": {},
   "outputs": [],
   "source": [
    "# function to download poster\r\n",
    "def download_poster(url, title):\r\n",
    "    r = requests.get(url, allow_redirects=True)\r\n",
    "    with open(f'posters/{title}.jpg', 'wb') as f:\r\n",
    "        f.write(r.content)\r\n",
    "\r\n",
    "url = 'https://m.media-amazon.com/images/M/MV5BNjM0NTc0NzItM2FlYS00YzEwLWE0YmUtNTA2ZWIzODc2OTgxXkEyXkFqcGdeQXVyNTgwNzIyNzg@._V1_SX300.jpg'\r\n",
    "title = 'Guardians of the Galaxy Vol. 2'\r\n",
    "download_poster(url, title)"
   ]
  },
  {
   "cell_type": "code",
   "execution_count": 27,
   "metadata": {},
   "outputs": [
    {
     "name": "stdout",
     "output_type": "stream",
     "text": [
      "http://www.omdbapi.com/?t=Star+Wars&apikey=6d781539\n",
      "--------------------------------------------------\n",
      "Title: Star Wars: Episode IV - A New Hope\n",
      "Year: 1977\n",
      "Rated: PG\n",
      "Released: 25 May 1977\n",
      "Runtime: 121 min\n",
      "Genre: Action, Adventure, Fantasy, Sci-Fi\n",
      "Director: George Lucas\n",
      "Writer: George Lucas\n",
      "Actors: Mark Hamill, Harrison Ford, Carrie Fisher, Peter Cushing\n",
      "Plot: Luke Skywalker joins forces with a Jedi Knight, a cocky pilot, a Wookiee and two droids to save the galaxy from the Empire's world-destroying battle station, while also attempting to rescue Princess Leia from the mysterious Darth Vader.\n",
      "Language: English\n",
      "Country: USA, UK\n",
      "Awards: Won 6 Oscars. Another 58 wins & 29 nominations.\n",
      "Poster: https://m.media-amazon.com/images/M/MV5BNzVlY2MwMjktM2E4OS00Y2Y3LWE3ZjctYzhkZGM3YzA1ZWM2XkEyXkFqcGdeQXVyNzkwMjQ5NzM@._V1_SX300.jpg\n",
      "Ratings: [{'Source': 'Internet Movie Database', 'Value': '8.6/10'}, {'Source': 'Rotten Tomatoes', 'Value': '92%'}, {'Source': 'Metacritic', 'Value': '90/100'}]\n",
      "Metascore: 90\n",
      "imdbRating: 8.6\n",
      "imdbVotes: 1,250,277\n",
      "imdbID: tt0076759\n",
      "Type: movie\n",
      "DVD: 10 Oct 2016\n",
      "BoxOffice: $460,998,507\n",
      "Production: Lucasfilm Ltd.\n",
      "Website: N/A\n",
      "Response: True\n"
     ]
    }
   ],
   "source": [
    "# functions to search for a movie by its name\r\n",
    "def get_movie_data(title):\r\n",
    "    data = {\r\n",
    "        't': title,\r\n",
    "        'apikey': apikey\r\n",
    "    }\r\n",
    "    url_values = urllib.parse.urlencode(data)\r\n",
    "    full_url = service_url + '?' + url_values\r\n",
    "\r\n",
    "    print(full_url)\r\n",
    "    print('-'*50)\r\n",
    "\r\n",
    "    try: \r\n",
    "        uh = urllib.request.urlopen(full_url)\r\n",
    "    except HTTPError as e:\r\n",
    "        print(f\"Sorry! Could not retrieve anything on {title}\")\r\n",
    "        return None\r\n",
    "    except URLError as e:\r\n",
    "        print('Failed to reach a server.')\r\n",
    "        print('Reason: ', e.reason)\r\n",
    "        return None\r\n",
    "    else:\r\n",
    "        json_data = uh.read().decode()\r\n",
    "        return json_data \r\n",
    "\r\n",
    "def search_movie(title):\r\n",
    "    json_data = get_movie_data(title)\r\n",
    "    print_json(json_data)\r\n",
    "\r\n",
    "search_movie(\"Star Wars\")"
   ]
  },
  {
   "cell_type": "code",
   "execution_count": null,
   "metadata": {},
   "outputs": [],
   "source": [
    "def save_posters(json_data):\r\n",
    "    \r\n",
    "    import os\r\n",
    "    \r\n",
    "    title = json_data['Title']\r\n",
    "    poster_url = json_data['Poster']\r\n",
    "    \r\n",
    "    # Splits the poster url by '.' and picks up the last string as file extension\r\n",
    "    poster_file_extension=poster_url.split('.')[-1]\r\n",
    "    \r\n",
    "    # Reads the image file from web\r\n",
    "    poster_data = urllib.request.urlopen(poster_url).read()\r\n",
    "    savelocation = os.getcwd()+'\\\\'+'Posters'+'\\\\'\r\n",
    "    # Creates new directory if the directory does not exist.\r\n",
    "    # Otherwise, just use the existing path.\r\n",
    "    if not os.path.isdir(savelocation):\r\n",
    "        os.mkdir(savelocation)\r\n",
    "    \r\n",
    "    filename=savelocation+str(title)+'.'+poster_file_extension\r\n",
    "    \r\n",
    "    f=open(filename,'wb')\r\n",
    "    f.write(poster_data)\r\n",
    "    f.close()"
   ]
  }
 ],
 "metadata": {
  "kernelspec": {
   "display_name": "Python 3.7.2 64-bit ('dww': venv)",
   "name": "pythonjvsc74a57bd03900e12b6dffcdbc13bf0d5c18e5b537de807a08372716dbb88f7cde0656c578"
  },
  "language_info": {
   "codemirror_mode": {
    "name": "ipython",
    "version": 3
   },
   "file_extension": ".py",
   "mimetype": "text/x-python",
   "name": "python",
   "nbconvert_exporter": "python",
   "pygments_lexer": "ipython3",
   "version": "3.7.2"
  },
  "metadata": {
   "interpreter": {
    "hash": "3900e12b6dffcdbc13bf0d5c18e5b537de807a08372716dbb88f7cde0656c578"
   }
  },
  "orig_nbformat": 2
 },
 "nbformat": 4,
 "nbformat_minor": 2
}