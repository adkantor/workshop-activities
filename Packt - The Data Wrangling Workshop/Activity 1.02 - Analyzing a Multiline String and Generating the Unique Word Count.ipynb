{
 "metadata": {
  "language_info": {
   "codemirror_mode": {
    "name": "ipython",
    "version": 3
   },
   "file_extension": ".py",
   "mimetype": "text/x-python",
   "name": "python",
   "nbconvert_exporter": "python",
   "pygments_lexer": "ipython3",
   "version": "3.7.2-final"
  },
  "orig_nbformat": 2,
  "kernelspec": {
   "name": "python3",
   "display_name": "Python 3",
   "language": "python"
  }
 },
 "nbformat": 4,
 "nbformat_minor": 2,
 "cells": [
  {
   "source": [
    "# Analyzing a Multiline String and Generating the Unique Word Count\n",
    "\n",
    "In this activity, you will do the following:\n",
    "\n",
    "- Get multiline text and save it in a Python variable.\n",
    "- Get rid of all new lines in it using string methods.\n",
    "- Get all the unique words and their occurrences from the string.\n",
    "- Repeat the steps to find all unique words and occurrences, without considering case sensitivity.\n",
    "\n",
    ">Note: For the sake of simplicity, the original text (which can be found [here](https://www.gutenberg.org/files/1342/1342-h/1342-h.htm)) has been pre-processed a bit.\n",
    "\n",
    "These are the steps to guide you through solving this activity:"
   ],
   "cell_type": "markdown",
   "metadata": {}
  },
  {
   "source": [
    "### 1. Create a multiline_text variable by copying the text from the first chapter of Pride and Prejudice.\n",
    "Hint: Remember to add triple quotation marks to enter a multiline text. This is the only way to enter a chunk of text in Python.\n",
    "\n",
    "Note: Part of the first chapter of Pride and Prejudice by Jane Austen has been made available on GitHub."
   ],
   "cell_type": "markdown",
   "metadata": {}
  },
  {
   "cell_type": "code",
   "execution_count": 18,
   "metadata": {},
   "outputs": [
    {
     "output_type": "stream",
     "name": "stdout",
     "text": [
      "It is a truth universally acknowledged, that a single man in possession of a good fortune, must be in want of a wife.\n\nHowever little known the feelings or views of such a man may be on his first entering a neighbourhood, this truth is so well fixed in the minds of the surrounding families, that he is considered the rightful property of some one or other of their daughters.\n\n\"My dear Mr. Bennet,\" said his lady to him one day, \"have you heard that Netherfield Park is let at last?\"\n\nMr. Bennet replied that he had not.\n\n\"But it is,\" returned she; \"for Mrs. Long has just been here, and she told me all about it.\"\n\nMr. Bennet made no answer.\n\n\"Do you not want to know who has taken it?\" cried his wife impatiently.\n\n\"You want to tell me, and I have no objection to hearing it.\"\n\nThis was invitation enough.\n\n\"Why, my dear, you must know, Mrs. Long says that Netherfield is taken by a young man of large fortune from the north of England; that he came down on Monday in a chaise and four to see the place, and was so much delighted with it, that he agreed with Mr. Morris immediately; that he is to take possession before Michaelmas, and some of his servants are to be in the house by the end of next week.\"\n\n\"What is his name?\"\n\n\"Bingley.\"\n\n\"Is he married or single?\"\n\n\"Oh! Single, my dear, to be sure! A single man of large fortune; four or five thousand a year. What a fine thing for our girls!\"\n\n\"How so? How can it affect them?\"\n\n\"My dear Mr. Bennet,\" replied his wife, \"how can you be so tiresome! You must know that I am thinking of his marrying one of them.\"\n\n\"Is that his design in settling here?\"\n\n\"Design! Nonsense, how can you talk so! But it is very likely that he may fall in love with one of them, and therefore you must visit him as soon as he comes.\"\n\n\"I see no occasion for that. You and the girls may go, or you may send them by themselves, which perhaps will be still better, for as you are as handsome as any of them, Mr. Bingley may like you the best of the party.\"\n\n\"My dear, you flatter me. I certainly have had my share of beauty, but I do not pretend to be anything extraordinary now. When a woman has five grown-up daughters, she ought to give over thinking of her own beauty.\"\n\n\"In such cases, a woman has not often much beauty to think of.\"\n\n\"But, my dear, you must indeed go and see Mr. Bingley when he comes into the neighbourhood.\"\n\n\"It is more than I engage for, I assure you.\"\n\n\"But consider your daughters. Only think what an establishment it would be for one of them. Sir William and Lady Lucas are determined to go, merely on that account, for in general, you know, they visit no newcomers. Indeed you must go, for it will be impossible for us to visit him if you do not.\"\n\n\"You are over-scrupulous, surely. I dare say Mr. Bingley will be very glad to see you; and I will send a few lines by you to assure him of my hearty consent to his marrying whichever he chooses of the girls; though I must throw in a good word for my little Lizzy.\"\n\n\"I desire you will do no such thing. Lizzy is not a bit better than the others; and I am sure she is not half so handsome as Jane, nor half so good-humoured as Lydia. But you are always giving her the preference.\"\n\n\"They have none of them much to recommend them,\" replied he; \"they are all silly and ignorant like other girls; but Lizzy has something more of quickness than her sisters.\"\n\n\"Mr. Bennet, how can you abuse your own children in such a way? You take delight in vexing me. You have no compassion for my poor nerves.\"\n\n\"You mistake me, my dear. I have a high respect for your nerves. They are my old friends. I have heard you mention them with consideration these last twenty years at least.\"\n\n\"Ah, you do not know what I suffer.\"\n\n\"But I hope you will get over it, and live to see many young men of four thousand a year come into the neighbourhood.\"\n\n\"It will be no use to us, if twenty such should come, since you will not visit them.\"\n\n\"Depend upon it, my dear, that when there are twenty, I will visit them all.\"\n\nMr. Bennet was so odd a mixture of quick parts, sarcastic humour, reserve, and caprice, that the experience of three-and-twenty years had been insufficient to make his wife understand his character. Her mind was less difficult to develop. She was a woman of mean understanding, little information, and uncertain temper. When she was discontented, she fancied herself nervous. The business of her life was to get her daughters married; its solace was visiting and news. \n"
     ]
    }
   ],
   "source": [
    "with open('../datasets/P&P Ch01', 'r') as f:\n",
    "    multiline_text = f.read()\n",
    "    print(multiline_text)"
   ]
  },
  {
   "source": [
    "### 2. Find the type and length of the multiline_text string using the type and len commands."
   ],
   "cell_type": "markdown",
   "metadata": {}
  },
  {
   "cell_type": "code",
   "execution_count": 19,
   "metadata": {},
   "outputs": [
    {
     "output_type": "stream",
     "name": "stdout",
     "text": [
      "<class 'str'>\n4475\n"
     ]
    }
   ],
   "source": [
    "print(type(multiline_text))\n",
    "print(len(multiline_text))"
   ]
  },
  {
   "source": [
    "### 3. Remove all new lines and symbols using the replace method."
   ],
   "cell_type": "markdown",
   "metadata": {}
  },
  {
   "cell_type": "code",
   "execution_count": 22,
   "metadata": {},
   "outputs": [
    {
     "output_type": "execute_result",
     "data": {
      "text/plain": [
       "'It is a truth universally acknowledged  that a single man in possession of a good fortune  must be in want of a wife   However little known the feelings or views of such a man may be on his first entering a neighbourhood  this truth is so well fixed in the minds of the surrounding families  that he is considered the rightful property of some one or other of their daughters    My dear Mr  Bennet   said his lady to him one day   have you heard that Netherfield Park is let at last    Mr  Bennet replied that he had not    But it is   returned she   for Mrs  Long has just been here  and she told me all about it    Mr  Bennet made no answer    Do you not want to know who has taken it   cried his wife impatiently    You want to tell me  and I have no objection to hearing it    This was invitation enough    Why  my dear  you must know  Mrs  Long says that Netherfield is taken by a young man of large fortune from the north of England  that he came down on Monday in a chaise and four to see the place  and was so much delighted with it  that he agreed with Mr  Morris immediately  that he is to take possession before Michaelmas  and some of his servants are to be in the house by the end of next week     What is his name     Bingley     Is he married or single     Oh  Single  my dear  to be sure  A single man of large fortune  four or five thousand a year  What a fine thing for our girls     How so  How can it affect them     My dear Mr  Bennet   replied his wife   how can you be so tiresome  You must know that I am thinking of his marrying one of them     Is that his design in settling here     Design  Nonsense  how can you talk so  But it is very likely that he may fall in love with one of them  and therefore you must visit him as soon as he comes     I see no occasion for that  You and the girls may go  or you may send them by themselves  which perhaps will be still better  for as you are as handsome as any of them  Mr  Bingley may like you the best of the party     My dear  you flatter me  I certainly have had my share of beauty  but I do not pretend to be anything extraordinary now  When a woman has five grown-up daughters  she ought to give over thinking of her own beauty     In such cases  a woman has not often much beauty to think of     But  my dear  you must indeed go and see Mr  Bingley when he comes into the neighbourhood     It is more than I engage for  I assure you     But consider your daughters  Only think what an establishment it would be for one of them  Sir William and Lady Lucas are determined to go  merely on that account  for in general  you know  they visit no newcomers  Indeed you must go  for it will be impossible for us to visit him if you do not     You are over-scrupulous  surely  I dare say Mr  Bingley will be very glad to see you  and I will send a few lines by you to assure him of my hearty consent to his marrying whichever he chooses of the girls  though I must throw in a good word for my little Lizzy     I desire you will do no such thing  Lizzy is not a bit better than the others  and I am sure she is not half so handsome as Jane  nor half so good-humoured as Lydia  But you are always giving her the preference     They have none of them much to recommend them   replied he   they are all silly and ignorant like other girls  but Lizzy has something more of quickness than her sisters     Mr  Bennet  how can you abuse your own children in such a way  You take delight in vexing me  You have no compassion for my poor nerves     You mistake me  my dear  I have a high respect for your nerves  They are my old friends  I have heard you mention them with consideration these last twenty years at least     Ah  you do not know what I suffer     But I hope you will get over it  and live to see many young men of four thousand a year come into the neighbourhood     It will be no use to us  if twenty such should come  since you will not visit them     Depend upon it  my dear  that when there are twenty  I will visit them all    Mr  Bennet was so odd a mixture of quick parts  sarcastic humour  reserve  and caprice  that the experience of three-and-twenty years had been insufficient to make his wife understand his character  Her mind was less difficult to develop  She was a woman of mean understanding  little information  and uncertain temper  When she was discontented  she fancied herself nervous  The business of her life was to get her daughters married  its solace was visiting and news  '"
      ]
     },
     "metadata": {},
     "execution_count": 22
    }
   ],
   "source": [
    "s = multiline_text\n",
    "s = s.replace('\\n', ' ')\n",
    "chars_to_replace = ',.?!;\"'\n",
    "for c in chars_to_replace:\n",
    "    s = s.replace(c, ' ')\n",
    "s"
   ]
  },
  {
   "source": [
    "### 4. Find all of the words in multiline_text using the split method."
   ],
   "cell_type": "markdown",
   "metadata": {}
  },
  {
   "cell_type": "code",
   "execution_count": 29,
   "metadata": {},
   "outputs": [],
   "source": [
    "words = [word.strip().lower() for word in s.split(' ') if word !='']"
   ]
  },
  {
   "source": [
    "### 5. Create a list from this list that will contain only the unique words."
   ],
   "cell_type": "markdown",
   "metadata": {}
  },
  {
   "cell_type": "code",
   "execution_count": 28,
   "metadata": {},
   "outputs": [],
   "source": [
    "unique_words = sorted(list(set(words)))"
   ]
  },
  {
   "source": [
    "### 6. Count the number of times the unique word has appeared in the list using the key and value in dict."
   ],
   "cell_type": "markdown",
   "metadata": {}
  },
  {
   "cell_type": "code",
   "execution_count": 32,
   "metadata": {},
   "outputs": [],
   "source": [
    "word_counts = {}\n",
    "for word in unique_words:\n",
    "    word_counts[word] = words.count(word)"
   ]
  },
  {
   "source": [
    "### 7. Find the top 25 words from the unique words that you have found using the slice method."
   ],
   "cell_type": "markdown",
   "metadata": {}
  },
  {
   "cell_type": "code",
   "execution_count": 38,
   "metadata": {},
   "outputs": [
    {
     "output_type": "execute_result",
     "data": {
      "text/plain": [
       "[('you', 31),\n",
       " ('of', 29),\n",
       " ('to', 22),\n",
       " ('a', 21),\n",
       " ('the', 18),\n",
       " ('i', 17),\n",
       " ('and', 16),\n",
       " ('that', 15),\n",
       " ('is', 14),\n",
       " ('it', 14),\n",
       " ('my', 13),\n",
       " ('for', 12),\n",
       " ('in', 12),\n",
       " ('be', 11),\n",
       " ('he', 11),\n",
       " ('his', 11),\n",
       " ('them', 11),\n",
       " ('mr', 10),\n",
       " ('not', 9),\n",
       " ('will', 9),\n",
       " ('are', 8),\n",
       " ('but', 8),\n",
       " ('dear', 8),\n",
       " ('so', 8),\n",
       " ('was', 8)]"
      ]
     },
     "metadata": {},
     "execution_count": 38
    }
   ],
   "source": [
    "[(k, v) for k, v in sorted(word_counts.items(), key=lambda item: item[1], reverse=True)][:25]"
   ]
  }
 ]
}