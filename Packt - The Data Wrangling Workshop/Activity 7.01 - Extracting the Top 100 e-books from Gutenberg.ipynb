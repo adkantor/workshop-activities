{
 "cells": [
  {
   "cell_type": "markdown",
   "metadata": {},
   "source": [
    "# Activity 7.01: Extracting the Top 100 e-books from Gutenberg"
   ]
  },
  {
   "cell_type": "code",
   "execution_count": 14,
   "metadata": {},
   "outputs": [],
   "source": [
    "import re\r\n",
    "import requests\r\n",
    "from bs4 import BeautifulSoup"
   ]
  },
  {
   "cell_type": "code",
   "execution_count": 2,
   "metadata": {},
   "outputs": [
    {
     "data": {
      "text/plain": "200"
     },
     "execution_count": 2,
     "metadata": {},
     "output_type": "execute_result"
    }
   ],
   "source": [
    "# read html\r\n",
    "url = \"https://www.gutenberg.org/browse/scores/top\"\r\n",
    "response = requests.get(url)\r\n",
    "response.status_code"
   ]
  },
  {
   "cell_type": "code",
   "execution_count": 3,
   "metadata": {},
   "outputs": [],
   "source": [
    "def get_encoding(response):\r\n",
    "    return response.encoding\r\n",
    "    \r\n",
    "def decode_content(response, encoding):\r\n",
    "    return response.content.decode(encoding)\r\n",
    "   \r\n",
    "def get_contents(response):\r\n",
    "    return decode_content(response, get_encoding(response))"
   ]
  },
  {
   "cell_type": "code",
   "execution_count": 4,
   "metadata": {},
   "outputs": [],
   "source": [
    "# decode response\r\n",
    "contents = get_contents(response)"
   ]
  },
  {
   "cell_type": "code",
   "execution_count": 6,
   "metadata": {},
   "outputs": [],
   "source": [
    "# pass decoded contents to BS\r\n",
    "soup = BeautifulSoup(contents, 'html.parser')\r\n",
    "# extract human-readable text\r\n",
    "txt_dump = soup.text"
   ]
  },
  {
   "cell_type": "code",
   "execution_count": 19,
   "metadata": {},
   "outputs": [
    {
     "name": "stdout",
     "output_type": "stream",
     "text": [
      "300\n"
     ]
    },
    {
     "data": {
      "text/plain": "['/ebooks/1342',\n '/ebooks/84',\n '/ebooks/11',\n '/ebooks/1661',\n '/ebooks/6133',\n '/ebooks/64317',\n '/ebooks/174',\n '/ebooks/98',\n '/ebooks/2701',\n '/ebooks/43',\n '/ebooks/65608',\n '/ebooks/345',\n '/ebooks/5200',\n '/ebooks/1952',\n '/ebooks/46',\n '/ebooks/4300',\n '/ebooks/1260',\n '/ebooks/2542',\n '/ebooks/65613',\n '/ebooks/2600',\n '/ebooks/16',\n '/ebooks/20228',\n '/ebooks/844',\n '/ebooks/55',\n '/ebooks/57775',\n '/ebooks/1400',\n '/ebooks/43453',\n '/ebooks/1232',\n '/ebooks/35899',\n '/ebooks/2591',\n '/ebooks/76',\n '/ebooks/2852',\n '/ebooks/5740',\n '/ebooks/158',\n '/ebooks/1080',\n '/ebooks/74',\n '/ebooks/6130',\n '/ebooks/205',\n '/ebooks/1184',\n '/ebooks/25344',\n '/ebooks/58585',\n '/ebooks/45',\n '/ebooks/120',\n '/ebooks/219',\n '/ebooks/2554',\n '/ebooks/244',\n '/ebooks/2814',\n '/ebooks/514',\n '/ebooks/5739',\n '/ebooks/65614',\n '/ebooks/47629',\n '/ebooks/203',\n '/ebooks/1497',\n '/ebooks/996',\n '/ebooks/27827',\n '/ebooks/902',\n '/ebooks/236',\n '/ebooks/135',\n '/ebooks/768',\n '/ebooks/766',\n '/ebooks/4014',\n '/ebooks/829',\n '/ebooks/36',\n '/ebooks/1727',\n '/ebooks/1399',\n '/ebooks/16328',\n '/ebooks/730',\n '/ebooks/4363',\n '/ebooks/1250',\n '/ebooks/33283',\n '/ebooks/65606',\n '/ebooks/28054',\n '/ebooks/30254',\n '/ebooks/863',\n '/ebooks/408',\n '/ebooks/100',\n '/ebooks/215',\n '/ebooks/3090',\n '/ebooks/105',\n '/ebooks/35',\n '/ebooks/3600',\n '/ebooks/65605',\n '/ebooks/113',\n '/ebooks/160',\n '/ebooks/1998',\n '/ebooks/2148',\n '/ebooks/3825',\n '/ebooks/65610',\n '/ebooks/308',\n '/ebooks/2097',\n '/ebooks/3207',\n '/ebooks/8800',\n '/ebooks/2500',\n '/ebooks/10007',\n '/ebooks/63256',\n '/ebooks/161',\n '/ebooks/2680',\n '/ebooks/972',\n '/ebooks/10',\n '/ebooks/23']"
     },
     "execution_count": 19,
     "metadata": {},
     "output_type": "execute_result"
    }
   ],
   "source": [
    "# find all href tags\r\n",
    "link_list = [a['href'] for a in soup.find_all('a', href=True)]\r\n",
    "\r\n",
    "# find links of books only\r\n",
    "ebook_link_list = []\r\n",
    "pattern = re.compile(r'\\/ebooks\\/[0-9]+')\r\n",
    "for link in link_list:\r\n",
    "    m = pattern.search(link)\r\n",
    "    if m:\r\n",
    "        ebook_link_list.append(m.group())\r\n",
    "\r\n",
    "print(len(ebook_link_list))\r\n",
    "ebook_link_list[:100] # includes another two top100 lists"
   ]
  },
  {
   "cell_type": "code",
   "execution_count": 52,
   "metadata": {},
   "outputs": [
    {
     "name": "stdout",
     "output_type": "stream",
     "text": [
      "Pride and Prejudice by Jane Austen\n",
      "Frankenstein; Or, The Modern Prometheus by Mary Wollstonecraft Shelley\n",
      "Alice's Adventures in Wonderland by Lewis Carroll\n",
      "The Adventures of Sherlock Holmes by Arthur Conan Doyle\n",
      "The Extraordinary Adventures of Arsene Lupin, Gentleman-Burglar by Maurice Leblanc\n",
      "The Great Gatsby by F. Scott  Fitzgerald\n",
      "The Picture of Dorian Gray by Oscar Wilde\n",
      "A Tale of Two Cities by Charles Dickens\n",
      "Moby Dick; Or, The Whale by Herman Melville\n",
      "The Strange Case of Dr. Jekyll and Mr. Hyde by Robert Louis Stevenson\n",
      "The Great Green Diamond; Or, Thief Against Thief by Inspector Stark\n",
      "Dracula by Bram Stoker\n",
      "Metamorphosis by Franz Kafka\n",
      "The Yellow Wallpaper by Charlotte Perkins Gilman\n",
      "A Christmas Carol in Prose; Being a Ghost Story of Christmas by Charles Dickens\n",
      "Ulysses by James Joyce\n",
      "Jane Eyre: An Autobiography by Charlotte Brontë\n",
      "A Doll's House : a play by Henrik Ibsen\n",
      "Ye Olde Mint by Frank H. Stewart\n",
      "War and Peace by graf Leo Tolstoy\n",
      "Peter Pan by J. M.  Barrie\n",
      "Noli Me Tangere by José Rizal\n",
      "The Importance of Being Earnest: A Trivial Comedy for Serious People by Oscar Wilde\n",
      "The Wonderful Wizard of Oz by L. Frank  Baum\n",
      "Le jardin des supplices by Octave Mirbeau\n",
      "Great Expectations by Charles Dickens\n",
      "A Pickle for the Knowing Ones by Timothy Dexter\n",
      "The Prince by Niccolò Machiavelli\n",
      "The Philippines a Century Hence by José Rizal\n",
      "Grimms' Fairy Tales by Jacob Grimm and Wilhelm Grimm\n",
      "Adventures of Huckleberry Finn by Mark Twain\n",
      "The Hound of the Baskervilles by Arthur Conan Doyle\n",
      "Tractatus Logico-Philosophicus by Ludwig Wittgenstein\n",
      "Emma by Jane Austen\n",
      "A Modest Proposal by Jonathan Swift\n",
      "The Adventures of Tom Sawyer, Complete by Mark Twain\n",
      "The Iliad by Homer\n",
      "Walden, and On The Duty Of Civil Disobedience by Henry David Thoreau\n",
      "The Count of Monte Cristo, Illustrated by Alexandre Dumas\n",
      "The Scarlet Letter by Nathaniel Hawthorne\n",
      "The Prophet by Kahlil Gibran\n",
      "Anne of Green Gables by L. M.  Montgomery\n",
      "Treasure Island by Robert Louis Stevenson\n",
      "Heart of Darkness by Joseph Conrad\n",
      "Crime and Punishment by Fyodor Dostoyevsky\n",
      "A Study in Scarlet by Arthur Conan Doyle\n",
      "Dubliners by James Joyce\n",
      "Little Women by Louisa May Alcott\n",
      "Korean—English Dictionary by Leon Kuperman\n",
      "Mr. Togo by Wallace Irwin\n",
      "Ang \"Filibusterismo\" (Karugtóng ng Noli Me Tangere) by José Rizal\n",
      "Uncle Tom's Cabin by Harriet Beecher Stowe\n",
      "The Republic by Plato\n",
      "Don Quixote by Miguel de Cervantes Saavedra\n",
      "The Kama Sutra of Vatsyayana by Vatsyayana\n",
      "The Happy Prince, and Other Tales by Oscar Wilde\n",
      "The Jungle Book by Rudyard Kipling\n",
      "Les Misérables by Victor Hugo\n",
      "Wuthering Heights by Emily Brontë\n",
      "David Copperfield by Charles Dickens\n",
      "Arsene Lupin by Maurice Leblanc\n",
      "Gulliver's Travels into Several Remote Nations of the World by Jonathan Swift\n",
      "The War of the Worlds by H. G.  Wells\n",
      "The Odyssey by Homer\n",
      "Anna Karenina by graf Leo Tolstoy\n",
      "Beowulf: An Anglo-Saxon Epic Poem\n",
      "Oliver Twist by Charles Dickens\n",
      "Beyond Good and Evil by Friedrich Wilhelm Nietzsche\n",
      "Anthem by Ayn Rand\n",
      "Calculus Made Easy by Silvanus P.  Thompson\n",
      "Queen Maria Sophia of Naples, A Forgotten Heroine by Carl Küchler\n",
      "The Brothers Karamazov by Fyodor Dostoyevsky\n",
      "The Romance of Lust: A classic Victorian erotic novel by Anonymous\n",
      "The Mysterious Affair at Styles by Agatha Christie\n",
      "The Souls of Black Folk by W. E. B.  Du Bois\n",
      "The Complete Works of William Shakespeare by William Shakespeare\n",
      "The Call of the Wild by Jack London\n",
      "Complete Original Short Stories of Guy De Maupassant by Guy de Maupassant\n",
      "Persuasion by Jane Austen\n",
      "The Time Machine by H. G.  Wells\n",
      "Essays of Michel de Montaigne — Complete by Michel de Montaigne\n",
      "Indians of Lassen Volcanic National Park and Vicinity by Paul E. Schulz\n",
      "The Secret Garden by Frances Hodgson Burnett\n",
      "The Awakening, and Selected Short Stories by Kate Chopin\n",
      "Thus Spake Zarathustra: A Book for All and None by Friedrich Wilhelm Nietzsche\n",
      "The Works of Edgar Allan Poe — Volume 2 by Edgar Allan Poe\n",
      "Pygmalion by Bernard Shaw\n",
      "Il Lago di Como e il Pian d'Erba by Pier Ambrogio Curti\n",
      "Three Men in a Boat (To Say Nothing of the Dog) by Jerome K.  Jerome\n",
      "The Sign of the Four by Arthur Conan Doyle\n",
      "Leviathan by Thomas Hobbes\n",
      "An Index of The Divine Comedy by Dante by Dante Alighieri\n",
      "Siddhartha by Hermann Hesse\n",
      "Carmilla by Joseph Sheridan Le Fanu\n",
      "The American Diary of a Japanese Girl by Yoné Noguchi\n",
      "Sense and Sensibility by Jane Austen\n",
      "Meditations by Emperor of Rome Marcus Aurelius\n",
      "The Devil's Dictionary by Ambrose Bierce\n",
      "The King James Version of the Bible\n",
      "Narrative of the Life of Frederick Douglass, an American Slave by Frederick Douglass\n"
     ]
    }
   ],
   "source": [
    "# find all href tags\r\n",
    "link_list = soup.find_all('a')\r\n",
    "# link_list[50].attrs\r\n",
    "# find titles of books only\r\n",
    "ebook_title_list = []\r\n",
    "pattern1 = re.compile(r'\\/ebooks\\/[0-9]+')\r\n",
    "pattern2 = re.compile(r'(.*)\\(\\d*\\)')\r\n",
    "for link in link_list:\r\n",
    "    href = link.get('href')\r\n",
    "    m = pattern1.search(href)\r\n",
    "    if m:\r\n",
    "        title_with_count = link.text\r\n",
    "        title = pattern2.search(title_with_count).group(1).strip()\r\n",
    "        ebook_title_list.append(title)\r\n",
    "\r\n",
    "top_100_yesterday = ebook_title_list[:100]\r\n",
    "\r\n",
    "for s in top_100_yesterday:\r\n",
    "    print(s)"
   ]
  }
 ],
 "metadata": {
  "kernelspec": {
   "display_name": "Python 3.7.2 64-bit ('dww': venv)",
   "name": "pythonjvsc74a57bd03900e12b6dffcdbc13bf0d5c18e5b537de807a08372716dbb88f7cde0656c578"
  },
  "language_info": {
   "codemirror_mode": {
    "name": "ipython",
    "version": 3
   },
   "file_extension": ".py",
   "mimetype": "text/x-python",
   "name": "python",
   "nbconvert_exporter": "python",
   "pygments_lexer": "ipython3",
   "version": "3.7.2"
  },
  "metadata": {
   "interpreter": {
    "hash": "3900e12b6dffcdbc13bf0d5c18e5b537de807a08372716dbb88f7cde0656c578"
   }
  },
  "orig_nbformat": 2
 },
 "nbformat": 4,
 "nbformat_minor": 2
}