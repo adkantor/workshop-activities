{
 "cells": [
  {
   "cell_type": "markdown",
   "metadata": {},
   "source": [
    "# Activity 2.02: Designing Your Own CSV Parser\n",
    "\n",
    "A CSV file is something you will encounter a lot in your life as a data practitioner. A CSV file is a comma-separated file where data from a tabular format is generally stored and separated using commas, although other characters can also be used, such as ```tab``` or ```*```. \n",
    "\n",
    "In this activity, we will be tasked with building our own CSV reader and parser. Although it is a big task if we try to cover all use cases and edge cases, along with escape characters, for the sake of this short activity, we will keep our requirements small. We will assume that there is no escape character—meaning that if you use a comma at any place in your row, you are starting a new column. We will also assume that the only function we are interested in is to be able to read a CSV file line by line, where each read will generate a new dictionary with the column names as keys and row names as values.\n",
    "\n",
    "Here is an example:\n",
    "\n",
    "Table with sample data\n",
    "Figure 2.13: Table with sample data\n",
    "We can convert the data in the preceding table into a Python dictionary, which would look as follows: \n",
    "```\n",
    "{\"Name\": \"Bob\", \"Age\": \"24\", \"Location\": \"California\"}\n",
    "```"
   ]
  },
  {
   "cell_type": "markdown",
   "metadata": {},
   "source": [
    "1. Import zip_longest from ```itertools```. Create a function to zip ```header```, ```line```, and ```fillvalue=None```. Open the accompanying sales_record.csv file from GitHub by using ```r``` mode inside a with block and check that it is opened.\n",
    "\n",
    "2. Read the first line and use string methods to generate a list of all the column names. \n",
    "\n",
    "3. Start reading the file. Read it line by line. \n",
    "\n",
    "4. Read each line and pass that line to a function, along with the list of the headers. The work of the function is to construct a dictionary out of these two and fill up the key:values variables. Keep in mind that a missing value should result in None."
   ]
  },
  {
   "cell_type": "code",
   "execution_count": 1,
   "metadata": {},
   "outputs": [],
   "source": [
    "import itertools"
   ]
  },
  {
   "cell_type": "code",
   "execution_count": 2,
   "metadata": {},
   "outputs": [],
   "source": [
    "def get_record(header, data):\n",
    "    \"\"\" Returns a dictionary mapping header values to line values. \"\"\"\n",
    "    return dict(itertools.zip_longest(header, data, fillvalue=None))"
   ]
  },
  {
   "cell_type": "code",
   "execution_count": 5,
   "metadata": {},
   "outputs": [
    {
     "name": "stdout",
     "output_type": "stream",
     "text": [
      "False\n",
      "True\n"
     ]
    }
   ],
   "source": [
    "filename = R\"../datasets/sales_record.csv\"\n",
    "with open(filename, 'r') as f:\n",
    "    print(f.closed)\n",
    "print(f.closed)"
   ]
  },
  {
   "cell_type": "code",
   "execution_count": 10,
   "metadata": {},
   "outputs": [
    {
     "name": "stdout",
     "output_type": "stream",
     "text": [
      "[{'Region': 'Central America and the Caribbean', 'Country': 'Antigua and Barbuda ', 'Item Type': 'Baby Food', 'Sales Channel': 'Online', 'Order Priority': 'M', 'Order Date': '12/20/2013', 'Order ID': '957081544', 'Ship Date': '1/11/2014', 'Units Sold': '552', 'Unit Price': '255.28', 'Unit Cost': '159.42', 'Total Revenue': '140914.56', 'Total Cost': '87999.84', 'Total Profit': '52914.72'}, {'Region': 'Central America and the Caribbean', 'Country': 'Panama', 'Item Type': 'Snacks', 'Sales Channel': 'Offline', 'Order Priority': 'C', 'Order Date': '7/5/2010', 'Order ID': '301644504', 'Ship Date': '7/26/2010', 'Units Sold': '2167', 'Unit Price': '152.58', 'Unit Cost': '97.44', 'Total Revenue': '330640.86', 'Total Cost': '211152.48', 'Total Profit': '119488.38'}]\n"
     ]
    }
   ],
   "source": [
    "dataset = []\n",
    "with open(filename, 'r') as f:\n",
    "    # read header\n",
    "    header = f.readline().strip().split(',')\n",
    "\n",
    "    # read lines\n",
    "    for line in f:\n",
    "        data = line.strip().split(',')\n",
    "        dataset.append(get_record(header, data))\n",
    "print(dataset[:2])"
   ]
  },
  {
   "cell_type": "code",
   "execution_count": null,
   "metadata": {},
   "outputs": [],
   "source": []
  }
 ],
 "metadata": {
  "kernelspec": {
   "display_name": "Python 3.7.2 64-bit ('dww': venv)",
   "metadata": {
    "interpreter": {
     "hash": "3900e12b6dffcdbc13bf0d5c18e5b537de807a08372716dbb88f7cde0656c578"
    }
   },
   "name": "python3"
  },
  "language_info": {
   "codemirror_mode": {
    "name": "ipython",
    "version": 3
   },
   "file_extension": ".py",
   "mimetype": "text/x-python",
   "name": "python",
   "nbconvert_exporter": "python",
   "pygments_lexer": "ipython3",
   "version": "3.7.2"
  },
  "orig_nbformat": 2
 },
 "nbformat": 4,
 "nbformat_minor": 2
}
