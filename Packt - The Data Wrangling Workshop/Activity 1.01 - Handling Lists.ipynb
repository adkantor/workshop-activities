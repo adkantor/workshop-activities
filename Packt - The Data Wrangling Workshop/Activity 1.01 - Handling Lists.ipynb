{
 "metadata": {
  "language_info": {
   "codemirror_mode": {
    "name": "ipython",
    "version": 3
   },
   "file_extension": ".py",
   "mimetype": "text/x-python",
   "name": "python",
   "nbconvert_exporter": "python",
   "pygments_lexer": "ipython3",
   "version": "3.7.2-final"
  },
  "orig_nbformat": 2,
  "kernelspec": {
   "name": "python3",
   "display_name": "Python 3",
   "language": "python"
  }
 },
 "nbformat": 4,
 "nbformat_minor": 2,
 "cells": [
  {
   "source": [
    "# Handling Lists\n",
    "\n",
    "In this activity, you will generate a list of random numbers and then generate another list from the first one, which only contains numbers that are divisible by three. Repeat the experiment 10 times; you'll see that the output varies each time, given that a different set of random numbers will be generated each time. Then, you will calculate the average difference between the lengths of the two lists.\n",
    "\n",
    "These are the steps for completing this activity:"
   ],
   "cell_type": "markdown",
   "metadata": {}
  },
  {
   "cell_type": "code",
   "execution_count": 56,
   "metadata": {},
   "outputs": [],
   "source": [
    "# Create a list of 100 random numbers.\n",
    "import random\n",
    "\n",
    "def get_rands():\n",
    "    rands = [random.randint(0, 99) for _ in range(100)]\n",
    "    return rands"
   ]
  },
  {
   "cell_type": "code",
   "execution_count": 57,
   "metadata": {},
   "outputs": [],
   "source": [
    "# Create a new list from this random list, with numbers that are divisible by 3.\n",
    "def get_rands_divisible_by_3(a):\n",
    "    rands_divisible_by_3 = [x for x in a if x % 3 == 0]\n",
    "    return rands_divisible_by_3"
   ]
  },
  {
   "cell_type": "code",
   "execution_count": 58,
   "metadata": {},
   "outputs": [],
   "source": [
    "# Calculate the length of these two lists and store the difference in a new variable.\n",
    "# ... below"
   ]
  },
  {
   "cell_type": "code",
   "execution_count": 59,
   "metadata": {},
   "outputs": [
    {
     "output_type": "stream",
     "name": "stdout",
     "text": [
      "[72, 65, 67, 67, 74, 67, 69, 69, 62, 64]\n"
     ]
    }
   ],
   "source": [
    "# Using a loop, perform steps 1, 2, and 3, and find the difference variable 10 times.\n",
    "random.seed(43)\n",
    "len_diffs = []\n",
    "for i in range(10):\n",
    "    rands = get_rands()\n",
    "    len_1 = len(rands)\n",
    "    len_2 = len(get_rands_divisible_by_3(rands))\n",
    "    len_diffs.append(len_1 - len_2)\n",
    "print(len_diffs)"
   ]
  },
  {
   "cell_type": "code",
   "execution_count": 60,
   "metadata": {},
   "outputs": [
    {
     "output_type": "execute_result",
     "data": {
      "text/plain": [
       "67.6"
      ]
     },
     "metadata": {},
     "execution_count": 60
    }
   ],
   "source": [
    "# Find the arithmetic mean of these 10 difference values.\n",
    "mean = sum(len_diffs) / len(len_diffs)\n",
    "mean"
   ]
  }
 ]
}