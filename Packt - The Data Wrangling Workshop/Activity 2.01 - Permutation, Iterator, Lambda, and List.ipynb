{
 "metadata": {
  "language_info": {
   "codemirror_mode": {
    "name": "ipython",
    "version": 3
   },
   "file_extension": ".py",
   "mimetype": "text/x-python",
   "name": "python",
   "nbconvert_exporter": "python",
   "pygments_lexer": "ipython3",
   "version": "3.7.2"
  },
  "orig_nbformat": 2,
  "kernelspec": {
   "name": "python3",
   "display_name": "Python 3.7.2 64-bit ('dww': venv)",
   "metadata": {
    "interpreter": {
     "hash": "3900e12b6dffcdbc13bf0d5c18e5b537de807a08372716dbb88f7cde0656c578"
    }
   }
  }
 },
 "nbformat": 4,
 "nbformat_minor": 2,
 "cells": [
  {
   "source": [
    "# Activity 2.01: Permutation, Iterator, Lambda, and List\n",
    "\n",
    "In this activity, we will be using permutations to generate all possible three-digit numbers that can be generated using 0, 1, and 2. A permutation is a mathematical way to represent all possible outcomes. Then, we'll loop over this iterator and also use isinstance and assert to make sure that the return types are tuples. Use a single line of code involving dropwhile and lambda expressions to convert all the tuples to lists while dropping any leading zeros (for example, (0, 1, 2) becomes [1, 2]). Finally, we will write a function that takes a list like before and returns the actual number contained in it.\n",
    "\n",
    "These steps will guide you as to how to solve this activity:"
   ],
   "cell_type": "markdown",
   "metadata": {}
  },
  {
   "source": [
    "### 1. Look up the definition of permutations and dropwhile from itertools."
   ],
   "cell_type": "markdown",
   "metadata": {}
  },
  {
   "cell_type": "code",
   "execution_count": 27,
   "metadata": {},
   "outputs": [],
   "source": [
    "import itertools"
   ]
  },
  {
   "cell_type": "code",
   "execution_count": 28,
   "metadata": {},
   "outputs": [
    {
     "output_type": "stream",
     "text": [
      "\u001b[1;31mInit signature:\u001b[0m \u001b[0mitertools\u001b[0m\u001b[1;33m.\u001b[0m\u001b[0mpermutations\u001b[0m\u001b[1;33m(\u001b[0m\u001b[0mself\u001b[0m\u001b[1;33m,\u001b[0m \u001b[1;33m/\u001b[0m\u001b[1;33m,\u001b[0m \u001b[1;33m*\u001b[0m\u001b[0margs\u001b[0m\u001b[1;33m,\u001b[0m \u001b[1;33m**\u001b[0m\u001b[0mkwargs\u001b[0m\u001b[1;33m)\u001b[0m\u001b[1;33m\u001b[0m\u001b[1;33m\u001b[0m\u001b[0m\n",
      "\u001b[1;31mDocstring:\u001b[0m     \n",
      "permutations(iterable[, r]) --> permutations object\n",
      "\n",
      "Return successive r-length permutations of elements in the iterable.\n",
      "\n",
      "permutations(range(3), 2) --> (0,1), (0,2), (1,0), (1,2), (2,0), (2,1)\n",
      "\u001b[1;31mType:\u001b[0m           type\n",
      "\u001b[1;31mSubclasses:\u001b[0m     \n"
     ],
     "name": "stdout"
    }
   ],
   "source": [
    "itertools.permutations?"
   ]
  },
  {
   "cell_type": "code",
   "execution_count": 29,
   "metadata": {},
   "outputs": [
    {
     "output_type": "stream",
     "text": [
      "\u001b[1;31mInit signature:\u001b[0m \u001b[0mitertools\u001b[0m\u001b[1;33m.\u001b[0m\u001b[0mdropwhile\u001b[0m\u001b[1;33m(\u001b[0m\u001b[0mself\u001b[0m\u001b[1;33m,\u001b[0m \u001b[1;33m/\u001b[0m\u001b[1;33m,\u001b[0m \u001b[1;33m*\u001b[0m\u001b[0margs\u001b[0m\u001b[1;33m,\u001b[0m \u001b[1;33m**\u001b[0m\u001b[0mkwargs\u001b[0m\u001b[1;33m)\u001b[0m\u001b[1;33m\u001b[0m\u001b[1;33m\u001b[0m\u001b[0m\n",
      "\u001b[1;31mDocstring:\u001b[0m     \n",
      "dropwhile(predicate, iterable) --> dropwhile object\n",
      "\n",
      "Drop items from the iterable while predicate(item) is true.\n",
      "Afterwards, return every element until the iterable is exhausted.\n",
      "\u001b[1;31mType:\u001b[0m           type\n",
      "\u001b[1;31mSubclasses:\u001b[0m     \n"
     ],
     "name": "stdout"
    }
   ],
   "source": [
    "itertools.dropwhile?"
   ]
  },
  {
   "source": [
    "### 2. Write an expression to generate all the possible three-digit numbers, using 0, 1, and 2."
   ],
   "cell_type": "markdown",
   "metadata": {}
  },
  {
   "cell_type": "code",
   "execution_count": 30,
   "metadata": {},
   "outputs": [],
   "source": [
    "def three_digit_numbers():\n",
    "    return itertools.permutations(range(3), 3)"
   ]
  },
  {
   "source": [
    "### 3. Loop over the iterator expression you generated before. Print each element returned by the iterator. Use assert and isinstance to make sure that the elements are of the tuple type."
   ],
   "cell_type": "markdown",
   "metadata": {}
  },
  {
   "cell_type": "code",
   "execution_count": 31,
   "metadata": {},
   "outputs": [
    {
     "output_type": "stream",
     "name": "stdout",
     "text": [
      "(0, 1, 2)\n(0, 2, 1)\n(1, 0, 2)\n(1, 2, 0)\n(2, 0, 1)\n(2, 1, 0)\n"
     ]
    }
   ],
   "source": [
    "for num in three_digit_numbers():\n",
    "    print(num)\n",
    "    assert isinstance(num, tuple)"
   ]
  },
  {
   "source": [
    "### 4. Write the loop again, using ```dropwhile```, with a lambda expression to drop any leading zeros from the tuples. As an example, ```(0, 1, 2)``` will become ```[1, 2]```. Also, cast the output of ```dropwhile``` to a list.\n",
    "\n",
    "### 5. Check the actual type that dropwhile returns."
   ],
   "cell_type": "markdown",
   "metadata": {}
  },
  {
   "cell_type": "code",
   "execution_count": 32,
   "metadata": {},
   "outputs": [],
   "source": [
    "def get_digits():\n",
    "    for iterable in three_digit_numbers():\n",
    "        yield list(itertools.dropwhile(lambda x: x==0, iterable))"
   ]
  },
  {
   "cell_type": "code",
   "execution_count": 33,
   "metadata": {},
   "outputs": [
    {
     "output_type": "stream",
     "name": "stdout",
     "text": [
      "[1, 2]\n[2, 1]\n[1, 0, 2]\n[1, 2, 0]\n[2, 0, 1]\n[2, 1, 0]\n"
     ]
    }
   ],
   "source": [
    "for digits in get_digits():\n",
    "    print(digits)\n",
    "    assert isinstance(digits, list)"
   ]
  },
  {
   "source": [
    "### 6. Combine the preceding code into one block; this time, write a separate function where you will pass the list generated from ```dropwhile``` and the function will return the whole number contained in the list. As an example, if you pass ```[1, 2]``` to the function, it will return ```12```. Make sure that the return type is indeed a number and not a string. Although this task can be achieved using other tricks, treat the incoming list as a stack in the function and generate the number by reading the individual digits from the stack."
   ],
   "cell_type": "markdown",
   "metadata": {}
  },
  {
   "cell_type": "code",
   "execution_count": 39,
   "metadata": {},
   "outputs": [],
   "source": [
    "def convert_to_number(stack_of_digits):\n",
    "    i = 0\n",
    "    num = 0\n",
    "    while stack_of_digits:\n",
    "        d = stack_of_digits.pop()\n",
    "        num += d * (10 ** i)\n",
    "        i += 1\n",
    "    return num"
   ]
  },
  {
   "cell_type": "code",
   "execution_count": 42,
   "metadata": {},
   "outputs": [
    {
     "output_type": "stream",
     "name": "stdout",
     "text": [
      "12\n21\n102\n120\n201\n210\n"
     ]
    }
   ],
   "source": [
    "for digits in get_digits():\n",
    "    num = convert_to_number(digits)\n",
    "    print(num)\n",
    "    assert isinstance(num, int)"
   ]
  },
  {
   "cell_type": "code",
   "execution_count": null,
   "metadata": {},
   "outputs": [],
   "source": []
  }
 ]
}