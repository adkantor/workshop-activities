{
 "cells": [
  {
   "cell_type": "markdown",
   "metadata": {},
   "source": [
    "# Activity 5.01: Reading Tabular Data from a Web Page and Creating DataFrames"
   ]
  },
  {
   "cell_type": "code",
   "execution_count": 1,
   "metadata": {},
   "outputs": [],
   "source": [
    "import pandas as pd \r\n",
    "from bs4 import BeautifulSoup\r\n",
    "import urllib"
   ]
  },
  {
   "cell_type": "code",
   "execution_count": 2,
   "metadata": {},
   "outputs": [],
   "source": [
    "page = urllib.request.urlopen(\"https://en.wikipedia.org/wiki/List_of_countries_by_GDP_(nominal)\")\r\n",
    "page_content = page.read().decode('utf-8')"
   ]
  },
  {
   "cell_type": "code",
   "execution_count": 3,
   "metadata": {},
   "outputs": [],
   "source": [
    "soup = BeautifulSoup(page_content, 'html.parser')"
   ]
  },
  {
   "cell_type": "code",
   "execution_count": 17,
   "metadata": {},
   "outputs": [
    {
     "name": "stdout",
     "output_type": "stream",
     "text": [
      "3\n"
     ]
    }
   ],
   "source": [
    "tables = soup.findAll('table', class_=\"wikitable sortable static-row-numbers mw-datatable\")\r\n",
    "print(len(tables))\r\n"
   ]
  },
  {
   "cell_type": "code",
   "execution_count": 43,
   "metadata": {},
   "outputs": [],
   "source": [
    "def get_dataframe(table):\r\n",
    "    rows = table.findAll('tr')\r\n",
    "    # get header\r\n",
    "    headers = rows[0]\r\n",
    "    columns = [th.getText() for th in headers.findAll('th')]\r\n",
    "    # get data rows\r\n",
    "    data_rows = rows[1:]\r\n",
    "    data = [[td.getText() for td in tr.findAll('td')] for tr in data_rows]\r\n",
    "    # create dataframe\r\n",
    "    df = pd.DataFrame(data, columns=columns)\r\n",
    "\r\n",
    "    return df"
   ]
  },
  {
   "cell_type": "code",
   "execution_count": 7,
   "metadata": {},
   "outputs": [],
   "source": [
    "import re\r\n",
    "\r\n",
    "def clean_brackets(s):\r\n",
    "    pattern = re.compile(\"\\[[\\s\\S]*?\\]\")\r\n",
    "    return pattern.sub('', s)\r\n",
    "\r\n",
    "def clean_crosses(s):\r\n",
    "    pattern = re.compile(\"†\")\r\n",
    "    return pattern.sub('', s)\r\n",
    "\r\n",
    "def clean_line_breaks(s):\r\n",
    "    pattern = re.compile(\"\\\\n\")\r\n",
    "    return pattern.sub('', s)\r\n",
    "\r\n",
    "def clean_commas(s):\r\n",
    "    pattern = re.compile(\",\")\r\n",
    "    return pattern.sub('', s)\r\n",
    "\r\n",
    "def tidy_up_dataframe(input_df):\r\n",
    "    df = input_df.copy()\r\n",
    "    df.iloc[:, 0] = df.iloc[:, 0].apply(clean_brackets)\r\n",
    "    df.iloc[:, 0] = df.iloc[:, 0].apply(clean_crosses)\r\n",
    "    df.iloc[:, 1] = df.iloc[:, 1].apply(clean_line_breaks)\r\n",
    "    df.iloc[:, 1] = df.iloc[:, 1].apply(clean_commas)\r\n",
    "    df.iloc[:, 1] = df.iloc[:, 1].astype('int')\r\n",
    "    df = df.rename(clean_line_breaks, axis='columns')\r\n",
    "    \r\n",
    "    return df"
   ]
  },
  {
   "cell_type": "code",
   "execution_count": 45,
   "metadata": {},
   "outputs": [],
   "source": [
    "# get dataframes\r\n",
    "dfs = []\r\n",
    "for table in tables:\r\n",
    "    df = get_dataframe(table)\r\n",
    "    df = tidy_up_dataframe(df)\r\n",
    "    dfs.append(df)"
   ]
  },
  {
   "cell_type": "code",
   "execution_count": 47,
   "metadata": {},
   "outputs": [
    {
     "name": "stdout",
     "output_type": "stream",
     "text": [
      "  Country/Territory  GDP(US$ M)\n",
      "0             World    93889577\n",
      "1     United States    22675271\n",
      "2             China    16642318\n",
      "3             Japan     5378136\n",
      "4           Germany     4319286\n",
      "       Country/Territory  GDP(US$ M)\n",
      "191     Marshall Islands         234\n",
      "192             Kiribati         231\n",
      "193                Palau         229\n",
      "194                Nauru         133\n",
      "195               Tuvalu          57\n",
      "  Country/Territory  GDP(US$ M)\n",
      "0             World    87813420\n",
      "1     United States    21433226\n",
      "2             China    14342903\n",
      "3             Japan     5081770\n",
      "4           Germany     3861124\n",
      "              Country/Territory  GDP(US$ M)\n",
      "185                       Palau         268\n",
      "186     Marshall Islands (2018)         221\n",
      "187                    Kiribati         195\n",
      "188                       Nauru         118\n",
      "189                      Tuvalu          47\n",
      "  Country/Territory  GDP(US$ M)\n",
      "0             World    87461674\n",
      "1     United States    21433226\n",
      "2             China    14342933\n",
      "3             Japan     5082465\n",
      "4           Germany     3861123\n",
      "       Country/Territory  GDP(US$ M)\n",
      "208     Marshall Islands         237\n",
      "209             Kiribati         194\n",
      "210                Nauru         132\n",
      "211      Montserrat (UK)          67\n",
      "212               Tuvalu          47\n"
     ]
    }
   ],
   "source": [
    "for df in dfs:\r\n",
    "    print(df.head())\r\n",
    "    print(df.tail())"
   ]
  }
 ],
 "metadata": {
  "kernelspec": {
   "display_name": "Python 3.7.2 64-bit ('dww': venv)",
   "name": "pythonjvsc74a57bd03900e12b6dffcdbc13bf0d5c18e5b537de807a08372716dbb88f7cde0656c578"
  },
  "language_info": {
   "name": "python",
   "version": ""
  },
  "metadata": {
   "interpreter": {
    "hash": "3900e12b6dffcdbc13bf0d5c18e5b537de807a08372716dbb88f7cde0656c578"
   }
  },
  "orig_nbformat": 2
 },
 "nbformat": 4,
 "nbformat_minor": 2
}